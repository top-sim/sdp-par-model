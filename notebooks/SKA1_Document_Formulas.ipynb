{
 "cells": [
  {
   "cell_type": "markdown",
   "metadata": {},
   "source": [
    "# Parametric Model Document Formulas\n",
    "\n",
    "This notebook attempts to generate the equations as shown in the parametric model document. Useful for checking whether the parametric model as implemented actually matches the document."
   ]
  },
  {
   "cell_type": "code",
   "execution_count": null,
   "metadata": {},
   "outputs": [],
   "source": [
    "import sys\n",
    "\n",
    "from IPython.display import display, Math, Latex, HTML, Markdown\n",
    "from sympy import latex, simplify, Lambda, Symbol, Function\n",
    "\n",
    "sys.path+=['..']\n",
    "from sdp_par_model import evaluate\n",
    "from sdp_par_model import reports as iapi\n",
    "from sdp_par_model.config import PipelineConfig\n",
    "from sdp_par_model.parameters.definitions import *\n",
    "from sdp_par_model.parameters.container import BLDep"
   ]
  },
  {
   "cell_type": "code",
   "execution_count": null,
   "metadata": {},
   "outputs": [],
   "source": [
    "# Telescope and band should not matter\n",
    "cfg = PipelineConfig(telescope=Telescopes.SKA1_Mid, band=Bands.Mid1, pipeline=Pipelines.ICAL)\n",
    "cfg_rcal = PipelineConfig(telescope=Telescopes.SKA1_Mid, band=Bands.Mid1, pipeline=Pipelines.RCAL)\n",
    "cfg_ingest = PipelineConfig(telescope=Telescopes.SKA1_Mid, band=Bands.Mid1, pipeline=Pipelines.Ingest)\n",
    "cfg_specfit = PipelineConfig(telescope=Telescopes.SKA1_Mid, band=Bands.Mid1, pipeline=Pipelines.DPrepA_Image)\n",
    "tp = cfg.calc_tel_params(symbolify='product')\n",
    "tp2 = cfg.calc_tel_params(symbolify='helper')\n",
    "tp3 = cfg.calc_tel_params(symbolify='all')\n",
    "tp_rcal = cfg_rcal.calc_tel_params(symbolify='product')\n",
    "tp_ingest = cfg_ingest.calc_tel_params(symbolify='product')\n",
    "tp_ingest2 = cfg_ingest.calc_tel_params(symbolify='helper')\n",
    "tp_specfit = cfg_specfit.calc_tel_params(symbolify='product')\n",
    "def show_sympy(*exprs):\n",
    "    l = \"=\".join([latex(e) for e in exprs])\n",
    "    display(Math(\"\\\\begin{aligned}\" + l + \"\\\\end{aligned}\"))"
   ]
  },
  {
   "cell_type": "code",
   "execution_count": null,
   "metadata": {},
   "outputs": [],
   "source": [
    "b = Symbol(\"b\")\n",
    "tp_ingest.Rviscorr = tp_ingest.Nbeam * tp_ingest.Npp * tp_ingest.Rvis_ingest\n",
    "tp_ingest2.Rviscorr = tp_ingest2.Nbeam * tp_ingest2.Npp * tp_ingest2.Rvis_ingest\n",
    "tp.RvisfullFoV = tp_ingest2.Nbeam * tp_ingest2.Npp * tp.Rvis_predict\n",
    "# Definition of Rvis consistent with most uses in the document, and a helper to introduce it into formulas\n",
    "RvisfullFoV = tp.Nbeam * tp.Nbl * tp.Npp * tp.Nf_vis / tp.Tint_used\n",
    "def rvisfullfov(expr):\n",
    "    return expr / RvisfullFoV(b) * Symbol(\"R_vis,fullFoV\")"
   ]
  },
  {
   "cell_type": "markdown",
   "metadata": {},
   "source": [
    "## Imaging"
   ]
  },
  {
   "cell_type": "code",
   "execution_count": null,
   "metadata": {},
   "outputs": [],
   "source": [
    "# Ingest rate over all polarisations and beams.\n",
    "show_sympy(Symbol(\"R_vis,corr\"), tp_ingest.Rviscorr, tp_ingest2.Rviscorr)"
   ]
  },
  {
   "cell_type": "code",
   "execution_count": null,
   "metadata": {},
   "outputs": [],
   "source": [
    "# Pixel production rate (after reprojection), assumed to be summed over the entire observation\n",
    "show_sympy(Symbol(\"R_pix\"), tp.products[Products.Reprojection]['Rout'] * tp.Tsnap / tp.Tobs)"
   ]
  },
  {
   "cell_type": "markdown",
   "metadata": {},
   "source": [
    "## Receive"
   ]
  },
  {
   "cell_type": "code",
   "execution_count": null,
   "metadata": {},
   "outputs": [],
   "source": [
    "show_sympy(Symbol(\"C_Receive\"), tp_ingest.products[Products.Receive]['Rflop'])"
   ]
  },
  {
   "cell_type": "markdown",
   "metadata": {},
   "source": [
    "## Flagging"
   ]
  },
  {
   "cell_type": "code",
   "execution_count": null,
   "metadata": {},
   "outputs": [],
   "source": [
    "show_sympy(Symbol(\"N_flop/vis\"), tp_ingest.products[Products.Flag]['Rflop'] / tp_ingest.Rviscorr)\n",
    "show_sympy(Symbol(\"C_Flag\"), tp_ingest.products[Products.Flag]['Rflop'])"
   ]
  },
  {
   "cell_type": "markdown",
   "metadata": {},
   "source": [
    "## Demix"
   ]
  },
  {
   "cell_type": "code",
   "execution_count": null,
   "metadata": {},
   "outputs": [],
   "source": [
    "show_sympy(Symbol(\"N_flop/vis\"), tp_ingest.products[Products.Demix]['Rflop'] / tp_ingest.Rviscorr)\n",
    "show_sympy(Symbol(\"C_Demix\"), tp_ingest.products[Products.Demix]['Rflop'])"
   ]
  },
  {
   "cell_type": "markdown",
   "metadata": {},
   "source": [
    "## Averaging"
   ]
  },
  {
   "cell_type": "code",
   "execution_count": null,
   "metadata": {
    "scrolled": true
   },
   "outputs": [],
   "source": [
    "show_sympy(Symbol(\"C_Average\"), tp_ingest.products[Products.Average]['Rflop'])"
   ]
  },
  {
   "cell_type": "markdown",
   "metadata": {},
   "source": [
    "## Predict via Direct Fourier Transform"
   ]
  },
  {
   "cell_type": "code",
   "execution_count": null,
   "metadata": {
    "scrolled": true
   },
   "outputs": [],
   "source": [
    "show_sympy(Symbol(\"N_flop/vis^predict,DFT\"), tp.products[Products.DFT]['Rflop'] / RvisfullFoV(b) / tp.Nmajortotal)\n",
    "show_sympy(Symbol(\"C_Predict\"), rvisfullfov(tp.products[Products.DFT]['Rflop']))"
   ]
  },
  {
   "cell_type": "markdown",
   "metadata": {},
   "source": [
    "## Solve"
   ]
  },
  {
   "cell_type": "code",
   "execution_count": null,
   "metadata": {
    "scrolled": true
   },
   "outputs": [],
   "source": [
    "show_sympy(Symbol(\"N_{flop/solution}^{StEFCal}\"), tp.NFlop_solver)\n",
    "show_sympy(Symbol(\"C_{Solve}^{RCAL}\"), tp_rcal.products[Products.Solve]['Rflop'])\n",
    "show_sympy(Symbol(\"C_{Solve}^{ICAL}\"), tp.products[Products.Solve]['Rflop'])"
   ]
  },
  {
   "cell_type": "markdown",
   "metadata": {},
   "source": [
    "## Subtract"
   ]
  },
  {
   "cell_type": "code",
   "execution_count": null,
   "metadata": {
    "scrolled": true
   },
   "outputs": [],
   "source": [
    "show_sympy(Symbol(\"C_Subtract\"), tp.products[Products.Subtract_Visibility]['Rflop'])"
   ]
  },
  {
   "cell_type": "markdown",
   "metadata": {},
   "source": [
    "## Correct"
   ]
  },
  {
   "cell_type": "code",
   "execution_count": null,
   "metadata": {
    "scrolled": true
   },
   "outputs": [],
   "source": [
    "show_sympy(Symbol(\"C_Correct\"), tp.products[Products.Correct]['Rflop'])"
   ]
  },
  {
   "cell_type": "markdown",
   "metadata": {},
   "source": [
    "## Phase Rotation"
   ]
  },
  {
   "cell_type": "code",
   "execution_count": null,
   "metadata": {
    "scrolled": true
   },
   "outputs": [],
   "source": [
    "show_sympy(Symbol(\"C_phrot,back\"), simplify(tp.products[Products.PhaseRotation]['Rflop']), RvisfullFoV(b))\n",
    "show_sympy(Symbol(\"C_phrot,predict\"), rvisfullfov(tp.products[Products.PhaseRotationPredict]['Rflop']))"
   ]
  },
  {
   "cell_type": "markdown",
   "metadata": {},
   "source": [
    "## Grid and Degrid"
   ]
  },
  {
   "cell_type": "code",
   "execution_count": null,
   "metadata": {
    "scrolled": true
   },
   "outputs": [],
   "source": [
    "show_sympy(Symbol(\"C_{grid}^{ICAL}\"), tp.products[Products.Grid]['Rflop'])\n",
    "show_sympy(Symbol(\"C_{degrid}^{ICAL,A}\"), tp.products[Products.Degrid]['Rflop'])"
   ]
  },
  {
   "cell_type": "markdown",
   "metadata": {},
   "source": [
    "## Gridding Kernel Update"
   ]
  },
  {
   "cell_type": "code",
   "execution_count": null,
   "metadata": {
    "scrolled": true
   },
   "outputs": [],
   "source": [
    "show_sympy(tp.Nkernel_AW_predict(b), tp2.Nkernel_AW_predict.term)\n",
    "show_sympy(Function(\"N_cvff\")(b), (tp.Ngcf_used_backward * tp.Nkernel_AW_predict).term)\n",
    "show_sympy(Function(\"C_{Kernels,back}\"), tp.products[Products.Gridding_Kernel_Update]['Rflop'])\n",
    "show_sympy(Function(\"C_{Kernels,predict}\"), tp.products[Products.Degridding_Kernel_Update]['Rflop'])"
   ]
  },
  {
   "cell_type": "markdown",
   "metadata": {},
   "source": [
    "## FFT and iFFT"
   ]
  },
  {
   "cell_type": "code",
   "execution_count": null,
   "metadata": {
    "scrolled": true
   },
   "outputs": [],
   "source": [
    "show_sympy(tp.Nf_FFT_backward, tp3.Nf_FFT_backward)\n",
    "show_sympy(Symbol(\"C_{FFT}^{ICAL}\"), tp.products[Products.FFT]['Rflop'])\n",
    "show_sympy(tp.Nf_FFT_predict, tp3.Nf_FFT_predict)\n",
    "show_sympy(Symbol(\"C_{IFFT}^{ICAL,A}\"), tp.products[Products.IFFT]['Rflop'])"
   ]
  },
  {
   "cell_type": "markdown",
   "metadata": {},
   "source": [
    "## Reprojection"
   ]
  },
  {
   "cell_type": "code",
   "execution_count": null,
   "metadata": {
    "scrolled": true
   },
   "outputs": [],
   "source": [
    "show_sympy(Symbol(\"C_{Reproj}^{ICAL}\"), tp.products[Products.Reprojection]['Rflop'])"
   ]
  },
  {
   "cell_type": "markdown",
   "metadata": {},
   "source": [
    "## Image Spectral Fitting"
   ]
  },
  {
   "cell_type": "code",
   "execution_count": null,
   "metadata": {
    "scrolled": true
   },
   "outputs": [],
   "source": [
    "show_sympy(Symbol(\"C_{SpecFit}^{ICAL}\"), tp_specfit.products[Products.Image_Spectral_Fitting]['Rflop'])"
   ]
  },
  {
   "cell_type": "markdown",
   "metadata": {},
   "source": [
    "## Subtract Image Component"
   ]
  },
  {
   "cell_type": "code",
   "execution_count": null,
   "metadata": {
    "scrolled": true
   },
   "outputs": [],
   "source": [
    "show_sympy(Symbol(\"C_{grid}^{ICAL}\"), tp.products[Products.Identify_Component]['Rflop'])\n",
    "show_sympy(Symbol(\"C_{degrid}^{ICAL,A}\"), tp.products[Products.Subtract_Image_Component]['Rflop'])"
   ]
  },
  {
   "cell_type": "markdown",
   "metadata": {},
   "source": [
    "## Source find"
   ]
  },
  {
   "cell_type": "code",
   "execution_count": null,
   "metadata": {
    "scrolled": true
   },
   "outputs": [],
   "source": [
    "show_sympy(Symbol(\"C_{Source Find}\"), tp.products[Products.Source_Find]['Rflop'])"
   ]
  },
  {
   "cell_type": "markdown",
   "metadata": {},
   "source": [
    "# Time Smearing Limit, tsmear\n"
   ]
  },
  {
   "cell_type": "code",
   "execution_count": null,
   "metadata": {},
   "outputs": [],
   "source": [
    "show_sympy(Function(\"t_{smear}\")(b), tp2.Tint_used * tp2.combine_time_samples_facet.term)"
   ]
  },
  {
   "cell_type": "markdown",
   "metadata": {},
   "source": [
    "# Number of Channels at the Frequency Smearing Limit, Nf,smear\n"
   ]
  },
  {
   "cell_type": "code",
   "execution_count": null,
   "metadata": {},
   "outputs": [],
   "source": [
    "show_sympy(Symbol(\"Theta_PSF\"), tp3.Theta_beam)\n",
    "show_sympy(Symbol(\"Q_bw\"), tp3.Qbw)\n",
    "show_sympy(Function(\"N_f,smear\")(b), tp2.Nf_no_smear_backward.term)"
   ]
  },
  {
   "cell_type": "markdown",
   "metadata": {},
   "source": [
    "## Image Size"
   ]
  },
  {
   "cell_type": "code",
   "execution_count": null,
   "metadata": {
    "scrolled": true
   },
   "outputs": [],
   "source": [
    "from numpy import pi\n",
    "# Replace wl_sb_max and pi by symbol in formula\n",
    "show_sympy(Symbol(\"Theta_FoV\"), tp3.Theta_fov_total /tp3.wl_sb_max*tp.wl_sb_max * pi/Symbol(\"pi\"))"
   ]
  },
  {
   "cell_type": "markdown",
   "metadata": {},
   "source": [
    "## Image Plane Pixel Size"
   ]
  },
  {
   "cell_type": "code",
   "execution_count": null,
   "metadata": {
    "scrolled": true
   },
   "outputs": [],
   "source": [
    "# Replace wl_sb_min by symbol in formula\n",
    "show_sympy(Symbol(\"Theta_pix\"), tp3.Theta_pix /tp3.wl_sb_min*tp.wl_sb_min)"
   ]
  },
  {
   "cell_type": "markdown",
   "metadata": {},
   "source": [
    "## Number of Pixels on Image or Grid Size"
   ]
  },
  {
   "cell_type": "code",
   "execution_count": null,
   "metadata": {},
   "outputs": [],
   "source": [
    "# All replacements from above\n",
    "show_sympy(Symbol(\"N_pix\"), tp3.Npix_linear_fov_total\n",
    "            /tp3.wl_sb_max*tp.wl_sb_max *tp3.wl_sb_min/tp.wl_sb_min *pi/Symbol(\"pi\"))"
   ]
  },
  {
   "cell_type": "markdown",
   "metadata": {},
   "source": [
    "## Update Frequency Scale for Convolution Kernels"
   ]
  },
  {
   "cell_type": "code",
   "execution_count": null,
   "metadata": {
    "scrolled": true
   },
   "outputs": [],
   "source": [
    "show_sympy(Function(\"N_f,kernel\")(b), tp2.Nf_gcf_backward.term)"
   ]
  },
  {
   "cell_type": "markdown",
   "metadata": {},
   "source": [
    "## Size of the w-kernel"
   ]
  },
  {
   "cell_type": "code",
   "execution_count": null,
   "metadata": {
    "scrolled": true
   },
   "outputs": [],
   "source": [
    "show_sympy(1/(2*Symbol(\"pi\")),1/2/pi)\n",
    "show_sympy(Function(\"N_GW\")(b), tp2.Ngw_backward.term)\n",
    "show_sympy(tp.DeltaW_max.term, tp3.DeltaW_max.term)"
   ]
  },
  {
   "cell_type": "markdown",
   "metadata": {},
   "source": [
    "## Imaging Pipeline Geometry Assumptions"
   ]
  },
  {
   "cell_type": "code",
   "execution_count": null,
   "metadata": {},
   "outputs": [],
   "source": [
    "show_sympy(Function(\"\\Delta w_min\")(b), tp3.DeltaW_Earth.term)"
   ]
  }
 ],
 "metadata": {
  "anaconda-cloud": {},
  "kernelspec": {
   "display_name": "Python 3 (ipykernel)",
   "language": "python",
   "name": "python3"
  },
  "language_info": {
   "codemirror_mode": {
    "name": "ipython",
    "version": 3
   },
   "file_extension": ".py",
   "mimetype": "text/x-python",
   "name": "python",
   "nbconvert_exporter": "python",
   "pygments_lexer": "ipython3",
   "version": "3.8.10"
  }
 },
 "nbformat": 4,
 "nbformat_minor": 4
}

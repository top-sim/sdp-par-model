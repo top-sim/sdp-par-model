{
 "cells": [
  {
   "cell_type": "markdown",
   "metadata": {},
   "source": [
    "# Interactive evaluation of SKA1 SDP imaging requirements\n"
   ]
  },
  {
   "cell_type": "code",
   "execution_count": null,
   "metadata": {},
   "outputs": [],
   "source": [
    "from __future__ import print_function\n",
    "import sys\n",
    "from ipywidgets import interact, interact_manual, fixed, ToggleButtons, Select\n",
    "sys.path+=['..']\n",
    "from sdp_par_model import reports as iapi\n",
    "from sdp_par_model.config import PipelineConfig\n",
    "from sdp_par_model.parameters.definitions import *\n",
    "from sdp_par_model.parameters.definitions import Constants as c\n",
    "%matplotlib inline"
   ]
  },
  {
   "cell_type": "code",
   "execution_count": null,
   "metadata": {},
   "outputs": [],
   "source": [
    "%%javascript\n",
    "IPython.OutputArea.prototype._should_scroll = function(lines) {return false;}"
   ]
  },
  {
   "cell_type": "markdown",
   "metadata": {},
   "source": [
    "## Compare telescopes side-by-side\n",
    "\n",
    "Choose a (valid) combination of telescope, band and pipeline below. This generally calculates telescope parameters for maximum use cases, override values as appropriate."
   ]
  },
  {
   "cell_type": "code",
   "execution_count": null,
   "metadata": {},
   "outputs": [],
   "source": [
    "tel1_toggles, band1_toggles = iapi.make_band_toggles(); tel2_toggles, band2_toggles = iapi.make_band_toggles()\n",
    "interact_manual(iapi.compare_telescopes_default,\n",
    "                telescope_1=tel1_toggles, band_1=band1_toggles,\n",
    "                pipeline_1=iapi.toggles(sorted(Pipelines.available_pipelines)), adjusts_1=iapi.adjusts(),\n",
    "                telescope_2=tel2_toggles, band_2=band2_toggles,\n",
    "                pipeline_2=iapi.toggles(sorted(Pipelines.available_pipelines)), adjusts_2=iapi.adjusts(),\n",
    "                verbosity=iapi.toggles(iapi.verbose_display));"
   ]
  },
  {
   "cell_type": "markdown",
   "metadata": {},
   "source": [
    "## Compute results for the High Priority Science Objectives\n",
    "\n",
    "You can also use "
   ]
  },
  {
   "cell_type": "code",
   "execution_count": null,
   "metadata": {},
   "outputs": [],
   "source": [
    "hpso_toggles, pipeline_toggles = iapi.make_hpso_pipeline_toggles()\n",
    "interact_manual(iapi.evaluate_hpso_optimized, adjusts=iapi.adjusts(),\n",
    "                hpso=hpso_toggles, hpso_pipe=pipeline_toggles, verbosity=iapi.toggles(iapi.verbose_display));"
   ]
  },
  {
   "cell_type": "markdown",
   "metadata": {},
   "source": [
    "## We can also interactively play with parameters (via sliders)\n",
    "\n",
    "This allows more conveniently computing elaborate (slow) optimizations and visualizations per computation"
   ]
  },
  {
   "cell_type": "code",
   "execution_count": null,
   "metadata": {},
   "outputs": [],
   "source": [
    "tel_toggles, band_toggles = iapi.make_band_toggles()\n",
    "interact_manual(iapi.evaluate_telescope_optimized,\n",
    "                max_baseline=(10000,200000), Nf_max = (1,128000,1), telescope=tel_toggles,\n",
    "                band=band_toggles, pipeline=iapi.toggles(sorted(Pipelines.available_pipelines)),\n",
    "                verbosity=iapi.toggles(iapi.verbose_display));"
   ]
  }
 ],
 "metadata": {
  "anaconda-cloud": {},
  "kernelspec": {
   "display_name": "Python 3",
   "language": "python",
   "name": "python3"
  },
  "language_info": {
   "codemirror_mode": {
    "name": "ipython",
    "version": 3
   },
   "file_extension": ".py",
   "mimetype": "text/x-python",
   "name": "python",
   "nbconvert_exporter": "python",
   "pygments_lexer": "ipython3",
   "version": "3.7.4"
  },
  "pycharm": {
   "stem_cell": {
    "cell_type": "raw",
    "source": [],
    "metadata": {
     "collapsed": false
    }
   }
  }
 },
 "nbformat": 4,
 "nbformat_minor": 4
}
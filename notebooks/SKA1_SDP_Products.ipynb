{
 "cells": [
  {
   "cell_type": "markdown",
   "metadata": {},
   "source": [
    "# SDP Product Equations\n",
    "\n",
    "This notebook generates an overview of the formulas used to calculate product properties by the parametric model."
   ]
  },
  {
   "cell_type": "code",
   "execution_count": 1,
   "metadata": {
    "jupyter": {
     "outputs_hidden": true
    },
    "scrolled": true
   },
   "outputs": [],
   "source": [
    "import sys\n",
    "\n",
    "from IPython.display import display, Math, Latex, HTML, Markdown\n",
    "from sympy import latex, Lambda, Symbol\n",
    "\n",
    "sys.path+=['..']\n",
    "from sdp_par_model import evaluate\n",
    "from sdp_par_model import reports as iapi\n",
    "from sdp_par_model.config import PipelineConfig\n",
    "from sdp_par_model.parameters.definitions import *\n",
    "from sdp_par_model.parameters.container import BLDep\n",
    "\n",
    "# Product properties to show\n",
    "exprs = [('Rflop', 'PFLOP/s', Constants.peta),\n",
    "         ('Rout', 'TB/s', Constants.tera)]"
   ]
  },
  {
   "cell_type": "markdown",
   "metadata": {},
   "source": [
    "Python code to generate formulas:"
   ]
  },
  {
   "cell_type": "code",
   "execution_count": 2,
   "metadata": {
    "jupyter": {
     "outputs_hidden": true
    }
   },
   "outputs": [],
   "source": [
    "def show_formulas(sym_defs, group=1):\n",
    "    maths = \"\"\n",
    "    for i, sym in enumerate(sorted(sym_defs)):\n",
    "        if isinstance(sym_defs[sym], BLDep):\n",
    "            maths += r'%s(%s) &= %s %s' % (\n",
    "                latex(Symbol(sym)),\n",
    "                \",\".join(sym_defs[sym].pars.keys()),\n",
    "                latex(sym_defs[sym].term),\n",
    "                r\"\\\\\" if i % group == 0 else \" & \")\n",
    "        else:\n",
    "            maths += r'%s &= %s %s' % (latex(Symbol(sym)), latex(sym_defs[sym]),\n",
    "                                      r\"\\\\\" if i % group == group-1 else \" & \")\n",
    "    display(Math(r\"\\begin{aligned}%s\\end{aligned}\" % maths))\n",
    "\n",
    "def formulas_for_configuration(telescope, band, pipeline):\n",
    "    cfg = PipelineConfig(telescope=telescope,band=band,pipeline=pipeline)\n",
    "    if not cfg.is_valid()[0]:\n",
    "        return\n",
    "\n",
    "    # Heading\n",
    "    display(Markdown(\"## Equations for %s %s:\" % (telescope, pipeline)))\n",
    "\n",
    "    # Loop through configuration to show formulas for\n",
    "    free_syms = set()\n",
    "    for expr, unit, mult  in exprs:\n",
    "\n",
    "        # Determine and show product formulas\n",
    "        values = cfg.eval_expression_products(expr)\n",
    "        formulas = cfg.eval_products_symbolic(expr)\n",
    "\n",
    "        # Show equations for products\n",
    "        maths = \"\"\n",
    "        for product in sorted(values.keys()):\n",
    "            maths += (r'%s_{%s} &= %s \\\\ &= %f\\,\\text{%s} \\\\ \\\\' %\n",
    "                (expr, product,\n",
    "                 latex(formulas.get(product, 0)),\n",
    "                 values.get(product, 0) / mult, unit))\n",
    "        maths = (r\"\\begin{aligned}%s %s &= %f\\,\\text{%s}\\end{aligned}\" % \\\n",
    "            (maths, expr, sum(values.values()) / mult, unit))\n",
    "        display(Math(maths))\n",
    "            \n",
    "        # Collect free symbols\n",
    "        free_syms = free_syms.union(evaluate.collect_free_symbols(formulas.values()))\n",
    "\n",
    "    # Look up helper equations\n",
    "    display(Markdown(\"### Intermediate equations\"))\n",
    "    sym_defs = cfg.eval_symbols(free_syms, symbolify='helper')\n",
    "    show_formulas(sym_defs)\n",
    "    free_syms2 = evaluate.collect_free_symbols(sym_defs.values()).union(free_syms).difference(sym_defs)\n",
    "    sym_defs2 = cfg.eval_symbols(free_syms2, symbolify='all')\n",
    "    show_formulas(sym_defs2)\n",
    "\n",
    "    # And finally all remaining constants\n",
    "    display(Markdown(\"### Constants\"))\n",
    "    free_syms3 = evaluate.collect_free_symbols(sym_defs2.values()).\\\n",
    "                 union(free_syms, free_syms2).difference(sym_defs, sym_defs2)\n",
    "    const_defs = cfg.eval_symbols(free_syms3, optimize_expression='Rflop')\n",
    "    show_formulas(const_defs, 3)    "
   ]
  },
  {
   "cell_type": "code",
   "execution_count": 3,
   "metadata": {
    "jupyter": {
     "outputs_hidden": true
    },
    "scrolled": true
   },
   "outputs": [
    {
     "data": {
      "text/markdown": [
       "## Equations for SKA1_Low Ingest:"
      ],
      "text/plain": [
       "<IPython.core.display.Markdown object>"
      ]
     },
     "metadata": {},
     "output_type": "display_data"
    },
    {
     "data": {
      "text/latex": [
       "$\\displaystyle \\begin{aligned}Rflop_{Average} &= 8 N_{beam} N_{pp} R_{vis,ingest} \\\\ &= 0.000306\\,\\text{PFLOP/s} \\\\ \\\\Rflop_{Demix} &= N_{beam} N_{f,min} R_{vis,ingest} \\left(154 N_{Ateam} + 84 + \\frac{N_{f,min} T_{int,used} \\left(N_{Ateam}^{2} + N_{Ateam} \\left(24 N_{solve} + 33\\right) + 64\\right)}{N_{f,max} T_{ion}}\\right) \\\\ &= 0.621274\\,\\text{PFLOP/s} \\\\ \\\\Rflop_{Flag} &= 278 N_{beam} N_{pp} R_{vis,ingest} \\\\ &= 0.010634\\,\\text{PFLOP/s} \\\\ \\\\Rflop_{Receive} &= N_{beam} N_{f,min} \\left(\\frac{1000 N_{a}}{T_{int,used}} + \\frac{4 N_{pp} R_{vis,ingest}}{N_{f,min}}\\right) \\\\ &= 0.000153\\,\\text{PFLOP/s} \\\\ \\\\ Rflop &= 0.632367\\,\\text{PFLOP/s}\\end{aligned}$"
      ],
      "text/plain": [
       "<IPython.core.display.Math object>"
      ]
     },
     "metadata": {},
     "output_type": "display_data"
    },
    {
     "data": {
      "text/latex": [
       "$\\displaystyle \\begin{aligned}Rout_{Average} &= M_{vis} N_{beam} N_{pp} \\sum_{i=1}^{N_{bl}} \\operatorname{R_{vis}}{\\left(\\operatorname{B_{max}}{\\left(i \\right)},1 \\right)} \\\\ &= 0.457235\\,\\text{TB/s} \\\\ \\\\Rout_{Demix} &= M_{vis} N_{beam} N_{pp} R_{vis,ingest} \\\\ &= 0.459025\\,\\text{TB/s} \\\\ \\\\Rout_{Flag} &= M_{vis} N_{beam} N_{pp} R_{vis,ingest} \\\\ &= 0.459025\\,\\text{TB/s} \\\\ \\\\Rout_{Receive} &= M_{vis} N_{beam} N_{pp} R_{vis,ingest} \\\\ &= 0.459025\\,\\text{TB/s} \\\\ \\\\ Rout &= 1.834309\\,\\text{TB/s}\\end{aligned}$"
      ],
      "text/plain": [
       "<IPython.core.display.Math object>"
      ]
     },
     "metadata": {},
     "output_type": "display_data"
    },
    {
     "data": {
      "text/markdown": [
       "### Intermediate equations"
      ],
      "text/plain": [
       "<IPython.core.display.Markdown object>"
      ]
     },
     "metadata": {},
     "output_type": "display_data"
    },
    {
     "data": {
      "text/latex": [
       "$\\displaystyle \\begin{aligned}R_{vis}(b,bcount) &= \\frac{bcount \\min\\left(N_{f,max}, \\max\\left(N_{f,out}, \\frac{\\log{\\left(\\frac{\\lambda_{max}}{\\lambda_{min}} \\right)}}{\\log{\\left(1 + \\frac{1.5 \\lambda}{B_{max} Q_{bw} \\Theta_{fov,total}} \\right)}}\\right)\\right)}{T_{int,used}} \\\\R_{vis,ingest} &= \\frac{N_{f,max} \\left(N_{a} + N_{bl}\\right)}{T_{int,used}} \\\\\\end{aligned}$"
      ],
      "text/plain": [
       "<IPython.core.display.Math object>"
      ]
     },
     "metadata": {},
     "output_type": "display_data"
    },
    {
     "data": {
      "text/latex": [
       "$\\displaystyle \\begin{aligned}Q_{bw} &= \\frac{0.600124986981879}{\\sqrt{1 - \\frac{1}{amp_{f max}}}} \\\\T_{int,used} &= \\max\\left(T_{int,min}, \\min\\left(T_{snap}, \\frac{1.0046082220589 D_{s} \\sqrt{1 - \\frac{1}{amp_{f max}}}}{B_{max} \\Omega_{E} Q_{\\mathcal{fov,I}} \\sqrt{Q_{subband}}}\\right)\\right) \\\\\\Theta_{fov,total} &= \\frac{2.43825372816784 Q_{fov} \\sqrt{Q_{subband}} \\lambda}{D_{s}} \\\\\\end{aligned}$"
      ],
      "text/plain": [
       "<IPython.core.display.Math object>"
      ]
     },
     "metadata": {},
     "output_type": "display_data"
    },
    {
     "data": {
      "text/markdown": [
       "### Constants"
      ],
      "text/plain": [
       "<IPython.core.display.Markdown object>"
      ]
     },
     "metadata": {},
     "output_type": "display_data"
    },
    {
     "data": {
      "text/latex": [
       "$\\displaystyle \\begin{aligned}B_{max} &= 65000  & D_{s} &= 38  & M_{vis} &= 12 \\\\N_{Ateam} &= 10  & N_{a} &= 512  & N_{beam} &= 1 \\\\N_{bl} &= 130816.0  & N_{f,max} &= 65536  & N_{f,min} &= 40 \\\\N_{f,out} &= 65536  & N_{pp} &= 4  & N_{solve} &= 10 \\\\\\Omega_{E} &= 7.292115 \\cdot 10^{-5}  & Q_{fov} &= 1.0  & Q_{\\mathcal{fov,I}} &= 2.7 \\\\Q_{subband} &= 1.32046924775612  & T_{int,min} &= 0.9  & T_{ion} &= 10.0 \\\\T_{snap} &= 600  & amp_{f max} &= 1.08  & \\lambda &= 3.42619952 \\\\\\lambda_{max} &= 5.99584916  & \\lambda_{min} &= 0.85654988  & \\end{aligned}$"
      ],
      "text/plain": [
       "<IPython.core.display.Math object>"
      ]
     },
     "metadata": {},
     "output_type": "display_data"
    },
    {
     "data": {
      "text/markdown": [
       "## Equations for SKA1_Low ICAL:"
      ],
      "text/plain": [
       "<IPython.core.display.Markdown object>"
      ]
     },
     "metadata": {},
     "output_type": "display_data"
    },
    {
     "data": {
      "text/latex": [
       "$\\displaystyle \\begin{aligned}Rflop_{Correct} &= 8 N_{Ipatches} N_{beam} N_{majortotal} N_{mm} N_{pp} \\sum_{i=1}^{N_{bl}} \\operatorname{R_{vis}}{\\left(\\operatorname{B_{max}}{\\left(i \\right)},1 \\right)} \\\\ &= 0.185943\\,\\text{PFLOP/s} \\\\ \\\\Rflop_{DFT} &= \\frac{N_{beam} N_{majortotal} \\left(32 N_{a}^{2} N_{source} + 128 N_{a}^{2} + 266 N_{a} N_{source}\\right) \\sum_{i=1}^{N_{bl}} \\operatorname{R_{vis}}{\\left(\\operatorname{B_{max}}{\\left(i \\right)},1 \\right)}}{N_{bl}} \\\\ &= 3.167950\\,\\text{PFLOP/s} \\\\ \\\\Rflop_{Degrid} &= 8 N_{beam} N_{facet,predict}^{2} N_{majortotal} N_{mm} N_{pp} \\sum_{i=1}^{N_{bl}} \\frac{\\operatorname{N_{f,vis,predict}}{\\left(\\operatorname{B_{max}}{\\left(i \\right)} \\right)} \\operatorname{N_{kernel2,predict}}{\\left(\\operatorname{B_{max}}{\\left(i \\right)} \\right)}}{\\operatorname{T_{coal,predict}}{\\left(\\operatorname{B_{max}}{\\left(i \\right)} \\right)}} \\\\ &= 0.174045\\,\\text{PFLOP/s} \\\\ \\\\Rflop_{Degridding Kernel Update} &= \\frac{5.0 N_{beam} N_{facet,predict}^{2} N_{majortotal} N_{mm} N_{pp} \\sum_{i=1}^{N_{bl}} \\frac{\\operatorname{N_{f,gcf,predict}}{\\left(\\operatorname{B_{max}}{\\left(i \\right)} \\right)} \\operatorname{N_{gcf,used,predict}}{\\left(\\operatorname{B_{max}}{\\left(i \\right)} \\right)} \\operatorname{N_{kernel,AW,predict}}^{2}{\\left(\\operatorname{B_{max}}{\\left(i \\right)} \\right)} \\log{\\left(\\operatorname{N_{kernel,AW,predict}}^{2}{\\left(\\operatorname{B_{max}}{\\left(i \\right)} \\right)} \\right)}}{\\operatorname{T_{kernel,predict}}{\\left(\\operatorname{B_{max}}{\\left(i \\right)} \\right)}}}{\\log{\\left(2 \\right)}} \\\\ &= 0.111305\\,\\text{PFLOP/s} \\\\ \\\\Rflop_{FFT} &= \\frac{2.5 N_{beam} N_{f,FFT,backward} N_{facet}^{2} N_{majortotal} N_{pix,linear}^{2} N_{pp} \\log{\\left(N_{pix,linear}^{2} \\right)} \\max\\left(1, \\frac{\\Delta_{W max}{\\left(B_{max} \\right)}}{\\Delta_{W stack}}\\right)}{T_{snap} \\log{\\left(2 \\right)}} \\\\ &= 0.082433\\,\\text{PFLOP/s} \\\\ \\\\Rflop_{Flag} &= 279 N_{beam} N_{majortotal} N_{pp} \\sum_{i=1}^{N_{bl}} \\operatorname{R_{vis}}{\\left(\\operatorname{B_{max}}{\\left(i \\right)},1 \\right)} \\\\ &= 0.054040\\,\\text{PFLOP/s} \\\\ \\\\Rflop_{Grid} &= 8 N_{beam} N_{facet}^{2} N_{majortotal} N_{mm} N_{pp} \\sum_{i=1}^{N_{bl}} \\frac{\\operatorname{N_{f,vis,backward}}{\\left(\\operatorname{B_{max}}{\\left(i \\right)} \\right)} \\operatorname{N_{kernel2,backward}}{\\left(\\operatorname{B_{max}}{\\left(i \\right)} \\right)}}{\\operatorname{T_{coal,backward}}{\\left(\\operatorname{B_{max}}{\\left(i \\right)} \\right)}} \\\\ &= 0.174045\\,\\text{PFLOP/s} \\\\ \\\\Rflop_{Gridding Kernel Update} &= \\frac{5.0 N_{beam} N_{facet}^{2} N_{majortotal} N_{mm} N_{pp} \\sum_{i=1}^{N_{bl}} \\frac{\\operatorname{N_{f,gcf,backward}}{\\left(\\operatorname{B_{max}}{\\left(i \\right)} \\right)} \\operatorname{N_{gcf,used,backward}}{\\left(\\operatorname{B_{max}}{\\left(i \\right)} \\right)} \\operatorname{N_{kernel,AW,backward}}^{2}{\\left(\\operatorname{B_{max}}{\\left(i \\right)} \\right)} \\log{\\left(\\operatorname{N_{kernel,AW,backward}}^{2}{\\left(\\operatorname{B_{max}}{\\left(i \\right)} \\right)} \\right)}}{\\operatorname{T_{kernel,backward}}{\\left(\\operatorname{B_{max}}{\\left(i \\right)} \\right)}}}{\\log{\\left(2 \\right)}} \\\\ &= 0.111305\\,\\text{PFLOP/s} \\\\ \\\\Rflop_{IFFT} &= \\frac{2.5 N_{beam} N_{f,FFT,predict} N_{facet,predict}^{2} N_{majortotal} N_{pix,linear,predict}^{2} N_{pp} \\log{\\left(N_{pix,linear,predict}^{2} \\right)} \\max\\left(1, \\frac{\\Delta_{W max}{\\left(B_{max} \\right)}}{\\Delta_{W stack}}\\right)}{T_{snap} \\log{\\left(2 \\right)}} \\\\ &= 0.412166\\,\\text{PFLOP/s} \\\\ \\\\Rflop_{Identify Component} &= \\frac{N_{beam} N_{facet}^{2} N_{majortotal} N_{scales} N_{subbands} N_{tt} \\left(2 N_{minor} N_{patch}^{2} + 2 N_{pix,linear}^{2}\\right)}{T_{obs}} \\\\ &= 0.000298\\,\\text{PFLOP/s} \\\\ \\\\Rflop_{Phase Rotation} &= \\frac{28 N_{beam} N_{facet}^{2} N_{majortotal} N_{pp} \\operatorname{sign}{\\left(N_{facet} - 1 \\right)} \\sum_{i=1}^{N_{bl}} \\operatorname{N_{f,vis}}{\\left(\\operatorname{B_{max}}{\\left(i \\right)} \\right)}}{T_{int,used}} \\\\ &= 0.000000\\,\\text{PFLOP/s} \\\\ \\\\Rflop_{Phase Rotation Predict} &= \\frac{28 N_{beam} N_{facet}^{2} N_{majortotal} N_{pp} \\operatorname{sign}{\\left(N_{facet} - 1 \\right)} \\sum_{i=1}^{N_{bl}} \\operatorname{N_{f,vis}}{\\left(\\operatorname{B_{max}}{\\left(i \\right)} \\right)}}{T_{int,used}} \\\\ &= 0.000000\\,\\text{PFLOP/s} \\\\ \\\\Rflop_{Reprojection} &= \\frac{50.0 N_{beam} N_{f,proj,backward} N_{facet}^{2} N_{majortotal} N_{pix,linear}^{2} N_{pp}}{T_{snap}} \\\\ &= 0.000295\\,\\text{PFLOP/s} \\\\ \\\\Rflop_{Reprojection Predict} &= \\frac{50.0 N_{beam} N_{f,proj,predict} N_{facet}^{2} N_{majortotal} N_{pix,linear}^{2} N_{pp}}{T_{snap}} \\\\ &= 0.001474\\,\\text{PFLOP/s} \\\\ \\\\Rflop_{Solve} &= N_{beam} N_{subbands} \\left(N_{\\mathcal{self}} + 1\\right) \\left(\\frac{48 N_{a}^{2} N_{pp} N_{solve} \\left(N_{Ipatches} \\max\\left(1, \\frac{T_{solve}}{t_{ICAL,I}}\\right) + \\max\\left(1, \\frac{N_{B,parameters}}{N_{subbands}}\\right) \\max\\left(1, \\frac{T_{solve}}{t_{ICAL,B}}\\right) + \\max\\left(1, \\frac{T_{solve}}{t_{ICAL,G}}\\right)\\right)}{T_{solve}} + \\frac{40 N_{pp} \\left(N_{Ipatches} + 2\\right) \\sum_{i=1}^{N_{bl}} \\operatorname{R_{vis}}{\\left(\\operatorname{B_{max}}{\\left(i \\right)},1 \\right)}}{N_{subbands}}\\right) \\\\ &= 0.110247\\,\\text{PFLOP/s} \\\\ \\\\Rflop_{Source Find} &= \\frac{600 N_{majortotal} N_{source} N_{source,find,iterations}}{T_{obs}} \\\\ &= 0.000000\\,\\text{PFLOP/s} \\\\ \\\\Rflop_{Subtract Image Component} &= \\frac{2 N_{beam} N_{majortotal} N_{minor} N_{patch}^{2} N_{pp} N_{scales} N_{subbands} N_{tt}}{T_{obs}} \\\\ &= 0.001175\\,\\text{PFLOP/s} \\\\ \\\\Rflop_{Subtract Visibility} &= 2 N_{beam} N_{majortotal} N_{pp} \\sum_{i=1}^{N_{bl}} \\operatorname{R_{vis}}{\\left(\\operatorname{B_{max}}{\\left(i \\right)},1 \\right)} \\\\ &= 0.000387\\,\\text{PFLOP/s} \\\\ \\\\Rflop_{Visibility Weighting} &= 16 N_{beam} N_{facet}^{2} N_{majortotal} N_{pp} \\sum_{i=1}^{N_{bl}} \\frac{\\operatorname{N_{f,vis,backward}}{\\left(\\operatorname{B_{max}}{\\left(i \\right)} \\right)}}{\\operatorname{T_{coal,backward}}{\\left(\\operatorname{B_{max}}{\\left(i \\right)} \\right)}} \\\\ &= 0.000568\\,\\text{PFLOP/s} \\\\ \\\\ Rflop &= 4.587674\\,\\text{PFLOP/s}\\end{aligned}$"
      ],
      "text/plain": [
       "<IPython.core.display.Math object>"
      ]
     },
     "metadata": {},
     "output_type": "display_data"
    },
    {
     "data": {
      "text/latex": [
       "$\\displaystyle \\begin{aligned}Rout_{Correct} &= M_{vis} N_{beam} N_{majortotal} N_{pp} \\sum_{i=1}^{N_{bl}} \\operatorname{R_{vis}}{\\left(\\operatorname{B_{max}}{\\left(i \\right)},1 \\right)} \\\\ &= 2.324289\\,\\text{TB/s} \\\\ \\\\Rout_{DFT} &= M_{vis} N_{beam} N_{majortotal} N_{pp} \\sum_{i=1}^{N_{bl}} \\operatorname{R_{vis}}{\\left(\\operatorname{B_{max}}{\\left(i \\right)},1 \\right)} \\\\ &= 2.324289\\,\\text{TB/s} \\\\ \\\\Rout_{Degrid} &= M_{vis} N_{beam} N_{facet,predict}^{2} N_{majortotal} N_{pp} \\sum_{i=1}^{N_{bl}} \\frac{\\operatorname{N_{f,vis,predict}}{\\left(\\operatorname{B_{max}}{\\left(i \\right)} \\right)}}{\\operatorname{T_{coal,predict}}{\\left(\\operatorname{B_{max}}{\\left(i \\right)} \\right)}} \\\\ &= 0.425793\\,\\text{TB/s} \\\\ \\\\Rout_{Degridding Kernel Update} &= 8 N_{beam} N_{facet,predict}^{2} N_{majortotal} N_{pp} Q_{gcf}^{3} \\sum_{i=1}^{N_{bl}} \\frac{\\operatorname{N_{f,gcf,predict}}{\\left(\\operatorname{B_{max}}{\\left(i \\right)} \\right)} \\operatorname{N_{gw,predict}}^{3}{\\left(\\operatorname{B_{max}}{\\left(i \\right)} \\right)}}{\\operatorname{T_{kernel,predict}}{\\left(\\operatorname{B_{max}}{\\left(i \\right)} \\right)}} \\\\ &= 429.540789\\,\\text{TB/s} \\\\ \\\\Rout_{FFT} &= \\frac{M_{px} N_{beam} N_{f,FFT,backward} N_{facet}^{2} N_{majortotal} N_{pix,linear}^{2} N_{pp}}{T_{snap}} \\\\ &= 0.047169\\,\\text{TB/s} \\\\ \\\\Rout_{Flag} &= M_{vis} N_{beam} N_{majortotal} N_{pp} \\sum_{i=1}^{N_{bl}} \\operatorname{R_{vis}}{\\left(\\operatorname{B_{max}}{\\left(i \\right)},1 \\right)} \\\\ &= 2.324289\\,\\text{TB/s} \\\\ \\\\Rout_{Grid} &= \\frac{M_{cpx} N_{beam} N_{facet}^{2} N_{majortotal} N_{pix,linear} N_{pp} \\left(\\frac{N_{pix,linear}}{2} + 1\\right) \\sum_{i=1}^{N_{bl}} \\operatorname{N_{f,vis,backward}}{\\left(\\operatorname{B_{max}}{\\left(i \\right)} \\right)}}{T_{snap}} \\\\ &= 84.579581\\,\\text{TB/s} \\\\ \\\\Rout_{Gridding Kernel Update} &= 8 N_{beam} N_{facet}^{2} N_{majortotal} N_{pp} Q_{gcf}^{3} \\sum_{i=1}^{N_{bl}} \\frac{\\operatorname{N_{f,gcf,backward}}{\\left(\\operatorname{B_{max}}{\\left(i \\right)} \\right)} \\operatorname{N_{gw,backward}}^{3}{\\left(\\operatorname{B_{max}}{\\left(i \\right)} \\right)}}{\\operatorname{T_{kernel,backward}}{\\left(\\operatorname{B_{max}}{\\left(i \\right)} \\right)}} \\\\ &= 429.540789\\,\\text{TB/s} \\\\ \\\\Rout_{IFFT} &= \\frac{M_{cpx} N_{beam} N_{f,FFT,predict} N_{facet,predict}^{2} N_{majortotal} N_{pix,linear,predict} N_{pp} \\left(\\frac{N_{pix,linear,predict}}{2} + 1\\right)}{T_{snap}} \\\\ &= 0.235856\\,\\text{TB/s} \\\\ \\\\Rout_{Identify Component} &= \\frac{M_{cpx} N_{beam} N_{facet}^{2} N_{majortotal} N_{minor} N_{subbands}}{T_{obs}} \\\\ &= 0.000000\\,\\text{TB/s} \\\\ \\\\Rout_{Phase Rotation} &= M_{vis} N_{beam} N_{facet}^{2} N_{majortotal} N_{pp} \\operatorname{sign}{\\left(N_{facet} - 1 \\right)} \\sum_{i=1}^{N_{bl}} \\operatorname{R_{vis,backward}}{\\left(\\operatorname{B_{max}}{\\left(i \\right)},1 \\right)} \\\\ &= 0.000000\\,\\text{TB/s} \\\\ \\\\Rout_{Phase Rotation Predict} &= \\frac{M_{vis} N_{beam} N_{facet}^{2} N_{majortotal} N_{pp} \\operatorname{sign}{\\left(N_{facet} - 1 \\right)} \\sum_{i=1}^{N_{bl}} \\operatorname{N_{f,vis}}{\\left(\\operatorname{B_{max}}{\\left(i \\right)} \\right)}}{T_{int,used}} \\\\ &= 0.000000\\,\\text{TB/s} \\\\ \\\\Rout_{Reprojection} &= \\frac{M_{px} N_{beam} N_{f,proj,backward} N_{facet}^{2} N_{majortotal} N_{pix,linear}^{2} N_{pp}}{T_{snap}} \\\\ &= 0.047169\\,\\text{TB/s} \\\\ \\\\Rout_{Reprojection Predict} &= \\frac{M_{px} N_{beam} N_{f,proj,predict} N_{facet}^{2} N_{majortotal} N_{pix,linear}^{2} N_{pp}}{T_{snap}} \\\\ &= 0.235847\\,\\text{TB/s} \\\\ \\\\Rout_{Solve} &= \\frac{M_{jones} N_{a} N_{beam} N_{subbands} \\left(N_{\\mathcal{self}} + 1\\right) \\left(N_{Ipatches} \\max\\left(1, \\frac{T_{solve}}{t_{ICAL,I}}\\right) + \\max\\left(1, \\frac{N_{B,parameters}}{N_{subbands}}\\right) \\max\\left(1, \\frac{T_{solve}}{t_{ICAL,B}}\\right) + \\max\\left(1, \\frac{T_{solve}}{t_{ICAL,G}}\\right)\\right)}{T_{solve}} \\\\ &= 0.000004\\,\\text{TB/s} \\\\ \\\\Rout_{Source Find} &= 100 M_{cpx} N_{majortotal} \\\\ &= 0.000000\\,\\text{TB/s} \\\\ \\\\Rout_{Subtract Image Component} &= \\frac{M_{px} N_{beam} N_{facet}^{2} N_{majortotal} N_{pix,linear}^{2} N_{subbands} N_{tt}}{T_{obs}} \\\\ &= 0.001720\\,\\text{TB/s} \\\\ \\\\Rout_{Subtract Visibility} &= M_{vis} N_{beam} N_{majortotal} N_{pp} \\sum_{i=1}^{N_{bl}} \\operatorname{R_{vis}}{\\left(\\operatorname{B_{max}}{\\left(i \\right)},1 \\right)} \\\\ &= 2.324289\\,\\text{TB/s} \\\\ \\\\Rout_{Visibility Weighting} &= M_{vis} N_{beam} N_{f,min,gran} N_{facet}^{2} N_{majortotal} N_{pp} \\sum_{i=1}^{N_{bl}} \\frac{1}{\\operatorname{T_{coal,backward}}{\\left(\\operatorname{B_{max}}{\\left(i \\right)} \\right)}} \\\\ &= 0.018647\\,\\text{TB/s} \\\\ \\\\ Rout &= 953.970523\\,\\text{TB/s}\\end{aligned}$"
      ],
      "text/plain": [
       "<IPython.core.display.Math object>"
      ]
     },
     "metadata": {},
     "output_type": "display_data"
    },
    {
     "data": {
      "text/markdown": [
       "### Intermediate equations"
      ],
      "text/plain": [
       "<IPython.core.display.Markdown object>"
      ]
     },
     "metadata": {},
     "output_type": "display_data"
    },
    {
     "data": {
      "text/latex": [
       "$\\displaystyle \\begin{aligned}\\Delta_{W max} &= \\Delta_{W max} \\\\N_{f,FFT,backward} &= N_{f,out} \\\\N_{f,FFT,predict} &= \\min\\left(N_{f,max}, N_{f,out} N_{tt}\\right) \\\\N_{f,gcf,backward}(b) &= \\max\\left(N_{f,min}, \\min\\left(N_{f,max}, \\frac{\\log{\\left(\\frac{\\lambda_{max}}{\\lambda_{min}} \\right)}}{\\log{\\left(1.0 + \\frac{\\epsilon_{f approx}}{Q_{kernel} \\left(N_{aa}^{2} + 1.0 \\Theta_{fov}^{2} \\left(\\Theta_{fov}^{2} \\min\\left(\\Delta_{W stack}, \\Delta_{W max}{\\left(b \\right)}\\right)^{2} + \\frac{0.636619772367581 \\Theta_{fov} \\min\\left(\\Delta_{W stack}, \\Delta_{W max}{\\left(b \\right)}\\right)^{1.5}}{\\epsilon_{w}}\\right)\\right)^{0.5}} \\right)}}\\right)\\right) \\\\N_{f,gcf,predict}(b) &= \\max\\left(N_{f,min}, \\min\\left(N_{f,max}, \\frac{\\log{\\left(\\frac{\\lambda_{max}}{\\lambda_{min}} \\right)}}{\\log{\\left(1.0 + \\frac{\\epsilon_{f approx}}{Q_{kernel} \\left(N_{aa}^{2} + 1.0 \\Theta_{fov,predict}^{2} \\left(\\Theta_{fov,predict}^{2} \\min\\left(\\Delta_{W stack}, \\Delta_{W max}{\\left(b \\right)}\\right)^{2} + \\frac{0.636619772367581 \\Theta_{fov,predict} \\min\\left(\\Delta_{W stack}, \\Delta_{W max}{\\left(b \\right)}\\right)^{1.5}}{\\epsilon_{w}}\\right)\\right)^{0.5}} \\right)}}\\right)\\right) \\\\N_{f,proj,backward} &= N_{f,out} \\\\N_{f,proj,predict} &= \\min\\left(N_{f,max}, N_{f,out} N_{tt}\\right) \\\\N_{f,vis}(b) &= \\min\\left(N_{f,max}, \\max\\left(N_{f,out}, \\frac{\\log{\\left(\\frac{\\lambda_{max}}{\\lambda_{min}} \\right)}}{\\log{\\left(1 + \\frac{1.5 \\lambda}{B_{max} Q_{bw} \\Theta_{fov,total}} \\right)}}\\right)\\right) \\\\N_{f,vis,backward}(b) &= \\min\\left(N_{f,max}, \\max\\left(N_{f,out}, \\frac{\\log{\\left(\\frac{\\lambda_{max}}{\\lambda_{min}} \\right)}}{\\log{\\left(1 + \\frac{1.5 \\lambda}{Q_{bw} \\Theta_{fov} b} \\right)}}\\right)\\right) \\\\N_{f,vis,predict}(b) &= \\min\\left(N_{f,max}, \\max\\left(N_{f,out}, \\frac{\\log{\\left(\\frac{\\lambda_{max}}{\\lambda_{min}} \\right)}}{\\log{\\left(1 + \\frac{1.5 \\lambda}{Q_{bw} \\Theta_{fov,predict} b} \\right)}}\\right)\\right) \\\\N_{gcf,used,backward}(b) &= Q_{gcf}^{2} \\left(1 - \\left(1 - \\frac{1}{Q_{gcf}^{2}}\\right)^{\\frac{T_{ion} \\min\\left(N_{f,max}, \\max\\left(N_{f,out}, \\frac{\\log{\\left(\\frac{\\lambda_{max}}{\\lambda_{min}} \\right)}}{\\log{\\left(1 + \\frac{1.5 \\lambda}{Q_{bw} \\Theta_{fov} b} \\right)}}\\right)\\right)}{\\max\\left(N_{f,min}, \\min\\left(N_{f,max}, \\frac{\\log{\\left(\\frac{\\lambda_{max}}{\\lambda_{min}} \\right)}}{\\log{\\left(1.0 + \\frac{\\epsilon_{f approx}}{Q_{kernel} \\left(N_{aa}^{2} + 1.0 \\Theta_{fov}^{2} \\left(\\Theta_{fov}^{2} \\min\\left(\\Delta_{W stack}, \\Delta_{W max}{\\left(b \\right)}\\right)^{2} + \\frac{0.636619772367581 \\Theta_{fov} \\min\\left(\\Delta_{W stack}, \\Delta_{W max}{\\left(b \\right)}\\right)^{1.5}}{\\epsilon_{w}}\\right)\\right)^{0.5}} \\right)}}\\right)\\right) \\min\\left(T_{ion}, T_{int,used} \\max\\left(1.0, \\min\\left(\\frac{T_{snap}}{T_{int,used}}, \\left\\lfloor{\\frac{\\epsilon_{f approx} \\lambda}{\\Omega_{E} T_{int,used} \\Theta_{fov} b}}\\right\\rfloor\\right)\\right)\\right)}}\\right) \\\\N_{gcf,used,predict}(b) &= Q_{gcf}^{2} \\left(1 - \\left(1 - \\frac{1}{Q_{gcf}^{2}}\\right)^{\\frac{T_{ion} \\min\\left(N_{f,max}, \\max\\left(N_{f,out}, \\frac{\\log{\\left(\\frac{\\lambda_{max}}{\\lambda_{min}} \\right)}}{\\log{\\left(1 + \\frac{1.5 \\lambda}{Q_{bw} \\Theta_{fov,predict} b} \\right)}}\\right)\\right)}{\\max\\left(N_{f,min}, \\min\\left(N_{f,max}, \\frac{\\log{\\left(\\frac{\\lambda_{max}}{\\lambda_{min}} \\right)}}{\\log{\\left(1.0 + \\frac{\\epsilon_{f approx}}{Q_{kernel} \\left(N_{aa}^{2} + 1.0 \\Theta_{fov,predict}^{2} \\left(\\Theta_{fov,predict}^{2} \\min\\left(\\Delta_{W stack}, \\Delta_{W max}{\\left(b \\right)}\\right)^{2} + \\frac{0.636619772367581 \\Theta_{fov,predict} \\min\\left(\\Delta_{W stack}, \\Delta_{W max}{\\left(b \\right)}\\right)^{1.5}}{\\epsilon_{w}}\\right)\\right)^{0.5}} \\right)}}\\right)\\right) \\min\\left(T_{ion}, T_{int,used} \\max\\left(1.0, \\min\\left(\\frac{T_{snap}}{T_{int,used}}, \\left\\lfloor{\\frac{\\epsilon_{f approx} \\lambda}{\\Omega_{E} T_{int,used} \\Theta_{fov} b}}\\right\\rfloor\\right)\\right)\\right)}}\\right) \\\\N_{gw,backward}(b) &= 1.0 \\Theta_{fov} \\sqrt{\\Theta_{fov}^{2} \\min\\left(\\Delta_{W stack}, \\Delta_{W max}{\\left(b \\right)}\\right)^{2} + \\frac{0.636619772367581 \\Theta_{fov} \\min\\left(\\Delta_{W stack}, \\Delta_{W max}{\\left(b \\right)}\\right)^{1.5}}{\\epsilon_{w}}} \\\\N_{gw,predict}(b) &= 1.0 \\Theta_{fov,predict} \\sqrt{\\Theta_{fov,predict}^{2} \\min\\left(\\Delta_{W stack}, \\Delta_{W max}{\\left(b \\right)}\\right)^{2} + \\frac{0.636619772367581 \\Theta_{fov,predict} \\min\\left(\\Delta_{W stack}, \\Delta_{W max}{\\left(b \\right)}\\right)^{1.5}}{\\epsilon_{w}}} \\\\N_{kernel,AW,backward}(b) &= \\left(N_{aa}^{2} + 1.0 \\Theta_{fov}^{2} \\left(\\Theta_{fov}^{2} \\min\\left(\\Delta_{W stack}, \\Delta_{W max}{\\left(b \\right)}\\right)^{2} + \\frac{0.636619772367581 \\Theta_{fov} \\min\\left(\\Delta_{W stack}, \\Delta_{W max}{\\left(b \\right)}\\right)^{1.5}}{\\epsilon_{w}}\\right)\\right)^{0.5} \\\\N_{kernel,AW,predict}(b) &= \\left(N_{aa}^{2} + 1.0 \\Theta_{fov,predict}^{2} \\left(\\Theta_{fov,predict}^{2} \\min\\left(\\Delta_{W stack}, \\Delta_{W max}{\\left(b \\right)}\\right)^{2} + \\frac{0.636619772367581 \\Theta_{fov,predict} \\min\\left(\\Delta_{W stack}, \\Delta_{W max}{\\left(b \\right)}\\right)^{1.5}}{\\epsilon_{w}}\\right)\\right)^{0.5} \\\\N_{kernel2,backward}(b) &= \\left(N_{aa}^{2} + 1.0 \\Theta_{fov}^{2} \\left(\\Theta_{fov}^{2} \\min\\left(\\Delta_{W stack}, \\Delta_{W max}{\\left(b \\right)}\\right)^{2} + \\frac{0.636619772367581 \\Theta_{fov} \\min\\left(\\Delta_{W stack}, \\Delta_{W max}{\\left(b \\right)}\\right)^{1.5}}{\\epsilon_{w}}\\right)\\right)^{1.0} \\\\N_{kernel2,predict}(b) &= \\left(N_{aa}^{2} + 1.0 \\Theta_{fov,predict}^{2} \\left(\\Theta_{fov,predict}^{2} \\min\\left(\\Delta_{W stack}, \\Delta_{W max}{\\left(b \\right)}\\right)^{2} + \\frac{0.636619772367581 \\Theta_{fov,predict} \\min\\left(\\Delta_{W stack}, \\Delta_{W max}{\\left(b \\right)}\\right)^{1.5}}{\\epsilon_{w}}\\right)\\right)^{1.0} \\\\R_{vis}(b,bcount) &= \\frac{bcount \\min\\left(N_{f,max}, \\max\\left(N_{f,out}, \\frac{\\log{\\left(\\frac{\\lambda_{max}}{\\lambda_{min}} \\right)}}{\\log{\\left(1 + \\frac{1.5 \\lambda}{B_{max} Q_{bw} \\Theta_{fov,total}} \\right)}}\\right)\\right)}{T_{int,used}} \\\\R_{vis,backward}(b,bcount) &= \\frac{bcount \\min\\left(N_{f,max}, \\max\\left(N_{f,out}, \\frac{\\log{\\left(\\frac{\\lambda_{max}}{\\lambda_{min}} \\right)}}{\\log{\\left(1 + \\frac{1.5 \\lambda}{Q_{bw} \\Theta_{fov} b} \\right)}}\\right)\\right)}{\\min\\left(T_{ion}, T_{int,used} \\max\\left(1.0, \\min\\left(\\frac{T_{snap}}{T_{int,used}}, \\left\\lfloor{\\frac{\\epsilon_{f approx} \\lambda}{\\Omega_{E} T_{int,used} \\Theta_{fov} b}}\\right\\rfloor\\right)\\right)\\right)} \\\\T_{coal,backward}(b) &= \\min\\left(T_{ion}, T_{int,used} \\max\\left(1.0, \\min\\left(\\frac{T_{snap}}{T_{int,used}}, \\left\\lfloor{\\frac{\\epsilon_{f approx} \\lambda}{\\Omega_{E} T_{int,used} \\Theta_{fov} b}}\\right\\rfloor\\right)\\right)\\right) \\\\T_{coal,predict}(b) &= \\min\\left(T_{ion}, T_{int,used} \\max\\left(1.0, \\min\\left(\\frac{T_{snap}}{T_{int,used}}, \\left\\lfloor{\\frac{\\epsilon_{f approx} \\lambda}{\\Omega_{E} T_{int,used} \\Theta_{fov} b}}\\right\\rfloor\\right)\\right)\\right) \\\\T_{kernel,backward}(b) &= T_{ion} \\\\T_{kernel,predict}(b) &= T_{ion} \\\\\\end{aligned}$"
      ],
      "text/plain": [
       "<IPython.core.display.Math object>"
      ]
     },
     "metadata": {},
     "output_type": "display_data"
    },
    {
     "data": {
      "text/latex": [
       "$\\displaystyle \\begin{aligned}N_{facet,predict} &= N_{facet} \\\\N_{pix,linear} &= \\frac{3.25100497089045 B_{max} Q_{fov} Q_{pix} Q_{subband} \\left(r_{facet base} \\operatorname{sign}{\\left(N_{facet} - 1 \\right)} + 1\\right)}{D_{s} N_{facet}} \\\\N_{pix,linear,predict} &= \\frac{3.25100497089045 B_{max} Q_{fov} Q_{pix} Q_{subband} \\left(r_{facet base} \\operatorname{sign}{\\left(N_{facet} - 1 \\right)} + 1\\right)}{D_{s} N_{facet}} \\\\Q_{bw} &= \\frac{0.600124986981879}{\\sqrt{1 - \\frac{1}{amp_{f max}}}} \\\\T_{int,used} &= \\max\\left(T_{int,min}, \\min\\left(T_{snap}, \\frac{1.0046082220589 D_{s} \\sqrt{1 - \\frac{1}{amp_{f max}}}}{B_{max} \\Omega_{E} Q_{\\mathcal{fov,I}} \\sqrt{Q_{subband}}}\\right)\\right) \\\\\\Theta_{fov} &= \\frac{2.43825372816784 Q_{fov} \\sqrt{Q_{subband}} \\lambda \\left(r_{facet base} \\operatorname{sign}{\\left(N_{facet} - 1 \\right)} + 1\\right)}{D_{s} N_{facet}} \\\\\\Theta_{fov,predict} &= \\frac{2.43825372816784 Q_{fov} \\sqrt{Q_{subband}} \\lambda \\left(r_{facet base} \\operatorname{sign}{\\left(N_{facet} - 1 \\right)} + 1\\right)}{D_{s} N_{facet}} \\\\\\Theta_{fov,total} &= \\frac{2.43825372816784 Q_{fov} \\sqrt{Q_{subband}} \\lambda}{D_{s}} \\\\\\epsilon_{f approx} &= 2.44948974278318 \\sqrt{1 - \\frac{1}{amp_{f max}}} \\\\\\end{aligned}$"
      ],
      "text/plain": [
       "<IPython.core.display.Math object>"
      ]
     },
     "metadata": {},
     "output_type": "display_data"
    },
    {
     "data": {
      "text/markdown": [
       "### Constants"
      ],
      "text/plain": [
       "<IPython.core.display.Markdown object>"
      ]
     },
     "metadata": {},
     "output_type": "display_data"
    },
    {
     "data": {
      "text/latex": [
       "$\\displaystyle \\begin{aligned}B_{max} &= 65000  & D_{s} &= 38  & \\Delta_{W stack} &= 2.31428911159104 \\\\M_{cpx} &= 16.0  & M_{jones} &= 64.0  & M_{px} &= 8.0 \\\\M_{vis} &= 12  & N_{B,parameters} &= 500  & N_{Ipatches} &= 30 \\\\N_{a} &= 512  & N_{aa} &= 9  & N_{beam} &= 1 \\\\N_{bl} &= 130816.0  & N_{f,max} &= 65536  & N_{f,min} &= 40 \\\\N_{f,min,gran} &= 800  & N_{f,out} &= 40  & N_{facet} &= 1 \\\\N_{majortotal} &= 9  & N_{minor} &= 10000  & N_{mm} &= 4 \\\\N_{patch} &= 4097  & N_{pp} &= 4  & N_{scales} &= 10 \\\\N_{\\mathcal{self}} &= 3  & N_{solve} &= 10  & N_{source} &= 1000 \\\\N_{source,find,iterations} &= 10  & N_{subbands} &= 7  & N_{tt} &= 5 \\\\\\Omega_{E} &= 7.292115 \\cdot 10^{-5}  & Q_{fov} &= 2.7  & Q_{\\mathcal{fov,I}} &= 2.7 \\\\Q_{gcf} &= 8.0  & Q_{kernel} &= 10.0  & Q_{pix} &= 2.5 \\\\Q_{subband} &= 1.32046924775612  & T_{int,min} &= 0.9  & T_{ion} &= 10.0 \\\\T_{obs} &= 3600.0  & T_{snap} &= 600  & T_{solve} &= 600 \\\\amp_{f max} &= 1.08  & \\epsilon_{w} &= 0.01  & \\lambda &= 3.42619952 \\\\\\lambda_{max} &= 5.99584916  & \\lambda_{min} &= 0.85654988  & r_{facet base} &= 0.2 \\\\t_{ICAL,B} &= 3600.0  & t_{ICAL,G} &= 1.0  & t_{ICAL,I} &= 10.0 \\\\\\end{aligned}$"
      ],
      "text/plain": [
       "<IPython.core.display.Math object>"
      ]
     },
     "metadata": {},
     "output_type": "display_data"
    },
    {
     "data": {
      "text/markdown": [
       "## Equations for SKA1_Low DPrepA_Image:"
      ],
      "text/plain": [
       "<IPython.core.display.Markdown object>"
      ]
     },
     "metadata": {},
     "output_type": "display_data"
    },
    {
     "data": {
      "text/latex": [
       "$\\displaystyle \\begin{aligned}Rflop_{Correct} &= 8 N_{Ipatches} N_{beam} N_{majortotal} N_{mm} N_{pp} \\sum_{i=1}^{N_{bl}} \\operatorname{R_{vis}}{\\left(\\operatorname{B_{max}}{\\left(i \\right)},1 \\right)} \\\\ &= 0.042088\\,\\text{PFLOP/s} \\\\ \\\\Rflop_{DFT} &= \\frac{N_{beam} N_{majortotal} \\left(32 N_{a}^{2} N_{source} + 128 N_{a}^{2} + 266 N_{a} N_{source}\\right) \\sum_{i=1}^{N_{bl}} \\operatorname{R_{vis}}{\\left(\\operatorname{B_{max}}{\\left(i \\right)},1 \\right)}}{N_{bl}} \\\\ &= 1.434116\\,\\text{PFLOP/s} \\\\ \\\\Rflop_{Degrid} &= 8 N_{beam} N_{facet,predict}^{2} N_{majortotal} N_{mm} N_{pp} \\sum_{i=1}^{N_{bl}} \\frac{\\operatorname{N_{f,vis,predict}}{\\left(\\operatorname{B_{max}}{\\left(i \\right)} \\right)} \\operatorname{N_{kernel2,predict}}{\\left(\\operatorname{B_{max}}{\\left(i \\right)} \\right)}}{\\operatorname{T_{coal,predict}}{\\left(\\operatorname{B_{max}}{\\left(i \\right)} \\right)}} \\\\ &= 0.009110\\,\\text{PFLOP/s} \\\\ \\\\Rflop_{Degridding Kernel Update} &= \\frac{5.0 N_{beam} N_{facet,predict}^{2} N_{majortotal} N_{mm} N_{pp} \\sum_{i=1}^{N_{bl}} \\frac{\\operatorname{N_{f,gcf,predict}}{\\left(\\operatorname{B_{max}}{\\left(i \\right)} \\right)} \\operatorname{N_{gcf,used,predict}}{\\left(\\operatorname{B_{max}}{\\left(i \\right)} \\right)} \\operatorname{N_{kernel,AW,predict}}^{2}{\\left(\\operatorname{B_{max}}{\\left(i \\right)} \\right)} \\log{\\left(\\operatorname{N_{kernel,AW,predict}}^{2}{\\left(\\operatorname{B_{max}}{\\left(i \\right)} \\right)} \\right)}}{\\operatorname{T_{kernel,predict}}{\\left(\\operatorname{B_{max}}{\\left(i \\right)} \\right)}}}{\\log{\\left(2 \\right)}} \\\\ &= 0.017089\\,\\text{PFLOP/s} \\\\ \\\\Rflop_{FFT} &= \\frac{2.5 N_{beam} N_{f,FFT,backward} N_{facet}^{2} N_{majortotal} N_{pix,linear}^{2} N_{pp} \\log{\\left(N_{pix,linear}^{2} \\right)} \\max\\left(1, \\frac{\\Delta_{W max}{\\left(B_{max} \\right)}}{\\Delta_{W stack}}\\right)}{T_{snap} \\log{\\left(2 \\right)}} \\\\ &= 0.002541\\,\\text{PFLOP/s} \\\\ \\\\Rflop_{Flag} &= 279 N_{beam} N_{majortotal} N_{pp} \\sum_{i=1}^{N_{bl}} \\operatorname{R_{vis}}{\\left(\\operatorname{B_{max}}{\\left(i \\right)},1 \\right)} \\\\ &= 0.012232\\,\\text{PFLOP/s} \\\\ \\\\Rflop_{Grid} &= 8 N_{beam} N_{facet}^{2} N_{majortotal} N_{mm} N_{pp} \\sum_{i=1}^{N_{bl}} \\frac{\\operatorname{N_{f,vis,backward}}{\\left(\\operatorname{B_{max}}{\\left(i \\right)} \\right)} \\operatorname{N_{kernel2,backward}}{\\left(\\operatorname{B_{max}}{\\left(i \\right)} \\right)}}{\\operatorname{T_{coal,backward}}{\\left(\\operatorname{B_{max}}{\\left(i \\right)} \\right)}} \\\\ &= 0.009110\\,\\text{PFLOP/s} \\\\ \\\\Rflop_{Gridding Kernel Update} &= \\frac{5.0 N_{beam} N_{facet}^{2} N_{majortotal} N_{mm} N_{pp} \\sum_{i=1}^{N_{bl}} \\frac{\\operatorname{N_{f,gcf,backward}}{\\left(\\operatorname{B_{max}}{\\left(i \\right)} \\right)} \\operatorname{N_{gcf,used,backward}}{\\left(\\operatorname{B_{max}}{\\left(i \\right)} \\right)} \\operatorname{N_{kernel,AW,backward}}^{2}{\\left(\\operatorname{B_{max}}{\\left(i \\right)} \\right)} \\log{\\left(\\operatorname{N_{kernel,AW,backward}}^{2}{\\left(\\operatorname{B_{max}}{\\left(i \\right)} \\right)} \\right)}}{\\operatorname{T_{kernel,backward}}{\\left(\\operatorname{B_{max}}{\\left(i \\right)} \\right)}}}{\\log{\\left(2 \\right)}} \\\\ &= 0.017089\\,\\text{PFLOP/s} \\\\ \\\\Rflop_{IFFT} &= \\frac{2.5 N_{beam} N_{f,FFT,predict} N_{facet,predict}^{2} N_{majortotal} N_{pix,linear,predict}^{2} N_{pp} \\log{\\left(N_{pix,linear,predict}^{2} \\right)} \\max\\left(1, \\frac{\\Delta_{W max}{\\left(B_{max} \\right)}}{\\Delta_{W stack}}\\right)}{T_{snap} \\log{\\left(2 \\right)}} \\\\ &= 0.012704\\,\\text{PFLOP/s} \\\\ \\\\Rflop_{Identify Component} &= \\frac{N_{beam} N_{facet}^{2} N_{majortotal} N_{scales} N_{subbands} N_{tt} \\left(2 N_{minor} N_{patch}^{2} + 2 N_{pix,linear}^{2}\\right)}{T_{obs}} \\\\ &= 0.000037\\,\\text{PFLOP/s} \\\\ \\\\Rflop_{Image Spectral Fitting} &= \\frac{N_{beam} N_{majortotal} N_{pix,linear,fov,total}^{2} N_{pp} N_{tt} \\left(2.0 N_{f,FFT,backward} + 2.0 N_{f,FFT,predict}\\right)}{T_{obs}} \\\\ &= 0.000005\\,\\text{PFLOP/s} \\\\ \\\\Rflop_{Phase Rotation} &= \\frac{28 N_{beam} N_{facet}^{2} N_{majortotal} N_{pp} \\operatorname{sign}{\\left(N_{facet} - 1 \\right)} \\sum_{i=1}^{N_{bl}} \\operatorname{N_{f,vis}}{\\left(\\operatorname{B_{max}}{\\left(i \\right)} \\right)}}{T_{int,used}} \\\\ &= 0.000000\\,\\text{PFLOP/s} \\\\ \\\\Rflop_{Phase Rotation Predict} &= \\frac{28 N_{beam} N_{facet}^{2} N_{majortotal} N_{pp} \\operatorname{sign}{\\left(N_{facet} - 1 \\right)} \\sum_{i=1}^{N_{bl}} \\operatorname{N_{f,vis}}{\\left(\\operatorname{B_{max}}{\\left(i \\right)} \\right)}}{T_{int,used}} \\\\ &= 0.000000\\,\\text{PFLOP/s} \\\\ \\\\Rflop_{Reprojection} &= \\frac{50.0 N_{beam} N_{f,proj,backward} N_{facet}^{2} N_{majortotal} N_{pix,linear}^{2} N_{pp}}{T_{snap}} \\\\ &= 0.000003\\,\\text{PFLOP/s} \\\\ \\\\Rflop_{Reprojection Predict} &= \\frac{50.0 N_{beam} N_{f,proj,predict} N_{facet}^{2} N_{majortotal} N_{pix,linear}^{2} N_{pp}}{T_{snap}} \\\\ &= 0.000003\\,\\text{PFLOP/s} \\\\ \\\\Rflop_{Subtract Image Component} &= \\frac{2 N_{beam} N_{majortotal} N_{minor} N_{patch}^{2} N_{pp} N_{scales} N_{subbands} N_{tt}}{T_{obs}} \\\\ &= 0.000072\\,\\text{PFLOP/s} \\\\ \\\\Rflop_{Subtract Visibility} &= 2 N_{beam} N_{majortotal} N_{pp} \\sum_{i=1}^{N_{bl}} \\operatorname{R_{vis}}{\\left(\\operatorname{B_{max}}{\\left(i \\right)},1 \\right)} \\\\ &= 0.000088\\,\\text{PFLOP/s} \\\\ \\\\Rflop_{Visibility Weighting} &= 16 N_{beam} N_{facet}^{2} N_{majortotal} N_{pp} \\sum_{i=1}^{N_{bl}} \\frac{\\operatorname{N_{f,vis,backward}}{\\left(\\operatorname{B_{max}}{\\left(i \\right)} \\right)}}{\\operatorname{T_{coal,backward}}{\\left(\\operatorname{B_{max}}{\\left(i \\right)} \\right)}} \\\\ &= 0.000048\\,\\text{PFLOP/s} \\\\ \\\\ Rflop &= 1.556332\\,\\text{PFLOP/s}\\end{aligned}$"
      ],
      "text/plain": [
       "<IPython.core.display.Math object>"
      ]
     },
     "metadata": {},
     "output_type": "display_data"
    },
    {
     "data": {
      "text/latex": [
       "$\\displaystyle \\begin{aligned}Rout_{Correct} &= M_{vis} N_{beam} N_{majortotal} N_{pp} \\sum_{i=1}^{N_{bl}} \\operatorname{R_{vis}}{\\left(\\operatorname{B_{max}}{\\left(i \\right)},1 \\right)} \\\\ &= 0.526097\\,\\text{TB/s} \\\\ \\\\Rout_{DFT} &= M_{vis} N_{beam} N_{majortotal} N_{pp} \\sum_{i=1}^{N_{bl}} \\operatorname{R_{vis}}{\\left(\\operatorname{B_{max}}{\\left(i \\right)},1 \\right)} \\\\ &= 0.526097\\,\\text{TB/s} \\\\ \\\\Rout_{Degrid} &= M_{vis} N_{beam} N_{facet,predict}^{2} N_{majortotal} N_{pp} \\sum_{i=1}^{N_{bl}} \\frac{\\operatorname{N_{f,vis,predict}}{\\left(\\operatorname{B_{max}}{\\left(i \\right)} \\right)}}{\\operatorname{T_{coal,predict}}{\\left(\\operatorname{B_{max}}{\\left(i \\right)} \\right)}} \\\\ &= 0.035899\\,\\text{TB/s} \\\\ \\\\Rout_{Degridding Kernel Update} &= 8 N_{beam} N_{facet,predict}^{2} N_{majortotal} N_{pp} Q_{gcf}^{3} \\sum_{i=1}^{N_{bl}} \\frac{\\operatorname{N_{f,gcf,predict}}{\\left(\\operatorname{B_{max}}{\\left(i \\right)} \\right)} \\operatorname{N_{gw,predict}}^{3}{\\left(\\operatorname{B_{max}}{\\left(i \\right)} \\right)}}{\\operatorname{T_{kernel,predict}}{\\left(\\operatorname{B_{max}}{\\left(i \\right)} \\right)}} \\\\ &= 17.945080\\,\\text{TB/s} \\\\ \\\\Rout_{FFT} &= \\frac{M_{px} N_{beam} N_{f,FFT,backward} N_{facet}^{2} N_{majortotal} N_{pix,linear}^{2} N_{pp}}{T_{snap}} \\\\ &= 0.003954\\,\\text{TB/s} \\\\ \\\\Rout_{Flag} &= M_{vis} N_{beam} N_{majortotal} N_{pp} \\sum_{i=1}^{N_{bl}} \\operatorname{R_{vis}}{\\left(\\operatorname{B_{max}}{\\left(i \\right)},1 \\right)} \\\\ &= 0.526097\\,\\text{TB/s} \\\\ \\\\Rout_{Grid} &= \\frac{M_{cpx} N_{beam} N_{facet}^{2} N_{majortotal} N_{pix,linear} N_{pp} \\left(\\frac{N_{pix,linear}}{2} + 1\\right) \\sum_{i=1}^{N_{bl}} \\operatorname{N_{f,vis,backward}}{\\left(\\operatorname{B_{max}}{\\left(i \\right)} \\right)}}{T_{snap}} \\\\ &= 2.626481\\,\\text{TB/s} \\\\ \\\\Rout_{Gridding Kernel Update} &= 8 N_{beam} N_{facet}^{2} N_{majortotal} N_{pp} Q_{gcf}^{3} \\sum_{i=1}^{N_{bl}} \\frac{\\operatorname{N_{f,gcf,backward}}{\\left(\\operatorname{B_{max}}{\\left(i \\right)} \\right)} \\operatorname{N_{gw,backward}}^{3}{\\left(\\operatorname{B_{max}}{\\left(i \\right)} \\right)}}{\\operatorname{T_{kernel,backward}}{\\left(\\operatorname{B_{max}}{\\left(i \\right)} \\right)}} \\\\ &= 17.945080\\,\\text{TB/s} \\\\ \\\\Rout_{IFFT} &= \\frac{M_{cpx} N_{beam} N_{f,FFT,predict} N_{facet,predict}^{2} N_{majortotal} N_{pix,linear,predict} N_{pp} \\left(\\frac{N_{pix,linear,predict}}{2} + 1\\right)}{T_{snap}} \\\\ &= 0.019773\\,\\text{TB/s} \\\\ \\\\Rout_{Identify Component} &= \\frac{M_{cpx} N_{beam} N_{facet}^{2} N_{majortotal} N_{minor} N_{subbands}}{T_{obs}} \\\\ &= 0.000000\\,\\text{TB/s} \\\\ \\\\Rout_{Image Spectral Fitting} &= \\frac{M_{px} N_{beam} N_{majortotal} N_{pix,linear,fov,total}^{2} N_{pp} N_{tt}}{T_{obs}} \\\\ &= 0.000082\\,\\text{TB/s} \\\\ \\\\Rout_{Phase Rotation} &= M_{vis} N_{beam} N_{facet}^{2} N_{majortotal} N_{pp} \\operatorname{sign}{\\left(N_{facet} - 1 \\right)} \\sum_{i=1}^{N_{bl}} \\operatorname{R_{vis,backward}}{\\left(\\operatorname{B_{max}}{\\left(i \\right)},1 \\right)} \\\\ &= 0.000000\\,\\text{TB/s} \\\\ \\\\Rout_{Phase Rotation Predict} &= \\frac{M_{vis} N_{beam} N_{facet}^{2} N_{majortotal} N_{pp} \\operatorname{sign}{\\left(N_{facet} - 1 \\right)} \\sum_{i=1}^{N_{bl}} \\operatorname{N_{f,vis}}{\\left(\\operatorname{B_{max}}{\\left(i \\right)} \\right)}}{T_{int,used}} \\\\ &= 0.000000\\,\\text{TB/s} \\\\ \\\\Rout_{Reprojection} &= \\frac{M_{px} N_{beam} N_{f,proj,backward} N_{facet}^{2} N_{majortotal} N_{pix,linear}^{2} N_{pp}}{T_{snap}} \\\\ &= 0.000494\\,\\text{TB/s} \\\\ \\\\Rout_{Reprojection Predict} &= \\frac{M_{px} N_{beam} N_{f,proj,predict} N_{facet}^{2} N_{majortotal} N_{pix,linear}^{2} N_{pp}}{T_{snap}} \\\\ &= 0.000494\\,\\text{TB/s} \\\\ \\\\Rout_{Subtract Image Component} &= \\frac{M_{px} N_{beam} N_{facet}^{2} N_{majortotal} N_{pix,linear}^{2} N_{subbands} N_{tt}}{T_{obs}} \\\\ &= 0.000288\\,\\text{TB/s} \\\\ \\\\Rout_{Subtract Visibility} &= M_{vis} N_{beam} N_{majortotal} N_{pp} \\sum_{i=1}^{N_{bl}} \\operatorname{R_{vis}}{\\left(\\operatorname{B_{max}}{\\left(i \\right)},1 \\right)} \\\\ &= 0.526097\\,\\text{TB/s} \\\\ \\\\Rout_{Visibility Weighting} &= M_{vis} N_{beam} N_{f,min,gran} N_{facet}^{2} N_{majortotal} N_{pp} \\sum_{i=1}^{N_{bl}} \\frac{1}{\\operatorname{T_{coal,backward}}{\\left(\\operatorname{B_{max}}{\\left(i \\right)} \\right)}} \\\\ &= 0.004748\\,\\text{TB/s} \\\\ \\\\ Rout &= 40.686763\\,\\text{TB/s}\\end{aligned}$"
      ],
      "text/plain": [
       "<IPython.core.display.Math object>"
      ]
     },
     "metadata": {},
     "output_type": "display_data"
    },
    {
     "data": {
      "text/markdown": [
       "### Intermediate equations"
      ],
      "text/plain": [
       "<IPython.core.display.Markdown object>"
      ]
     },
     "metadata": {},
     "output_type": "display_data"
    },
    {
     "data": {
      "text/latex": [
       "$\\displaystyle \\begin{aligned}\\Delta_{W max} &= \\Delta_{W max} \\\\N_{f,FFT,backward} &= N_{f,out} \\\\N_{f,FFT,predict} &= \\min\\left(N_{f,max}, N_{f,out} N_{tt}\\right) \\\\N_{f,gcf,backward}(b) &= \\max\\left(N_{f,min}, \\min\\left(N_{f,max}, \\frac{\\log{\\left(\\frac{\\lambda_{max}}{\\lambda_{min}} \\right)}}{\\log{\\left(1.0 + \\frac{\\epsilon_{f approx}}{Q_{kernel} \\left(N_{aa}^{2} + 1.0 \\Theta_{fov}^{2} \\left(\\Theta_{fov}^{2} \\min\\left(\\Delta_{W stack}, \\Delta_{W max}{\\left(b \\right)}\\right)^{2} + \\frac{0.636619772367581 \\Theta_{fov} \\min\\left(\\Delta_{W stack}, \\Delta_{W max}{\\left(b \\right)}\\right)^{1.5}}{\\epsilon_{w}}\\right)\\right)^{0.5}} \\right)}}\\right)\\right) \\\\N_{f,gcf,predict}(b) &= \\max\\left(N_{f,min}, \\min\\left(N_{f,max}, \\frac{\\log{\\left(\\frac{\\lambda_{max}}{\\lambda_{min}} \\right)}}{\\log{\\left(1.0 + \\frac{\\epsilon_{f approx}}{Q_{kernel} \\left(N_{aa}^{2} + 1.0 \\Theta_{fov,predict}^{2} \\left(\\Theta_{fov,predict}^{2} \\min\\left(\\Delta_{W stack}, \\Delta_{W max}{\\left(b \\right)}\\right)^{2} + \\frac{0.636619772367581 \\Theta_{fov,predict} \\min\\left(\\Delta_{W stack}, \\Delta_{W max}{\\left(b \\right)}\\right)^{1.5}}{\\epsilon_{w}}\\right)\\right)^{0.5}} \\right)}}\\right)\\right) \\\\N_{f,proj,backward} &= N_{tt} \\\\N_{f,proj,predict} &= N_{tt} \\\\N_{f,vis}(b) &= \\min\\left(N_{f,max}, \\max\\left(N_{f,out}, \\frac{\\log{\\left(\\frac{\\lambda_{max}}{\\lambda_{min}} \\right)}}{\\log{\\left(1 + \\frac{1.5 \\lambda}{B_{max} Q_{bw} \\Theta_{fov,total}} \\right)}}\\right)\\right) \\\\N_{f,vis,backward}(b) &= \\min\\left(N_{f,max}, \\max\\left(N_{f,out}, \\frac{\\log{\\left(\\frac{\\lambda_{max}}{\\lambda_{min}} \\right)}}{\\log{\\left(1 + \\frac{1.5 \\lambda}{Q_{bw} \\Theta_{fov} b} \\right)}}\\right)\\right) \\\\N_{f,vis,predict}(b) &= \\min\\left(N_{f,max}, \\max\\left(N_{f,out}, \\frac{\\log{\\left(\\frac{\\lambda_{max}}{\\lambda_{min}} \\right)}}{\\log{\\left(1 + \\frac{1.5 \\lambda}{Q_{bw} \\Theta_{fov,predict} b} \\right)}}\\right)\\right) \\\\N_{gcf,used,backward}(b) &= Q_{gcf}^{2} \\left(1 - \\left(1 - \\frac{1}{Q_{gcf}^{2}}\\right)^{\\frac{T_{ion} \\min\\left(N_{f,max}, \\max\\left(N_{f,out}, \\frac{\\log{\\left(\\frac{\\lambda_{max}}{\\lambda_{min}} \\right)}}{\\log{\\left(1 + \\frac{1.5 \\lambda}{Q_{bw} \\Theta_{fov} b} \\right)}}\\right)\\right)}{\\max\\left(N_{f,min}, \\min\\left(N_{f,max}, \\frac{\\log{\\left(\\frac{\\lambda_{max}}{\\lambda_{min}} \\right)}}{\\log{\\left(1.0 + \\frac{\\epsilon_{f approx}}{Q_{kernel} \\left(N_{aa}^{2} + 1.0 \\Theta_{fov}^{2} \\left(\\Theta_{fov}^{2} \\min\\left(\\Delta_{W stack}, \\Delta_{W max}{\\left(b \\right)}\\right)^{2} + \\frac{0.636619772367581 \\Theta_{fov} \\min\\left(\\Delta_{W stack}, \\Delta_{W max}{\\left(b \\right)}\\right)^{1.5}}{\\epsilon_{w}}\\right)\\right)^{0.5}} \\right)}}\\right)\\right) \\min\\left(T_{ion}, T_{int,used} \\max\\left(1.0, \\min\\left(\\frac{T_{snap}}{T_{int,used}}, \\left\\lfloor{\\frac{\\epsilon_{f approx} \\lambda}{\\Omega_{E} T_{int,used} \\Theta_{fov} b}}\\right\\rfloor\\right)\\right)\\right)}}\\right) \\\\N_{gcf,used,predict}(b) &= Q_{gcf}^{2} \\left(1 - \\left(1 - \\frac{1}{Q_{gcf}^{2}}\\right)^{\\frac{T_{ion} \\min\\left(N_{f,max}, \\max\\left(N_{f,out}, \\frac{\\log{\\left(\\frac{\\lambda_{max}}{\\lambda_{min}} \\right)}}{\\log{\\left(1 + \\frac{1.5 \\lambda}{Q_{bw} \\Theta_{fov,predict} b} \\right)}}\\right)\\right)}{\\max\\left(N_{f,min}, \\min\\left(N_{f,max}, \\frac{\\log{\\left(\\frac{\\lambda_{max}}{\\lambda_{min}} \\right)}}{\\log{\\left(1.0 + \\frac{\\epsilon_{f approx}}{Q_{kernel} \\left(N_{aa}^{2} + 1.0 \\Theta_{fov,predict}^{2} \\left(\\Theta_{fov,predict}^{2} \\min\\left(\\Delta_{W stack}, \\Delta_{W max}{\\left(b \\right)}\\right)^{2} + \\frac{0.636619772367581 \\Theta_{fov,predict} \\min\\left(\\Delta_{W stack}, \\Delta_{W max}{\\left(b \\right)}\\right)^{1.5}}{\\epsilon_{w}}\\right)\\right)^{0.5}} \\right)}}\\right)\\right) \\min\\left(T_{ion}, T_{int,used} \\max\\left(1.0, \\min\\left(\\frac{T_{snap}}{T_{int,used}}, \\left\\lfloor{\\frac{\\epsilon_{f approx} \\lambda}{\\Omega_{E} T_{int,used} \\Theta_{fov} b}}\\right\\rfloor\\right)\\right)\\right)}}\\right) \\\\N_{gw,backward}(b) &= 1.0 \\Theta_{fov} \\sqrt{\\Theta_{fov}^{2} \\min\\left(\\Delta_{W stack}, \\Delta_{W max}{\\left(b \\right)}\\right)^{2} + \\frac{0.636619772367581 \\Theta_{fov} \\min\\left(\\Delta_{W stack}, \\Delta_{W max}{\\left(b \\right)}\\right)^{1.5}}{\\epsilon_{w}}} \\\\N_{gw,predict}(b) &= 1.0 \\Theta_{fov,predict} \\sqrt{\\Theta_{fov,predict}^{2} \\min\\left(\\Delta_{W stack}, \\Delta_{W max}{\\left(b \\right)}\\right)^{2} + \\frac{0.636619772367581 \\Theta_{fov,predict} \\min\\left(\\Delta_{W stack}, \\Delta_{W max}{\\left(b \\right)}\\right)^{1.5}}{\\epsilon_{w}}} \\\\N_{kernel,AW,backward}(b) &= \\left(N_{aa}^{2} + 1.0 \\Theta_{fov}^{2} \\left(\\Theta_{fov}^{2} \\min\\left(\\Delta_{W stack}, \\Delta_{W max}{\\left(b \\right)}\\right)^{2} + \\frac{0.636619772367581 \\Theta_{fov} \\min\\left(\\Delta_{W stack}, \\Delta_{W max}{\\left(b \\right)}\\right)^{1.5}}{\\epsilon_{w}}\\right)\\right)^{0.5} \\\\N_{kernel,AW,predict}(b) &= \\left(N_{aa}^{2} + 1.0 \\Theta_{fov,predict}^{2} \\left(\\Theta_{fov,predict}^{2} \\min\\left(\\Delta_{W stack}, \\Delta_{W max}{\\left(b \\right)}\\right)^{2} + \\frac{0.636619772367581 \\Theta_{fov,predict} \\min\\left(\\Delta_{W stack}, \\Delta_{W max}{\\left(b \\right)}\\right)^{1.5}}{\\epsilon_{w}}\\right)\\right)^{0.5} \\\\N_{kernel2,backward}(b) &= \\left(N_{aa}^{2} + 1.0 \\Theta_{fov}^{2} \\left(\\Theta_{fov}^{2} \\min\\left(\\Delta_{W stack}, \\Delta_{W max}{\\left(b \\right)}\\right)^{2} + \\frac{0.636619772367581 \\Theta_{fov} \\min\\left(\\Delta_{W stack}, \\Delta_{W max}{\\left(b \\right)}\\right)^{1.5}}{\\epsilon_{w}}\\right)\\right)^{1.0} \\\\N_{kernel2,predict}(b) &= \\left(N_{aa}^{2} + 1.0 \\Theta_{fov,predict}^{2} \\left(\\Theta_{fov,predict}^{2} \\min\\left(\\Delta_{W stack}, \\Delta_{W max}{\\left(b \\right)}\\right)^{2} + \\frac{0.636619772367581 \\Theta_{fov,predict} \\min\\left(\\Delta_{W stack}, \\Delta_{W max}{\\left(b \\right)}\\right)^{1.5}}{\\epsilon_{w}}\\right)\\right)^{1.0} \\\\R_{vis}(b,bcount) &= \\frac{bcount \\min\\left(N_{f,max}, \\max\\left(N_{f,out}, \\frac{\\log{\\left(\\frac{\\lambda_{max}}{\\lambda_{min}} \\right)}}{\\log{\\left(1 + \\frac{1.5 \\lambda}{B_{max} Q_{bw} \\Theta_{fov,total}} \\right)}}\\right)\\right)}{T_{int,used}} \\\\R_{vis,backward}(b,bcount) &= \\frac{bcount \\min\\left(N_{f,max}, \\max\\left(N_{f,out}, \\frac{\\log{\\left(\\frac{\\lambda_{max}}{\\lambda_{min}} \\right)}}{\\log{\\left(1 + \\frac{1.5 \\lambda}{Q_{bw} \\Theta_{fov} b} \\right)}}\\right)\\right)}{\\min\\left(T_{ion}, T_{int,used} \\max\\left(1.0, \\min\\left(\\frac{T_{snap}}{T_{int,used}}, \\left\\lfloor{\\frac{\\epsilon_{f approx} \\lambda}{\\Omega_{E} T_{int,used} \\Theta_{fov} b}}\\right\\rfloor\\right)\\right)\\right)} \\\\T_{coal,backward}(b) &= \\min\\left(T_{ion}, T_{int,used} \\max\\left(1.0, \\min\\left(\\frac{T_{snap}}{T_{int,used}}, \\left\\lfloor{\\frac{\\epsilon_{f approx} \\lambda}{\\Omega_{E} T_{int,used} \\Theta_{fov} b}}\\right\\rfloor\\right)\\right)\\right) \\\\T_{coal,predict}(b) &= \\min\\left(T_{ion}, T_{int,used} \\max\\left(1.0, \\min\\left(\\frac{T_{snap}}{T_{int,used}}, \\left\\lfloor{\\frac{\\epsilon_{f approx} \\lambda}{\\Omega_{E} T_{int,used} \\Theta_{fov} b}}\\right\\rfloor\\right)\\right)\\right) \\\\T_{kernel,backward}(b) &= T_{ion} \\\\T_{kernel,predict}(b) &= T_{ion} \\\\\\end{aligned}$"
      ],
      "text/plain": [
       "<IPython.core.display.Math object>"
      ]
     },
     "metadata": {},
     "output_type": "display_data"
    },
    {
     "data": {
      "text/latex": [
       "$\\displaystyle \\begin{aligned}N_{facet,predict} &= N_{facet} \\\\N_{pix,linear} &= \\frac{3.25100497089045 B_{max} Q_{fov} Q_{pix} Q_{subband} \\left(r_{facet base} \\operatorname{sign}{\\left(N_{facet} - 1 \\right)} + 1\\right)}{D_{s} N_{facet}} \\\\N_{pix,linear,fov,total} &= \\frac{3.25100497089045 B_{max} Q_{fov} Q_{pix} Q_{subband}}{D_{s}} \\\\N_{pix,linear,predict} &= \\frac{3.25100497089045 B_{max} Q_{fov} Q_{pix} Q_{subband} \\left(r_{facet base} \\operatorname{sign}{\\left(N_{facet} - 1 \\right)} + 1\\right)}{D_{s} N_{facet}} \\\\Q_{bw} &= \\frac{0.600124986981879}{\\sqrt{1 - \\frac{1}{amp_{f max}}}} \\\\T_{int,used} &= \\max\\left(T_{int,min}, \\min\\left(T_{snap}, \\frac{1.0046082220589 D_{s} \\sqrt{1 - \\frac{1}{amp_{f max}}}}{B_{max} \\Omega_{E} Q_{\\mathcal{fov,I}} \\sqrt{Q_{subband}}}\\right)\\right) \\\\\\Theta_{fov} &= \\frac{2.43825372816784 Q_{fov} \\sqrt{Q_{subband}} \\lambda \\left(r_{facet base} \\operatorname{sign}{\\left(N_{facet} - 1 \\right)} + 1\\right)}{D_{s} N_{facet}} \\\\\\Theta_{fov,predict} &= \\frac{2.43825372816784 Q_{fov} \\sqrt{Q_{subband}} \\lambda \\left(r_{facet base} \\operatorname{sign}{\\left(N_{facet} - 1 \\right)} + 1\\right)}{D_{s} N_{facet}} \\\\\\Theta_{fov,total} &= \\frac{2.43825372816784 Q_{fov} \\sqrt{Q_{subband}} \\lambda}{D_{s}} \\\\\\epsilon_{f approx} &= 2.44948974278318 \\sqrt{1 - \\frac{1}{amp_{f max}}} \\\\\\end{aligned}$"
      ],
      "text/plain": [
       "<IPython.core.display.Math object>"
      ]
     },
     "metadata": {},
     "output_type": "display_data"
    },
    {
     "data": {
      "text/markdown": [
       "### Constants"
      ],
      "text/plain": [
       "<IPython.core.display.Markdown object>"
      ]
     },
     "metadata": {},
     "output_type": "display_data"
    },
    {
     "data": {
      "text/latex": [
       "$\\displaystyle \\begin{aligned}B_{max} &= 65000  & D_{s} &= 38  & \\Delta_{W stack} &= 5.71616422372295 \\\\M_{cpx} &= 16.0  & M_{px} &= 8.0  & M_{vis} &= 12 \\\\N_{Ipatches} &= 30  & N_{a} &= 512  & N_{aa} &= 9 \\\\N_{beam} &= 1  & N_{bl} &= 130816.0  & N_{f,max} &= 65536 \\\\N_{f,min} &= 40  & N_{f,min,gran} &= 800  & N_{f,out} &= 40 \\\\N_{facet} &= 1  & N_{majortotal} &= 11  & N_{minor} &= 1000 \\\\N_{mm} &= 4  & N_{patch} &= 4097  & N_{pp} &= 2 \\\\N_{scales} &= 10  & N_{source} &= 1000  & N_{subbands} &= 7 \\\\N_{tt} &= 5  & \\Omega_{E} &= 7.292115 \\cdot 10^{-5}  & Q_{fov} &= 1.0 \\\\Q_{\\mathcal{fov,I}} &= 2.7  & Q_{gcf} &= 8.0  & Q_{kernel} &= 10.0 \\\\Q_{pix} &= 2.5  & Q_{subband} &= 1.32046924775612  & T_{int,min} &= 0.9 \\\\T_{ion} &= 10.0  & T_{obs} &= 3600.0  & T_{snap} &= 600 \\\\amp_{f max} &= 1.08  & \\epsilon_{w} &= 0.01  & \\lambda &= 3.42619952 \\\\\\lambda_{max} &= 5.99584916  & \\lambda_{min} &= 0.85654988  & r_{facet base} &= 0.2 \\\\\\end{aligned}$"
      ],
      "text/plain": [
       "<IPython.core.display.Math object>"
      ]
     },
     "metadata": {},
     "output_type": "display_data"
    },
    {
     "data": {
      "text/markdown": [
       "## Equations for SKA1_Mid Ingest:"
      ],
      "text/plain": [
       "<IPython.core.display.Markdown object>"
      ]
     },
     "metadata": {},
     "output_type": "display_data"
    },
    {
     "data": {
      "text/latex": [
       "$\\displaystyle \\begin{aligned}Rflop_{Average} &= 8 N_{beam} N_{pp} R_{vis,ingest} \\\\ &= 0.000292\\,\\text{PFLOP/s} \\\\ \\\\Rflop_{Demix} &= N_{beam} N_{f,min} R_{vis,ingest} \\left(154 N_{Ateam} + 84 + \\frac{N_{f,min} T_{int,used} \\left(N_{Ateam}^{2} + N_{Ateam} \\left(24 N_{solve} + 33\\right) + 64\\right)}{N_{f,max} T_{ion}}\\right) \\\\ &= 0.593070\\,\\text{PFLOP/s} \\\\ \\\\Rflop_{Flag} &= 278 N_{beam} N_{pp} R_{vis,ingest} \\\\ &= 0.010152\\,\\text{PFLOP/s} \\\\ \\\\Rflop_{Receive} &= N_{beam} N_{f,min} \\left(\\frac{1000 N_{a}}{T_{int,used}} + \\frac{4 N_{pp} R_{vis,ingest}}{N_{f,min}}\\right) \\\\ &= 0.000146\\,\\text{PFLOP/s} \\\\ \\\\ Rflop &= 0.603660\\,\\text{PFLOP/s}\\end{aligned}$"
      ],
      "text/plain": [
       "<IPython.core.display.Math object>"
      ]
     },
     "metadata": {},
     "output_type": "display_data"
    },
    {
     "data": {
      "text/latex": [
       "$\\displaystyle \\begin{aligned}Rout_{Average} &= M_{vis} N_{beam} N_{pp} \\sum_{i=1}^{N_{bl}} \\operatorname{R_{vis}}{\\left(\\operatorname{B_{max}}{\\left(i \\right)},1 \\right)} \\\\ &= 0.433796\\,\\text{TB/s} \\\\ \\\\Rout_{Demix} &= M_{vis} N_{beam} N_{pp} R_{vis,ingest} \\\\ &= 0.438222\\,\\text{TB/s} \\\\ \\\\Rout_{Flag} &= M_{vis} N_{beam} N_{pp} R_{vis,ingest} \\\\ &= 0.438222\\,\\text{TB/s} \\\\ \\\\Rout_{Receive} &= M_{vis} N_{beam} N_{pp} R_{vis,ingest} \\\\ &= 0.438222\\,\\text{TB/s} \\\\ \\\\ Rout &= 1.748463\\,\\text{TB/s}\\end{aligned}$"
      ],
      "text/plain": [
       "<IPython.core.display.Math object>"
      ]
     },
     "metadata": {},
     "output_type": "display_data"
    },
    {
     "data": {
      "text/markdown": [
       "### Intermediate equations"
      ],
      "text/plain": [
       "<IPython.core.display.Markdown object>"
      ]
     },
     "metadata": {},
     "output_type": "display_data"
    },
    {
     "data": {
      "text/latex": [
       "$\\displaystyle \\begin{aligned}R_{vis}(b,bcount) &= \\frac{bcount \\min\\left(N_{f,max}, \\max\\left(N_{f,out}, \\frac{\\log{\\left(\\frac{\\lambda_{max}}{\\lambda_{min}} \\right)}}{\\log{\\left(1 + \\frac{1.5 \\lambda}{B_{max} Q_{bw} \\Theta_{fov,total}} \\right)}}\\right)\\right)}{T_{int,used}} \\\\R_{vis,ingest} &= \\frac{N_{f,max} \\left(N_{a} + N_{bl}\\right)}{T_{int,used}} \\\\\\end{aligned}$"
      ],
      "text/plain": [
       "<IPython.core.display.Math object>"
      ]
     },
     "metadata": {},
     "output_type": "display_data"
    },
    {
     "data": {
      "text/latex": [
       "$\\displaystyle \\begin{aligned}Q_{bw} &= \\frac{0.600124986981879}{\\sqrt{1 - \\frac{1}{amp_{f max}}}} \\\\T_{int,used} &= \\max\\left(T_{int,min}, \\min\\left(T_{snap}, \\frac{1.0046082220589 D_{s} \\sqrt{1 - \\frac{1}{amp_{f max}}}}{B_{max} \\Omega_{E} Q_{\\mathcal{fov,I}} \\sqrt{Q_{subband}}}\\right)\\right) \\\\\\Theta_{fov,total} &= \\frac{2.43825372816784 Q_{fov} \\sqrt{Q_{subband}} \\lambda}{D_{s}} \\\\\\end{aligned}$"
      ],
      "text/plain": [
       "<IPython.core.display.Math object>"
      ]
     },
     "metadata": {},
     "output_type": "display_data"
    },
    {
     "data": {
      "text/markdown": [
       "### Constants"
      ],
      "text/plain": [
       "<IPython.core.display.Markdown object>"
      ]
     },
     "metadata": {},
     "output_type": "display_data"
    },
    {
     "data": {
      "text/latex": [
       "$\\displaystyle \\begin{aligned}B_{max} &= 150000  & D_{s} &= 13.5  & M_{vis} &= 12 \\\\N_{Ateam} &= 10  & N_{a} &= 197  & N_{beam} &= 1 \\\\N_{bl} &= 19306.0  & N_{f,max} &= 65536  & N_{f,min} &= 40 \\\\N_{f,out} &= 65536  & N_{pp} &= 4  & N_{solve} &= 10 \\\\\\Omega_{E} &= 7.292115 \\cdot 10^{-5}  & Q_{fov} &= 1.0  & Q_{\\mathcal{fov,I}} &= 2.7 \\\\Q_{subband} &= 1.31607401295249  & T_{int,min} &= 0.14  & T_{ion} &= 10.0 \\\\T_{snap} &= 600  & amp_{f max} &= 1.034  & \\lambda &= 0.571033253333333 \\\\\\lambda_{max} &= 0.85654988  & \\lambda_{min} &= 0.285516626666667  & \\end{aligned}$"
      ],
      "text/plain": [
       "<IPython.core.display.Math object>"
      ]
     },
     "metadata": {},
     "output_type": "display_data"
    },
    {
     "data": {
      "text/markdown": [
       "## Equations for SKA1_Mid ICAL:"
      ],
      "text/plain": [
       "<IPython.core.display.Markdown object>"
      ]
     },
     "metadata": {},
     "output_type": "display_data"
    },
    {
     "data": {
      "text/latex": [
       "$\\displaystyle \\begin{aligned}Rflop_{Correct} &= 8 N_{Ipatches} N_{beam} N_{majortotal} N_{mm} N_{pp} \\sum_{i=1}^{N_{bl}} \\operatorname{R_{vis}}{\\left(\\operatorname{B_{max}}{\\left(i \\right)},1 \\right)} \\\\ &= 0.010411\\,\\text{PFLOP/s} \\\\ \\\\Rflop_{DFT} &= \\frac{N_{beam} N_{majortotal} \\left(32 N_{a}^{2} N_{source} + 128 N_{a}^{2} + 266 N_{a} N_{source}\\right) \\sum_{i=1}^{N_{bl}} \\operatorname{R_{vis}}{\\left(\\operatorname{B_{max}}{\\left(i \\right)},1 \\right)}}{N_{bl}} \\\\ &= 5.473809\\,\\text{PFLOP/s} \\\\ \\\\Rflop_{Degrid} &= 8 N_{beam} N_{facet,predict}^{2} N_{majortotal} N_{mm} N_{pp} \\sum_{i=1}^{N_{bl}} \\frac{\\operatorname{N_{f,vis,predict}}{\\left(\\operatorname{B_{max}}{\\left(i \\right)} \\right)} \\operatorname{N_{kernel2,predict}}{\\left(\\operatorname{B_{max}}{\\left(i \\right)} \\right)}}{\\operatorname{T_{coal,predict}}{\\left(\\operatorname{B_{max}}{\\left(i \\right)} \\right)}} \\\\ &= 0.590383\\,\\text{PFLOP/s} \\\\ \\\\Rflop_{Degridding Kernel Update} &= \\frac{5.0 N_{beam} N_{facet,predict}^{2} N_{majortotal} N_{mm} N_{pp} \\sum_{i=1}^{N_{bl}} \\frac{\\operatorname{N_{f,gcf,predict}}{\\left(\\operatorname{B_{max}}{\\left(i \\right)} \\right)} \\operatorname{N_{gcf,used,predict}}{\\left(\\operatorname{B_{max}}{\\left(i \\right)} \\right)} \\operatorname{N_{kernel,AW,predict}}^{2}{\\left(\\operatorname{B_{max}}{\\left(i \\right)} \\right)} \\log{\\left(\\operatorname{N_{kernel,AW,predict}}^{2}{\\left(\\operatorname{B_{max}}{\\left(i \\right)} \\right)} \\right)}}{\\operatorname{T_{kernel,predict}}{\\left(\\operatorname{B_{max}}{\\left(i \\right)} \\right)}}}{\\log{\\left(2 \\right)}} \\\\ &= 0.541087\\,\\text{PFLOP/s} \\\\ \\\\Rflop_{FFT} &= \\frac{2.5 N_{beam} N_{f,FFT,backward} N_{facet}^{2} N_{majortotal} N_{pix,linear}^{2} N_{pp} \\log{\\left(N_{pix,linear}^{2} \\right)} \\max\\left(1, \\frac{\\Delta_{W max}{\\left(B_{max} \\right)}}{\\Delta_{W stack}}\\right)}{T_{snap} \\log{\\left(2 \\right)}} \\\\ &= 0.294690\\,\\text{PFLOP/s} \\\\ \\\\Rflop_{Flag} &= 279 N_{beam} N_{majortotal} N_{pp} \\sum_{i=1}^{N_{bl}} \\operatorname{R_{vis}}{\\left(\\operatorname{B_{max}}{\\left(i \\right)},1 \\right)} \\\\ &= 0.090772\\,\\text{PFLOP/s} \\\\ \\\\Rflop_{Grid} &= 8 N_{beam} N_{facet}^{2} N_{majortotal} N_{mm} N_{pp} \\sum_{i=1}^{N_{bl}} \\frac{\\operatorname{N_{f,vis,backward}}{\\left(\\operatorname{B_{max}}{\\left(i \\right)} \\right)} \\operatorname{N_{kernel2,backward}}{\\left(\\operatorname{B_{max}}{\\left(i \\right)} \\right)}}{\\operatorname{T_{coal,backward}}{\\left(\\operatorname{B_{max}}{\\left(i \\right)} \\right)}} \\\\ &= 0.590383\\,\\text{PFLOP/s} \\\\ \\\\Rflop_{Gridding Kernel Update} &= \\frac{5.0 N_{beam} N_{facet}^{2} N_{majortotal} N_{mm} N_{pp} \\sum_{i=1}^{N_{bl}} \\frac{\\operatorname{N_{f,gcf,backward}}{\\left(\\operatorname{B_{max}}{\\left(i \\right)} \\right)} \\operatorname{N_{gcf,used,backward}}{\\left(\\operatorname{B_{max}}{\\left(i \\right)} \\right)} \\operatorname{N_{kernel,AW,backward}}^{2}{\\left(\\operatorname{B_{max}}{\\left(i \\right)} \\right)} \\log{\\left(\\operatorname{N_{kernel,AW,backward}}^{2}{\\left(\\operatorname{B_{max}}{\\left(i \\right)} \\right)} \\right)}}{\\operatorname{T_{kernel,backward}}{\\left(\\operatorname{B_{max}}{\\left(i \\right)} \\right)}}}{\\log{\\left(2 \\right)}} \\\\ &= 0.541087\\,\\text{PFLOP/s} \\\\ \\\\Rflop_{IFFT} &= \\frac{2.5 N_{beam} N_{f,FFT,predict} N_{facet,predict}^{2} N_{majortotal} N_{pix,linear,predict}^{2} N_{pp} \\log{\\left(N_{pix,linear,predict}^{2} \\right)} \\max\\left(1, \\frac{\\Delta_{W max}{\\left(B_{max} \\right)}}{\\Delta_{W stack}}\\right)}{T_{snap} \\log{\\left(2 \\right)}} \\\\ &= 1.473449\\,\\text{PFLOP/s} \\\\ \\\\Rflop_{Identify Component} &= \\frac{N_{beam} N_{facet}^{2} N_{majortotal} N_{scales} N_{subbands} N_{tt} \\left(2 N_{minor} N_{patch}^{2} + 2 N_{pix,linear}^{2}\\right)}{T_{obs}} \\\\ &= 0.013744\\,\\text{PFLOP/s} \\\\ \\\\Rflop_{Phase Rotation} &= \\frac{28 N_{beam} N_{facet}^{2} N_{majortotal} N_{pp} \\operatorname{sign}{\\left(N_{facet} - 1 \\right)} \\sum_{i=1}^{N_{bl}} \\operatorname{N_{f,vis}}{\\left(\\operatorname{B_{max}}{\\left(i \\right)} \\right)}}{T_{int,used}} \\\\ &= 0.737887\\,\\text{PFLOP/s} \\\\ \\\\Rflop_{Phase Rotation Predict} &= \\frac{28 N_{beam} N_{facet}^{2} N_{majortotal} N_{pp} \\operatorname{sign}{\\left(N_{facet} - 1 \\right)} \\sum_{i=1}^{N_{bl}} \\operatorname{N_{f,vis}}{\\left(\\operatorname{B_{max}}{\\left(i \\right)} \\right)}}{T_{int,used}} \\\\ &= 0.737887\\,\\text{PFLOP/s} \\\\ \\\\Rflop_{Reprojection} &= \\frac{50.0 N_{beam} N_{f,proj,backward} N_{facet}^{2} N_{majortotal} N_{pix,linear}^{2} N_{pp}}{T_{snap}} \\\\ &= 0.017794\\,\\text{PFLOP/s} \\\\ \\\\Rflop_{Reprojection Predict} &= \\frac{50.0 N_{beam} N_{f,proj,predict} N_{facet}^{2} N_{majortotal} N_{pix,linear}^{2} N_{pp}}{T_{snap}} \\\\ &= 0.088968\\,\\text{PFLOP/s} \\\\ \\\\Rflop_{Solve} &= N_{beam} N_{subbands} \\left(N_{\\mathcal{self}} + 1\\right) \\left(\\frac{48 N_{a}^{2} N_{pp} N_{solve} \\left(N_{Ipatches} \\max\\left(1, \\frac{T_{solve}}{t_{ICAL,I}}\\right) + \\max\\left(1, \\frac{N_{B,parameters}}{N_{subbands}}\\right) \\max\\left(1, \\frac{T_{solve}}{t_{ICAL,B}}\\right) + \\max\\left(1, \\frac{T_{solve}}{t_{ICAL,G}}\\right)\\right)}{T_{solve}} + \\frac{40 N_{pp} \\left(N_{Ipatches} + 2\\right) \\sum_{i=1}^{N_{bl}} \\operatorname{R_{vis}}{\\left(\\operatorname{B_{max}}{\\left(i \\right)},1 \\right)}}{N_{subbands}}\\right) \\\\ &= 0.017353\\,\\text{PFLOP/s} \\\\ \\\\Rflop_{Source Find} &= \\frac{600 N_{majortotal} N_{source} N_{source,find,iterations}}{T_{obs}} \\\\ &= 0.000000\\,\\text{PFLOP/s} \\\\ \\\\Rflop_{Subtract Image Component} &= \\frac{2 N_{beam} N_{majortotal} N_{minor} N_{patch}^{2} N_{pp} N_{scales} N_{subbands} N_{tt}}{T_{obs}} \\\\ &= 0.000671\\,\\text{PFLOP/s} \\\\ \\\\Rflop_{Subtract Visibility} &= 2 N_{beam} N_{majortotal} N_{pp} \\sum_{i=1}^{N_{bl}} \\operatorname{R_{vis}}{\\left(\\operatorname{B_{max}}{\\left(i \\right)},1 \\right)} \\\\ &= 0.000651\\,\\text{PFLOP/s} \\\\ \\\\Rflop_{Visibility Weighting} &= 16 N_{beam} N_{facet}^{2} N_{majortotal} N_{pp} \\sum_{i=1}^{N_{bl}} \\frac{\\operatorname{N_{f,vis,backward}}{\\left(\\operatorname{B_{max}}{\\left(i \\right)} \\right)}}{\\operatorname{T_{coal,backward}}{\\left(\\operatorname{B_{max}}{\\left(i \\right)} \\right)}} \\\\ &= 0.002090\\,\\text{PFLOP/s} \\\\ \\\\ Rflop &= 11.223115\\,\\text{PFLOP/s}\\end{aligned}$"
      ],
      "text/plain": [
       "<IPython.core.display.Math object>"
      ]
     },
     "metadata": {},
     "output_type": "display_data"
    },
    {
     "data": {
      "text/latex": [
       "$\\displaystyle \\begin{aligned}Rout_{Correct} &= M_{vis} N_{beam} N_{majortotal} N_{pp} \\sum_{i=1}^{N_{bl}} \\operatorname{R_{vis}}{\\left(\\operatorname{B_{max}}{\\left(i \\right)},1 \\right)} \\\\ &= 3.904163\\,\\text{TB/s} \\\\ \\\\Rout_{DFT} &= M_{vis} N_{beam} N_{majortotal} N_{pp} \\sum_{i=1}^{N_{bl}} \\operatorname{R_{vis}}{\\left(\\operatorname{B_{max}}{\\left(i \\right)},1 \\right)} \\\\ &= 3.904163\\,\\text{TB/s} \\\\ \\\\Rout_{Degrid} &= M_{vis} N_{beam} N_{facet,predict}^{2} N_{majortotal} N_{pp} \\sum_{i=1}^{N_{bl}} \\frac{\\operatorname{N_{f,vis,predict}}{\\left(\\operatorname{B_{max}}{\\left(i \\right)} \\right)}}{\\operatorname{T_{coal,predict}}{\\left(\\operatorname{B_{max}}{\\left(i \\right)} \\right)}} \\\\ &= 1.567427\\,\\text{TB/s} \\\\ \\\\Rout_{Degridding Kernel Update} &= 8 N_{beam} N_{facet,predict}^{2} N_{majortotal} N_{pp} Q_{gcf}^{3} \\sum_{i=1}^{N_{bl}} \\frac{\\operatorname{N_{f,gcf,predict}}{\\left(\\operatorname{B_{max}}{\\left(i \\right)} \\right)} \\operatorname{N_{gw,predict}}^{3}{\\left(\\operatorname{B_{max}}{\\left(i \\right)} \\right)}}{\\operatorname{T_{kernel,predict}}{\\left(\\operatorname{B_{max}}{\\left(i \\right)} \\right)}} \\\\ &= 1248.289933\\,\\text{TB/s} \\\\ \\\\Rout_{FFT} &= \\frac{M_{px} N_{beam} N_{f,FFT,backward} N_{facet}^{2} N_{majortotal} N_{pix,linear}^{2} N_{pp}}{T_{snap}} \\\\ &= 2.846965\\,\\text{TB/s} \\\\ \\\\Rout_{Flag} &= M_{vis} N_{beam} N_{majortotal} N_{pp} \\sum_{i=1}^{N_{bl}} \\operatorname{R_{vis}}{\\left(\\operatorname{B_{max}}{\\left(i \\right)},1 \\right)} \\\\ &= 3.904163\\,\\text{TB/s} \\\\ \\\\Rout_{Grid} &= \\frac{M_{cpx} N_{beam} N_{facet}^{2} N_{majortotal} N_{pix,linear} N_{pp} \\left(\\frac{N_{pix,linear}}{2} + 1\\right) \\sum_{i=1}^{N_{bl}} \\operatorname{N_{f,vis,backward}}{\\left(\\operatorname{B_{max}}{\\left(i \\right)} \\right)}}{T_{snap}} \\\\ &= 9105.310769\\,\\text{TB/s} \\\\ \\\\Rout_{Gridding Kernel Update} &= 8 N_{beam} N_{facet}^{2} N_{majortotal} N_{pp} Q_{gcf}^{3} \\sum_{i=1}^{N_{bl}} \\frac{\\operatorname{N_{f,gcf,backward}}{\\left(\\operatorname{B_{max}}{\\left(i \\right)} \\right)} \\operatorname{N_{gw,backward}}^{3}{\\left(\\operatorname{B_{max}}{\\left(i \\right)} \\right)}}{\\operatorname{T_{kernel,backward}}{\\left(\\operatorname{B_{max}}{\\left(i \\right)} \\right)}} \\\\ &= 1248.289933\\,\\text{TB/s} \\\\ \\\\Rout_{IFFT} &= \\frac{M_{cpx} N_{beam} N_{f,FFT,predict} N_{facet,predict}^{2} N_{majortotal} N_{pix,linear,predict} N_{pp} \\left(\\frac{N_{pix,linear,predict}}{2} + 1\\right)}{T_{snap}} \\\\ &= 14.235491\\,\\text{TB/s} \\\\ \\\\Rout_{Identify Component} &= \\frac{M_{cpx} N_{beam} N_{facet}^{2} N_{majortotal} N_{minor} N_{subbands}}{T_{obs}} \\\\ &= 0.000000\\,\\text{TB/s} \\\\ \\\\Rout_{Phase Rotation} &= M_{vis} N_{beam} N_{facet}^{2} N_{majortotal} N_{pp} \\operatorname{sign}{\\left(N_{facet} - 1 \\right)} \\sum_{i=1}^{N_{bl}} \\operatorname{R_{vis,backward}}{\\left(\\operatorname{B_{max}}{\\left(i \\right)},1 \\right)} \\\\ &= 1.567427\\,\\text{TB/s} \\\\ \\\\Rout_{Phase Rotation Predict} &= \\frac{M_{vis} N_{beam} N_{facet}^{2} N_{majortotal} N_{pp} \\operatorname{sign}{\\left(N_{facet} - 1 \\right)} \\sum_{i=1}^{N_{bl}} \\operatorname{N_{f,vis}}{\\left(\\operatorname{B_{max}}{\\left(i \\right)} \\right)}}{T_{int,used}} \\\\ &= 316.237205\\,\\text{TB/s} \\\\ \\\\Rout_{Reprojection} &= \\frac{M_{px} N_{beam} N_{f,proj,backward} N_{facet}^{2} N_{majortotal} N_{pix,linear}^{2} N_{pp}}{T_{snap}} \\\\ &= 2.846965\\,\\text{TB/s} \\\\ \\\\Rout_{Reprojection Predict} &= \\frac{M_{px} N_{beam} N_{f,proj,predict} N_{facet}^{2} N_{majortotal} N_{pix,linear}^{2} N_{pp}}{T_{snap}} \\\\ &= 14.234825\\,\\text{TB/s} \\\\ \\\\Rout_{Solve} &= \\frac{M_{jones} N_{a} N_{beam} N_{subbands} \\left(N_{\\mathcal{self}} + 1\\right) \\left(N_{Ipatches} \\max\\left(1, \\frac{T_{solve}}{t_{ICAL,I}}\\right) + \\max\\left(1, \\frac{N_{B,parameters}}{N_{subbands}}\\right) \\max\\left(1, \\frac{T_{solve}}{t_{ICAL,B}}\\right) + \\max\\left(1, \\frac{T_{solve}}{t_{ICAL,G}}\\right)\\right)}{T_{solve}} \\\\ &= 0.000000\\,\\text{TB/s} \\\\ \\\\Rout_{Source Find} &= 100 M_{cpx} N_{majortotal} \\\\ &= 0.000000\\,\\text{TB/s} \\\\ \\\\Rout_{Subtract Image Component} &= \\frac{M_{px} N_{beam} N_{facet}^{2} N_{majortotal} N_{pix,linear}^{2} N_{subbands} N_{tt}}{T_{obs}} \\\\ &= 0.059312\\,\\text{TB/s} \\\\ \\\\Rout_{Subtract Visibility} &= M_{vis} N_{beam} N_{majortotal} N_{pp} \\sum_{i=1}^{N_{bl}} \\operatorname{R_{vis}}{\\left(\\operatorname{B_{max}}{\\left(i \\right)},1 \\right)} \\\\ &= 3.904163\\,\\text{TB/s} \\\\ \\\\Rout_{Visibility Weighting} &= M_{vis} N_{beam} N_{f,min,gran} N_{facet}^{2} N_{majortotal} N_{pp} \\sum_{i=1}^{N_{bl}} \\frac{1}{\\operatorname{T_{coal,backward}}{\\left(\\operatorname{B_{max}}{\\left(i \\right)} \\right)}} \\\\ &= 0.141676\\,\\text{TB/s} \\\\ \\\\ Rout &= 11971.244580\\,\\text{TB/s}\\end{aligned}$"
      ],
      "text/plain": [
       "<IPython.core.display.Math object>"
      ]
     },
     "metadata": {},
     "output_type": "display_data"
    },
    {
     "data": {
      "text/markdown": [
       "### Intermediate equations"
      ],
      "text/plain": [
       "<IPython.core.display.Markdown object>"
      ]
     },
     "metadata": {},
     "output_type": "display_data"
    },
    {
     "data": {
      "text/latex": [
       "$\\displaystyle \\begin{aligned}\\Delta_{W max} &= \\Delta_{W max} \\\\N_{f,FFT,backward} &= N_{f,out} \\\\N_{f,FFT,predict} &= \\min\\left(N_{f,max}, N_{f,out} N_{tt}\\right) \\\\N_{f,gcf,backward}(b) &= \\max\\left(N_{f,min}, \\min\\left(N_{f,max}, \\frac{\\log{\\left(\\frac{\\lambda_{max}}{\\lambda_{min}} \\right)}}{\\log{\\left(1.0 + \\frac{\\epsilon_{f approx}}{Q_{kernel} \\left(N_{aa}^{2} + 1.0 \\Theta_{fov}^{2} \\left(\\Theta_{fov}^{2} \\min\\left(\\Delta_{W stack}, \\Delta_{W max}{\\left(b \\right)}\\right)^{2} + \\frac{0.636619772367581 \\Theta_{fov} \\min\\left(\\Delta_{W stack}, \\Delta_{W max}{\\left(b \\right)}\\right)^{1.5}}{\\epsilon_{w}}\\right)\\right)^{0.5}} \\right)}}\\right)\\right) \\\\N_{f,gcf,predict}(b) &= \\max\\left(N_{f,min}, \\min\\left(N_{f,max}, \\frac{\\log{\\left(\\frac{\\lambda_{max}}{\\lambda_{min}} \\right)}}{\\log{\\left(1.0 + \\frac{\\epsilon_{f approx}}{Q_{kernel} \\left(N_{aa}^{2} + 1.0 \\Theta_{fov,predict}^{2} \\left(\\Theta_{fov,predict}^{2} \\min\\left(\\Delta_{W stack}, \\Delta_{W max}{\\left(b \\right)}\\right)^{2} + \\frac{0.636619772367581 \\Theta_{fov,predict} \\min\\left(\\Delta_{W stack}, \\Delta_{W max}{\\left(b \\right)}\\right)^{1.5}}{\\epsilon_{w}}\\right)\\right)^{0.5}} \\right)}}\\right)\\right) \\\\N_{f,proj,backward} &= N_{f,out} \\\\N_{f,proj,predict} &= \\min\\left(N_{f,max}, N_{f,out} N_{tt}\\right) \\\\N_{f,vis}(b) &= \\min\\left(N_{f,max}, \\max\\left(N_{f,out}, \\frac{\\log{\\left(\\frac{\\lambda_{max}}{\\lambda_{min}} \\right)}}{\\log{\\left(1 + \\frac{1.5 \\lambda}{B_{max} Q_{bw} \\Theta_{fov,total}} \\right)}}\\right)\\right) \\\\N_{f,vis,backward}(b) &= \\min\\left(N_{f,max}, \\max\\left(N_{f,out}, \\frac{\\log{\\left(\\frac{\\lambda_{max}}{\\lambda_{min}} \\right)}}{\\log{\\left(1 + \\frac{1.5 \\lambda}{Q_{bw} \\Theta_{fov} b} \\right)}}\\right)\\right) \\\\N_{f,vis,predict}(b) &= \\min\\left(N_{f,max}, \\max\\left(N_{f,out}, \\frac{\\log{\\left(\\frac{\\lambda_{max}}{\\lambda_{min}} \\right)}}{\\log{\\left(1 + \\frac{1.5 \\lambda}{Q_{bw} \\Theta_{fov,predict} b} \\right)}}\\right)\\right) \\\\N_{gcf,used,backward}(b) &= Q_{gcf}^{2} \\left(1 - \\left(1 - \\frac{1}{Q_{gcf}^{2}}\\right)^{\\frac{T_{ion} \\min\\left(N_{f,max}, \\max\\left(N_{f,out}, \\frac{\\log{\\left(\\frac{\\lambda_{max}}{\\lambda_{min}} \\right)}}{\\log{\\left(1 + \\frac{1.5 \\lambda}{Q_{bw} \\Theta_{fov} b} \\right)}}\\right)\\right)}{\\max\\left(N_{f,min}, \\min\\left(N_{f,max}, \\frac{\\log{\\left(\\frac{\\lambda_{max}}{\\lambda_{min}} \\right)}}{\\log{\\left(1.0 + \\frac{\\epsilon_{f approx}}{Q_{kernel} \\left(N_{aa}^{2} + 1.0 \\Theta_{fov}^{2} \\left(\\Theta_{fov}^{2} \\min\\left(\\Delta_{W stack}, \\Delta_{W max}{\\left(b \\right)}\\right)^{2} + \\frac{0.636619772367581 \\Theta_{fov} \\min\\left(\\Delta_{W stack}, \\Delta_{W max}{\\left(b \\right)}\\right)^{1.5}}{\\epsilon_{w}}\\right)\\right)^{0.5}} \\right)}}\\right)\\right) \\min\\left(T_{ion}, T_{int,used} \\max\\left(1.0, \\min\\left(\\frac{T_{snap}}{T_{int,used}}, \\left\\lfloor{\\frac{\\epsilon_{f approx} \\lambda}{\\Omega_{E} T_{int,used} \\Theta_{fov} b}}\\right\\rfloor\\right)\\right)\\right)}}\\right) \\\\N_{gcf,used,predict}(b) &= Q_{gcf}^{2} \\left(1 - \\left(1 - \\frac{1}{Q_{gcf}^{2}}\\right)^{\\frac{T_{ion} \\min\\left(N_{f,max}, \\max\\left(N_{f,out}, \\frac{\\log{\\left(\\frac{\\lambda_{max}}{\\lambda_{min}} \\right)}}{\\log{\\left(1 + \\frac{1.5 \\lambda}{Q_{bw} \\Theta_{fov,predict} b} \\right)}}\\right)\\right)}{\\max\\left(N_{f,min}, \\min\\left(N_{f,max}, \\frac{\\log{\\left(\\frac{\\lambda_{max}}{\\lambda_{min}} \\right)}}{\\log{\\left(1.0 + \\frac{\\epsilon_{f approx}}{Q_{kernel} \\left(N_{aa}^{2} + 1.0 \\Theta_{fov,predict}^{2} \\left(\\Theta_{fov,predict}^{2} \\min\\left(\\Delta_{W stack}, \\Delta_{W max}{\\left(b \\right)}\\right)^{2} + \\frac{0.636619772367581 \\Theta_{fov,predict} \\min\\left(\\Delta_{W stack}, \\Delta_{W max}{\\left(b \\right)}\\right)^{1.5}}{\\epsilon_{w}}\\right)\\right)^{0.5}} \\right)}}\\right)\\right) \\min\\left(T_{ion}, T_{int,used} \\max\\left(1.0, \\min\\left(\\frac{T_{snap}}{T_{int,used}}, \\left\\lfloor{\\frac{\\epsilon_{f approx} \\lambda}{\\Omega_{E} T_{int,used} \\Theta_{fov} b}}\\right\\rfloor\\right)\\right)\\right)}}\\right) \\\\N_{gw,backward}(b) &= 1.0 \\Theta_{fov} \\sqrt{\\Theta_{fov}^{2} \\min\\left(\\Delta_{W stack}, \\Delta_{W max}{\\left(b \\right)}\\right)^{2} + \\frac{0.636619772367581 \\Theta_{fov} \\min\\left(\\Delta_{W stack}, \\Delta_{W max}{\\left(b \\right)}\\right)^{1.5}}{\\epsilon_{w}}} \\\\N_{gw,predict}(b) &= 1.0 \\Theta_{fov,predict} \\sqrt{\\Theta_{fov,predict}^{2} \\min\\left(\\Delta_{W stack}, \\Delta_{W max}{\\left(b \\right)}\\right)^{2} + \\frac{0.636619772367581 \\Theta_{fov,predict} \\min\\left(\\Delta_{W stack}, \\Delta_{W max}{\\left(b \\right)}\\right)^{1.5}}{\\epsilon_{w}}} \\\\N_{kernel,AW,backward}(b) &= \\left(N_{aa}^{2} + 1.0 \\Theta_{fov}^{2} \\left(\\Theta_{fov}^{2} \\min\\left(\\Delta_{W stack}, \\Delta_{W max}{\\left(b \\right)}\\right)^{2} + \\frac{0.636619772367581 \\Theta_{fov} \\min\\left(\\Delta_{W stack}, \\Delta_{W max}{\\left(b \\right)}\\right)^{1.5}}{\\epsilon_{w}}\\right)\\right)^{0.5} \\\\N_{kernel,AW,predict}(b) &= \\left(N_{aa}^{2} + 1.0 \\Theta_{fov,predict}^{2} \\left(\\Theta_{fov,predict}^{2} \\min\\left(\\Delta_{W stack}, \\Delta_{W max}{\\left(b \\right)}\\right)^{2} + \\frac{0.636619772367581 \\Theta_{fov,predict} \\min\\left(\\Delta_{W stack}, \\Delta_{W max}{\\left(b \\right)}\\right)^{1.5}}{\\epsilon_{w}}\\right)\\right)^{0.5} \\\\N_{kernel2,backward}(b) &= \\left(N_{aa}^{2} + 1.0 \\Theta_{fov}^{2} \\left(\\Theta_{fov}^{2} \\min\\left(\\Delta_{W stack}, \\Delta_{W max}{\\left(b \\right)}\\right)^{2} + \\frac{0.636619772367581 \\Theta_{fov} \\min\\left(\\Delta_{W stack}, \\Delta_{W max}{\\left(b \\right)}\\right)^{1.5}}{\\epsilon_{w}}\\right)\\right)^{1.0} \\\\N_{kernel2,predict}(b) &= \\left(N_{aa}^{2} + 1.0 \\Theta_{fov,predict}^{2} \\left(\\Theta_{fov,predict}^{2} \\min\\left(\\Delta_{W stack}, \\Delta_{W max}{\\left(b \\right)}\\right)^{2} + \\frac{0.636619772367581 \\Theta_{fov,predict} \\min\\left(\\Delta_{W stack}, \\Delta_{W max}{\\left(b \\right)}\\right)^{1.5}}{\\epsilon_{w}}\\right)\\right)^{1.0} \\\\R_{vis}(b,bcount) &= \\frac{bcount \\min\\left(N_{f,max}, \\max\\left(N_{f,out}, \\frac{\\log{\\left(\\frac{\\lambda_{max}}{\\lambda_{min}} \\right)}}{\\log{\\left(1 + \\frac{1.5 \\lambda}{B_{max} Q_{bw} \\Theta_{fov,total}} \\right)}}\\right)\\right)}{T_{int,used}} \\\\R_{vis,backward}(b,bcount) &= \\frac{bcount \\min\\left(N_{f,max}, \\max\\left(N_{f,out}, \\frac{\\log{\\left(\\frac{\\lambda_{max}}{\\lambda_{min}} \\right)}}{\\log{\\left(1 + \\frac{1.5 \\lambda}{Q_{bw} \\Theta_{fov} b} \\right)}}\\right)\\right)}{\\min\\left(T_{ion}, T_{int,used} \\max\\left(1.0, \\min\\left(\\frac{T_{snap}}{T_{int,used}}, \\left\\lfloor{\\frac{\\epsilon_{f approx} \\lambda}{\\Omega_{E} T_{int,used} \\Theta_{fov} b}}\\right\\rfloor\\right)\\right)\\right)} \\\\T_{coal,backward}(b) &= \\min\\left(T_{ion}, T_{int,used} \\max\\left(1.0, \\min\\left(\\frac{T_{snap}}{T_{int,used}}, \\left\\lfloor{\\frac{\\epsilon_{f approx} \\lambda}{\\Omega_{E} T_{int,used} \\Theta_{fov} b}}\\right\\rfloor\\right)\\right)\\right) \\\\T_{coal,predict}(b) &= \\min\\left(T_{ion}, T_{int,used} \\max\\left(1.0, \\min\\left(\\frac{T_{snap}}{T_{int,used}}, \\left\\lfloor{\\frac{\\epsilon_{f approx} \\lambda}{\\Omega_{E} T_{int,used} \\Theta_{fov} b}}\\right\\rfloor\\right)\\right)\\right) \\\\T_{kernel,backward}(b) &= T_{ion} \\\\T_{kernel,predict}(b) &= T_{ion} \\\\\\end{aligned}$"
      ],
      "text/plain": [
       "<IPython.core.display.Math object>"
      ]
     },
     "metadata": {},
     "output_type": "display_data"
    },
    {
     "data": {
      "text/latex": [
       "$\\displaystyle \\begin{aligned}N_{facet,predict} &= N_{facet} \\\\N_{pix,linear} &= \\frac{3.25100497089045 B_{max} Q_{fov} Q_{pix} Q_{subband} \\left(r_{facet base} \\operatorname{sign}{\\left(N_{facet} - 1 \\right)} + 1\\right)}{D_{s} N_{facet}} \\\\N_{pix,linear,predict} &= \\frac{3.25100497089045 B_{max} Q_{fov} Q_{pix} Q_{subband} \\left(r_{facet base} \\operatorname{sign}{\\left(N_{facet} - 1 \\right)} + 1\\right)}{D_{s} N_{facet}} \\\\Q_{bw} &= \\frac{0.600124986981879}{\\sqrt{1 - \\frac{1}{amp_{f max}}}} \\\\T_{int,used} &= \\max\\left(T_{int,min}, \\min\\left(T_{snap}, \\frac{1.0046082220589 D_{s} \\sqrt{1 - \\frac{1}{amp_{f max}}}}{B_{max} \\Omega_{E} Q_{\\mathcal{fov,I}} \\sqrt{Q_{subband}}}\\right)\\right) \\\\\\Theta_{fov} &= \\frac{2.43825372816784 Q_{fov} \\sqrt{Q_{subband}} \\lambda \\left(r_{facet base} \\operatorname{sign}{\\left(N_{facet} - 1 \\right)} + 1\\right)}{D_{s} N_{facet}} \\\\\\Theta_{fov,predict} &= \\frac{2.43825372816784 Q_{fov} \\sqrt{Q_{subband}} \\lambda \\left(r_{facet base} \\operatorname{sign}{\\left(N_{facet} - 1 \\right)} + 1\\right)}{D_{s} N_{facet}} \\\\\\Theta_{fov,total} &= \\frac{2.43825372816784 Q_{fov} \\sqrt{Q_{subband}} \\lambda}{D_{s}} \\\\\\epsilon_{f approx} &= 2.44948974278318 \\sqrt{1 - \\frac{1}{amp_{f max}}} \\\\\\end{aligned}$"
      ],
      "text/plain": [
       "<IPython.core.display.Math object>"
      ]
     },
     "metadata": {},
     "output_type": "display_data"
    },
    {
     "data": {
      "text/markdown": [
       "### Constants"
      ],
      "text/plain": [
       "<IPython.core.display.Markdown object>"
      ]
     },
     "metadata": {},
     "output_type": "display_data"
    },
    {
     "data": {
      "text/latex": [
       "$\\displaystyle \\begin{aligned}B_{max} &= 150000  & D_{s} &= 13.5  & \\Delta_{W stack} &= 533.649617084138 \\\\M_{cpx} &= 16.0  & M_{jones} &= 64.0  & M_{px} &= 8.0 \\\\M_{vis} &= 12  & N_{B,parameters} &= 500  & N_{Ipatches} &= 1 \\\\N_{a} &= 197  & N_{aa} &= 9  & N_{beam} &= 1 \\\\N_{bl} &= 19306.0  & N_{f,max} &= 65536  & N_{f,min} &= 40 \\\\N_{f,min,gran} &= 800  & N_{f,out} &= 40  & N_{facet} &= 9 \\\\N_{majortotal} &= 9  & N_{minor} &= 10000  & N_{mm} &= 4 \\\\N_{patch} &= 4097  & N_{pp} &= 4  & N_{scales} &= 10 \\\\N_{\\mathcal{self}} &= 3  & N_{solve} &= 10  & N_{source} &= 1000 \\\\N_{source,find,iterations} &= 10  & N_{subbands} &= 4  & N_{tt} &= 5 \\\\\\Omega_{E} &= 7.292115 \\cdot 10^{-5}  & Q_{fov} &= 2.7  & Q_{\\mathcal{fov,I}} &= 2.7 \\\\Q_{gcf} &= 8.0  & Q_{kernel} &= 10.0  & Q_{pix} &= 2.5 \\\\Q_{subband} &= 1.31607401295249  & T_{int,min} &= 0.14  & T_{ion} &= 10.0 \\\\T_{obs} &= 3600.0  & T_{snap} &= 600  & T_{solve} &= 600 \\\\amp_{f max} &= 1.034  & \\epsilon_{w} &= 0.01  & \\lambda &= 0.571033253333333 \\\\\\lambda_{max} &= 0.85654988  & \\lambda_{min} &= 0.285516626666667  & r_{facet base} &= 0.2 \\\\t_{ICAL,B} &= 3600.0  & t_{ICAL,G} &= 1.0  & t_{ICAL,I} &= 10.0 \\\\\\end{aligned}$"
      ],
      "text/plain": [
       "<IPython.core.display.Math object>"
      ]
     },
     "metadata": {},
     "output_type": "display_data"
    },
    {
     "data": {
      "text/markdown": [
       "## Equations for SKA1_Mid DPrepA_Image:"
      ],
      "text/plain": [
       "<IPython.core.display.Markdown object>"
      ]
     },
     "metadata": {},
     "output_type": "display_data"
    },
    {
     "data": {
      "text/latex": [
       "$\\displaystyle \\begin{aligned}Rflop_{Correct} &= 8 N_{Ipatches} N_{beam} N_{majortotal} N_{mm} N_{pp} \\sum_{i=1}^{N_{bl}} \\operatorname{R_{vis}}{\\left(\\operatorname{B_{max}}{\\left(i \\right)},1 \\right)} \\\\ &= 0.006362\\,\\text{PFLOP/s} \\\\ \\\\Rflop_{DFT} &= \\frac{N_{beam} N_{majortotal} \\left(32 N_{a}^{2} N_{source} + 128 N_{a}^{2} + 266 N_{a} N_{source}\\right) \\sum_{i=1}^{N_{bl}} \\operatorname{R_{vis}}{\\left(\\operatorname{B_{max}}{\\left(i \\right)},1 \\right)}}{N_{bl}} \\\\ &= 6.690211\\,\\text{PFLOP/s} \\\\ \\\\Rflop_{Degrid} &= 8 N_{beam} N_{facet,predict}^{2} N_{majortotal} N_{mm} N_{pp} \\sum_{i=1}^{N_{bl}} \\frac{\\operatorname{N_{f,vis,predict}}{\\left(\\operatorname{B_{max}}{\\left(i \\right)} \\right)} \\operatorname{N_{kernel2,predict}}{\\left(\\operatorname{B_{max}}{\\left(i \\right)} \\right)}}{\\operatorname{T_{coal,predict}}{\\left(\\operatorname{B_{max}}{\\left(i \\right)} \\right)}} \\\\ &= 0.055705\\,\\text{PFLOP/s} \\\\ \\\\Rflop_{Degridding Kernel Update} &= \\frac{5.0 N_{beam} N_{facet,predict}^{2} N_{majortotal} N_{mm} N_{pp} \\sum_{i=1}^{N_{bl}} \\frac{\\operatorname{N_{f,gcf,predict}}{\\left(\\operatorname{B_{max}}{\\left(i \\right)} \\right)} \\operatorname{N_{gcf,used,predict}}{\\left(\\operatorname{B_{max}}{\\left(i \\right)} \\right)} \\operatorname{N_{kernel,AW,predict}}^{2}{\\left(\\operatorname{B_{max}}{\\left(i \\right)} \\right)} \\log{\\left(\\operatorname{N_{kernel,AW,predict}}^{2}{\\left(\\operatorname{B_{max}}{\\left(i \\right)} \\right)} \\right)}}{\\operatorname{T_{kernel,predict}}{\\left(\\operatorname{B_{max}}{\\left(i \\right)} \\right)}}}{\\log{\\left(2 \\right)}} \\\\ &= 0.043445\\,\\text{PFLOP/s} \\\\ \\\\Rflop_{FFT} &= \\frac{2.5 N_{beam} N_{f,FFT,backward} N_{facet}^{2} N_{majortotal} N_{pix,linear}^{2} N_{pp} \\log{\\left(N_{pix,linear}^{2} \\right)} \\max\\left(1, \\frac{\\Delta_{W max}{\\left(B_{max} \\right)}}{\\Delta_{W stack}}\\right)}{T_{snap} \\log{\\left(2 \\right)}} \\\\ &= 0.027769\\,\\text{PFLOP/s} \\\\ \\\\Rflop_{Flag} &= 279 N_{beam} N_{majortotal} N_{pp} \\sum_{i=1}^{N_{bl}} \\operatorname{R_{vis}}{\\left(\\operatorname{B_{max}}{\\left(i \\right)},1 \\right)} \\\\ &= 0.055472\\,\\text{PFLOP/s} \\\\ \\\\Rflop_{Grid} &= 8 N_{beam} N_{facet}^{2} N_{majortotal} N_{mm} N_{pp} \\sum_{i=1}^{N_{bl}} \\frac{\\operatorname{N_{f,vis,backward}}{\\left(\\operatorname{B_{max}}{\\left(i \\right)} \\right)} \\operatorname{N_{kernel2,backward}}{\\left(\\operatorname{B_{max}}{\\left(i \\right)} \\right)}}{\\operatorname{T_{coal,backward}}{\\left(\\operatorname{B_{max}}{\\left(i \\right)} \\right)}} \\\\ &= 0.055705\\,\\text{PFLOP/s} \\\\ \\\\Rflop_{Gridding Kernel Update} &= \\frac{5.0 N_{beam} N_{facet}^{2} N_{majortotal} N_{mm} N_{pp} \\sum_{i=1}^{N_{bl}} \\frac{\\operatorname{N_{f,gcf,backward}}{\\left(\\operatorname{B_{max}}{\\left(i \\right)} \\right)} \\operatorname{N_{gcf,used,backward}}{\\left(\\operatorname{B_{max}}{\\left(i \\right)} \\right)} \\operatorname{N_{kernel,AW,backward}}^{2}{\\left(\\operatorname{B_{max}}{\\left(i \\right)} \\right)} \\log{\\left(\\operatorname{N_{kernel,AW,backward}}^{2}{\\left(\\operatorname{B_{max}}{\\left(i \\right)} \\right)} \\right)}}{\\operatorname{T_{kernel,backward}}{\\left(\\operatorname{B_{max}}{\\left(i \\right)} \\right)}}}{\\log{\\left(2 \\right)}} \\\\ &= 0.043445\\,\\text{PFLOP/s} \\\\ \\\\Rflop_{IFFT} &= \\frac{2.5 N_{beam} N_{f,FFT,predict} N_{facet,predict}^{2} N_{majortotal} N_{pix,linear,predict}^{2} N_{pp} \\log{\\left(N_{pix,linear,predict}^{2} \\right)} \\max\\left(1, \\frac{\\Delta_{W max}{\\left(B_{max} \\right)}}{\\Delta_{W stack}}\\right)}{T_{snap} \\log{\\left(2 \\right)}} \\\\ &= 0.138846\\,\\text{PFLOP/s} \\\\ \\\\Rflop_{Identify Component} &= \\frac{N_{beam} N_{facet}^{2} N_{majortotal} N_{scales} N_{subbands} N_{tt} \\left(2 N_{minor} N_{patch}^{2} + 2 N_{pix,linear}^{2}\\right)}{T_{obs}} \\\\ &= 0.000209\\,\\text{PFLOP/s} \\\\ \\\\Rflop_{Image Spectral Fitting} &= \\frac{N_{beam} N_{majortotal} N_{pix,linear,fov,total}^{2} N_{pp} N_{tt} \\left(2.0 N_{f,FFT,backward} + 2.0 N_{f,FFT,predict}\\right)}{T_{obs}} \\\\ &= 0.000207\\,\\text{PFLOP/s} \\\\ \\\\Rflop_{Phase Rotation} &= \\frac{28 N_{beam} N_{facet}^{2} N_{majortotal} N_{pp} \\operatorname{sign}{\\left(N_{facet} - 1 \\right)} \\sum_{i=1}^{N_{bl}} \\operatorname{N_{f,vis}}{\\left(\\operatorname{B_{max}}{\\left(i \\right)} \\right)}}{T_{int,used}} \\\\ &= 0.050103\\,\\text{PFLOP/s} \\\\ \\\\Rflop_{Phase Rotation Predict} &= \\frac{28 N_{beam} N_{facet}^{2} N_{majortotal} N_{pp} \\operatorname{sign}{\\left(N_{facet} - 1 \\right)} \\sum_{i=1}^{N_{bl}} \\operatorname{N_{f,vis}}{\\left(\\operatorname{B_{max}}{\\left(i \\right)} \\right)}}{T_{int,used}} \\\\ &= 0.050103\\,\\text{PFLOP/s} \\\\ \\\\Rflop_{Reprojection} &= \\frac{50.0 N_{beam} N_{f,proj,backward} N_{facet}^{2} N_{majortotal} N_{pix,linear}^{2} N_{pp}}{T_{snap}} \\\\ &= 0.000186\\,\\text{PFLOP/s} \\\\ \\\\Rflop_{Reprojection Predict} &= \\frac{50.0 N_{beam} N_{f,proj,predict} N_{facet}^{2} N_{majortotal} N_{pix,linear}^{2} N_{pp}}{T_{snap}} \\\\ &= 0.000186\\,\\text{PFLOP/s} \\\\ \\\\Rflop_{Subtract Image Component} &= \\frac{2 N_{beam} N_{majortotal} N_{minor} N_{patch}^{2} N_{pp} N_{scales} N_{subbands} N_{tt}}{T_{obs}} \\\\ &= 0.000041\\,\\text{PFLOP/s} \\\\ \\\\Rflop_{Subtract Visibility} &= 2 N_{beam} N_{majortotal} N_{pp} \\sum_{i=1}^{N_{bl}} \\operatorname{R_{vis}}{\\left(\\operatorname{B_{max}}{\\left(i \\right)},1 \\right)} \\\\ &= 0.000398\\,\\text{PFLOP/s} \\\\ \\\\Rflop_{Visibility Weighting} &= 16 N_{beam} N_{facet}^{2} N_{majortotal} N_{pp} \\sum_{i=1}^{N_{bl}} \\frac{\\operatorname{N_{f,vis,backward}}{\\left(\\operatorname{B_{max}}{\\left(i \\right)} \\right)}}{\\operatorname{T_{coal,backward}}{\\left(\\operatorname{B_{max}}{\\left(i \\right)} \\right)}} \\\\ &= 0.000184\\,\\text{PFLOP/s} \\\\ \\\\ Rflop &= 7.218579\\,\\text{PFLOP/s}\\end{aligned}$"
      ],
      "text/plain": [
       "<IPython.core.display.Math object>"
      ]
     },
     "metadata": {},
     "output_type": "display_data"
    },
    {
     "data": {
      "text/latex": [
       "$\\displaystyle \\begin{aligned}Rout_{Correct} &= M_{vis} N_{beam} N_{majortotal} N_{pp} \\sum_{i=1}^{N_{bl}} \\operatorname{R_{vis}}{\\left(\\operatorname{B_{max}}{\\left(i \\right)},1 \\right)} \\\\ &= 2.385877\\,\\text{TB/s} \\\\ \\\\Rout_{DFT} &= M_{vis} N_{beam} N_{majortotal} N_{pp} \\sum_{i=1}^{N_{bl}} \\operatorname{R_{vis}}{\\left(\\operatorname{B_{max}}{\\left(i \\right)},1 \\right)} \\\\ &= 2.385877\\,\\text{TB/s} \\\\ \\\\Rout_{Degrid} &= M_{vis} N_{beam} N_{facet,predict}^{2} N_{majortotal} N_{pp} \\sum_{i=1}^{N_{bl}} \\frac{\\operatorname{N_{f,vis,predict}}{\\left(\\operatorname{B_{max}}{\\left(i \\right)} \\right)}}{\\operatorname{T_{coal,predict}}{\\left(\\operatorname{B_{max}}{\\left(i \\right)} \\right)}} \\\\ &= 0.137678\\,\\text{TB/s} \\\\ \\\\Rout_{Degridding Kernel Update} &= 8 N_{beam} N_{facet,predict}^{2} N_{majortotal} N_{pp} Q_{gcf}^{3} \\sum_{i=1}^{N_{bl}} \\frac{\\operatorname{N_{f,gcf,predict}}{\\left(\\operatorname{B_{max}}{\\left(i \\right)} \\right)} \\operatorname{N_{gw,predict}}^{3}{\\left(\\operatorname{B_{max}}{\\left(i \\right)} \\right)}}{\\operatorname{T_{kernel,predict}}{\\left(\\operatorname{B_{max}}{\\left(i \\right)} \\right)}} \\\\ &= 116.720236\\,\\text{TB/s} \\\\ \\\\Rout_{FFT} &= \\frac{M_{px} N_{beam} N_{f,FFT,backward} N_{facet}^{2} N_{majortotal} N_{pix,linear}^{2} N_{pp}}{T_{snap}} \\\\ &= 0.238657\\,\\text{TB/s} \\\\ \\\\Rout_{Flag} &= M_{vis} N_{beam} N_{majortotal} N_{pp} \\sum_{i=1}^{N_{bl}} \\operatorname{R_{vis}}{\\left(\\operatorname{B_{max}}{\\left(i \\right)},1 \\right)} \\\\ &= 2.385877\\,\\text{TB/s} \\\\ \\\\Rout_{Grid} &= \\frac{M_{cpx} N_{beam} N_{facet}^{2} N_{majortotal} N_{pix,linear} N_{pp} \\left(\\frac{N_{pix,linear}}{2} + 1\\right) \\sum_{i=1}^{N_{bl}} \\operatorname{N_{f,vis,backward}}{\\left(\\operatorname{B_{max}}{\\left(i \\right)} \\right)}}{T_{snap}} \\\\ &= 848.087472\\,\\text{TB/s} \\\\ \\\\Rout_{Gridding Kernel Update} &= 8 N_{beam} N_{facet}^{2} N_{majortotal} N_{pp} Q_{gcf}^{3} \\sum_{i=1}^{N_{bl}} \\frac{\\operatorname{N_{f,gcf,backward}}{\\left(\\operatorname{B_{max}}{\\left(i \\right)} \\right)} \\operatorname{N_{gw,backward}}^{3}{\\left(\\operatorname{B_{max}}{\\left(i \\right)} \\right)}}{\\operatorname{T_{kernel,backward}}{\\left(\\operatorname{B_{max}}{\\left(i \\right)} \\right)}} \\\\ &= 116.720236\\,\\text{TB/s} \\\\ \\\\Rout_{IFFT} &= \\frac{M_{cpx} N_{beam} N_{f,FFT,predict} N_{facet,predict}^{2} N_{majortotal} N_{pix,linear,predict} N_{pp} \\left(\\frac{N_{pix,linear,predict}}{2} + 1\\right)}{T_{snap}} \\\\ &= 1.193337\\,\\text{TB/s} \\\\ \\\\Rout_{Identify Component} &= \\frac{M_{cpx} N_{beam} N_{facet}^{2} N_{majortotal} N_{minor} N_{subbands}}{T_{obs}} \\\\ &= 0.000000\\,\\text{TB/s} \\\\ \\\\Rout_{Image Spectral Fitting} &= \\frac{M_{px} N_{beam} N_{majortotal} N_{pix,linear,fov,total}^{2} N_{pp} N_{tt}}{T_{obs}} \\\\ &= 0.003453\\,\\text{TB/s} \\\\ \\\\Rout_{Phase Rotation} &= M_{vis} N_{beam} N_{facet}^{2} N_{majortotal} N_{pp} \\operatorname{sign}{\\left(N_{facet} - 1 \\right)} \\sum_{i=1}^{N_{bl}} \\operatorname{R_{vis,backward}}{\\left(\\operatorname{B_{max}}{\\left(i \\right)},1 \\right)} \\\\ &= 0.137678\\,\\text{TB/s} \\\\ \\\\Rout_{Phase Rotation Predict} &= \\frac{M_{vis} N_{beam} N_{facet}^{2} N_{majortotal} N_{pp} \\operatorname{sign}{\\left(N_{facet} - 1 \\right)} \\sum_{i=1}^{N_{bl}} \\operatorname{N_{f,vis}}{\\left(\\operatorname{B_{max}}{\\left(i \\right)} \\right)}}{T_{int,used}} \\\\ &= 21.472897\\,\\text{TB/s} \\\\ \\\\Rout_{Reprojection} &= \\frac{M_{px} N_{beam} N_{f,proj,backward} N_{facet}^{2} N_{majortotal} N_{pix,linear}^{2} N_{pp}}{T_{snap}} \\\\ &= 0.029832\\,\\text{TB/s} \\\\ \\\\Rout_{Reprojection Predict} &= \\frac{M_{px} N_{beam} N_{f,proj,predict} N_{facet}^{2} N_{majortotal} N_{pix,linear}^{2} N_{pp}}{T_{snap}} \\\\ &= 0.029832\\,\\text{TB/s} \\\\ \\\\Rout_{Subtract Image Component} &= \\frac{M_{px} N_{beam} N_{facet}^{2} N_{majortotal} N_{pix,linear}^{2} N_{subbands} N_{tt}}{T_{obs}} \\\\ &= 0.009944\\,\\text{TB/s} \\\\ \\\\Rout_{Subtract Visibility} &= M_{vis} N_{beam} N_{majortotal} N_{pp} \\sum_{i=1}^{N_{bl}} \\operatorname{R_{vis}}{\\left(\\operatorname{B_{max}}{\\left(i \\right)},1 \\right)} \\\\ &= 2.385877\\,\\text{TB/s} \\\\ \\\\Rout_{Visibility Weighting} &= M_{vis} N_{beam} N_{f,min,gran} N_{facet}^{2} N_{majortotal} N_{pp} \\sum_{i=1}^{N_{bl}} \\frac{1}{\\operatorname{T_{coal,backward}}{\\left(\\operatorname{B_{max}}{\\left(i \\right)} \\right)}} \\\\ &= 0.010757\\,\\text{TB/s} \\\\ \\\\ Rout &= 1114.335518\\,\\text{TB/s}\\end{aligned}$"
      ],
      "text/plain": [
       "<IPython.core.display.Math object>"
      ]
     },
     "metadata": {},
     "output_type": "display_data"
    },
    {
     "data": {
      "text/markdown": [
       "### Intermediate equations"
      ],
      "text/plain": [
       "<IPython.core.display.Markdown object>"
      ]
     },
     "metadata": {},
     "output_type": "display_data"
    },
    {
     "data": {
      "text/latex": [
       "$\\displaystyle \\begin{aligned}\\Delta_{W max} &= \\Delta_{W max} \\\\N_{f,FFT,backward} &= N_{f,out} \\\\N_{f,FFT,predict} &= \\min\\left(N_{f,max}, N_{f,out} N_{tt}\\right) \\\\N_{f,gcf,backward}(b) &= \\max\\left(N_{f,min}, \\min\\left(N_{f,max}, \\frac{\\log{\\left(\\frac{\\lambda_{max}}{\\lambda_{min}} \\right)}}{\\log{\\left(1.0 + \\frac{\\epsilon_{f approx}}{Q_{kernel} \\left(N_{aa}^{2} + 1.0 \\Theta_{fov}^{2} \\left(\\Theta_{fov}^{2} \\min\\left(\\Delta_{W stack}, \\Delta_{W max}{\\left(b \\right)}\\right)^{2} + \\frac{0.636619772367581 \\Theta_{fov} \\min\\left(\\Delta_{W stack}, \\Delta_{W max}{\\left(b \\right)}\\right)^{1.5}}{\\epsilon_{w}}\\right)\\right)^{0.5}} \\right)}}\\right)\\right) \\\\N_{f,gcf,predict}(b) &= \\max\\left(N_{f,min}, \\min\\left(N_{f,max}, \\frac{\\log{\\left(\\frac{\\lambda_{max}}{\\lambda_{min}} \\right)}}{\\log{\\left(1.0 + \\frac{\\epsilon_{f approx}}{Q_{kernel} \\left(N_{aa}^{2} + 1.0 \\Theta_{fov,predict}^{2} \\left(\\Theta_{fov,predict}^{2} \\min\\left(\\Delta_{W stack}, \\Delta_{W max}{\\left(b \\right)}\\right)^{2} + \\frac{0.636619772367581 \\Theta_{fov,predict} \\min\\left(\\Delta_{W stack}, \\Delta_{W max}{\\left(b \\right)}\\right)^{1.5}}{\\epsilon_{w}}\\right)\\right)^{0.5}} \\right)}}\\right)\\right) \\\\N_{f,proj,backward} &= N_{tt} \\\\N_{f,proj,predict} &= N_{tt} \\\\N_{f,vis}(b) &= \\min\\left(N_{f,max}, \\max\\left(N_{f,out}, \\frac{\\log{\\left(\\frac{\\lambda_{max}}{\\lambda_{min}} \\right)}}{\\log{\\left(1 + \\frac{1.5 \\lambda}{B_{max} Q_{bw} \\Theta_{fov,total}} \\right)}}\\right)\\right) \\\\N_{f,vis,backward}(b) &= \\min\\left(N_{f,max}, \\max\\left(N_{f,out}, \\frac{\\log{\\left(\\frac{\\lambda_{max}}{\\lambda_{min}} \\right)}}{\\log{\\left(1 + \\frac{1.5 \\lambda}{Q_{bw} \\Theta_{fov} b} \\right)}}\\right)\\right) \\\\N_{f,vis,predict}(b) &= \\min\\left(N_{f,max}, \\max\\left(N_{f,out}, \\frac{\\log{\\left(\\frac{\\lambda_{max}}{\\lambda_{min}} \\right)}}{\\log{\\left(1 + \\frac{1.5 \\lambda}{Q_{bw} \\Theta_{fov,predict} b} \\right)}}\\right)\\right) \\\\N_{gcf,used,backward}(b) &= Q_{gcf}^{2} \\left(1 - \\left(1 - \\frac{1}{Q_{gcf}^{2}}\\right)^{\\frac{T_{ion} \\min\\left(N_{f,max}, \\max\\left(N_{f,out}, \\frac{\\log{\\left(\\frac{\\lambda_{max}}{\\lambda_{min}} \\right)}}{\\log{\\left(1 + \\frac{1.5 \\lambda}{Q_{bw} \\Theta_{fov} b} \\right)}}\\right)\\right)}{\\max\\left(N_{f,min}, \\min\\left(N_{f,max}, \\frac{\\log{\\left(\\frac{\\lambda_{max}}{\\lambda_{min}} \\right)}}{\\log{\\left(1.0 + \\frac{\\epsilon_{f approx}}{Q_{kernel} \\left(N_{aa}^{2} + 1.0 \\Theta_{fov}^{2} \\left(\\Theta_{fov}^{2} \\min\\left(\\Delta_{W stack}, \\Delta_{W max}{\\left(b \\right)}\\right)^{2} + \\frac{0.636619772367581 \\Theta_{fov} \\min\\left(\\Delta_{W stack}, \\Delta_{W max}{\\left(b \\right)}\\right)^{1.5}}{\\epsilon_{w}}\\right)\\right)^{0.5}} \\right)}}\\right)\\right) \\min\\left(T_{ion}, T_{int,used} \\max\\left(1.0, \\min\\left(\\frac{T_{snap}}{T_{int,used}}, \\left\\lfloor{\\frac{\\epsilon_{f approx} \\lambda}{\\Omega_{E} T_{int,used} \\Theta_{fov} b}}\\right\\rfloor\\right)\\right)\\right)}}\\right) \\\\N_{gcf,used,predict}(b) &= Q_{gcf}^{2} \\left(1 - \\left(1 - \\frac{1}{Q_{gcf}^{2}}\\right)^{\\frac{T_{ion} \\min\\left(N_{f,max}, \\max\\left(N_{f,out}, \\frac{\\log{\\left(\\frac{\\lambda_{max}}{\\lambda_{min}} \\right)}}{\\log{\\left(1 + \\frac{1.5 \\lambda}{Q_{bw} \\Theta_{fov,predict} b} \\right)}}\\right)\\right)}{\\max\\left(N_{f,min}, \\min\\left(N_{f,max}, \\frac{\\log{\\left(\\frac{\\lambda_{max}}{\\lambda_{min}} \\right)}}{\\log{\\left(1.0 + \\frac{\\epsilon_{f approx}}{Q_{kernel} \\left(N_{aa}^{2} + 1.0 \\Theta_{fov,predict}^{2} \\left(\\Theta_{fov,predict}^{2} \\min\\left(\\Delta_{W stack}, \\Delta_{W max}{\\left(b \\right)}\\right)^{2} + \\frac{0.636619772367581 \\Theta_{fov,predict} \\min\\left(\\Delta_{W stack}, \\Delta_{W max}{\\left(b \\right)}\\right)^{1.5}}{\\epsilon_{w}}\\right)\\right)^{0.5}} \\right)}}\\right)\\right) \\min\\left(T_{ion}, T_{int,used} \\max\\left(1.0, \\min\\left(\\frac{T_{snap}}{T_{int,used}}, \\left\\lfloor{\\frac{\\epsilon_{f approx} \\lambda}{\\Omega_{E} T_{int,used} \\Theta_{fov} b}}\\right\\rfloor\\right)\\right)\\right)}}\\right) \\\\N_{gw,backward}(b) &= 1.0 \\Theta_{fov} \\sqrt{\\Theta_{fov}^{2} \\min\\left(\\Delta_{W stack}, \\Delta_{W max}{\\left(b \\right)}\\right)^{2} + \\frac{0.636619772367581 \\Theta_{fov} \\min\\left(\\Delta_{W stack}, \\Delta_{W max}{\\left(b \\right)}\\right)^{1.5}}{\\epsilon_{w}}} \\\\N_{gw,predict}(b) &= 1.0 \\Theta_{fov,predict} \\sqrt{\\Theta_{fov,predict}^{2} \\min\\left(\\Delta_{W stack}, \\Delta_{W max}{\\left(b \\right)}\\right)^{2} + \\frac{0.636619772367581 \\Theta_{fov,predict} \\min\\left(\\Delta_{W stack}, \\Delta_{W max}{\\left(b \\right)}\\right)^{1.5}}{\\epsilon_{w}}} \\\\N_{kernel,AW,backward}(b) &= \\left(N_{aa}^{2} + 1.0 \\Theta_{fov}^{2} \\left(\\Theta_{fov}^{2} \\min\\left(\\Delta_{W stack}, \\Delta_{W max}{\\left(b \\right)}\\right)^{2} + \\frac{0.636619772367581 \\Theta_{fov} \\min\\left(\\Delta_{W stack}, \\Delta_{W max}{\\left(b \\right)}\\right)^{1.5}}{\\epsilon_{w}}\\right)\\right)^{0.5} \\\\N_{kernel,AW,predict}(b) &= \\left(N_{aa}^{2} + 1.0 \\Theta_{fov,predict}^{2} \\left(\\Theta_{fov,predict}^{2} \\min\\left(\\Delta_{W stack}, \\Delta_{W max}{\\left(b \\right)}\\right)^{2} + \\frac{0.636619772367581 \\Theta_{fov,predict} \\min\\left(\\Delta_{W stack}, \\Delta_{W max}{\\left(b \\right)}\\right)^{1.5}}{\\epsilon_{w}}\\right)\\right)^{0.5} \\\\N_{kernel2,backward}(b) &= \\left(N_{aa}^{2} + 1.0 \\Theta_{fov}^{2} \\left(\\Theta_{fov}^{2} \\min\\left(\\Delta_{W stack}, \\Delta_{W max}{\\left(b \\right)}\\right)^{2} + \\frac{0.636619772367581 \\Theta_{fov} \\min\\left(\\Delta_{W stack}, \\Delta_{W max}{\\left(b \\right)}\\right)^{1.5}}{\\epsilon_{w}}\\right)\\right)^{1.0} \\\\N_{kernel2,predict}(b) &= \\left(N_{aa}^{2} + 1.0 \\Theta_{fov,predict}^{2} \\left(\\Theta_{fov,predict}^{2} \\min\\left(\\Delta_{W stack}, \\Delta_{W max}{\\left(b \\right)}\\right)^{2} + \\frac{0.636619772367581 \\Theta_{fov,predict} \\min\\left(\\Delta_{W stack}, \\Delta_{W max}{\\left(b \\right)}\\right)^{1.5}}{\\epsilon_{w}}\\right)\\right)^{1.0} \\\\R_{vis}(b,bcount) &= \\frac{bcount \\min\\left(N_{f,max}, \\max\\left(N_{f,out}, \\frac{\\log{\\left(\\frac{\\lambda_{max}}{\\lambda_{min}} \\right)}}{\\log{\\left(1 + \\frac{1.5 \\lambda}{B_{max} Q_{bw} \\Theta_{fov,total}} \\right)}}\\right)\\right)}{T_{int,used}} \\\\R_{vis,backward}(b,bcount) &= \\frac{bcount \\min\\left(N_{f,max}, \\max\\left(N_{f,out}, \\frac{\\log{\\left(\\frac{\\lambda_{max}}{\\lambda_{min}} \\right)}}{\\log{\\left(1 + \\frac{1.5 \\lambda}{Q_{bw} \\Theta_{fov} b} \\right)}}\\right)\\right)}{\\min\\left(T_{ion}, T_{int,used} \\max\\left(1.0, \\min\\left(\\frac{T_{snap}}{T_{int,used}}, \\left\\lfloor{\\frac{\\epsilon_{f approx} \\lambda}{\\Omega_{E} T_{int,used} \\Theta_{fov} b}}\\right\\rfloor\\right)\\right)\\right)} \\\\T_{coal,backward}(b) &= \\min\\left(T_{ion}, T_{int,used} \\max\\left(1.0, \\min\\left(\\frac{T_{snap}}{T_{int,used}}, \\left\\lfloor{\\frac{\\epsilon_{f approx} \\lambda}{\\Omega_{E} T_{int,used} \\Theta_{fov} b}}\\right\\rfloor\\right)\\right)\\right) \\\\T_{coal,predict}(b) &= \\min\\left(T_{ion}, T_{int,used} \\max\\left(1.0, \\min\\left(\\frac{T_{snap}}{T_{int,used}}, \\left\\lfloor{\\frac{\\epsilon_{f approx} \\lambda}{\\Omega_{E} T_{int,used} \\Theta_{fov} b}}\\right\\rfloor\\right)\\right)\\right) \\\\T_{kernel,backward}(b) &= T_{ion} \\\\T_{kernel,predict}(b) &= T_{ion} \\\\\\end{aligned}$"
      ],
      "text/plain": [
       "<IPython.core.display.Math object>"
      ]
     },
     "metadata": {},
     "output_type": "display_data"
    },
    {
     "data": {
      "text/latex": [
       "$\\displaystyle \\begin{aligned}N_{facet,predict} &= N_{facet} \\\\N_{pix,linear} &= \\frac{3.25100497089045 B_{max} Q_{fov} Q_{pix} Q_{subband} \\left(r_{facet base} \\operatorname{sign}{\\left(N_{facet} - 1 \\right)} + 1\\right)}{D_{s} N_{facet}} \\\\N_{pix,linear,fov,total} &= \\frac{3.25100497089045 B_{max} Q_{fov} Q_{pix} Q_{subband}}{D_{s}} \\\\N_{pix,linear,predict} &= \\frac{3.25100497089045 B_{max} Q_{fov} Q_{pix} Q_{subband} \\left(r_{facet base} \\operatorname{sign}{\\left(N_{facet} - 1 \\right)} + 1\\right)}{D_{s} N_{facet}} \\\\Q_{bw} &= \\frac{0.600124986981879}{\\sqrt{1 - \\frac{1}{amp_{f max}}}} \\\\T_{int,used} &= \\max\\left(T_{int,min}, \\min\\left(T_{snap}, \\frac{1.0046082220589 D_{s} \\sqrt{1 - \\frac{1}{amp_{f max}}}}{B_{max} \\Omega_{E} Q_{\\mathcal{fov,I}} \\sqrt{Q_{subband}}}\\right)\\right) \\\\\\Theta_{fov} &= \\frac{2.43825372816784 Q_{fov} \\sqrt{Q_{subband}} \\lambda \\left(r_{facet base} \\operatorname{sign}{\\left(N_{facet} - 1 \\right)} + 1\\right)}{D_{s} N_{facet}} \\\\\\Theta_{fov,predict} &= \\frac{2.43825372816784 Q_{fov} \\sqrt{Q_{subband}} \\lambda \\left(r_{facet base} \\operatorname{sign}{\\left(N_{facet} - 1 \\right)} + 1\\right)}{D_{s} N_{facet}} \\\\\\Theta_{fov,total} &= \\frac{2.43825372816784 Q_{fov} \\sqrt{Q_{subband}} \\lambda}{D_{s}} \\\\\\epsilon_{f approx} &= 2.44948974278318 \\sqrt{1 - \\frac{1}{amp_{f max}}} \\\\\\end{aligned}$"
      ],
      "text/plain": [
       "<IPython.core.display.Math object>"
      ]
     },
     "metadata": {},
     "output_type": "display_data"
    },
    {
     "data": {
      "text/markdown": [
       "### Constants"
      ],
      "text/plain": [
       "<IPython.core.display.Markdown object>"
      ]
     },
     "metadata": {},
     "output_type": "display_data"
    },
    {
     "data": {
      "text/latex": [
       "$\\displaystyle \\begin{aligned}B_{max} &= 150000  & D_{s} &= 13.5  & \\Delta_{W stack} &= 479.425367253958 \\\\M_{cpx} &= 16.0  & M_{px} &= 8.0  & M_{vis} &= 12 \\\\N_{Ipatches} &= 1  & N_{a} &= 197  & N_{aa} &= 9 \\\\N_{beam} &= 1  & N_{bl} &= 19306.0  & N_{f,max} &= 65536 \\\\N_{f,min} &= 40  & N_{f,min,gran} &= 800  & N_{f,out} &= 40 \\\\N_{facet} &= 3  & N_{majortotal} &= 11  & N_{minor} &= 1000 \\\\N_{mm} &= 4  & N_{patch} &= 4097  & N_{pp} &= 2 \\\\N_{scales} &= 10  & N_{source} &= 1000  & N_{subbands} &= 4 \\\\N_{tt} &= 5  & \\Omega_{E} &= 7.292115 \\cdot 10^{-5}  & Q_{fov} &= 1.0 \\\\Q_{\\mathcal{fov,I}} &= 2.7  & Q_{gcf} &= 8.0  & Q_{kernel} &= 10.0 \\\\Q_{pix} &= 2.5  & Q_{subband} &= 1.31607401295249  & T_{int,min} &= 0.14 \\\\T_{ion} &= 10.0  & T_{obs} &= 3600.0  & T_{snap} &= 600 \\\\amp_{f max} &= 1.034  & \\epsilon_{w} &= 0.01  & \\lambda &= 0.571033253333333 \\\\\\lambda_{max} &= 0.85654988  & \\lambda_{min} &= 0.285516626666667  & r_{facet base} &= 0.2 \\\\\\end{aligned}$"
      ],
      "text/plain": [
       "<IPython.core.display.Math object>"
      ]
     },
     "metadata": {},
     "output_type": "display_data"
    }
   ],
   "source": [
    "for telescope, band in [(Telescopes.SKA1_Low, Bands.Low),\n",
    "                        (Telescopes.SKA1_Mid, Bands.Mid1)]:\n",
    "    for pipeline in [Pipelines.Ingest, Pipelines.ICAL,Pipelines.DPrepA_Image]:\n",
    "        formulas_for_configuration(telescope, band, pipeline)"
   ]
  },
  {
   "cell_type": "code",
   "execution_count": null,
   "metadata": {
    "collapsed": true,
    "jupyter": {
     "outputs_hidden": true
    }
   },
   "outputs": [],
   "source": []
  }
 ],
 "metadata": {
  "anaconda-cloud": {},
  "kernelspec": {
   "display_name": "Python 3 (ipykernel)",
   "language": "python",
   "name": "python3"
  },
  "language_info": {
   "codemirror_mode": {
    "name": "ipython",
    "version": 3
   },
   "file_extension": ".py",
   "mimetype": "text/x-python",
   "name": "python",
   "nbconvert_exporter": "python",
   "pygments_lexer": "ipython3",
   "version": "3.8.10"
  }
 },
 "nbformat": 4,
 "nbformat_minor": 4
}

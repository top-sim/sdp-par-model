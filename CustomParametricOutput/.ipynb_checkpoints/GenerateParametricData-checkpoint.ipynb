{
 "cells": [
  {
   "cell_type": "markdown",
   "id": "3693a54f",
   "metadata": {},
   "source": [
    "# Generate Parametric Data\n",
    "\n",
    "This notebook produces working data outputs for the [SKA Workflows](https://github.com/top-sim/skaworkflows/) utility . \n",
    "\n",
    "In order to demonstrate scalability, we generate estimated computing and data requirements for various combinations of telescope usage, varying both the number of channels being observed (up to the maximum 65536) and the number of antennas/stations doing the observing (to a maximum of 512 for SKA-Low, and 197 for SKA-Mid).  "
   ]
  },
  {
   "cell_type": "code",
   "execution_count": null,
   "id": "e512b351-7c4b-4927-9198-be3e7d20e442",
   "metadata": {},
   "outputs": [],
   "source": []
  },
  {
   "cell_type": "code",
   "execution_count": 1,
   "id": "6500151e",
   "metadata": {
    "scrolled": true,
    "tags": []
   },
   "outputs": [
    {
     "name": "stdout",
     "output_type": "stream",
     "text": [
      "/home/rwb/github/sdp-par-model\n"
     ]
    }
   ],
   "source": [
    "%cd /home/rwb/github/sdp-par-model\n",
    "import sys\n",
    "from sdp_par_model import reports\n",
    "from sdp_par_model.parameters.definitions import *"
   ]
  },
  {
   "cell_type": "code",
   "execution_count": 2,
   "id": "7e9a3b71-1ab9-4a85-91cd-a6e8c6846d56",
   "metadata": {},
   "outputs": [],
   "source": [
    "LOW_OBSERVATIONS = {\n",
    "    \"hpso01\": {\n",
    "        \"duration\": 18000,\n",
    "        \"baseline\": 65000,\n",
    "        \"workflows\": [\"ICAL\", \"DPrepA\", \"DPrepB\", \"DPrepC\", \"DPrepD\"],\n",
    "        \"ratio\": 1,\n",
    "    },\n",
    "    \"hpso02a\": {\n",
    "        \"duration\": 18000,\n",
    "        \"baseline\": 65000,\n",
    "        \"workflows\": [\"ICAL\", \"DPrepA\", \"DPrepB\", \"DPrepC\", \"DPrepD\"],\n",
    "        \"ratio\": 2,\n",
    "    },\n",
    "    \"hpso02b\": {\n",
    "        \"duration\": 18000,\n",
    "        \"baseline\": 65000,\n",
    "        \"workflows\": [\"ICAL\", \"DPrepA\", \"DPrepB\", \"DPrepC\", \"DPrepD\"],\n",
    "        \"ratio\": 2,\n",
    "    },\n",
    "}\n",
    "\n",
    "# TODO These defaults really should be stored in SKAWorkflows and referenced exclusively\n",
    "# there until the end of time. Bonus points for wrapping the SDP parametric model\n",
    "\n",
    "MID_OBSERVATIONS = {\n",
    "    \"hpso13\": {\n",
    "        \"duration\": 28800,\n",
    "        \"baseline\": 35000,\n",
    "        \"workflows\": [\"ICAL\", \"DPrepA\", \"DPrepB\", \"DPrepC\"],\n",
    "        \"ratio\": 1,\n",
    "    },\n",
    "    \"hpso15\": {\n",
    "        \"duration\": 15840,\n",
    "        \"baseline\": 15000,\n",
    "        \"workflows\": [\"ICAL\", \"DPrepA\", \"DPrepB\", \"DPrepC\"],\n",
    "        \"ratio\": 2,\n",
    "    },\n",
    "    \"hpso22\": {\n",
    "        \"duration\": 28800,\n",
    "        \"baseline\": 150000,\n",
    "        \"workflows\": [\"ICAL\", \"DPrepA\", \"DPrepB\"],\n",
    "        \"ratio\": 2,\n",
    "    },\n",
    "    \"hpso32\": {\n",
    "        \"duration\": 7920,\n",
    "        \"baseline\": 20000,\n",
    "        \"workflows\": [\"ICAL\", \"DPrepB\"],\n",
    "        \"ratio\": 4,\n",
    "    },\n",
    "}\n"
   ]
  },
  {
   "cell_type": "code",
   "execution_count": 3,
   "id": "5b0f10ea",
   "metadata": {
    "scrolled": true,
    "tags": []
   },
   "outputs": [
    {
     "name": "stdout",
     "output_type": "stream",
     "text": [
      "channels=8192\n",
      "channels=8192,l=512,b=65\n",
      "hpso='hpso01',hpso_pipe='Ingest'\n",
      "hpso='hpso01',hpso_pipe='RCAL'\n",
      "hpso='hpso01',hpso_pipe='FastImg'\n",
      "hpso='hpso01',hpso_pipe='ICAL'\n",
      "hpso='hpso01',hpso_pipe='DPrepA'\n",
      "hpso='hpso01',hpso_pipe='DPrepB'\n",
      "hpso='hpso01',hpso_pipe='DPrepC'\n",
      "hpso='hpso01',hpso_pipe='DPrepD'\n",
      "hpso='hpso02a',hpso_pipe='Ingest'\n",
      "hpso='hpso02a',hpso_pipe='RCAL'\n",
      "hpso='hpso02a',hpso_pipe='FastImg'\n",
      "hpso='hpso02a',hpso_pipe='ICAL'\n",
      "hpso='hpso02a',hpso_pipe='DPrepA'\n",
      "hpso='hpso02a',hpso_pipe='DPrepB'\n",
      "hpso='hpso02a',hpso_pipe='DPrepC'\n",
      "hpso='hpso02a',hpso_pipe='DPrepD'\n",
      "hpso='hpso02b',hpso_pipe='Ingest'\n",
      "hpso='hpso02b',hpso_pipe='RCAL'\n",
      "hpso='hpso02b',hpso_pipe='FastImg'\n",
      "hpso='hpso02b',hpso_pipe='ICAL'\n",
      "hpso='hpso02b',hpso_pipe='DPrepA'\n",
      "hpso='hpso02b',hpso_pipe='DPrepB'\n",
      "hpso='hpso02b',hpso_pipe='DPrepC'\n",
      "hpso='hpso02b',hpso_pipe='DPrepD'\n",
      "hpso='hpso04a',hpso_pipe='Ingest'\n",
      "hpso='hpso04a',hpso_pipe='RCAL'\n",
      "hpso='hpso04a',hpso_pipe='FastImg'\n",
      "hpso='hpso04a',hpso_pipe='PSS'\n",
      "hpso='hpso05a',hpso_pipe='Ingest'\n",
      "hpso='hpso05a',hpso_pipe='RCAL'\n",
      "hpso='hpso05a',hpso_pipe='FastImg'\n",
      "hpso='hpso05a',hpso_pipe='PST'\n"
     ]
    },
    {
     "data": {
      "text/html": [
       "<font color=\"blue\">Calculating 32 configurations -- this may take quite a while.</font>"
      ],
      "text/plain": [
       "<IPython.core.display.HTML object>"
      ]
     },
     "metadata": {},
     "output_type": "display_data"
    },
    {
     "data": {
      "application/vnd.jupyter.widget-view+json": {
       "model_id": "b74fc1fa0e394d828d2db7433d496ef8",
       "version_major": 2,
       "version_minor": 0
      },
      "text/plain": [
       "FloatProgress(value=0.0, max=32.0)"
      ]
     },
     "metadata": {},
     "output_type": "display_data"
    },
    {
     "name": "stdout",
     "output_type": "stream",
     "text": [
      "hpso='hpso05a',hpso_pipe='PST'hpso='hpso05a',hpso_pipe='FastImg'\n",
      "\n",
      "hpso='hpso05a',hpso_pipe='RCAL'\n",
      "hpso='hpso04a',hpso_pipe='PSS'\n",
      "hpso='hpso04a',hpso_pipe='FastImg'\n",
      "hpso='hpso05a',hpso_pipe='Ingest'\n",
      "hpso='hpso04a',hpso_pipe='RCAL'\n",
      "hpso='hpso04a',hpso_pipe='Ingest'\n",
      "hpso='hpso02b',hpso_pipe='DPrepD'\n",
      "\n",
      "hpso='hpso02b',hpso_pipe='DPrepC'\n",
      "hpso='hpso02b',hpso_pipe='DPrepA'hpso='hpso02b',hpso_pipe='DPrepB'\n",
      "hpso='hpso02b',hpso_pipe='ICAL'\n",
      "hpso='hpso02b',hpso_pipe='FastImg'\n",
      "hpso='hpso02b',hpso_pipe='Ingest'\n",
      "hpso='hpso02b',hpso_pipe='RCAL'\n",
      "hpso='hpso02a',hpso_pipe='DPrepD'\n",
      "hpso='hpso02a',hpso_pipe='DPrepC'\n",
      "hpso='hpso02a',hpso_pipe='DPrepB'\n",
      "hpso='hpso02a',hpso_pipe='ICAL'\n",
      "hpso='hpso02a',hpso_pipe='DPrepA'\n",
      "hpso='hpso02a',hpso_pipe='FastImg'\n",
      "hpso='hpso02a',hpso_pipe='RCAL'\n",
      "hpso='hpso02a',hpso_pipe='Ingest'\n",
      "hpso='hpso01',hpso_pipe='DPrepD'\n",
      "hpso='hpso01',hpso_pipe='DPrepB'hpso='hpso01',hpso_pipe='DPrepC'\n",
      "\n",
      "hpso='hpso01',hpso_pipe='DPrepA'\n",
      "hpso='hpso01',hpso_pipe='ICAL'\n",
      "hpso='hpso01',hpso_pipe='RCAL'\n",
      "hpso='hpso01',hpso_pipe='FastImg'\n",
      "hpso='hpso01',hpso_pipe='Ingest'\n"
     ]
    },
    {
     "data": {
      "text/html": [
       "<font color=\"blue\">Results written to /home/rwb/github/skaworkflows/skaworkflows/data/sdp-par-model_output//ParametricOutput_Low_antenna-512_channels-8192-baseline_65.csv.</font>"
      ],
      "text/plain": [
       "<IPython.core.display.HTML object>"
      ]
     },
     "metadata": {},
     "output_type": "display_data"
    },
    {
     "name": "stdout",
     "output_type": "stream",
     "text": [
      "channels=16384\n",
      "channels=16384,l=512,b=65\n",
      "hpso='hpso01',hpso_pipe='Ingest'\n",
      "hpso='hpso01',hpso_pipe='RCAL'\n",
      "hpso='hpso01',hpso_pipe='FastImg'\n",
      "hpso='hpso01',hpso_pipe='ICAL'\n",
      "hpso='hpso01',hpso_pipe='DPrepA'\n",
      "hpso='hpso01',hpso_pipe='DPrepB'\n",
      "hpso='hpso01',hpso_pipe='DPrepC'\n",
      "hpso='hpso01',hpso_pipe='DPrepD'\n",
      "hpso='hpso02a',hpso_pipe='Ingest'\n",
      "hpso='hpso02a',hpso_pipe='RCAL'\n",
      "hpso='hpso02a',hpso_pipe='FastImg'\n",
      "hpso='hpso02a',hpso_pipe='ICAL'\n",
      "hpso='hpso02a',hpso_pipe='DPrepA'\n",
      "hpso='hpso02a',hpso_pipe='DPrepB'\n",
      "hpso='hpso02a',hpso_pipe='DPrepC'\n",
      "hpso='hpso02a',hpso_pipe='DPrepD'\n",
      "hpso='hpso02b',hpso_pipe='Ingest'\n",
      "hpso='hpso02b',hpso_pipe='RCAL'\n",
      "hpso='hpso02b',hpso_pipe='FastImg'\n",
      "hpso='hpso02b',hpso_pipe='ICAL'\n",
      "hpso='hpso02b',hpso_pipe='DPrepA'\n",
      "hpso='hpso02b',hpso_pipe='DPrepB'\n",
      "hpso='hpso02b',hpso_pipe='DPrepC'\n",
      "hpso='hpso02b',hpso_pipe='DPrepD'\n",
      "hpso='hpso04a',hpso_pipe='Ingest'\n",
      "hpso='hpso04a',hpso_pipe='RCAL'\n",
      "hpso='hpso04a',hpso_pipe='FastImg'\n",
      "hpso='hpso04a',hpso_pipe='PSS'\n",
      "hpso='hpso05a',hpso_pipe='Ingest'\n",
      "hpso='hpso05a',hpso_pipe='RCAL'\n",
      "hpso='hpso05a',hpso_pipe='FastImg'\n",
      "hpso='hpso05a',hpso_pipe='PST'\n"
     ]
    },
    {
     "data": {
      "text/html": [
       "<font color=\"blue\">Calculating 32 configurations -- this may take quite a while.</font>"
      ],
      "text/plain": [
       "<IPython.core.display.HTML object>"
      ]
     },
     "metadata": {},
     "output_type": "display_data"
    },
    {
     "data": {
      "application/vnd.jupyter.widget-view+json": {
       "model_id": "586c3a87e2944572a68d7c8def3e7e7c",
       "version_major": 2,
       "version_minor": 0
      },
      "text/plain": [
       "FloatProgress(value=0.0, max=32.0)"
      ]
     },
     "metadata": {},
     "output_type": "display_data"
    },
    {
     "name": "stdout",
     "output_type": "stream",
     "text": [
      "hpso='hpso05a',hpso_pipe='PST'hpso='hpso05a',hpso_pipe='FastImg'\n",
      "\n",
      "hpso='hpso05a',hpso_pipe='RCAL'\n",
      "hpso='hpso04a',hpso_pipe='PSS'\n",
      "hpso='hpso05a',hpso_pipe='Ingest'\n",
      "hpso='hpso04a',hpso_pipe='FastImg'\n",
      "hpso='hpso04a',hpso_pipe='RCAL'\n",
      "hpso='hpso04a',hpso_pipe='Ingest'\n",
      "hpso='hpso02b',hpso_pipe='DPrepC'\n",
      "hpso='hpso02b',hpso_pipe='DPrepD'\n",
      "hpso='hpso02b',hpso_pipe='DPrepB'\n",
      "hpso='hpso02b',hpso_pipe='DPrepA'\n",
      "hpso='hpso02b',hpso_pipe='ICAL'\n",
      "hpso='hpso02b',hpso_pipe='FastImg'\n",
      "hpso='hpso02b',hpso_pipe='RCAL'\n",
      "hpso='hpso02a',hpso_pipe='DPrepD'\n",
      "hpso='hpso02b',hpso_pipe='Ingest'\n",
      "hpso='hpso02a',hpso_pipe='DPrepB'\n",
      "hpso='hpso02a',hpso_pipe='DPrepC'\n",
      "hpso='hpso02a',hpso_pipe='DPrepA'\n",
      "hpso='hpso02a',hpso_pipe='ICAL'\n",
      "hpso='hpso02a',hpso_pipe='RCAL'\n",
      "hpso='hpso02a',hpso_pipe='FastImg'\n",
      "hpso='hpso02a',hpso_pipe='Ingest'\n",
      "hpso='hpso01',hpso_pipe='DPrepD'\n",
      "hpso='hpso01',hpso_pipe='DPrepC'\n",
      "hpso='hpso01',hpso_pipe='DPrepB'\n",
      "hpso='hpso01',hpso_pipe='DPrepA'\n",
      "hpso='hpso01',hpso_pipe='ICAL'\n",
      "hpso='hpso01',hpso_pipe='FastImg'\n",
      "hpso='hpso01',hpso_pipe='RCAL'\n",
      "hpso='hpso01',hpso_pipe='Ingest'\n"
     ]
    },
    {
     "data": {
      "text/html": [
       "<font color=\"blue\">Results written to /home/rwb/github/skaworkflows/skaworkflows/data/sdp-par-model_output//ParametricOutput_Low_antenna-512_channels-16384-baseline_65.csv.</font>"
      ],
      "text/plain": [
       "<IPython.core.display.HTML object>"
      ]
     },
     "metadata": {},
     "output_type": "display_data"
    },
    {
     "name": "stdout",
     "output_type": "stream",
     "text": [
      "channels=32768\n",
      "channels=32768,l=512,b=65\n",
      "hpso='hpso01',hpso_pipe='Ingest'\n",
      "hpso='hpso01',hpso_pipe='RCAL'\n",
      "hpso='hpso01',hpso_pipe='FastImg'\n",
      "hpso='hpso01',hpso_pipe='ICAL'\n",
      "hpso='hpso01',hpso_pipe='DPrepA'\n",
      "hpso='hpso01',hpso_pipe='DPrepB'\n",
      "hpso='hpso01',hpso_pipe='DPrepC'\n",
      "hpso='hpso01',hpso_pipe='DPrepD'\n",
      "hpso='hpso02a',hpso_pipe='Ingest'\n",
      "hpso='hpso02a',hpso_pipe='RCAL'\n",
      "hpso='hpso02a',hpso_pipe='FastImg'\n",
      "hpso='hpso02a',hpso_pipe='ICAL'\n",
      "hpso='hpso02a',hpso_pipe='DPrepA'\n",
      "hpso='hpso02a',hpso_pipe='DPrepB'\n",
      "hpso='hpso02a',hpso_pipe='DPrepC'\n",
      "hpso='hpso02a',hpso_pipe='DPrepD'\n",
      "hpso='hpso02b',hpso_pipe='Ingest'\n",
      "hpso='hpso02b',hpso_pipe='RCAL'\n",
      "hpso='hpso02b',hpso_pipe='FastImg'\n",
      "hpso='hpso02b',hpso_pipe='ICAL'\n",
      "hpso='hpso02b',hpso_pipe='DPrepA'\n",
      "hpso='hpso02b',hpso_pipe='DPrepB'\n",
      "hpso='hpso02b',hpso_pipe='DPrepC'\n",
      "hpso='hpso02b',hpso_pipe='DPrepD'\n",
      "hpso='hpso04a',hpso_pipe='Ingest'\n",
      "hpso='hpso04a',hpso_pipe='RCAL'\n",
      "hpso='hpso04a',hpso_pipe='FastImg'\n",
      "hpso='hpso04a',hpso_pipe='PSS'\n",
      "hpso='hpso05a',hpso_pipe='Ingest'\n",
      "hpso='hpso05a',hpso_pipe='RCAL'\n",
      "hpso='hpso05a',hpso_pipe='FastImg'\n",
      "hpso='hpso05a',hpso_pipe='PST'\n"
     ]
    },
    {
     "data": {
      "text/html": [
       "<font color=\"blue\">Calculating 32 configurations -- this may take quite a while.</font>"
      ],
      "text/plain": [
       "<IPython.core.display.HTML object>"
      ]
     },
     "metadata": {},
     "output_type": "display_data"
    },
    {
     "data": {
      "application/vnd.jupyter.widget-view+json": {
       "model_id": "a61f7bd2bef247f8992628237a166504",
       "version_major": 2,
       "version_minor": 0
      },
      "text/plain": [
       "FloatProgress(value=0.0, max=32.0)"
      ]
     },
     "metadata": {},
     "output_type": "display_data"
    },
    {
     "name": "stdout",
     "output_type": "stream",
     "text": [
      "hpso='hpso05a',hpso_pipe='PST'hpso='hpso05a',hpso_pipe='FastImg'\n",
      "\n",
      "hpso='hpso05a',hpso_pipe='RCAL'hpso='hpso04a',hpso_pipe='PSS'\n",
      "hpso='hpso05a',hpso_pipe='Ingest'\n",
      "\n",
      "hpso='hpso04a',hpso_pipe='FastImg'\n",
      "hpso='hpso04a',hpso_pipe='RCAL'\n",
      "hpso='hpso04a',hpso_pipe='Ingest'\n"
     ]
    },
    {
     "name": "stderr",
     "output_type": "stream",
     "text": [
      "An exception occured in thread 3: (<class 'KeyboardInterrupt'>, ).\n"
     ]
    },
    {
     "ename": "KeyboardInterrupt",
     "evalue": "",
     "output_type": "error",
     "traceback": [
      "\u001b[31m---------------------------------------------------------------------------\u001b[39m",
      "\u001b[31mKeyboardInterrupt\u001b[39m                         Traceback (most recent call last)",
      "\u001b[36mFile \u001b[39m\u001b[32m~/github/sdp-par-model/sdp_par_model/reports.py:872\u001b[39m, in \u001b[36m_batch_compute_results\u001b[39m\u001b[34m(configs, result_map, parallel, verbose, detailed, quiet)\u001b[39m\n\u001b[32m    871\u001b[39m         config = configQueue.pop()\n\u001b[32m--> \u001b[39m\u001b[32m872\u001b[39m         results[config.describe()] = \u001b[43m_batch_compute_results\u001b[49m\u001b[43m(\u001b[49m\n\u001b[32m    873\u001b[39m \u001b[43m            \u001b[49m\u001b[43m[\u001b[49m\u001b[43mconfig\u001b[49m\u001b[43m]\u001b[49m\u001b[43m,\u001b[49m\u001b[43m \u001b[49m\u001b[43mresult_map\u001b[49m\u001b[43m,\u001b[49m\u001b[43m \u001b[49m\u001b[43mverbose\u001b[49m\u001b[43m=\u001b[49m\u001b[43mverbose\u001b[49m\u001b[43m,\u001b[49m\u001b[43m \u001b[49m\u001b[43mdetailed\u001b[49m\u001b[43m=\u001b[49m\u001b[43mdetailed\u001b[49m\u001b[43m,\u001b[49m\u001b[43mquiet\u001b[49m\u001b[43m=\u001b[49m\u001b[38;5;28;43;01mTrue\u001b[39;49;00m\u001b[43m)\u001b[49m\n\u001b[32m    874\u001b[39m \u001b[38;5;28;01mexcept\u001b[39;00m \u001b[38;5;167;01mIndexError\u001b[39;00m:\n",
      "\u001b[36mFile \u001b[39m\u001b[32m~/github/sdp-par-model/sdp_par_model/reports.py:890\u001b[39m, in \u001b[36m_batch_compute_results\u001b[39m\u001b[34m(configs, result_map, parallel, verbose, detailed, quiet)\u001b[39m\n\u001b[32m    889\u001b[39m     display(HTML(\u001b[33m'\u001b[39m\u001b[33m<p>Calculating \u001b[39m\u001b[38;5;132;01m%s\u001b[39;00m\u001b[33m...</p>\u001b[39m\u001b[33m'\u001b[39m % cfg.describe()))\n\u001b[32m--> \u001b[39m\u001b[32m890\u001b[39m results.append((cfg, \u001b[43m_compute_results\u001b[49m\u001b[43m(\u001b[49m\u001b[43mcfg\u001b[49m\u001b[43m,\u001b[49m\u001b[43m \u001b[49m\u001b[43mresult_map\u001b[49m\u001b[43m,\u001b[49m\u001b[43m \u001b[49m\u001b[43mverbose\u001b[49m\u001b[43m=\u001b[49m\u001b[43mverbose\u001b[49m\u001b[43m,\u001b[49m\u001b[43m \u001b[49m\u001b[43mdetailed\u001b[49m\u001b[43m=\u001b[49m\u001b[43mdetailed\u001b[49m\u001b[43m)\u001b[49m))\n\u001b[32m    891\u001b[39m count+=\u001b[32m1\u001b[39m\n",
      "\u001b[36mFile \u001b[39m\u001b[32m~/github/sdp-par-model/sdp_par_model/reports.py:820\u001b[39m, in \u001b[36m_compute_results\u001b[39m\u001b[34m(pipelineConfig, result_map, verbose, detailed, adjusts)\u001b[39m\n\u001b[32m    819\u001b[39m \u001b[38;5;66;03m# Calculate the telescope parameters\u001b[39;00m\n\u001b[32m--> \u001b[39m\u001b[32m820\u001b[39m tp = \u001b[43mpipelineConfig\u001b[49m\u001b[43m.\u001b[49m\u001b[43mcalc_tel_params\u001b[49m\u001b[43m(\u001b[49m\u001b[43mverbose\u001b[49m\u001b[43m=\u001b[49m\u001b[43mverbose\u001b[49m\u001b[43m,\u001b[49m\u001b[43m \u001b[49m\u001b[43madjusts\u001b[49m\u001b[43m=\u001b[49m\u001b[43madjusts\u001b[49m\u001b[43m)\u001b[49m\n\u001b[32m    822\u001b[39m \u001b[38;5;66;03m# Evaluate expressions from map\u001b[39;00m\n",
      "\u001b[36mFile \u001b[39m\u001b[32m~/github/sdp-par-model/sdp_par_model/config.py:286\u001b[39m, in \u001b[36mPipelineConfig.calc_tel_params\u001b[39m\u001b[34m(cfg, verbose, adjusts, symbolify, optimize_expression, clear_symbolised)\u001b[39m\n\u001b[32m    285\u001b[39m     substs = evaluate.minimise_parameters(telescope_params, optimize_expression, verbose=verbose)\n\u001b[32m--> \u001b[39m\u001b[32m286\u001b[39m     telescope_params = \u001b[43mtelescope_params\u001b[49m\u001b[43m.\u001b[49m\u001b[43msubs\u001b[49m\u001b[43m(\u001b[49m\u001b[43msubsts\u001b[49m\u001b[43m)\u001b[49m\n\u001b[32m    288\u001b[39m \u001b[38;5;66;03m# Clear unoptimised values?\u001b[39;00m\n",
      "\u001b[36mFile \u001b[39m\u001b[32m~/github/sdp-par-model/sdp_par_model/parameters/container.py:153\u001b[39m, in \u001b[36mParameterContainer.subs\u001b[39m\u001b[34m(self, substs)\u001b[39m\n\u001b[32m    152\u001b[39m \u001b[38;5;28;01mfor\u001b[39;00m name, v \u001b[38;5;129;01min\u001b[39;00m \u001b[38;5;28mself\u001b[39m.\u001b[34m__dict__\u001b[39m.items():\n\u001b[32m--> \u001b[39m\u001b[32m153\u001b[39m     tp.\u001b[34m__dict__\u001b[39m[name] = (\u001b[43mv\u001b[49m\u001b[43m.\u001b[49m\u001b[43msubs\u001b[49m\u001b[43m(\u001b[49m\u001b[43msubsts_new\u001b[49m\u001b[43m)\u001b[49m \u001b[38;5;28;01mif\u001b[39;00m is_expr(v) \u001b[38;5;28;01melse\u001b[39;00m v)\n\u001b[32m    155\u001b[39m \u001b[38;5;66;03m# In products as well\u001b[39;00m\n",
      "\u001b[36mFile \u001b[39m\u001b[32m~/github/topsim/venv/lib/python3.12/site-packages/sympy/core/basic.py:1123\u001b[39m, in \u001b[36mBasic.subs\u001b[39m\u001b[34m(self, *args, **kwargs)\u001b[39m\n\u001b[32m   1122\u001b[39m \u001b[38;5;28;01mfor\u001b[39;00m old, new \u001b[38;5;129;01min\u001b[39;00m sequence:\n\u001b[32m-> \u001b[39m\u001b[32m1123\u001b[39m     rv = \u001b[43mrv\u001b[49m\u001b[43m.\u001b[49m\u001b[43m_subs\u001b[49m\u001b[43m(\u001b[49m\u001b[43mold\u001b[49m\u001b[43m,\u001b[49m\u001b[43m \u001b[49m\u001b[43mnew\u001b[49m\u001b[43m,\u001b[49m\u001b[43m \u001b[49m\u001b[43m*\u001b[49m\u001b[43m*\u001b[49m\u001b[43mkwargs\u001b[49m\u001b[43m)\u001b[49m\n\u001b[32m   1124\u001b[39m     \u001b[38;5;28;01mif\u001b[39;00m \u001b[38;5;129;01mnot\u001b[39;00m \u001b[38;5;28misinstance\u001b[39m(rv, Basic):\n",
      "\u001b[36mFile \u001b[39m\u001b[32m~/github/topsim/venv/lib/python3.12/site-packages/sympy/core/cache.py:72\u001b[39m, in \u001b[36m__cacheit.<locals>.func_wrapper.<locals>.wrapper\u001b[39m\u001b[34m(*args, **kwargs)\u001b[39m\n\u001b[32m     71\u001b[39m \u001b[38;5;28;01mtry\u001b[39;00m:\n\u001b[32m---> \u001b[39m\u001b[32m72\u001b[39m     retval = \u001b[43mcfunc\u001b[49m\u001b[43m(\u001b[49m\u001b[43m*\u001b[49m\u001b[43margs\u001b[49m\u001b[43m,\u001b[49m\u001b[43m \u001b[49m\u001b[43m*\u001b[49m\u001b[43m*\u001b[49m\u001b[43mkwargs\u001b[49m\u001b[43m)\u001b[49m\n\u001b[32m     73\u001b[39m \u001b[38;5;28;01mexcept\u001b[39;00m \u001b[38;5;167;01mTypeError\u001b[39;00m \u001b[38;5;28;01mas\u001b[39;00m e:\n",
      "\u001b[36mFile \u001b[39m\u001b[32m~/github/topsim/venv/lib/python3.12/site-packages/sympy/core/basic.py:1237\u001b[39m, in \u001b[36mBasic._subs\u001b[39m\u001b[34m(self, old, new, **hints)\u001b[39m\n\u001b[32m   1236\u001b[39m \u001b[38;5;28;01mif\u001b[39;00m rv \u001b[38;5;129;01mis\u001b[39;00m \u001b[38;5;28;01mNone\u001b[39;00m:\n\u001b[32m-> \u001b[39m\u001b[32m1237\u001b[39m     rv = \u001b[43mfallback\u001b[49m\u001b[43m(\u001b[49m\u001b[38;5;28;43mself\u001b[39;49m\u001b[43m,\u001b[49m\u001b[43m \u001b[49m\u001b[43mold\u001b[49m\u001b[43m,\u001b[49m\u001b[43m \u001b[49m\u001b[43mnew\u001b[49m\u001b[43m)\u001b[49m\n\u001b[32m   1238\u001b[39m \u001b[38;5;28;01mreturn\u001b[39;00m rv\n",
      "\u001b[36mFile \u001b[39m\u001b[32m~/github/topsim/venv/lib/python3.12/site-packages/sympy/core/basic.py:1209\u001b[39m, in \u001b[36mBasic._subs.<locals>.fallback\u001b[39m\u001b[34m(self, old, new)\u001b[39m\n\u001b[32m   1208\u001b[39m     \u001b[38;5;28;01mcontinue\u001b[39;00m\n\u001b[32m-> \u001b[39m\u001b[32m1209\u001b[39m arg = \u001b[43marg\u001b[49m\u001b[43m.\u001b[49m\u001b[43m_subs\u001b[49m\u001b[43m(\u001b[49m\u001b[43mold\u001b[49m\u001b[43m,\u001b[49m\u001b[43m \u001b[49m\u001b[43mnew\u001b[49m\u001b[43m,\u001b[49m\u001b[43m \u001b[49m\u001b[43m*\u001b[49m\u001b[43m*\u001b[49m\u001b[43mhints\u001b[49m\u001b[43m)\u001b[49m\n\u001b[32m   1210\u001b[39m \u001b[38;5;28;01mif\u001b[39;00m \u001b[38;5;129;01mnot\u001b[39;00m _aresame(arg, args[i]):\n",
      "\u001b[36mFile \u001b[39m\u001b[32m~/github/topsim/venv/lib/python3.12/site-packages/sympy/core/cache.py:72\u001b[39m, in \u001b[36m__cacheit.<locals>.func_wrapper.<locals>.wrapper\u001b[39m\u001b[34m(*args, **kwargs)\u001b[39m\n\u001b[32m     71\u001b[39m \u001b[38;5;28;01mtry\u001b[39;00m:\n\u001b[32m---> \u001b[39m\u001b[32m72\u001b[39m     retval = \u001b[43mcfunc\u001b[49m\u001b[43m(\u001b[49m\u001b[43m*\u001b[49m\u001b[43margs\u001b[49m\u001b[43m,\u001b[49m\u001b[43m \u001b[49m\u001b[43m*\u001b[49m\u001b[43m*\u001b[49m\u001b[43mkwargs\u001b[49m\u001b[43m)\u001b[49m\n\u001b[32m     73\u001b[39m \u001b[38;5;28;01mexcept\u001b[39;00m \u001b[38;5;167;01mTypeError\u001b[39;00m \u001b[38;5;28;01mas\u001b[39;00m e:\n",
      "\u001b[36mFile \u001b[39m\u001b[32m~/github/topsim/venv/lib/python3.12/site-packages/sympy/core/basic.py:1237\u001b[39m, in \u001b[36mBasic._subs\u001b[39m\u001b[34m(self, old, new, **hints)\u001b[39m\n\u001b[32m   1236\u001b[39m \u001b[38;5;28;01mif\u001b[39;00m rv \u001b[38;5;129;01mis\u001b[39;00m \u001b[38;5;28;01mNone\u001b[39;00m:\n\u001b[32m-> \u001b[39m\u001b[32m1237\u001b[39m     rv = \u001b[43mfallback\u001b[49m\u001b[43m(\u001b[49m\u001b[38;5;28;43mself\u001b[39;49m\u001b[43m,\u001b[49m\u001b[43m \u001b[49m\u001b[43mold\u001b[49m\u001b[43m,\u001b[49m\u001b[43m \u001b[49m\u001b[43mnew\u001b[49m\u001b[43m)\u001b[49m\n\u001b[32m   1238\u001b[39m \u001b[38;5;28;01mreturn\u001b[39;00m rv\n",
      "\u001b[36mFile \u001b[39m\u001b[32m~/github/topsim/venv/lib/python3.12/site-packages/sympy/core/basic.py:1209\u001b[39m, in \u001b[36mBasic._subs.<locals>.fallback\u001b[39m\u001b[34m(self, old, new)\u001b[39m\n\u001b[32m   1208\u001b[39m     \u001b[38;5;28;01mcontinue\u001b[39;00m\n\u001b[32m-> \u001b[39m\u001b[32m1209\u001b[39m arg = \u001b[43marg\u001b[49m\u001b[43m.\u001b[49m\u001b[43m_subs\u001b[49m\u001b[43m(\u001b[49m\u001b[43mold\u001b[49m\u001b[43m,\u001b[49m\u001b[43m \u001b[49m\u001b[43mnew\u001b[49m\u001b[43m,\u001b[49m\u001b[43m \u001b[49m\u001b[43m*\u001b[49m\u001b[43m*\u001b[49m\u001b[43mhints\u001b[49m\u001b[43m)\u001b[49m\n\u001b[32m   1210\u001b[39m \u001b[38;5;28;01mif\u001b[39;00m \u001b[38;5;129;01mnot\u001b[39;00m _aresame(arg, args[i]):\n",
      "    \u001b[31m[... skipping similar frames: Basic._subs at line 1237 (7 times), __cacheit.<locals>.func_wrapper.<locals>.wrapper at line 72 (7 times), Basic._subs.<locals>.fallback at line 1209 (6 times)]\u001b[39m\n",
      "\u001b[36mFile \u001b[39m\u001b[32m~/github/topsim/venv/lib/python3.12/site-packages/sympy/core/basic.py:1209\u001b[39m, in \u001b[36mBasic._subs.<locals>.fallback\u001b[39m\u001b[34m(self, old, new)\u001b[39m\n\u001b[32m   1208\u001b[39m     \u001b[38;5;28;01mcontinue\u001b[39;00m\n\u001b[32m-> \u001b[39m\u001b[32m1209\u001b[39m arg = \u001b[43marg\u001b[49m\u001b[43m.\u001b[49m\u001b[43m_subs\u001b[49m\u001b[43m(\u001b[49m\u001b[43mold\u001b[49m\u001b[43m,\u001b[49m\u001b[43m \u001b[49m\u001b[43mnew\u001b[49m\u001b[43m,\u001b[49m\u001b[43m \u001b[49m\u001b[43m*\u001b[49m\u001b[43m*\u001b[49m\u001b[43mhints\u001b[49m\u001b[43m)\u001b[49m\n\u001b[32m   1210\u001b[39m \u001b[38;5;28;01mif\u001b[39;00m \u001b[38;5;129;01mnot\u001b[39;00m _aresame(arg, args[i]):\n",
      "\u001b[36mFile \u001b[39m\u001b[32m~/github/topsim/venv/lib/python3.12/site-packages/sympy/core/cache.py:72\u001b[39m, in \u001b[36m__cacheit.<locals>.func_wrapper.<locals>.wrapper\u001b[39m\u001b[34m(*args, **kwargs)\u001b[39m\n\u001b[32m     71\u001b[39m \u001b[38;5;28;01mtry\u001b[39;00m:\n\u001b[32m---> \u001b[39m\u001b[32m72\u001b[39m     retval = \u001b[43mcfunc\u001b[49m\u001b[43m(\u001b[49m\u001b[43m*\u001b[49m\u001b[43margs\u001b[49m\u001b[43m,\u001b[49m\u001b[43m \u001b[49m\u001b[43m*\u001b[49m\u001b[43m*\u001b[49m\u001b[43mkwargs\u001b[49m\u001b[43m)\u001b[49m\n\u001b[32m     73\u001b[39m \u001b[38;5;28;01mexcept\u001b[39;00m \u001b[38;5;167;01mTypeError\u001b[39;00m \u001b[38;5;28;01mas\u001b[39;00m e:\n",
      "\u001b[36mFile \u001b[39m\u001b[32m~/github/topsim/venv/lib/python3.12/site-packages/sympy/core/basic.py:1237\u001b[39m, in \u001b[36mBasic._subs\u001b[39m\u001b[34m(self, old, new, **hints)\u001b[39m\n\u001b[32m   1236\u001b[39m \u001b[38;5;28;01mif\u001b[39;00m rv \u001b[38;5;129;01mis\u001b[39;00m \u001b[38;5;28;01mNone\u001b[39;00m:\n\u001b[32m-> \u001b[39m\u001b[32m1237\u001b[39m     rv = \u001b[43mfallback\u001b[49m\u001b[43m(\u001b[49m\u001b[38;5;28;43mself\u001b[39;49m\u001b[43m,\u001b[49m\u001b[43m \u001b[49m\u001b[43mold\u001b[49m\u001b[43m,\u001b[49m\u001b[43m \u001b[49m\u001b[43mnew\u001b[49m\u001b[43m)\u001b[49m\n\u001b[32m   1238\u001b[39m \u001b[38;5;28;01mreturn\u001b[39;00m rv\n",
      "\u001b[36mFile \u001b[39m\u001b[32m~/github/topsim/venv/lib/python3.12/site-packages/sympy/core/basic.py:1214\u001b[39m, in \u001b[36mBasic._subs.<locals>.fallback\u001b[39m\u001b[34m(self, old, new)\u001b[39m\n\u001b[32m   1213\u001b[39m \u001b[38;5;28;01mif\u001b[39;00m hit:\n\u001b[32m-> \u001b[39m\u001b[32m1214\u001b[39m     rv = \u001b[38;5;28;43mself\u001b[39;49m\u001b[43m.\u001b[49m\u001b[43mfunc\u001b[49m\u001b[43m(\u001b[49m\u001b[43m*\u001b[49m\u001b[43margs\u001b[49m\u001b[43m)\u001b[49m\n\u001b[32m   1215\u001b[39m     hack2 = hints.get(\u001b[33m'\u001b[39m\u001b[33mhack2\u001b[39m\u001b[33m'\u001b[39m, \u001b[38;5;28;01mFalse\u001b[39;00m)\n",
      "\u001b[36mFile \u001b[39m\u001b[32m~/github/topsim/venv/lib/python3.12/site-packages/sympy/functions/elementary/miscellaneous.py:396\u001b[39m, in \u001b[36mMinMaxBase.__new__\u001b[39m\u001b[34m(cls, *args, **assumptions)\u001b[39m\n\u001b[32m    395\u001b[39m     \u001b[38;5;66;03m# find local zeros\u001b[39;00m\n\u001b[32m--> \u001b[39m\u001b[32m396\u001b[39m     args = \u001b[38;5;28;43mcls\u001b[39;49m\u001b[43m.\u001b[49m\u001b[43m_find_localzeros\u001b[49m\u001b[43m(\u001b[49m\u001b[43margs\u001b[49m\u001b[43m,\u001b[49m\u001b[43m \u001b[49m\u001b[43m*\u001b[49m\u001b[43m*\u001b[49m\u001b[43massumptions\u001b[49m\u001b[43m)\u001b[49m\n\u001b[32m    397\u001b[39m args = \u001b[38;5;28mfrozenset\u001b[39m(args)\n",
      "\u001b[36mFile \u001b[39m\u001b[32m~/github/topsim/venv/lib/python3.12/site-packages/sympy/functions/elementary/miscellaneous.py:587\u001b[39m, in \u001b[36mMinMaxBase._find_localzeros\u001b[39m\u001b[34m(cls, values, **options)\u001b[39m\n\u001b[32m    586\u001b[39m \u001b[38;5;28;01melse\u001b[39;00m:\n\u001b[32m--> \u001b[39m\u001b[32m587\u001b[39m     con = \u001b[38;5;28;43mcls\u001b[39;49m\u001b[43m.\u001b[49m\u001b[43m_is_connected\u001b[49m\u001b[43m(\u001b[49m\u001b[43mv\u001b[49m\u001b[43m,\u001b[49m\u001b[43m \u001b[49m\u001b[43mz\u001b[49m\u001b[43m)\u001b[49m\n\u001b[32m    588\u001b[39m     \u001b[38;5;28;01mif\u001b[39;00m con:\n",
      "\u001b[36mFile \u001b[39m\u001b[32m~/github/topsim/venv/lib/python3.12/site-packages/sympy/functions/elementary/miscellaneous.py:622\u001b[39m, in \u001b[36mMinMaxBase._is_connected\u001b[39m\u001b[34m(cls, x, y)\u001b[39m\n\u001b[32m    620\u001b[39m \u001b[38;5;66;03m# simplification can be expensive, so be conservative\u001b[39;00m\n\u001b[32m    621\u001b[39m \u001b[38;5;66;03m# in what is attempted\u001b[39;00m\n\u001b[32m--> \u001b[39m\u001b[32m622\u001b[39m x = \u001b[43mfactor_terms\u001b[49m\u001b[43m(\u001b[49m\u001b[43mx\u001b[49m\u001b[43m \u001b[49m\u001b[43m-\u001b[49m\u001b[43m \u001b[49m\u001b[43my\u001b[49m\u001b[43m)\u001b[49m\n\u001b[32m    623\u001b[39m y = S.Zero\n",
      "\u001b[36mFile \u001b[39m\u001b[32m~/github/topsim/venv/lib/python3.12/site-packages/sympy/core/exprtools.py:1267\u001b[39m, in \u001b[36mfactor_terms\u001b[39m\u001b[34m(expr, radical, clear, fraction, sign)\u001b[39m\n\u001b[32m   1266\u001b[39m expr = sympify(expr)\n\u001b[32m-> \u001b[39m\u001b[32m1267\u001b[39m \u001b[38;5;28;01mreturn\u001b[39;00m \u001b[43mdo\u001b[49m\u001b[43m(\u001b[49m\u001b[43mexpr\u001b[49m\u001b[43m)\u001b[49m\n",
      "\u001b[36mFile \u001b[39m\u001b[32m~/github/topsim/venv/lib/python3.12/site-packages/sympy/core/exprtools.py:1242\u001b[39m, in \u001b[36mfactor_terms.<locals>.do\u001b[39m\u001b[34m(expr)\u001b[39m\n\u001b[32m   1241\u001b[39m \u001b[38;5;28;01mif\u001b[39;00m p.is_Add:\n\u001b[32m-> \u001b[39m\u001b[32m1242\u001b[39m     list_args = [\u001b[43mdo\u001b[49m\u001b[43m(\u001b[49m\u001b[43ma\u001b[49m\u001b[43m)\u001b[49m \u001b[38;5;28;01mfor\u001b[39;00m a \u001b[38;5;129;01min\u001b[39;00m Add.make_args(p)]\n\u001b[32m   1243\u001b[39m     \u001b[38;5;66;03m# get a common negative (if there) which gcd_terms does not remove\u001b[39;00m\n",
      "\u001b[36mFile \u001b[39m\u001b[32m~/github/topsim/venv/lib/python3.12/site-packages/sympy/core/exprtools.py:1230\u001b[39m, in \u001b[36mfactor_terms.<locals>.do\u001b[39m\u001b[34m(expr)\u001b[39m\n\u001b[32m   1229\u001b[39m args = expr.args\n\u001b[32m-> \u001b[39m\u001b[32m1230\u001b[39m newargs = \u001b[38;5;28mtuple\u001b[39m([\u001b[43mdo\u001b[49m\u001b[43m(\u001b[49m\u001b[43mi\u001b[49m\u001b[43m)\u001b[49m \u001b[38;5;28;01mfor\u001b[39;00m i \u001b[38;5;129;01min\u001b[39;00m args])\n\u001b[32m   1231\u001b[39m \u001b[38;5;28;01mif\u001b[39;00m newargs == args:\n",
      "\u001b[36mFile \u001b[39m\u001b[32m~/github/topsim/venv/lib/python3.12/site-packages/sympy/core/exprtools.py:1263\u001b[39m, in \u001b[36mfactor_terms.<locals>.do\u001b[39m\u001b[34m(expr)\u001b[39m\n\u001b[32m   1261\u001b[39m \u001b[38;5;28;01melif\u001b[39;00m p.args:\n\u001b[32m   1262\u001b[39m     p = p.func(\n\u001b[32m-> \u001b[39m\u001b[32m1263\u001b[39m         *[\u001b[43mdo\u001b[49m\u001b[43m(\u001b[49m\u001b[43ma\u001b[49m\u001b[43m)\u001b[49m \u001b[38;5;28;01mfor\u001b[39;00m a \u001b[38;5;129;01min\u001b[39;00m p.args])\n\u001b[32m   1264\u001b[39m rv = _keep_coeff(cont, p, clear=clear, sign=sign)\n",
      "\u001b[36mFile \u001b[39m\u001b[32m~/github/topsim/venv/lib/python3.12/site-packages/sympy/core/exprtools.py:1230\u001b[39m, in \u001b[36mfactor_terms.<locals>.do\u001b[39m\u001b[34m(expr)\u001b[39m\n\u001b[32m   1229\u001b[39m args = expr.args\n\u001b[32m-> \u001b[39m\u001b[32m1230\u001b[39m newargs = \u001b[38;5;28mtuple\u001b[39m([\u001b[43mdo\u001b[49m\u001b[43m(\u001b[49m\u001b[43mi\u001b[49m\u001b[43m)\u001b[49m \u001b[38;5;28;01mfor\u001b[39;00m i \u001b[38;5;129;01min\u001b[39;00m args])\n\u001b[32m   1231\u001b[39m \u001b[38;5;28;01mif\u001b[39;00m newargs == args:\n",
      "    \u001b[31m[... skipping similar frames: factor_terms.<locals>.do at line 1230 (1 times)]\u001b[39m\n",
      "\u001b[36mFile \u001b[39m\u001b[32m~/github/topsim/venv/lib/python3.12/site-packages/sympy/core/exprtools.py:1242\u001b[39m, in \u001b[36mfactor_terms.<locals>.do\u001b[39m\u001b[34m(expr)\u001b[39m\n\u001b[32m   1241\u001b[39m \u001b[38;5;28;01mif\u001b[39;00m p.is_Add:\n\u001b[32m-> \u001b[39m\u001b[32m1242\u001b[39m     list_args = [\u001b[43mdo\u001b[49m\u001b[43m(\u001b[49m\u001b[43ma\u001b[49m\u001b[43m)\u001b[49m \u001b[38;5;28;01mfor\u001b[39;00m a \u001b[38;5;129;01min\u001b[39;00m Add.make_args(p)]\n\u001b[32m   1243\u001b[39m     \u001b[38;5;66;03m# get a common negative (if there) which gcd_terms does not remove\u001b[39;00m\n",
      "\u001b[36mFile \u001b[39m\u001b[32m~/github/topsim/venv/lib/python3.12/site-packages/sympy/core/exprtools.py:1263\u001b[39m, in \u001b[36mfactor_terms.<locals>.do\u001b[39m\u001b[34m(expr)\u001b[39m\n\u001b[32m   1261\u001b[39m \u001b[38;5;28;01melif\u001b[39;00m p.args:\n\u001b[32m   1262\u001b[39m     p = p.func(\n\u001b[32m-> \u001b[39m\u001b[32m1263\u001b[39m         *[\u001b[43mdo\u001b[49m\u001b[43m(\u001b[49m\u001b[43ma\u001b[49m\u001b[43m)\u001b[49m \u001b[38;5;28;01mfor\u001b[39;00m a \u001b[38;5;129;01min\u001b[39;00m p.args])\n\u001b[32m   1264\u001b[39m rv = _keep_coeff(cont, p, clear=clear, sign=sign)\n",
      "    \u001b[31m[... skipping similar frames: factor_terms.<locals>.do at line 1230 (2 times), factor_terms.<locals>.do at line 1242 (1 times), factor_terms.<locals>.do at line 1263 (1 times)]\u001b[39m\n",
      "\u001b[36mFile \u001b[39m\u001b[32m~/github/topsim/venv/lib/python3.12/site-packages/sympy/core/exprtools.py:1242\u001b[39m, in \u001b[36mfactor_terms.<locals>.do\u001b[39m\u001b[34m(expr)\u001b[39m\n\u001b[32m   1241\u001b[39m \u001b[38;5;28;01mif\u001b[39;00m p.is_Add:\n\u001b[32m-> \u001b[39m\u001b[32m1242\u001b[39m     list_args = [\u001b[43mdo\u001b[49m\u001b[43m(\u001b[49m\u001b[43ma\u001b[49m\u001b[43m)\u001b[49m \u001b[38;5;28;01mfor\u001b[39;00m a \u001b[38;5;129;01min\u001b[39;00m Add.make_args(p)]\n\u001b[32m   1243\u001b[39m     \u001b[38;5;66;03m# get a common negative (if there) which gcd_terms does not remove\u001b[39;00m\n",
      "\u001b[36mFile \u001b[39m\u001b[32m~/github/topsim/venv/lib/python3.12/site-packages/sympy/core/exprtools.py:1263\u001b[39m, in \u001b[36mfactor_terms.<locals>.do\u001b[39m\u001b[34m(expr)\u001b[39m\n\u001b[32m   1261\u001b[39m \u001b[38;5;28;01melif\u001b[39;00m p.args:\n\u001b[32m   1262\u001b[39m     p = p.func(\n\u001b[32m-> \u001b[39m\u001b[32m1263\u001b[39m         *[\u001b[43mdo\u001b[49m\u001b[43m(\u001b[49m\u001b[43ma\u001b[49m\u001b[43m)\u001b[49m \u001b[38;5;28;01mfor\u001b[39;00m a \u001b[38;5;129;01min\u001b[39;00m p.args])\n\u001b[32m   1264\u001b[39m rv = _keep_coeff(cont, p, clear=clear, sign=sign)\n",
      "\u001b[36mFile \u001b[39m\u001b[32m~/github/topsim/venv/lib/python3.12/site-packages/sympy/core/exprtools.py:1230\u001b[39m, in \u001b[36mfactor_terms.<locals>.do\u001b[39m\u001b[34m(expr)\u001b[39m\n\u001b[32m   1229\u001b[39m args = expr.args\n\u001b[32m-> \u001b[39m\u001b[32m1230\u001b[39m newargs = \u001b[38;5;28mtuple\u001b[39m([\u001b[43mdo\u001b[49m\u001b[43m(\u001b[49m\u001b[43mi\u001b[49m\u001b[43m)\u001b[49m \u001b[38;5;28;01mfor\u001b[39;00m i \u001b[38;5;129;01min\u001b[39;00m args])\n\u001b[32m   1231\u001b[39m \u001b[38;5;28;01mif\u001b[39;00m newargs == args:\n",
      "\u001b[36mFile \u001b[39m\u001b[32m~/github/topsim/venv/lib/python3.12/site-packages/sympy/core/exprtools.py:1257\u001b[39m, in \u001b[36mfactor_terms.<locals>.do\u001b[39m\u001b[34m(expr)\u001b[39m\n\u001b[32m   1256\u001b[39m     p = Add._from_args(list_args)\n\u001b[32m-> \u001b[39m\u001b[32m1257\u001b[39m     p = \u001b[43mgcd_terms\u001b[49m\u001b[43m(\u001b[49m\u001b[43mp\u001b[49m\u001b[43m,\u001b[49m\n\u001b[32m   1258\u001b[39m \u001b[43m        \u001b[49m\u001b[43misprimitive\u001b[49m\u001b[43m=\u001b[49m\u001b[38;5;28;43;01mTrue\u001b[39;49;00m\u001b[43m,\u001b[49m\n\u001b[32m   1259\u001b[39m \u001b[43m        \u001b[49m\u001b[43mclear\u001b[49m\u001b[43m=\u001b[49m\u001b[43mclear\u001b[49m\u001b[43m,\u001b[49m\n\u001b[32m   1260\u001b[39m \u001b[43m        \u001b[49m\u001b[43mfraction\u001b[49m\u001b[43m=\u001b[49m\u001b[43mfraction\u001b[49m\u001b[43m)\u001b[49m.xreplace(special)\n\u001b[32m   1261\u001b[39m \u001b[38;5;28;01melif\u001b[39;00m p.args:\n",
      "\u001b[36mFile \u001b[39m\u001b[32m~/github/topsim/venv/lib/python3.12/site-packages/sympy/core/exprtools.py:1068\u001b[39m, in \u001b[36mgcd_terms\u001b[39m\u001b[34m(terms, isprimitive, clear, fraction)\u001b[39m\n\u001b[32m   1067\u001b[39m terms, reps = mask(terms)\n\u001b[32m-> \u001b[39m\u001b[32m1068\u001b[39m cont, numer, denom = \u001b[43m_gcd_terms\u001b[49m\u001b[43m(\u001b[49m\u001b[43mterms\u001b[49m\u001b[43m,\u001b[49m\u001b[43m \u001b[49m\u001b[43misprimitive\u001b[49m\u001b[43m,\u001b[49m\u001b[43m \u001b[49m\u001b[43mfraction\u001b[49m\u001b[43m)\u001b[49m\n\u001b[32m   1069\u001b[39m numer = numer.xreplace(reps)\n",
      "\u001b[36mFile \u001b[39m\u001b[32m~/github/topsim/venv/lib/python3.12/site-packages/sympy/core/exprtools.py:953\u001b[39m, in \u001b[36m_gcd_terms\u001b[39m\u001b[34m(terms, isprimitive, fraction)\u001b[39m\n\u001b[32m    952\u001b[39m \u001b[38;5;28;01mfor\u001b[39;00m i, term \u001b[38;5;129;01min\u001b[39;00m \u001b[38;5;28menumerate\u001b[39m(terms):\n\u001b[32m--> \u001b[39m\u001b[32m953\u001b[39m     terms[i] = \u001b[43mterm\u001b[49m\u001b[43m.\u001b[49m\u001b[43mquo\u001b[49m\u001b[43m(\u001b[49m\u001b[43mcont\u001b[49m\u001b[43m)\u001b[49m\n\u001b[32m    955\u001b[39m \u001b[38;5;28;01mif\u001b[39;00m fraction:\n",
      "\u001b[36mFile \u001b[39m\u001b[32m~/github/topsim/venv/lib/python3.12/site-packages/sympy/core/exprtools.py:868\u001b[39m, in \u001b[36mTerm.quo\u001b[39m\u001b[34m(self, other)\u001b[39m\n\u001b[32m    867\u001b[39m \u001b[38;5;28;01mdef\u001b[39;00m\u001b[38;5;250m \u001b[39m\u001b[34mquo\u001b[39m(\u001b[38;5;28mself\u001b[39m, other):  \u001b[38;5;66;03m# Term\u001b[39;00m\n\u001b[32m--> \u001b[39m\u001b[32m868\u001b[39m     \u001b[38;5;28;01mreturn\u001b[39;00m \u001b[38;5;28;43mself\u001b[39;49m\u001b[43m.\u001b[49m\u001b[43mmul\u001b[49m\u001b[43m(\u001b[49m\u001b[43mother\u001b[49m\u001b[43m.\u001b[49m\u001b[43minv\u001b[49m\u001b[43m(\u001b[49m\u001b[43m)\u001b[49m\u001b[43m)\u001b[49m\n",
      "\u001b[36mFile \u001b[39m\u001b[32m~/github/topsim/venv/lib/python3.12/site-packages/sympy/core/exprtools.py:858\u001b[39m, in \u001b[36mTerm.mul\u001b[39m\u001b[34m(self, other)\u001b[39m\n\u001b[32m    857\u001b[39m numer = \u001b[38;5;28mself\u001b[39m.numer.mul(other.numer)\n\u001b[32m--> \u001b[39m\u001b[32m858\u001b[39m denom = \u001b[38;5;28;43mself\u001b[39;49m\u001b[43m.\u001b[49m\u001b[43mdenom\u001b[49m\u001b[43m.\u001b[49m\u001b[43mmul\u001b[49m\u001b[43m(\u001b[49m\u001b[43mother\u001b[49m\u001b[43m.\u001b[49m\u001b[43mdenom\u001b[49m\u001b[43m)\u001b[49m\n\u001b[32m    860\u001b[39m numer, denom = numer.normal(denom)\n",
      "\u001b[36mFile \u001b[39m\u001b[32m~/github/topsim/venv/lib/python3.12/site-packages/sympy/core/exprtools.py:484\u001b[39m, in \u001b[36mFactors.mul\u001b[39m\u001b[34m(self, other)\u001b[39m\n\u001b[32m    482\u001b[39m     factors[factor] = exp\n\u001b[32m--> \u001b[39m\u001b[32m484\u001b[39m \u001b[38;5;28;01mreturn\u001b[39;00m \u001b[43mFactors\u001b[49m\u001b[43m(\u001b[49m\u001b[43mfactors\u001b[49m\u001b[43m)\u001b[49m\n",
      "\u001b[36mFile \u001b[39m\u001b[32m~/github/topsim/venv/lib/python3.12/site-packages/sympy/core/exprtools.py:324\u001b[39m, in \u001b[36mFactors.__init__\u001b[39m\u001b[34m(self, factors)\u001b[39m\n\u001b[32m    323\u001b[39m     factors = factors.factors.copy()\n\u001b[32m--> \u001b[39m\u001b[32m324\u001b[39m \u001b[38;5;28;01melif\u001b[39;00m \u001b[43mfactors\u001b[49m\u001b[43m \u001b[49m\u001b[38;5;129;43;01min\u001b[39;49;00m\u001b[43m \u001b[49m\u001b[43m(\u001b[49m\u001b[38;5;28;43;01mNone\u001b[39;49;00m\u001b[43m,\u001b[49m\u001b[43m \u001b[49m\u001b[43mS\u001b[49m\u001b[43m.\u001b[49m\u001b[43mOne\u001b[49m\u001b[43m)\u001b[49m:\n\u001b[32m    325\u001b[39m     factors = {}\n",
      "\u001b[36mFile \u001b[39m\u001b[32m~/github/topsim/venv/lib/python3.12/site-packages/sympy/core/numbers.py:1939\u001b[39m, in \u001b[36mInteger.__eq__\u001b[39m\u001b[34m(self, other)\u001b[39m\n\u001b[32m   1938\u001b[39m     \u001b[38;5;28;01mreturn\u001b[39;00m (\u001b[38;5;28mself\u001b[39m.p == other.p)\n\u001b[32m-> \u001b[39m\u001b[32m1939\u001b[39m \u001b[38;5;28;01mreturn\u001b[39;00m \u001b[43mRational\u001b[49m\u001b[43m.\u001b[49m\u001b[34;43m__eq__\u001b[39;49m\u001b[43m(\u001b[49m\u001b[38;5;28;43mself\u001b[39;49m\u001b[43m,\u001b[49m\u001b[43m \u001b[49m\u001b[43mother\u001b[49m\u001b[43m)\u001b[49m\n",
      "\u001b[36mFile \u001b[39m\u001b[32m~/github/topsim/venv/lib/python3.12/site-packages/sympy/core/numbers.py:1593\u001b[39m, in \u001b[36mRational.__eq__\u001b[39m\u001b[34m(self, other)\u001b[39m\n\u001b[32m   1592\u001b[39m \u001b[38;5;28;01mtry\u001b[39;00m:\n\u001b[32m-> \u001b[39m\u001b[32m1593\u001b[39m     other = \u001b[43m_sympify\u001b[49m\u001b[43m(\u001b[49m\u001b[43mother\u001b[49m\u001b[43m)\u001b[49m\n\u001b[32m   1594\u001b[39m \u001b[38;5;28;01mexcept\u001b[39;00m SympifyError:\n",
      "\u001b[36mFile \u001b[39m\u001b[32m~/github/topsim/venv/lib/python3.12/site-packages/sympy/core/sympify.py:488\u001b[39m, in \u001b[36m_sympify\u001b[39m\u001b[34m(a)\u001b[39m\n\u001b[32m    485\u001b[39m     \u001b[38;5;28;01mreturn\u001b[39;00m expr\n\u001b[32m--> \u001b[39m\u001b[32m488\u001b[39m \u001b[38;5;28;01mdef\u001b[39;00m\u001b[38;5;250m \u001b[39m\u001b[34m_sympify\u001b[39m(a):\n\u001b[32m    489\u001b[39m \u001b[38;5;250m    \u001b[39m\u001b[33;03m\"\"\"\u001b[39;00m\n\u001b[32m    490\u001b[39m \u001b[33;03m    Short version of :func:`~.sympify` for internal usage for ``__add__`` and\u001b[39;00m\n\u001b[32m    491\u001b[39m \u001b[33;03m    ``__eq__`` methods where it is ok to allow some things (like Python\u001b[39;00m\n\u001b[32m   (...)\u001b[39m\u001b[32m    512\u001b[39m \n\u001b[32m    513\u001b[39m \u001b[33;03m    \"\"\"\u001b[39;00m\n",
      "\u001b[31mKeyboardInterrupt\u001b[39m: ",
      "\nDuring handling of the above exception, another exception occurred:\n",
      "\u001b[31mKeyboardInterrupt\u001b[39m                         Traceback (most recent call last)",
      "\u001b[36mCell\u001b[39m\u001b[36m \u001b[39m\u001b[32mIn[3]\u001b[39m\u001b[32m, line 38\u001b[39m\n\u001b[32m     36\u001b[39m         \u001b[38;5;28mprint\u001b[39m(\u001b[33mf\u001b[39m\u001b[33m\"\u001b[39m\u001b[38;5;132;01m{\u001b[39;00mchannels\u001b[38;5;132;01m=}\u001b[39;00m\u001b[33m,\u001b[39m\u001b[38;5;132;01m{\u001b[39;00ml\u001b[38;5;132;01m=}\u001b[39;00m\u001b[33m,\u001b[39m\u001b[38;5;132;01m{\u001b[39;00mb\u001b[38;5;132;01m=}\u001b[39;00m\u001b[33m\"\u001b[39m)\n\u001b[32m     37\u001b[39m         adjusts = {\u001b[33m'\u001b[39m\u001b[33mNf_max\u001b[39m\u001b[33m'\u001b[39m:channels, \u001b[33m'\u001b[39m\u001b[33mNa\u001b[39m\u001b[33m'\u001b[39m:l, \u001b[33m'\u001b[39m\u001b[33mBmax\u001b[39m\u001b[33m'\u001b[39m: b*\u001b[32m1000\u001b[39m}\n\u001b[32m---> \u001b[39m\u001b[32m38\u001b[39m         \u001b[43mreports\u001b[49m\u001b[43m.\u001b[49m\u001b[43mwrite_csv_hpsos\u001b[49m\u001b[43m(\u001b[49m\u001b[33;43mf\u001b[39;49m\u001b[33;43m'\u001b[39;49m\u001b[38;5;132;43;01m{\u001b[39;49;00m\u001b[43moutput_dir\u001b[49m\u001b[38;5;132;43;01m}\u001b[39;49;00m\u001b[33;43m/ParametricOutput_Low_antenna-\u001b[39;49m\u001b[38;5;132;43;01m{\u001b[39;49;00m\u001b[43ml\u001b[49m\u001b[38;5;132;43;01m}\u001b[39;49;00m\u001b[33;43m_channels-\u001b[39;49m\u001b[38;5;132;43;01m{\u001b[39;49;00m\u001b[43mchannels\u001b[49m\u001b[38;5;132;43;01m}\u001b[39;49;00m\u001b[33;43m-baseline_\u001b[39;49m\u001b[38;5;132;43;01m{\u001b[39;49;00m\u001b[43mb\u001b[49m\u001b[38;5;132;43;01m}\u001b[39;49;00m\u001b[33;43m.csv\u001b[39;49m\u001b[33;43m'\u001b[39;49m\u001b[43m,\u001b[49m\u001b[43mtel_hpsos\u001b[49m\u001b[43m[\u001b[49m\u001b[33;43m'\u001b[39;49m\u001b[33;43mSKA1_Low\u001b[39;49m\u001b[33;43m'\u001b[39;49m\u001b[43m]\u001b[49m\u001b[43m,\u001b[49m\u001b[43m \u001b[49m\u001b[43mparallel\u001b[49m\u001b[43m=\u001b[49m\u001b[32;43m4\u001b[39;49m\u001b[43m,\u001b[49m\u001b[43m \u001b[49m\u001b[43mverbose\u001b[49m\u001b[43m=\u001b[49m\u001b[38;5;28;43;01mFalse\u001b[39;49;00m\u001b[43m,\u001b[49m\u001b[43m \u001b[49m\u001b[43madjusts\u001b[49m\u001b[43m=\u001b[49m\u001b[43madjusts\u001b[49m\u001b[43m)\u001b[49m\n\u001b[32m     39\u001b[39m \u001b[38;5;66;03m# for m in SKA_Mid_antenna:\u001b[39;00m\n\u001b[32m     40\u001b[39m \u001b[38;5;66;03m#     for b in mid_baselines:\u001b[39;00m\n\u001b[32m     41\u001b[39m \u001b[38;5;66;03m#         print(f\"{m=}\")\u001b[39;00m\n\u001b[32m     42\u001b[39m \u001b[38;5;66;03m#         adjusts = {'Nf_max':channels, 'Na':m, 'Bmax': b*1000}\u001b[39;00m\n\u001b[32m     43\u001b[39m \u001b[38;5;66;03m#         reports.write_csv_hpsos(f'{output_dir}/ParametricOutput_Mid_antenna-{m}_channels-{channels}_baseline-{b}.csv',tel_hpsos['SKA1_Mid'], parallel=4, verbose=False, adjusts=adjusts)\u001b[39;00m\n",
      "\u001b[36mFile \u001b[39m\u001b[32m~/github/sdp-par-model/sdp_par_model/reports.py:800\u001b[39m, in \u001b[36mwrite_csv_hpsos\u001b[39m\u001b[34m(filename, hpsos, adjusts, verbose, parallel)\u001b[39m\n\u001b[32m    798\u001b[39m \u001b[38;5;66;03m# Calculate\u001b[39;00m\n\u001b[32m    799\u001b[39m rows = RESULT_MAP \u001b[38;5;66;03m# Everything - hardcoded for now\u001b[39;00m\n\u001b[32m--> \u001b[39m\u001b[32m800\u001b[39m results = \u001b[43m_batch_compute_results\u001b[49m\u001b[43m(\u001b[49m\u001b[43mconfigs\u001b[49m\u001b[43m,\u001b[49m\u001b[43m \u001b[49m\u001b[43mrows\u001b[49m\u001b[43m,\u001b[49m\u001b[43m \u001b[49m\u001b[43mparallel\u001b[49m\u001b[43m,\u001b[49m\u001b[43m \u001b[49m\u001b[43mverbose\u001b[49m\u001b[43m,\u001b[49m\u001b[43m \u001b[49m\u001b[38;5;28;43;01mTrue\u001b[39;49;00m\u001b[43m)\u001b[49m\n\u001b[32m    802\u001b[39m \u001b[38;5;66;03m# Write CSV\u001b[39;00m\n\u001b[32m    803\u001b[39m _write_csv(filename, results, rows)\n",
      "\u001b[36mFile \u001b[39m\u001b[32m~/github/sdp-par-model/sdp_par_model/reports.py:865\u001b[39m, in \u001b[36m_batch_compute_results\u001b[39m\u001b[34m(configs, result_map, parallel, verbose, detailed, quiet)\u001b[39m\n\u001b[32m    863\u001b[39m f = FloatProgress(\u001b[38;5;28mmin\u001b[39m=\u001b[32m0\u001b[39m, \u001b[38;5;28mmax\u001b[39m=\u001b[38;5;28mlen\u001b[39m(configs))\n\u001b[32m    864\u001b[39m display(f)\n\u001b[32m--> \u001b[39m\u001b[32m865\u001b[39m \u001b[43m\u001b[49m\u001b[38;5;28;43;01mwith\u001b[39;49;00m\u001b[43m \u001b[49m\u001b[43mpymp\u001b[49m\u001b[43m.\u001b[49m\u001b[43mParallel\u001b[49m\u001b[43m(\u001b[49m\u001b[43mparallel\u001b[49m\u001b[43m)\u001b[49m\u001b[43m \u001b[49m\u001b[38;5;28;43;01mas\u001b[39;49;00m\u001b[43m \u001b[49m\u001b[43mp\u001b[49m\u001b[43m:\u001b[49m\n\u001b[32m    866\u001b[39m \u001b[43m    \u001b[49m\u001b[38;5;28;43;01mtry\u001b[39;49;00m\u001b[43m:\u001b[49m\n\u001b[32m    867\u001b[39m \u001b[43m        \u001b[49m\u001b[38;5;28;43;01mwhile\u001b[39;49;00m\u001b[43m \u001b[49m\u001b[38;5;28;43;01mTrue\u001b[39;49;00m\u001b[43m:\u001b[49m\n",
      "\u001b[36mFile \u001b[39m\u001b[32m~/github/topsim/venv/lib/python3.12/site-packages/pymp/__init__.py:148\u001b[39m, in \u001b[36mParallel.__exit__\u001b[39m\u001b[34m(self, exc_t, exc_val, exc_tb)\u001b[39m\n\u001b[32m    141\u001b[39m         exc_t, exc_val, thread_num = \u001b[38;5;28mself\u001b[39m._exception_queue.get()\n\u001b[32m    142\u001b[39m         _LOGGER.critical(\n\u001b[32m    143\u001b[39m             \u001b[33m\"\u001b[39m\u001b[33mAn exception occured in thread \u001b[39m\u001b[38;5;132;01m%d\u001b[39;00m\u001b[33m: (\u001b[39m\u001b[38;5;132;01m%s\u001b[39;00m\u001b[33m, \u001b[39m\u001b[38;5;132;01m%s\u001b[39;00m\u001b[33m).\u001b[39m\u001b[33m\"\u001b[39m,\n\u001b[32m    144\u001b[39m             thread_num,\n\u001b[32m    145\u001b[39m             exc_t,\n\u001b[32m    146\u001b[39m             exc_val,\n\u001b[32m    147\u001b[39m         )\n\u001b[32m--> \u001b[39m\u001b[32m148\u001b[39m         \u001b[38;5;28;01mraise\u001b[39;00m exc_t(exc_val)\n\u001b[32m    149\u001b[39m \u001b[38;5;28;01melse\u001b[39;00m:\n\u001b[32m    150\u001b[39m     \u001b[38;5;28;01mif\u001b[39;00m \u001b[38;5;129;01mnot\u001b[39;00m \u001b[38;5;28mself\u001b[39m._exception_queue.empty():\n",
      "\u001b[31mKeyboardInterrupt\u001b[39m: "
     ]
    }
   ],
   "source": [
    "output_dir = \"/home/rwb/github/skaworkflows/skaworkflows/data/sdp-par-model_output/\"\n",
    "\n",
    "# Channels multiplier to go from coarse-grained to fine-grained channels\n",
    "CMULT = 128 \n",
    "\n",
    "# These are the 'coarse-grained' channel values. \n",
    "SKA_channels = [256]\n",
    "\n",
    "# 32 is an arbitrary minimum; 512 hard maximum\n",
    "SKA_Low_antenna = [512]\n",
    "\n",
    "# 64 + N, where 64 is the base number of dishes\n",
    "SKA_Mid_antenna = [197]\n",
    "\n",
    "low_baselines = [4.0625, 8.125,16.25, 32.5\n",
    "]\n",
    "\n",
    "mid_baselines = [\n",
    "150\n",
    "]\n",
    "low_baselines = [65]\n",
    "tel_hpsos = {'SKA1_Low':[], 'SKA1_Mid':[]}\n",
    "for h in HPSOs.hpso_telescopes:\n",
    "    if HPSOs.hpso_telescopes[h] == 'SKA1_Low':\n",
    "        tel_hpsos['SKA1_Low'].append(h)\n",
    "    else:\n",
    "        tel_hpsos['SKA1_Mid'].append(h)\n",
    "\n",
    "for c in SKA_channels:\n",
    "    channels = 128*c\n",
    "    print(f\"{channels=}\")\n",
    "    for l in SKA_Low_antenna:\n",
    "        for b in low_baselines:\n",
    "            if c > 512: \n",
    "                continue\n",
    "            print(f\"{channels=},{l=},{b=}\")\n",
    "            adjusts = {'Nf_max':channels, 'Na':l, 'Bmax': b*1000}\n",
    "            reports.write_csv_hpsos(f'tmp_{channels}.csv',tel_hpsos['SKA1_Low'], parallel=4, verbose=False, adjusts=adjusts)\n",
    "    # for m in SKA_Mid_antenna:\n",
    "    #     for b in mid_baselines:\n",
    "    #         print(f\"{m=}\")\n",
    "    #         adjusts = {'Nf_max':channels, 'Na':m, 'Bmax': b*1000}\n",
    "    #         reports.write_csv_hpsos(f'{output_dir}/ParametricOutput_Mid_antenna-{m}_channels-{channels}_baseline-{b}.csv',tel_hpsos['SKA1_Mid'], parallel=4, verbose=False, adjusts=adjusts)\n"
   ]
  },
  {
   "cell_type": "markdown",
   "id": "96f6cde7",
   "metadata": {},
   "source": [
    "# Post-processing\n",
    "\n",
    "The .csv output that is produced by the `spd-par-model` library contains a significant amount of information that we do not need. We do post-processing/cleaning using Pandas in the [SKA Workflows system sizing](https://github.com/top-sim/skaworkflows/blob/master/skaworkflows/datagen/pandas_system_sizing.py) tool. "
   ]
  }
 ],
 "metadata": {
  "kernelspec": {
   "display_name": "Python 3 (ipykernel)",
   "language": "python",
   "name": "python3"
  },
  "language_info": {
   "codemirror_mode": {
    "name": "ipython",
    "version": 3
   },
   "file_extension": ".py",
   "mimetype": "text/x-python",
   "name": "python",
   "nbconvert_exporter": "python",
   "pygments_lexer": "ipython3",
   "version": "3.12.3"
  },
  "pycharm": {
   "stem_cell": {
    "cell_type": "raw",
    "metadata": {
     "collapsed": false
    },
    "source": []
   }
  }
 },
 "nbformat": 4,
 "nbformat_minor": 5
}

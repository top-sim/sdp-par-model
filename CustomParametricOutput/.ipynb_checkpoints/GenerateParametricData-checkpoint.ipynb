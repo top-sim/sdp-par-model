{
 "cells": [
  {
   "cell_type": "markdown",
   "id": "3693a54f",
   "metadata": {},
   "source": [
    "# Generate Parametric Data\n",
    "\n",
    "This notebook produces working data outputs for the [SKA Workflows](https://github.com/top-sim/skaworkflows/) utility . \n",
    "\n",
    "In order to demonstrate scalability, we generate estimated computing and data requirements for various combinations of telescope usage, varying both the number of channels being observed (up to the maximum 65536) and the number of antennas/stations doing the observing (to a maximum of 512 for SKA-Low, and 197 for SKA-Mid).  "
   ]
  },
  {
   "cell_type": "code",
   "execution_count": null,
   "id": "6500151e",
   "metadata": {
    "scrolled": true,
    "tags": []
   },
   "outputs": [],
   "source": [
    "%cd /home/rwb/github/sdp-par-model\n",
    "import sys\n",
    "from sdp_par_model import reports\n",
    "from sdp_par_model.parameters.definitions import *"
   ]
  },
  {
   "cell_type": "code",
   "execution_count": null,
   "id": "5b0f10ea",
   "metadata": {
    "scrolled": false,
    "tags": []
   },
   "outputs": [],
   "source": [
    "output_dir = \"/home/rwb/github/skaworkflows/skaworkflows/data/sdp-par-model_output/\"\n",
    "\n",
    "# Channels multiplier to go from coarse-grained to fine-grained channels\n",
    "CMULT = 128 \n",
    "\n",
    "# These are the 'coarse-grained' channel values. \n",
    "SKA_channels = [64, 128, 256, 512]\n",
    "\n",
    "# 32 is an arbitrary minimum; 512 hard maximum\n",
    "SKA_Low_antenna = [32, 64, 128, 256, 512]\n",
    "\n",
    "# 64 + N, where 64 is the base number of dishes\n",
    "SKA_Mid_antenna = [64, 102, 140, 197]\n",
    "\n",
    "\n",
    "tel_hpsos = {'SKA1_Low':[], 'SKA1_Mid':[]}\n",
    "for h in HPSOs.hpso_telescopes:\n",
    "    if HPSOs.hpso_telescopes[h] == 'SKA1_Low':\n",
    "        tel_hpsos['SKA1_Low'].append(h)\n",
    "    else:\n",
    "        tel_hpsos['SKA1_Mid'].append(h)\n",
    "\n",
    "for c in SKA_channels:\n",
    "    channels = 128*c\n",
    "    print(f\"{channels=}\")\n",
    "    for l in SKA_Low_antenna:\n",
    "        print(f\"{l=}\")\n",
    "        adjusts = {'Nf_max':channels, 'Na':l}\n",
    "        reports.write_csv_hpsos(f'{output_dir}/ParametricOutput_Low_antenna-{l}_channels-{channels}.csv',tel_hpsos['SKA1_Low'], parallel=0, verbose=False, adjusts=adjusts)\n",
    "    for m in SKA_Mid_antenna:\n",
    "        print(f\"{m=}\")\n",
    "        adjusts = {'Nf_max':channels, 'Na':m}\n",
    "        reports.write_csv_hpsos(f'{output_dir}/ParametricOutput_Mid_antenna-{m}_channels-{channels}.csv',tel_hpsos['SKA1_Mid'], parallel=0, verbose=False, adjusts=adjusts)\n"
   ]
  },
  {
   "cell_type": "markdown",
   "id": "96f6cde7",
   "metadata": {},
   "source": [
    "# Post-processing\n",
    "\n",
    "The .csv output that is produced by the `spd-par-model` library contains a significant amount of information that we do not need. We do post-processing/cleaning using Pandas in the [SKA Workflows system sizing](https://github.com/top-sim/skaworkflows/blob/master/skaworkflows/datagen/pandas_system_sizing.py) tool. "
   ]
  }
 ],
 "metadata": {
  "kernelspec": {
   "display_name": "Python 3 (ipykernel)",
   "language": "python",
   "name": "python3"
  },
  "language_info": {
   "codemirror_mode": {
    "name": "ipython",
    "version": 3
   },
   "file_extension": ".py",
   "mimetype": "text/x-python",
   "name": "python",
   "nbconvert_exporter": "python",
   "pygments_lexer": "ipython3",
   "version": "3.8.10"
  },
  "pycharm": {
   "stem_cell": {
    "cell_type": "raw",
    "metadata": {
     "collapsed": false
    },
    "source": []
   }
  }
 },
 "nbformat": 4,
 "nbformat_minor": 5
}

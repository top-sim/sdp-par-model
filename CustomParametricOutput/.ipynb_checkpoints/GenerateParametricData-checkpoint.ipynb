{
 "cells": [
  {
   "cell_type": "code",
   "execution_count": 1,
   "id": "6500151e",
   "metadata": {
    "tags": []
   },
   "outputs": [
    {
     "name": "stdout",
     "output_type": "stream",
     "text": [
      "/home/rwb/github/sdp-par-model\n",
      "2021-06-02_LongBaseline_HPSOs.csv        \u001b[0m\u001b[01;34mout\u001b[0m/\n",
      "2021-06-02_MidBaseline_HPSOs.csv         Output_16250\n",
      "2021-06-02_ShortBaseline_HPSOs.csv       Output_32500\n",
      "2023-03-19_long_HPSOs.csv                Output_4062.5\n",
      "2023-03-19_mid_HPSOs.csv                 Output_65000.csv\n",
      "2023-03-19_short_HPSOs.csv               output.json\n",
      "65000_Output_UpdateStructVisibility.csv  README.md\n",
      "\u001b[01;34mCustomParametricOutput\u001b[0m/                  requirements.txt\n",
      "\u001b[01;34mdata\u001b[0m/                                    run_schedule.py\n",
      "\u001b[01;34mdocs\u001b[0m/                                    \u001b[01;34msdp_par_model\u001b[0m/\n",
      "Jenkinsfile                              setup.py\n",
      "LICENSE                                  testfileoutput.csv\n",
      "LongBaseline_WithVisibilities_HPSOs.csv  testfileoutput_midbaseline.csv\n",
      "\u001b[01;34mnotebooks\u001b[0m/                               \u001b[01;34mtests\u001b[0m/\n"
     ]
    }
   ],
   "source": [
    "%cd /home/rwb/github/sdp-par-model\n",
    "import sys\n",
    "# sys.path.extend(['/home/rwb/github/sdp-par-model', '/home/rwb/github/skaworkflows'])\n",
    "from sdp_par_model import reports\n",
    "from sdp_par_model.parameters.definitions import *\n"
   ]
  },
  {
   "cell_type": "code",
   "execution_count": null,
   "id": "5b0f10ea",
   "metadata": {
    "tags": []
   },
   "outputs": [],
   "source": [
    "output_dir = \"/home/rwb/github/skaworkflows/skaworkflows/data/sdp-par-model_output/\"\n",
    "reports.write_csv_hpsos(f'{output_dir}/2023-03-19_long_HPSOs.csv', HPSOs.available_hpsos, parallel=0, verbose=False)\n",
    "# reports.write_csv_hpsos(f'{output_dir}/2023-03-19_mid_HPSOs.csv', HPSOs.available_hpsos, parallel=0, verbose=True, adjusts={'Bmax': 32500})\n",
    "# reports.write_csv_hpsos(f'2023-03-19_x_HPSOs.csv', HPSOs.available_hpsos, parallel=0, verbose=True, adjusts={'Bmax': 16250})\n",
    "# reports.write_csv_hpsos(f'{output_dir}/2023-03-19_short_HPSOs', HPSOs.available_hpsos, parallel=0, verbose=True, adjusts={'Bmax': 4062.5})"
   ]
  },
  {
   "cell_type": "code",
   "execution_count": null,
   "id": "98777214",
   "metadata": {},
   "outputs": [],
   "source": []
  }
 ],
 "metadata": {
  "kernelspec": {
   "display_name": "Python 3 (ipykernel)",
   "language": "python",
   "name": "python3"
  },
  "language_info": {
   "codemirror_mode": {
    "name": "ipython",
    "version": 3
   },
   "file_extension": ".py",
   "mimetype": "text/x-python",
   "name": "python",
   "nbconvert_exporter": "python",
   "pygments_lexer": "ipython3",
   "version": "3.8.10"
  }
 },
 "nbformat": 4,
 "nbformat_minor": 5
}

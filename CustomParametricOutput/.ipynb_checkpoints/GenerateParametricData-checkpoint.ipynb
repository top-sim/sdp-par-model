{
 "cells": [
  {
   "cell_type": "code",
   "execution_count": 1,
   "id": "6500151e",
   "metadata": {
    "tags": []
   },
   "outputs": [
    {
     "name": "stdout",
     "output_type": "stream",
     "text": [
      "/home/rwb/github/sdp-par-model\n"
     ]
    }
   ],
   "source": [
    "%cd /home/rwb/github/sdp-par-model\n",
    "import sys\n",
    "# sys.path.extend(['/home/rwb/github/sdp-par-model', '/home/rwb/github/skaworkflows'])\n",
    "from sdp_par_model import reports\n",
    "\n",
    "from sdp_par_model.parameters.definitions import *"
   ]
  },
  {
   "cell_type": "code",
   "execution_count": null,
   "id": "5b0f10ea",
   "metadata": {
    "scrolled": true,
    "tags": []
   },
   "outputs": [
    {
     "data": {
      "text/html": [
       "<font color=\"blue\">Calculating 179 configurations -- this may take quite a while.</font>"
      ],
      "text/plain": [
       "<IPython.core.display.HTML object>"
      ]
     },
     "metadata": {},
     "output_type": "display_data"
    },
    {
     "name": "stdout",
     "output_type": "stream",
     "text": [
      "result_expressions=['', 'SKA1_Low', 'Low', 0.05, 0.2, 'Ingest', True, False, True, 32768, 65.0, 0.900000000000000, 18000.0, 7200000.0, 18000000.0, 600, '(undefined)', '(undefined)', '(undefined)', 512, [4.0625, 8.125, 16.25, 32.5, 65.0], [46.30065759, 13.06774736, 14.783606060000002, 18.58770454, 7.26028445], '', '(undefined)', 15.8253982444002, '(undefined)', 15.5284372846325, 3.10568745692650, '(undefined)', 18344.2263492353, '(undefined)', 66415.1847562999, 39849.1108537799, 0.666666666666667, 2.20500000000000, 1.35, 5, 38, '', 10.0, <sdp_par_model.parameters.container.BLDep object at 0x7f4f252e02b0>, '(undefined)', '(undefined)', <sdp_par_model.parameters.container.BLDep object at 0x7f4f252d3700>, '(undefined)', <sdp_par_model.parameters.container.BLDep object at 0x7f4f25293430>, <sdp_par_model.parameters.container.BLDep object at 0x7f4f25293cd0>, '(undefined)', '(undefined)', '(undefined)', '(undefined)', '', '(undefined)', '(undefined)', 32768, '(undefined)', <sdp_par_model.parameters.container.BLDep object at 0x7f4f25333d90>, <sdp_par_model.parameters.container.BLDep object at 0x7f4f25333fd0>, '(undefined)', <sdp_par_model.parameters.container.BLDep object at 0x7f4f252c17c0>, 65536, 65536, '', 4781.50656000000, <sdp_par_model.parameters.container.BLDep object at 0x7f4f252fc070>, '(undefined)', '(undefined)', '', <sdp_par_model.parameters.container.BLDep object at 0x7f4f252e9760>, <sdp_par_model.parameters.container.BLDep object at 0x7f4f252e9070>, <sdp_par_model.parameters.container.BLDep object at 0x7f4f252e9c70>, '(undefined)', '(undefined)', '', '(undefined)', '(undefined)', '(undefined)', '(undefined)', '', <sdp_par_model.parameters.container.BLDep object at 0x7f4f252edd30>, '(undefined)', 2.69208512281583, 1411427.92487087, 0, 600, 0, 0, '(undefined)', '(undefined)', '', 8.26244333568000, 0.459024629760000, 0.0, {}, 0.457235060053333, 0, 0, '', 0.632428093239751, {'Receive': 0.000153053721031111, 'Flag': 0.0106340705894400, 'Demix': 0.621334952509440, 'Average': 0.000306016419840000}, {'Receive': 0.459024629760000, 'Flag': 0.459024629760000, 'Demix': 0.459024629760000, 'Average': 0.457235060053333}, '', {'Receive': 0.0, 'Demix': 0.0, 'Average': 0.0}]\n",
      "results_for_pipeline=['', 'SKA1_Low', 'Low', 0.05, 0.2, 'Ingest', True, False, True, 32768, 65.0, 0.9, 18000.0, 7200000.0, 18000000.0, 600, '(undefined)', '(undefined)', '(undefined)', 512, [4.0625, 8.125, 16.25, 32.5, 65.0], [46.30065759, 13.06774736, 14.783606060000002, 18.58770454, 7.26028445], '', '(undefined)', 15.825398244400175, '(undefined)', 15.528437284632478, 3.1056874569264954, '(undefined)', 18344.226349235312, '(undefined)', 66415.18475629989, 39849.11085377993, 0.6666666666666672, 2.2049999999999983, 1.35, 5.0, 38, '', 10.0, [29.7, 14.4, 7.2, 3.6, 1.8], '(undefined)', '(undefined)', [33.0, 16.0, 8.0, 4.0, 2.0], '(undefined)', [10.0, 10.0, 10.0, 10.0, 10.0], [10.0, 10.0, 10.0, 10.0, 10.0], '(undefined)', '(undefined)', '(undefined)', '(undefined)', '', '(undefined)', '(undefined)', 32768.0, '(undefined)', [32768.0, 32768.0, 32768.0, 32768.0, 32768.0], [32768.0, 32768.0, 32768.0, 32768.0, 32768.0], '(undefined)', [32768.0, 32768.0, 32768.0, 32768.0, 32768.0], 65536, 65536, '', 4781.50656, [2205.2379118408826, 622.3991925949363, 704.1232296509295, 885.3073126667203, 345.79756213542004], '(undefined)', '(undefined)', '', [0.08631221653969713, 0.3452488661587885, 1.380995464635154, 5.523981858540616, 22.095927434162466], [23.70821469784657, 47.41642939569314, 94.83285879138629, 189.66571758277257, 379.33143516554514], [23.70821469784657, 47.41642939569314, 94.83285879138629, 189.66571758277257, 379.33143516554514], '(undefined)', '(undefined)', '', '(undefined)', '(undefined)', '(undefined)', '(undefined)', '', [0.9690986917269505, 0.27351527018332167, 0.3094291536551937, 0.3890510651367424, 0.15196181929779204], '(undefined)', 2.692085122815833, 1411427.9248708675, 0.0, 600, 0.0, 0.0, '(undefined)', '(undefined)', '', 8.26244333568, 0.45902462976, 0.0, {}, 0.45723506005333336, 0.0, 0.0, '', 0.6324280932397511, {'Receive': 0.00015305372103111112, 'Flag': 0.01063407058944, 'Demix': 0.62133495250944, 'Average': 0.00030601641983999994}, {'Receive': 0.45902462976, 'Flag': 0.45902462976, 'Demix': 0.45902462976, 'Average': 0.4572350600533334}, '', {'Receive': 0.0, 'Demix': 0.0, 'Average': 0.0}]\n",
      "result_expressions=['', 'SKA1_Low', 'Low', 0.05, 0.2, 'RCAL', True, False, True, 32768, 65.0, 0.900000000000000, 18000.0, 7200000.0, 18000000.0, 600, 1, 167.450993371155, 167.450993371155, 512, [4.0625, 8.125, 16.25, 32.5, 65.0], [46.30065759, 13.06774736, 14.783606060000002, 18.58770454, 7.26028445], '', 42.7285752598805, 42.7285752598805, '(undefined)', 15.5284372846325, 3.10568745692650, 49529.4111429353, 49529.4111429353, '(undefined)', 66415.1847562999, 39849.1108537799, 0.666666666666667, 2.20500000000000, 1.35, 5, 38, '', 10.0, <sdp_par_model.parameters.container.BLDep object at 0x7f4f250d0220>, <sdp_par_model.parameters.container.BLDep object at 0x7f4f25114850>, <sdp_par_model.parameters.container.BLDep object at 0x7f4f252e0520>, <sdp_par_model.parameters.container.BLDep object at 0x7f4f252d3880>, <sdp_par_model.parameters.container.BLDep object at 0x7f4f25270490>, <sdp_par_model.parameters.container.BLDep object at 0x7f4f251e8940>, <sdp_par_model.parameters.container.BLDep object at 0x7f4f251e8d30>, <sdp_par_model.parameters.container.BLDep object at 0x7f4f250d0640>, <sdp_par_model.parameters.container.BLDep object at 0x7f4f251e8f10>, <sdp_par_model.parameters.container.BLDep object at 0x7f4f250caa30>, <sdp_par_model.parameters.container.BLDep object at 0x7f4f250ca2e0>, '', <sdp_par_model.parameters.container.BLDep object at 0x7f4f251af970>, <sdp_par_model.parameters.container.BLDep object at 0x7f4f252162b0>, 200, <sdp_par_model.parameters.container.BLDep object at 0x7f4f25125b80>, <sdp_par_model.parameters.container.BLDep object at 0x7f4f25114520>, <sdp_par_model.parameters.container.BLDep object at 0x7f4f250cbb50>, <sdp_par_model.parameters.container.BLDep object at 0x7f4f25229e50>, <sdp_par_model.parameters.container.BLDep object at 0x7f4f25110e50>, 40, 40, '', 4781.50656000000, <sdp_par_model.parameters.container.BLDep object at 0x7f4f251b4520>, <sdp_par_model.parameters.container.BLDep object at 0x7f4f2531f880>, <sdp_par_model.parameters.container.BLDep object at 0x7f4f25194c10>, '', <sdp_par_model.parameters.container.BLDep object at 0x7f4f250cac40>, <sdp_par_model.parameters.container.BLDep object at 0x7f4f250d6130>, <sdp_par_model.parameters.container.BLDep object at 0x7f4f251f9910>, 2.26532806720804, 1.0, '', <sdp_par_model.parameters.container.BLDep object at 0x7f4f250d6670>, <sdp_par_model.parameters.container.BLDep object at 0x7f4f251b4190>, <sdp_par_model.parameters.container.BLDep object at 0x7f4f250d6c40>, <sdp_par_model.parameters.container.BLDep object at 0x7f4f250cb880>, '', <sdp_par_model.parameters.container.BLDep object at 0x7f4f2523f6a0>, 19.6253005453274, 19.6253005453274, 6280.09617450478, 2.35929600000000, 10, 100.466688000000, 0.262144000000000, '(undefined)', 7.18326234166302e-5, '', 8.26244333568000, 0.459024629760000, 0.0, {}, 0.735668593577022, 0.0673846101636937, 0.0104668269575080, '', 0.100443024482857/log(2) + 0.603136214508582, {'DFT': 0.501349268591246, 'Flag': 0.00855214740033288, 'Correct': 0.0294267437430809, 'Solve': 0.00123014085446837, 'Subtract Visibility': 6.13057161314185e-5, 'Visibility Weighting': 8.98461468849250e-5, 'Grid': 0.0310171280227654, 'Degrid': 0.0310171280227654, 'FFT': 0.0118419007685841/log(2), 'IFFT': 0.0592095038429203/log(2), 'Reprojection': 6.54176684844247e-5, 'Reprojection Predict': 0.000327088342422124, 'Gridding Kernel Update': 0.0146958099356764/log(2), 'Degridding Kernel Update': 0.0146958099356764/log(2), 'Phase Rotation Predict': 0, 'Phase Rotation': 0}, {'DFT': 0.367834296788511, 'Flag': 0.367834296788511, 'Correct': 0.367834296788511, 'Solve': 2.62144000000000e-7, 'Subtract Visibility': 0.367834296788511, 'Visibility Weighting': 0.00414379038011864, 'Grid': 13.3658006746284, 'Degrid': 0.0673846101636937, 'FFT': 0.0104668269575080, 'IFFT': 0.0523362480424152, 'Reprojection': 0.0104668269575080, 'Reprojection Predict': 0.0523341347875398, 'Gridding Kernel Update': 102.949657040449, 'Degridding Kernel Update': 102.949657040449, 'Phase Rotation Predict': 0, 'Phase Rotation': 0}, '', {'DFT': 0.0292900505917751, 'Flag': 3831.60725821366, 'Correct': 3831.60725821366, 'Solve': 3831.60725821366, 'Subtract Visibility': 3831.60725821366, 'Visibility Weighting': 3831.60725821366, 'Grid': 5615.38418030781, 'Degrid': 5615.38418030781, 'FFT': 0.0495294111429353, 'IFFT': 0.247647055714677, 'Reprojection': 2453.16256816593, 'Reprojection Predict': 12265.8128408296, 'Gridding Kernel Update': 2550.88574958641, 'Degridding Kernel Update': 2550.88574958641, 'Phase Rotation Predict': 3831.60725821366, 'Phase Rotation': 3831.60725821366}]\n",
      "results_for_pipeline=['', 'SKA1_Low', 'Low', 0.05, 0.2, 'RCAL', True, False, True, 32768, 65.0, 0.9, 18000.0, 7200000.0, 18000000.0, 600, 1.0, 167.45099337115516, 167.45099337115516, 512, [4.0625, 8.125, 16.25, 32.5, 65.0], [46.30065759, 13.06774736, 14.783606060000002, 18.58770454, 7.26028445], '', 42.72857525988047, 42.72857525988047, '(undefined)', 15.528437284632478, 3.1056874569264954, 49529.41114293534, 49529.41114293534, '(undefined)', 66415.18475629989, 39849.11085377993, 0.6666666666666672, 2.2049999999999983, 1.35, 5.0, 38, '', 10.0, [10.8, 5.4, 2.7, 0.9, 0.9], [10.0, 5.4, 2.7, 0.9, 0.9], [10.0, 5.4, 2.7, 0.9, 0.9], [12.0, 6.0, 3.0, 1.0, 1.0], [12.0, 6.0, 3.0, 1.0, 1.0], [10.0, 10.0, 10.0, 10.0, 10.0], [10.0, 10.0, 10.0, 10.0, 10.0], [6.017714258950438, 22.283145065880998, 89.12320823273265, 534.7111318252174, 1069.3941453405644], [6.017714258950438, 22.283145065880998, 89.12320823273265, 534.7111318252174, 1069.3941453405644], [5.78669300796814, 18.941566912390144, 48.273628981612184, 63.98590504991095, 63.999996894443576], [5.78669300796814, 18.941566912390144, 48.273628981612184, 63.98590504991095, 63.999996894443576], '', [1648.215074483811, 3295.7371475272034, 6590.78122076136, 13180.869330776477, 26361.045532597625], [1648.215074483811, 3295.7371475272034, 6590.78122076136, 13180.869330776477, 26361.045532597625], 200.0, [273.8938745774346, 273.8938745774346, 273.8938745774346, 273.8938745774346, 273.8938745774346], [1648.215074483811, 3295.7371475272034, 6590.78122076136, 13180.869330776477, 26361.045532597625], [26361.045532597625, 26361.045532597625, 26361.045532597625, 26361.045532597625, 26361.045532597625], [273.8938745774346, 273.8938745774346, 273.8938745774346, 273.8938745774346, 273.8938745774346], [1648.215074483811, 3295.7371475272034, 6590.78122076136, 13180.869330776477, 26361.045532597625], 40, 40, '', 4781.50656, [1774.059356819092, 500.7047563307835, 566.449722820674, 712.2078362899492, 278.18558595315744], [9.98301920229312, 10.43326893934158, 47.207867015433585, 356.1132814282506, 278.18558595315744], [9.98301920229312, 10.43326893934158, 47.207867015433585, 356.1132814282506, 278.18558595315744], '', [0.08631221653969713, 0.3452488661587885, 1.380995464635154, 5.523981858540616, 22.095927434162466], [23.70821469784657, 47.41642939569314, 94.83285879138629, 189.66571758277257, 379.33143516554514], [23.70821469784657, 47.41642939569314, 94.83285879138629, 189.66571758277257, 379.33143516554514], 2.2653280672080394, 1.0, '', [9.571439561603464, 9.571439561603464, 9.571439561603464, 9.571439561603464, 9.571439561603464], [13.13820593846161, 13.13820593846161, 13.13820593846161, 13.13820593846161, 13.13820593846161], [9.571439561603464, 9.571439561603464, 9.571439561603464, 9.571439561603464, 9.571439561603464], [13.13820593846161, 13.13820593846161, 13.13820593846161, 13.13820593846161, 13.13820593846161], '', [1277.3227369097463, 360.50742455816413, 407.8438004308853, 512.7896421287635, 200.29362188627337], 19.62530054532742, 19.625300545327423, 6280.096174504775, 2.359296, 10, 100.466688, 0.262144, '(undefined)', 7.183262341663025e-05, '', 8.26244333568, 0.45902462976, 0.0, {}, 0.735668593577022, 0.06738461016369374, 0.010466826957507957, '', 0.7480448678218885, {'DFT': 0.501349268591246, 'Flag': 0.008552147400332883, 'Correct': 0.029426743743080883, 'Solve': 0.0012301408544683702, 'Subtract Visibility': 6.130571613141851e-05, 'Visibility Weighting': 8.984614688492499e-05, 'Grid': 0.031017128022765433, 'Degrid': 0.031017128022765433, 'FFT': 0.017084251513535414, 'IFFT': 0.08542125756767707, 'Reprojection': 6.541766848442473e-05, 'Reprojection Predict': 0.00032708834242212365, 'Gridding Kernel Update': 0.02120157211604704, 'Degridding Kernel Update': 0.02120157211604704, 'Phase Rotation Predict': 0.0, 'Phase Rotation': 0.0}, {'DFT': 0.36783429678851104, 'Flag': 0.36783429678851104, 'Correct': 0.36783429678851104, 'Solve': 2.62144e-07, 'Subtract Visibility': 0.36783429678851104, 'Visibility Weighting': 0.0041437903801186384, 'Grid': 13.36580067462845, 'Degrid': 0.06738461016369374, 'FFT': 0.010466826957507957, 'IFFT': 0.05233624804241522, 'Reprojection': 0.010466826957507957, 'Reprojection Predict': 0.05233413478753979, 'Gridding Kernel Update': 102.94965704044932, 'Degridding Kernel Update': 102.94965704044932, 'Phase Rotation Predict': 0.0, 'Phase Rotation': 0.0}, '', {'DFT': 0.02929005059177514, 'Flag': 3831.6072582136567, 'Correct': 3831.6072582136567, 'Solve': 3831.607258213656, 'Subtract Visibility': 3831.6072582136567, 'Visibility Weighting': 3831.6072582136567, 'Grid': 5615.384180307812, 'Degrid': 5615.384180307812, 'FFT': 0.049529411142935346, 'IFFT': 0.24764705571467674, 'Reprojection': 2453.1625681659275, 'Reprojection Predict': 12265.812840829638, 'Gridding Kernel Update': 2550.885749586411, 'Degridding Kernel Update': 2550.885749586411, 'Phase Rotation Predict': 3831.6072582136567, 'Phase Rotation': 3831.6072582136567}]\n"
     ]
    }
   ],
   "source": [
    "output_dir = \"/home/rwb/github/skaworkflows/skaworkflows/data/sdp-par-model_output/\"\n",
    "reports.write_csv_hpsos(f'{output_dir}/2023-04-10_long_HPSOs.csv', HPSOs.available_hpsos, parallel=0, verbose=False)\n",
    "# reports.write_csv_hpsos(f'{output_dir}/2023-03-19_mid_HPSOs.csv', HPSOs.available_hpsos, parallel=0, verbose=True, adjusts={'Bmax': 32500})\n",
    "# reports.write_csv_hpsos(f'2023-03-19_x_HPSOs.csv', HPSOs.available_hpsos, parallel=0, verbose=True, adjusts={'Bmax': 16250})\n",
    "# reports.write_csv_hpsos(f'{output_dir}/2023-print003-19_short_HPSOs', HPSOs.available_hpsos, parallel=0, verbose=True, adjusts={'Bmax': 4062.5})"
   ]
  },
  {
   "cell_type": "code",
   "execution_count": null,
   "id": "98777214",
   "metadata": {
    "tags": []
   },
   "outputs": [
    {
     "data": {
      "text/plain": [
       "3831.60725821366"
      ]
     },
     "execution_count": 9,
     "metadata": {},
     "output_type": "execute_result"
    }
   ],
   "source": [
    "Rvis = 29290.0505917751\n",
    "Rvis_bdep = 3831607258.21366\n",
    "Rvis_N = 6130571613141.85\n",
    "\n",
    "Rvis_N / 1600\n",
    "Rvis_bdep / (10**6)\n",
    "# Rvis / (10**6)"
   ]
  }
 ],
 "metadata": {
  "kernelspec": {
   "display_name": "Python 3 (ipykernel)",
   "language": "python",
   "name": "python3"
  },
  "language_info": {
   "codemirror_mode": {
    "name": "ipython",
    "version": 3
   },
   "file_extension": ".py",
   "mimetype": "text/x-python",
   "name": "python",
   "nbconvert_exporter": "python",
   "pygments_lexer": "ipython3",
   "version": "3.8.10"
  }
 },
 "nbformat": 4,
 "nbformat_minor": 5
}

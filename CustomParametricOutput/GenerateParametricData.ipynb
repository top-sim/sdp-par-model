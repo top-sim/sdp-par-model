{
 "cells": [
  {
   "cell_type": "markdown",
   "id": "3693a54f",
   "metadata": {},
   "source": [
    "# Generate Parametric Data\n",
    "\n",
    "This notebook produces working data outputs for the [SKA Workflows](https://github.com/top-sim/skaworkflows/) utility . \n",
    "\n",
    "In order to demonstrate scalability, we generate estimated computing and data requirements for various combinations of telescope usage, varying both the number of channels being observed (up to the maximum 65536) and the number of antennas/stations doing the observing (to a maximum of 512 for SKA-Low, and 197 for SKA-Mid).  "
   ]
  },
  {
   "cell_type": "code",
   "execution_count": null,
   "id": "e512b351-7c4b-4927-9198-be3e7d20e442",
   "metadata": {},
   "outputs": [],
   "source": []
  },
  {
   "cell_type": "code",
   "execution_count": 1,
   "id": "6500151e",
   "metadata": {
    "scrolled": true,
    "tags": []
   },
   "outputs": [
    {
     "name": "stdout",
     "output_type": "stream",
     "text": [
      "/home/rwb/github/sdp-par-model\n"
     ]
    }
   ],
   "source": [
    "%cd /home/rwb/github/sdp-par-model\n",
    "import sys\n",
    "from sdp_par_model import reports\n",
    "from sdp_par_model.parameters.definitions import *"
   ]
  },
  {
   "cell_type": "code",
   "execution_count": 2,
   "id": "7e9a3b71-1ab9-4a85-91cd-a6e8c6846d56",
   "metadata": {},
   "outputs": [],
   "source": [
    "LOW_OBSERVATIONS = {\n",
    "    \"hpso01\": {\n",
    "        \"duration\": 18000,\n",
    "        \"baseline\": 65000,\n",
    "        \"workflows\": [\"ICAL\", \"DPrepA\", \"DPrepB\", \"DPrepC\", \"DPrepD\"],\n",
    "        \"ratio\": 1,\n",
    "    },\n",
    "    \"hpso02a\": {\n",
    "        \"duration\": 18000,\n",
    "        \"baseline\": 65000,\n",
    "        \"workflows\": [\"ICAL\", \"DPrepA\", \"DPrepB\", \"DPrepC\", \"DPrepD\"],\n",
    "        \"ratio\": 2,\n",
    "    },\n",
    "    \"hpso02b\": {\n",
    "        \"duration\": 18000,\n",
    "        \"baseline\": 65000,\n",
    "        \"workflows\": [\"ICAL\", \"DPrepA\", \"DPrepB\", \"DPrepC\", \"DPrepD\"],\n",
    "        \"ratio\": 2,\n",
    "    },\n",
    "}\n",
    "\n",
    "# TODO These defaults really should be stored in SKAWorkflows and referenced exclusively\n",
    "# there until the end of time. Bonus points for wrapping the SDP parametric model\n",
    "\n",
    "MID_OBSERVATIONS = {\n",
    "    \"hpso13\": {\n",
    "        \"duration\": 28800,\n",
    "        \"baseline\": 35000,\n",
    "        \"workflows\": [\"ICAL\", \"DPrepA\", \"DPrepB\", \"DPrepC\"],\n",
    "        \"ratio\": 1,\n",
    "    },\n",
    "    \"hpso15\": {\n",
    "        \"duration\": 15840,\n",
    "        \"baseline\": 15000,\n",
    "        \"workflows\": [\"ICAL\", \"DPrepA\", \"DPrepB\", \"DPrepC\"],\n",
    "        \"ratio\": 2,\n",
    "    },\n",
    "    \"hpso22\": {\n",
    "        \"duration\": 28800,\n",
    "        \"baseline\": 150000,\n",
    "        \"workflows\": [\"ICAL\", \"DPrepA\", \"DPrepB\"],\n",
    "        \"ratio\": 2,\n",
    "    },\n",
    "    \"hpso32\": {\n",
    "        \"duration\": 7920,\n",
    "        \"baseline\": 20000,\n",
    "        \"workflows\": [\"ICAL\", \"DPrepB\"],\n",
    "        \"ratio\": 4,\n",
    "    },\n",
    "}\n"
   ]
  },
  {
   "cell_type": "code",
   "execution_count": 3,
   "id": "5b0f10ea",
   "metadata": {
    "scrolled": true,
    "tags": []
   },
   "outputs": [
    {
     "name": "stdout",
     "output_type": "stream",
     "text": [
      "channels=32768\n",
      "channels=32768,l=512,b=65\n",
      "hpso='hpso01',hpso_pipe='Ingest'\n",
      "hpso='hpso01',hpso_pipe='RCAL'\n",
      "hpso='hpso01',hpso_pipe='FastImg'\n",
      "hpso='hpso01',hpso_pipe='ICAL'\n",
      "hpso='hpso01',hpso_pipe='DPrepA'\n",
      "hpso='hpso01',hpso_pipe='DPrepB'\n",
      "hpso='hpso01',hpso_pipe='DPrepC'\n",
      "hpso='hpso01',hpso_pipe='DPrepD'\n",
      "hpso='hpso02a',hpso_pipe='Ingest'\n",
      "hpso='hpso02a',hpso_pipe='RCAL'\n",
      "hpso='hpso02a',hpso_pipe='FastImg'\n",
      "hpso='hpso02a',hpso_pipe='ICAL'\n",
      "hpso='hpso02a',hpso_pipe='DPrepA'\n",
      "hpso='hpso02a',hpso_pipe='DPrepB'\n",
      "hpso='hpso02a',hpso_pipe='DPrepC'\n",
      "hpso='hpso02a',hpso_pipe='DPrepD'\n",
      "hpso='hpso02b',hpso_pipe='Ingest'\n",
      "hpso='hpso02b',hpso_pipe='RCAL'\n",
      "hpso='hpso02b',hpso_pipe='FastImg'\n",
      "hpso='hpso02b',hpso_pipe='ICAL'\n",
      "hpso='hpso02b',hpso_pipe='DPrepA'\n",
      "hpso='hpso02b',hpso_pipe='DPrepB'\n",
      "hpso='hpso02b',hpso_pipe='DPrepC'\n",
      "hpso='hpso02b',hpso_pipe='DPrepD'\n",
      "hpso='hpso04a',hpso_pipe='Ingest'\n",
      "hpso='hpso04a',hpso_pipe='RCAL'\n",
      "hpso='hpso04a',hpso_pipe='FastImg'\n",
      "hpso='hpso04a',hpso_pipe='PSS'\n",
      "hpso='hpso05a',hpso_pipe='Ingest'\n",
      "hpso='hpso05a',hpso_pipe='RCAL'\n",
      "hpso='hpso05a',hpso_pipe='FastImg'\n",
      "hpso='hpso05a',hpso_pipe='PST'\n"
     ]
    },
    {
     "data": {
      "text/html": [
       "<font color=\"blue\">Calculating 32 configurations -- this may take quite a while.</font>"
      ],
      "text/plain": [
       "<IPython.core.display.HTML object>"
      ]
     },
     "metadata": {},
     "output_type": "display_data"
    },
    {
     "data": {
      "application/vnd.jupyter.widget-view+json": {
       "model_id": "3559fcc67b6f415fa69d22221bc51e3d",
       "version_major": 2,
       "version_minor": 0
      },
      "text/plain": [
       "FloatProgress(value=0.0, max=32.0)"
      ]
     },
     "metadata": {},
     "output_type": "display_data"
    },
    {
     "name": "stdout",
     "output_type": "stream",
     "text": [
      "hpso='hpso05a',hpso_pipe='PST'\n",
      "hpso='hpso05a',hpso_pipe='FastImg'\n",
      "hpso='hpso04a',hpso_pipe='PSS'\n",
      "hpso='hpso05a',hpso_pipe='RCAL'hpso='hpso04a',hpso_pipe='FastImg'\n",
      "\n",
      "hpso='hpso05a',hpso_pipe='Ingest'\n",
      "hpso='hpso04a',hpso_pipe='RCAL'\n",
      "hpso='hpso04a',hpso_pipe='Ingest'\n",
      "hpso='hpso02b',hpso_pipe='DPrepD'\n",
      "hpso='hpso02b',hpso_pipe='DPrepC'\n",
      "hpso='hpso02b',hpso_pipe='DPrepA'\n",
      "hpso='hpso02b',hpso_pipe='DPrepB'\n",
      "hpso='hpso02b',hpso_pipe='ICAL'\n",
      "hpso='hpso02b',hpso_pipe='FastImg'\n",
      "hpso='hpso02b',hpso_pipe='Ingest'\n",
      "hpso='hpso02b',hpso_pipe='RCAL'\n",
      "hpso='hpso02a',hpso_pipe='DPrepD'\n",
      "hpso='hpso02a',hpso_pipe='DPrepC'\n",
      "hpso='hpso02a',hpso_pipe='DPrepB'\n",
      "hpso='hpso02a',hpso_pipe='DPrepA'\n",
      "hpso='hpso02a',hpso_pipe='ICAL'\n",
      "hpso='hpso02a',hpso_pipe='FastImg'\n",
      "hpso='hpso02a',hpso_pipe='RCAL'\n",
      "hpso='hpso02a',hpso_pipe='Ingest'\n",
      "hpso='hpso01',hpso_pipe='DPrepD'\n",
      "hpso='hpso01',hpso_pipe='DPrepC'\n",
      "hpso='hpso01',hpso_pipe='DPrepB'\n",
      "hpso='hpso01',hpso_pipe='DPrepA'\n",
      "\n",
      "hpso='hpso01',hpso_pipe='ICAL'hpso='hpso01',hpso_pipe='RCAL'\n",
      "hpso='hpso01',hpso_pipe='FastImg'\n",
      "hpso='hpso01',hpso_pipe='Ingest'\n"
     ]
    },
    {
     "data": {
      "text/html": [
       "<font color=\"blue\">Results written to tmp_32768.csv.</font>"
      ],
      "text/plain": [
       "<IPython.core.display.HTML object>"
      ]
     },
     "metadata": {},
     "output_type": "display_data"
    }
   ],
   "source": [
    "output_dir = \"/home/rwb/github/skaworkflows/skaworkflows/data/sdp-par-model_output/\"\n",
    "\n",
    "# Channels multiplier to go from coarse-grained to fine-grained channels\n",
    "CMULT = 128 \n",
    "\n",
    "# These are the 'coarse-grained' channel values. \n",
    "SKA_channels = [256]\n",
    "\n",
    "# 32 is an arbitrary minimum; 512 hard maximum\n",
    "SKA_Low_antenna = [512]\n",
    "\n",
    "# 64 + N, where 64 is the base number of dishes\n",
    "SKA_Mid_antenna = [197]\n",
    "\n",
    "low_baselines = [4.0625, 8.125,16.25, 32.5\n",
    "]\n",
    "\n",
    "mid_baselines = [\n",
    "150\n",
    "]\n",
    "low_baselines = [65]\n",
    "tel_hpsos = {'SKA1_Low':[], 'SKA1_Mid':[]}\n",
    "for h in HPSOs.hpso_telescopes:\n",
    "    if HPSOs.hpso_telescopes[h] == 'SKA1_Low':\n",
    "        tel_hpsos['SKA1_Low'].append(h)\n",
    "    else:\n",
    "        tel_hpsos['SKA1_Mid'].append(h)\n",
    "\n",
    "for c in SKA_channels:\n",
    "    channels = 128*c\n",
    "    print(f\"{channels=}\")\n",
    "    for l in SKA_Low_antenna:\n",
    "        for b in low_baselines:\n",
    "            if c > 512: \n",
    "                continue\n",
    "            print(f\"{channels=},{l=},{b=}\")\n",
    "            adjusts = {'Nf_max':channels, 'Na':l, 'Bmax': b*1000}\n",
    "            reports.write_csv_hpsos(f'tmp_{channels}.csv',tel_hpsos['SKA1_Low'], parallel=4, verbose=False, adjusts=adjusts)\n",
    "    # for m in SKA_Mid_antenna:\n",
    "    #     for b in mid_baselines:\n",
    "    #         print(f\"{m=}\")\n",
    "    #         adjusts = {'Nf_max':channels, 'Na':m, 'Bmax': b*1000}\n",
    "    #         reports.write_csv_hpsos(f'{output_dir}/ParametricOutput_Mid_antenna-{m}_channels-{channels}_baseline-{b}.csv',tel_hpsos['SKA1_Mid'], parallel=4, verbose=False, adjusts=adjusts)\n"
   ]
  },
  {
   "cell_type": "markdown",
   "id": "96f6cde7",
   "metadata": {},
   "source": [
    "# Post-processing\n",
    "\n",
    "The .csv output that is produced by the `spd-par-model` library contains a significant amount of information that we do not need. We do post-processing/cleaning using Pandas in the [SKA Workflows system sizing](https://github.com/top-sim/skaworkflows/blob/master/skaworkflows/datagen/pandas_system_sizing.py) tool. "
   ]
  }
 ],
 "metadata": {
  "kernelspec": {
   "display_name": "Python 3 (ipykernel)",
   "language": "python",
   "name": "python3"
  },
  "language_info": {
   "codemirror_mode": {
    "name": "ipython",
    "version": 3
   },
   "file_extension": ".py",
   "mimetype": "text/x-python",
   "name": "python",
   "nbconvert_exporter": "python",
   "pygments_lexer": "ipython3",
   "version": "3.12.3"
  },
  "pycharm": {
   "stem_cell": {
    "cell_type": "raw",
    "metadata": {
     "collapsed": false
    },
    "source": []
   }
  }
 },
 "nbformat": 4,
 "nbformat_minor": 5
}

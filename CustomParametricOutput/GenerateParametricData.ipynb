{
 "cells": [
  {
   "cell_type": "code",
   "execution_count": 1,
   "id": "6500151e",
   "metadata": {
    "tags": []
   },
   "outputs": [
    {
     "name": "stdout",
     "output_type": "stream",
     "text": [
      "/home/rwb/github/sdp-par-model\n"
     ]
    }
   ],
   "source": [
    "%cd /home/rwb/github/sdp-par-model\n",
    "import sys\n",
    "# sys.path.extend(['/home/rwb/github/sdp-par-model', '/home/rwb/github/skaworkflows'])\n",
    "from sdp_par_model import reports\n",
    "\n",
    "from sdp_par_model.parameters.definitions import *"
   ]
  },
  {
   "cell_type": "code",
   "execution_count": 2,
   "id": "5b0f10ea",
   "metadata": {
    "scrolled": true,
    "tags": []
   },
   "outputs": [
    {
     "data": {
      "text/html": [
       "<font color=\"blue\">Calculating 179 configurations -- this may take quite a while.</font>"
      ],
      "text/plain": [
       "<IPython.core.display.HTML object>"
      ]
     },
     "metadata": {},
     "output_type": "display_data"
    },
    {
     "data": {
      "text/html": [
       "<p>Calculating hpso01 (Ingest) []...</p>"
      ],
      "text/plain": [
       "<IPython.core.display.HTML object>"
      ]
     },
     "metadata": {},
     "output_type": "display_data"
    },
    {
     "name": "stdout",
     "output_type": "stream",
     "text": [
      "Baseline coalescing on\n"
     ]
    },
    {
     "data": {
      "text/html": [
       "<p>Calculating hpso01 (RCAL) []...</p>"
      ],
      "text/plain": [
       "<IPython.core.display.HTML object>"
      ]
     },
     "metadata": {},
     "output_type": "display_data"
    },
    {
     "name": "stdout",
     "output_type": "stream",
     "text": [
      "Baseline coalescing on\n",
      "Evaluating Nfacet=1 -> DeltaW_stack=2.26533, Rflop=7.48045e+14\n",
      "Evaluating Nfacet=2 -> DeltaW_stack=3.52852, Rflop=7.85429e+14\n",
      "Evaluating Nfacet=3 -> DeltaW_stack=4.89673, Rflop=7.9518e+14\n",
      "Nfacet=1, DeltaW_stack=2.26533  yielded the lowest value of Rflop=7.48045e+14\n"
     ]
    },
    {
     "data": {
      "text/html": [
       "<p>Calculating hpso01 (FastImg) []...</p>"
      ],
      "text/plain": [
       "<IPython.core.display.HTML object>"
      ]
     },
     "metadata": {},
     "output_type": "display_data"
    },
    {
     "name": "stdout",
     "output_type": "stream",
     "text": [
      "Baseline coalescing on\n",
      "Evaluating Nfacet=1 -> DeltaW_stack=15.7048, Rflop=3.80693e+14\n",
      "Evaluating Nfacet=2 -> DeltaW_stack=22.0043, Rflop=3.96687e+14\n",
      "Evaluating Nfacet=3 -> DeltaW_stack=22.0959, Rflop=4.12988e+14\n",
      "Nfacet=1, DeltaW_stack=15.7048  yielded the lowest value of Rflop=3.80693e+14\n"
     ]
    },
    {
     "data": {
      "text/html": [
       "<p>Calculating hpso01 (ICAL) []...</p>"
      ],
      "text/plain": [
       "<IPython.core.display.HTML object>"
      ]
     },
     "metadata": {},
     "output_type": "display_data"
    },
    {
     "name": "stdout",
     "output_type": "stream",
     "text": [
      "Baseline coalescing on\n",
      "Evaluating Nfacet=1 -> DeltaW_stack=2.26533, Rflop=6.87878e+15\n",
      "Evaluating Nfacet=2 -> DeltaW_stack=3.52852, Rflop=7.21548e+15\n",
      "Evaluating Nfacet=3 -> DeltaW_stack=4.89673, Rflop=7.30367e+15\n",
      "Nfacet=1, DeltaW_stack=2.26533  yielded the lowest value of Rflop=6.87878e+15\n"
     ]
    },
    {
     "data": {
      "text/html": [
       "<p>Calculating hpso01 (DPrepA) []...</p>"
      ],
      "text/plain": [
       "<IPython.core.display.HTML object>"
      ]
     },
     "metadata": {},
     "output_type": "display_data"
    },
    {
     "name": "stdout",
     "output_type": "stream",
     "text": [
      "Baseline coalescing on\n",
      "Evaluating Nfacet=1 -> DeltaW_stack=5.19355, Rflop=2.35417e+15\n",
      "Evaluating Nfacet=2 -> DeltaW_stack=8.64226, Rflop=2.49773e+15\n",
      "Evaluating Nfacet=3 -> DeltaW_stack=13.1784, Rflop=2.56233e+15\n",
      "Nfacet=1, DeltaW_stack=5.19355  yielded the lowest value of Rflop=2.35417e+15\n"
     ]
    },
    {
     "data": {
      "text/html": [
       "<p>Calculating hpso01 (DPrepB) []...</p>"
      ],
      "text/plain": [
       "<IPython.core.display.HTML object>"
      ]
     },
     "metadata": {},
     "output_type": "display_data"
    },
    {
     "name": "stdout",
     "output_type": "stream",
     "text": [
      "Baseline coalescing on\n",
      "Evaluating Nfacet=1 -> DeltaW_stack=8.50083, Rflop=2.50398e+15\n",
      "Evaluating Nfacet=2 -> DeltaW_stack=13.5579, Rflop=2.64938e+15\n",
      "Evaluating Nfacet=3 -> DeltaW_stack=19.7564, Rflop=2.72488e+15\n",
      "Nfacet=1, DeltaW_stack=8.50083  yielded the lowest value of Rflop=2.50398e+15\n"
     ]
    },
    {
     "data": {
      "text/html": [
       "<p>Calculating hpso01 (DPrepC) []...</p>"
      ],
      "text/plain": [
       "<IPython.core.display.HTML object>"
      ]
     },
     "metadata": {},
     "output_type": "display_data"
    },
    {
     "name": "stdout",
     "output_type": "stream",
     "text": [
      "Baseline coalescing on\n",
      "Evaluating Nfacet=1 -> DeltaW_stack=7.88658, Rflop=5.11978e+15\n",
      "Evaluating Nfacet=2 -> DeltaW_stack=11.7622, Rflop=5.68437e+15\n",
      "Evaluating Nfacet=3 -> DeltaW_stack=17.2255, Rflop=5.87022e+15\n",
      "Nfacet=1, DeltaW_stack=7.88658  yielded the lowest value of Rflop=5.11978e+15\n"
     ]
    },
    {
     "data": {
      "text/html": [
       "<p>Calculating hpso01 (DPrepD) []...</p>"
      ],
      "text/plain": [
       "<IPython.core.display.HTML object>"
      ]
     },
     "metadata": {},
     "output_type": "display_data"
    },
    {
     "name": "stdout",
     "output_type": "stream",
     "text": [
      "Baseline coalescing on\n"
     ]
    },
    {
     "data": {
      "text/html": [
       "<p>Calculating hpso02a (Ingest) []...</p>"
      ],
      "text/plain": [
       "<IPython.core.display.HTML object>"
      ]
     },
     "metadata": {},
     "output_type": "display_data"
    },
    {
     "name": "stdout",
     "output_type": "stream",
     "text": [
      "Baseline coalescing on\n"
     ]
    },
    {
     "data": {
      "text/html": [
       "<p>Calculating hpso02a (RCAL) []...</p>"
      ],
      "text/plain": [
       "<IPython.core.display.HTML object>"
      ]
     },
     "metadata": {},
     "output_type": "display_data"
    },
    {
     "name": "stdout",
     "output_type": "stream",
     "text": [
      "Baseline coalescing on\n",
      "Evaluating Nfacet=1 -> DeltaW_stack=2.26533, Rflop=7.48045e+14\n",
      "Evaluating Nfacet=2 -> DeltaW_stack=3.52852, Rflop=7.85429e+14\n",
      "Evaluating Nfacet=3 -> DeltaW_stack=4.89673, Rflop=7.9518e+14\n",
      "Nfacet=1, DeltaW_stack=2.26533  yielded the lowest value of Rflop=7.48045e+14\n"
     ]
    },
    {
     "data": {
      "text/html": [
       "<p>Calculating hpso02a (FastImg) []...</p>"
      ],
      "text/plain": [
       "<IPython.core.display.HTML object>"
      ]
     },
     "metadata": {},
     "output_type": "display_data"
    },
    {
     "name": "stdout",
     "output_type": "stream",
     "text": [
      "Baseline coalescing on\n",
      "Evaluating Nfacet=1 -> DeltaW_stack=15.7048, Rflop=3.80693e+14\n",
      "Evaluating Nfacet=2 -> DeltaW_stack=22.0043, Rflop=3.96687e+14\n",
      "Evaluating Nfacet=3 -> DeltaW_stack=22.0959, Rflop=4.12988e+14\n",
      "Nfacet=1, DeltaW_stack=15.7048  yielded the lowest value of Rflop=3.80693e+14\n"
     ]
    },
    {
     "data": {
      "text/html": [
       "<p>Calculating hpso02a (ICAL) []...</p>"
      ],
      "text/plain": [
       "<IPython.core.display.HTML object>"
      ]
     },
     "metadata": {},
     "output_type": "display_data"
    },
    {
     "name": "stdout",
     "output_type": "stream",
     "text": [
      "Baseline coalescing on\n",
      "Evaluating Nfacet=1 -> DeltaW_stack=3.2465, Rflop=4.01434e+15\n",
      "Evaluating Nfacet=2 -> DeltaW_stack=4.89673, Rflop=4.33941e+15\n",
      "Evaluating Nfacet=3 -> DeltaW_stack=7.31988, Rflop=4.3476e+15\n",
      "Nfacet=1, DeltaW_stack=3.2465  yielded the lowest value of Rflop=4.01434e+15\n"
     ]
    },
    {
     "data": {
      "text/html": [
       "<p>Calculating hpso02a (DPrepA) []...</p>"
      ],
      "text/plain": [
       "<IPython.core.display.HTML object>"
      ]
     },
     "metadata": {},
     "output_type": "display_data"
    },
    {
     "name": "stdout",
     "output_type": "stream",
     "text": [
      "Baseline coalescing on\n",
      "Evaluating Nfacet=1 -> DeltaW_stack=5.19355, Rflop=2.35417e+15\n",
      "Evaluating Nfacet=2 -> DeltaW_stack=8.64226, Rflop=2.49773e+15\n",
      "Evaluating Nfacet=3 -> DeltaW_stack=13.1784, Rflop=2.56233e+15\n",
      "Nfacet=1, DeltaW_stack=5.19355  yielded the lowest value of Rflop=2.35417e+15\n"
     ]
    },
    {
     "data": {
      "text/html": [
       "<p>Calculating hpso02a (DPrepB) []...</p>"
      ],
      "text/plain": [
       "<IPython.core.display.HTML object>"
      ]
     },
     "metadata": {},
     "output_type": "display_data"
    },
    {
     "name": "stdout",
     "output_type": "stream",
     "text": [
      "Baseline coalescing on\n",
      "Evaluating Nfacet=1 -> DeltaW_stack=8.50083, Rflop=2.50398e+15\n",
      "Evaluating Nfacet=2 -> DeltaW_stack=13.5579, Rflop=2.64938e+15\n",
      "Evaluating Nfacet=3 -> DeltaW_stack=19.7564, Rflop=2.72488e+15\n",
      "Nfacet=1, DeltaW_stack=8.50083  yielded the lowest value of Rflop=2.50398e+15\n"
     ]
    },
    {
     "data": {
      "text/html": [
       "<p>Calculating hpso02a (DPrepC) []...</p>"
      ],
      "text/plain": [
       "<IPython.core.display.HTML object>"
      ]
     },
     "metadata": {},
     "output_type": "display_data"
    },
    {
     "name": "stdout",
     "output_type": "stream",
     "text": [
      "Baseline coalescing on\n",
      "Evaluating Nfacet=1 -> DeltaW_stack=7.88658, Rflop=5.11978e+15\n",
      "Evaluating Nfacet=2 -> DeltaW_stack=11.7622, Rflop=5.68437e+15\n",
      "Evaluating Nfacet=3 -> DeltaW_stack=17.2255, Rflop=5.87022e+15\n",
      "Nfacet=1, DeltaW_stack=7.88658  yielded the lowest value of Rflop=5.11978e+15\n"
     ]
    },
    {
     "data": {
      "text/html": [
       "<p>Calculating hpso02a (DPrepD) []...</p>"
      ],
      "text/plain": [
       "<IPython.core.display.HTML object>"
      ]
     },
     "metadata": {},
     "output_type": "display_data"
    },
    {
     "name": "stdout",
     "output_type": "stream",
     "text": [
      "Baseline coalescing on\n"
     ]
    },
    {
     "data": {
      "text/html": [
       "<p>Calculating hpso02b (Ingest) []...</p>"
      ],
      "text/plain": [
       "<IPython.core.display.HTML object>"
      ]
     },
     "metadata": {},
     "output_type": "display_data"
    },
    {
     "name": "stdout",
     "output_type": "stream",
     "text": [
      "Baseline coalescing on\n"
     ]
    },
    {
     "data": {
      "text/html": [
       "<p>Calculating hpso02b (RCAL) []...</p>"
      ],
      "text/plain": [
       "<IPython.core.display.HTML object>"
      ]
     },
     "metadata": {},
     "output_type": "display_data"
    },
    {
     "name": "stdout",
     "output_type": "stream",
     "text": [
      "Baseline coalescing on\n",
      "Evaluating Nfacet=1 -> DeltaW_stack=2.26533, Rflop=7.48045e+14\n",
      "Evaluating Nfacet=2 -> DeltaW_stack=3.52852, Rflop=7.85429e+14\n",
      "Evaluating Nfacet=3 -> DeltaW_stack=4.89673, Rflop=7.9518e+14\n",
      "Nfacet=1, DeltaW_stack=2.26533  yielded the lowest value of Rflop=7.48045e+14\n"
     ]
    },
    {
     "data": {
      "text/html": [
       "<p>Calculating hpso02b (FastImg) []...</p>"
      ],
      "text/plain": [
       "<IPython.core.display.HTML object>"
      ]
     },
     "metadata": {},
     "output_type": "display_data"
    },
    {
     "name": "stdout",
     "output_type": "stream",
     "text": [
      "Baseline coalescing on\n",
      "Evaluating Nfacet=1 -> DeltaW_stack=15.7048, Rflop=3.80693e+14\n",
      "Evaluating Nfacet=2 -> DeltaW_stack=22.0043, Rflop=3.96687e+14\n",
      "Evaluating Nfacet=3 -> DeltaW_stack=22.0959, Rflop=4.12988e+14\n",
      "Nfacet=1, DeltaW_stack=15.7048  yielded the lowest value of Rflop=3.80693e+14\n"
     ]
    },
    {
     "data": {
      "text/html": [
       "<p>Calculating hpso02b (ICAL) []...</p>"
      ],
      "text/plain": [
       "<IPython.core.display.HTML object>"
      ]
     },
     "metadata": {},
     "output_type": "display_data"
    },
    {
     "name": "stdout",
     "output_type": "stream",
     "text": [
      "Baseline coalescing on\n",
      "Evaluating Nfacet=1 -> DeltaW_stack=3.2465, Rflop=4.01434e+15\n",
      "Evaluating Nfacet=2 -> DeltaW_stack=4.89673, Rflop=4.33941e+15\n",
      "Evaluating Nfacet=3 -> DeltaW_stack=7.31988, Rflop=4.3476e+15\n",
      "Nfacet=1, DeltaW_stack=3.2465  yielded the lowest value of Rflop=4.01434e+15\n"
     ]
    },
    {
     "data": {
      "text/html": [
       "<p>Calculating hpso02b (DPrepA) []...</p>"
      ],
      "text/plain": [
       "<IPython.core.display.HTML object>"
      ]
     },
     "metadata": {},
     "output_type": "display_data"
    },
    {
     "name": "stdout",
     "output_type": "stream",
     "text": [
      "Baseline coalescing on\n",
      "Evaluating Nfacet=1 -> DeltaW_stack=5.19355, Rflop=2.35417e+15\n",
      "Evaluating Nfacet=2 -> DeltaW_stack=8.64226, Rflop=2.49773e+15\n",
      "Evaluating Nfacet=3 -> DeltaW_stack=13.1784, Rflop=2.56233e+15\n",
      "Nfacet=1, DeltaW_stack=5.19355  yielded the lowest value of Rflop=2.35417e+15\n"
     ]
    },
    {
     "data": {
      "text/html": [
       "<p>Calculating hpso02b (DPrepB) []...</p>"
      ],
      "text/plain": [
       "<IPython.core.display.HTML object>"
      ]
     },
     "metadata": {},
     "output_type": "display_data"
    },
    {
     "name": "stdout",
     "output_type": "stream",
     "text": [
      "Baseline coalescing on\n",
      "Evaluating Nfacet=1 -> DeltaW_stack=8.50083, Rflop=2.50398e+15\n",
      "Evaluating Nfacet=2 -> DeltaW_stack=13.5579, Rflop=2.64938e+15\n",
      "Evaluating Nfacet=3 -> DeltaW_stack=19.7564, Rflop=2.72488e+15\n",
      "Nfacet=1, DeltaW_stack=8.50083  yielded the lowest value of Rflop=2.50398e+15\n"
     ]
    },
    {
     "data": {
      "text/html": [
       "<p>Calculating hpso02b (DPrepC) []...</p>"
      ],
      "text/plain": [
       "<IPython.core.display.HTML object>"
      ]
     },
     "metadata": {},
     "output_type": "display_data"
    },
    {
     "name": "stdout",
     "output_type": "stream",
     "text": [
      "Baseline coalescing on\n",
      "Evaluating Nfacet=1 -> DeltaW_stack=7.88658, Rflop=5.11978e+15\n",
      "Evaluating Nfacet=2 -> DeltaW_stack=11.7622, Rflop=5.68437e+15\n",
      "Evaluating Nfacet=3 -> DeltaW_stack=17.2255, Rflop=5.87022e+15\n",
      "Nfacet=1, DeltaW_stack=7.88658  yielded the lowest value of Rflop=5.11978e+15\n"
     ]
    },
    {
     "data": {
      "text/html": [
       "<p>Calculating hpso02b (DPrepD) []...</p>"
      ],
      "text/plain": [
       "<IPython.core.display.HTML object>"
      ]
     },
     "metadata": {},
     "output_type": "display_data"
    },
    {
     "name": "stdout",
     "output_type": "stream",
     "text": [
      "Baseline coalescing on\n"
     ]
    },
    {
     "data": {
      "text/html": [
       "<p>Calculating hpso04a (Ingest) []...</p>"
      ],
      "text/plain": [
       "<IPython.core.display.HTML object>"
      ]
     },
     "metadata": {},
     "output_type": "display_data"
    },
    {
     "name": "stdout",
     "output_type": "stream",
     "text": [
      "Baseline coalescing on\n"
     ]
    },
    {
     "data": {
      "text/html": [
       "<p>Calculating hpso04a (RCAL) []...</p>"
      ],
      "text/plain": [
       "<IPython.core.display.HTML object>"
      ]
     },
     "metadata": {},
     "output_type": "display_data"
    },
    {
     "name": "stdout",
     "output_type": "stream",
     "text": [
      "Baseline coalescing on\n",
      "Evaluating Nfacet=1 -> DeltaW_stack=13.1162, Rflop=2.16732e+14\n",
      "Evaluating Nfacet=2 -> DeltaW_stack=20.3351, Rflop=2.29674e+14\n",
      "Evaluating Nfacet=3 -> DeltaW_stack=28.0986, Rflop=2.36042e+14\n",
      "Nfacet=1, DeltaW_stack=13.1162  yielded the lowest value of Rflop=2.16732e+14\n"
     ]
    },
    {
     "data": {
      "text/html": [
       "<p>Calculating hpso04a (FastImg) []...</p>"
      ],
      "text/plain": [
       "<IPython.core.display.HTML object>"
      ]
     },
     "metadata": {},
     "output_type": "display_data"
    },
    {
     "name": "stdout",
     "output_type": "stream",
     "text": [
      "Baseline coalescing on\n",
      "Evaluating Nfacet=1 -> DeltaW_stack=58.0018, Rflop=1.16228e+14\n",
      "Evaluating Nfacet=2 -> DeltaW_stack=58.0018, Rflop=1.21592e+14\n",
      "Evaluating Nfacet=3 -> DeltaW_stack=58.0018, Rflop=1.26875e+14\n",
      "Nfacet=1, DeltaW_stack=58.0018  yielded the lowest value of Rflop=1.16228e+14\n"
     ]
    },
    {
     "data": {
      "text/html": [
       "<p>Calculating hpso04a (PSS) []...</p>"
      ],
      "text/plain": [
       "<IPython.core.display.HTML object>"
      ]
     },
     "metadata": {},
     "output_type": "display_data"
    },
    {
     "name": "stdout",
     "output_type": "stream",
     "text": [
      "Baseline coalescing on\n"
     ]
    },
    {
     "data": {
      "text/html": [
       "<p>Calculating hpso04b (Ingest) []...</p>"
      ],
      "text/plain": [
       "<IPython.core.display.HTML object>"
      ]
     },
     "metadata": {},
     "output_type": "display_data"
    },
    {
     "name": "stdout",
     "output_type": "stream",
     "text": [
      "Baseline coalescing on\n"
     ]
    },
    {
     "data": {
      "text/html": [
       "<p>Calculating hpso04b (RCAL) []...</p>"
      ],
      "text/plain": [
       "<IPython.core.display.HTML object>"
      ]
     },
     "metadata": {},
     "output_type": "display_data"
    },
    {
     "name": "stdout",
     "output_type": "stream",
     "text": [
      "Baseline coalescing on\n",
      "Evaluating Nfacet=1 -> DeltaW_stack=182.682, Rflop=1.58649e+15\n",
      "Evaluating Nfacet=2 -> DeltaW_stack=301.192, Rflop=1.48184e+15\n",
      "Evaluating Nfacet=3 -> DeltaW_stack=475.757, Rflop=1.17001e+15\n",
      "Evaluating Nfacet=4 -> DeltaW_stack=666.98, Rflop=1.03008e+15\n",
      "Evaluating Nfacet=5 -> DeltaW_stack=856.088, Rflop=9.71548e+14\n",
      "Evaluating Nfacet=6 -> DeltaW_stack=1022.11, Rflop=9.49748e+14\n",
      "Evaluating Nfacet=7 -> DeltaW_stack=1191.94, Rflop=9.44583e+14\n",
      "Evaluating Nfacet=8 -> DeltaW_stack=1348.5, Rflop=9.55369e+14\n",
      "Evaluating Nfacet=9 -> DeltaW_stack=1563.88, Rflop=9.73315e+14\n",
      "Nfacet=7, DeltaW_stack=1191.94  yielded the lowest value of Rflop=9.44583e+14\n"
     ]
    },
    {
     "data": {
      "text/html": [
       "<p>Calculating hpso04b (FastImg) []...</p>"
      ],
      "text/plain": [
       "<IPython.core.display.HTML object>"
      ]
     },
     "metadata": {},
     "output_type": "display_data"
    },
    {
     "name": "stdout",
     "output_type": "stream",
     "text": [
      "Baseline coalescing on\n",
      "Evaluating Nfacet=1 -> DeltaW_stack=1135.34, Rflop=3.59671e+14\n",
      "Evaluating Nfacet=2 -> DeltaW_stack=1135.34, Rflop=3.81482e+14\n",
      "Evaluating Nfacet=3 -> DeltaW_stack=1135.34, Rflop=3.81208e+14\n",
      "Evaluating Nfacet=4 -> DeltaW_stack=1135.34, Rflop=3.83075e+14\n",
      "Evaluating Nfacet=5 -> DeltaW_stack=1135.34, Rflop=3.86637e+14\n",
      "Nfacet=1, DeltaW_stack=1135.34  yielded the lowest value of Rflop=3.59671e+14\n"
     ]
    },
    {
     "data": {
      "text/html": [
       "<p>Calculating hpso04b (PSS) []...</p>"
      ],
      "text/plain": [
       "<IPython.core.display.HTML object>"
      ]
     },
     "metadata": {},
     "output_type": "display_data"
    },
    {
     "name": "stdout",
     "output_type": "stream",
     "text": [
      "Baseline coalescing on\n"
     ]
    },
    {
     "data": {
      "text/html": [
       "<p>Calculating hpso04c (Ingest) []...</p>"
      ],
      "text/plain": [
       "<IPython.core.display.HTML object>"
      ]
     },
     "metadata": {},
     "output_type": "display_data"
    },
    {
     "name": "stdout",
     "output_type": "stream",
     "text": [
      "Baseline coalescing on\n"
     ]
    },
    {
     "data": {
      "text/html": [
       "<p>Calculating hpso04c (RCAL) []...</p>"
      ],
      "text/plain": [
       "<IPython.core.display.HTML object>"
      ]
     },
     "metadata": {},
     "output_type": "display_data"
    },
    {
     "name": "stdout",
     "output_type": "stream",
     "text": [
      "Baseline coalescing on\n",
      "Evaluating Nfacet=1 -> DeltaW_stack=604.464, Rflop=9.35859e+14\n",
      "Evaluating Nfacet=2 -> DeltaW_stack=965.887, Rflop=8.72973e+14\n",
      "Evaluating Nfacet=3 -> DeltaW_stack=1547.04, Rflop=6.9207e+14\n",
      "Evaluating Nfacet=4 -> DeltaW_stack=2128.6, Rflop=6.14191e+14\n",
      "Evaluating Nfacet=5 -> DeltaW_stack=2848.41, Rflop=5.74695e+14\n",
      "Evaluating Nfacet=6 -> DeltaW_stack=3567.67, Rflop=5.61859e+14\n",
      "Evaluating Nfacet=7 -> DeltaW_stack=4163.05, Rflop=5.57535e+14\n",
      "Evaluating Nfacet=8 -> DeltaW_stack=4664.96, Rflop=5.64592e+14\n",
      "Evaluating Nfacet=9 -> DeltaW_stack=5941.8, Rflop=5.7517e+14\n",
      "Nfacet=7, DeltaW_stack=4163.05  yielded the lowest value of Rflop=5.57535e+14\n"
     ]
    },
    {
     "data": {
      "text/html": [
       "<p>Calculating hpso04c (FastImg) []...</p>"
      ],
      "text/plain": [
       "<IPython.core.display.HTML object>"
      ]
     },
     "metadata": {},
     "output_type": "display_data"
    },
    {
     "name": "stdout",
     "output_type": "stream",
     "text": [
      "Baseline coalescing on\n",
      "Evaluating Nfacet=1 -> DeltaW_stack=2035.6, Rflop=2.32293e+14\n",
      "Evaluating Nfacet=2 -> DeltaW_stack=2035.6, Rflop=2.55086e+14\n",
      "Evaluating Nfacet=3 -> DeltaW_stack=2035.6, Rflop=2.53654e+14\n",
      "Evaluating Nfacet=4 -> DeltaW_stack=2035.6, Rflop=2.53773e+14\n",
      "Evaluating Nfacet=5 -> DeltaW_stack=2035.6, Rflop=2.55064e+14\n",
      "Nfacet=1, DeltaW_stack=2035.6  yielded the lowest value of Rflop=2.32293e+14\n"
     ]
    },
    {
     "data": {
      "text/html": [
       "<p>Calculating hpso04c (PSS) []...</p>"
      ],
      "text/plain": [
       "<IPython.core.display.HTML object>"
      ]
     },
     "metadata": {},
     "output_type": "display_data"
    },
    {
     "name": "stdout",
     "output_type": "stream",
     "text": [
      "Baseline coalescing on\n"
     ]
    },
    {
     "data": {
      "text/html": [
       "<p>Calculating hpso05a (Ingest) []...</p>"
      ],
      "text/plain": [
       "<IPython.core.display.HTML object>"
      ]
     },
     "metadata": {},
     "output_type": "display_data"
    },
    {
     "name": "stdout",
     "output_type": "stream",
     "text": [
      "Baseline coalescing on\n"
     ]
    },
    {
     "data": {
      "text/html": [
       "<p>Calculating hpso05a (RCAL) []...</p>"
      ],
      "text/plain": [
       "<IPython.core.display.HTML object>"
      ]
     },
     "metadata": {},
     "output_type": "display_data"
    },
    {
     "name": "stdout",
     "output_type": "stream",
     "text": [
      "Baseline coalescing on\n",
      "Evaluating Nfacet=1 -> DeltaW_stack=13.1162, Rflop=2.16732e+14\n",
      "Evaluating Nfacet=2 -> DeltaW_stack=20.3351, Rflop=2.29674e+14\n",
      "Evaluating Nfacet=3 -> DeltaW_stack=28.0986, Rflop=2.36042e+14\n",
      "Nfacet=1, DeltaW_stack=13.1162  yielded the lowest value of Rflop=2.16732e+14\n"
     ]
    },
    {
     "data": {
      "text/html": [
       "<p>Calculating hpso05a (FastImg) []...</p>"
      ],
      "text/plain": [
       "<IPython.core.display.HTML object>"
      ]
     },
     "metadata": {},
     "output_type": "display_data"
    },
    {
     "name": "stdout",
     "output_type": "stream",
     "text": [
      "Baseline coalescing on\n",
      "Evaluating Nfacet=1 -> DeltaW_stack=58.0018, Rflop=1.16228e+14\n",
      "Evaluating Nfacet=2 -> DeltaW_stack=58.0018, Rflop=1.21592e+14\n",
      "Evaluating Nfacet=3 -> DeltaW_stack=58.0018, Rflop=1.26875e+14\n",
      "Nfacet=1, DeltaW_stack=58.0018  yielded the lowest value of Rflop=1.16228e+14\n"
     ]
    },
    {
     "data": {
      "text/html": [
       "<p>Calculating hpso05a (PST) []...</p>"
      ],
      "text/plain": [
       "<IPython.core.display.HTML object>"
      ]
     },
     "metadata": {},
     "output_type": "display_data"
    },
    {
     "name": "stdout",
     "output_type": "stream",
     "text": [
      "Baseline coalescing on\n"
     ]
    },
    {
     "data": {
      "text/html": [
       "<p>Calculating hpso05b (Ingest) []...</p>"
      ],
      "text/plain": [
       "<IPython.core.display.HTML object>"
      ]
     },
     "metadata": {},
     "output_type": "display_data"
    },
    {
     "name": "stdout",
     "output_type": "stream",
     "text": [
      "Baseline coalescing on\n"
     ]
    },
    {
     "data": {
      "text/html": [
       "<p>Calculating hpso05b (RCAL) []...</p>"
      ],
      "text/plain": [
       "<IPython.core.display.HTML object>"
      ]
     },
     "metadata": {},
     "output_type": "display_data"
    },
    {
     "name": "stdout",
     "output_type": "stream",
     "text": [
      "Baseline coalescing on\n",
      "Evaluating Nfacet=1 -> DeltaW_stack=329.391, Rflop=1.52235e+15\n",
      "Evaluating Nfacet=2 -> DeltaW_stack=536.91, Rflop=1.44729e+15\n",
      "Evaluating Nfacet=3 -> DeltaW_stack=853.565, Rflop=1.15624e+15\n",
      "Evaluating Nfacet=4 -> DeltaW_stack=1183.86, Rflop=1.03327e+15\n",
      "Evaluating Nfacet=5 -> DeltaW_stack=1548.38, Rflop=9.71628e+14\n",
      "Evaluating Nfacet=6 -> DeltaW_stack=1847.57, Rflop=9.55487e+14\n",
      "Evaluating Nfacet=7 -> DeltaW_stack=2154.05, Rflop=9.54015e+14\n",
      "Evaluating Nfacet=8 -> DeltaW_stack=2512.17, Rflop=9.69915e+14\n",
      "Evaluating Nfacet=9 -> DeltaW_stack=2809.34, Rflop=9.90207e+14\n",
      "Nfacet=7, DeltaW_stack=2154.05  yielded the lowest value of Rflop=9.54015e+14\n"
     ]
    },
    {
     "data": {
      "text/html": [
       "<p>Calculating hpso05b (FastImg) []...</p>"
      ],
      "text/plain": [
       "<IPython.core.display.HTML object>"
      ]
     },
     "metadata": {},
     "output_type": "display_data"
    },
    {
     "name": "stdout",
     "output_type": "stream",
     "text": [
      "Baseline coalescing on\n",
      "Evaluating Nfacet=1 -> DeltaW_stack=1814.99, Rflop=5.54442e+14\n",
      "Evaluating Nfacet=2 -> DeltaW_stack=1814.99, Rflop=5.78779e+14\n",
      "Evaluating Nfacet=3 -> DeltaW_stack=1814.99, Rflop=5.80348e+14\n",
      "Nfacet=1, DeltaW_stack=1814.99  yielded the lowest value of Rflop=5.54442e+14\n"
     ]
    },
    {
     "data": {
      "text/html": [
       "<p>Calculating hpso05b (PST) []...</p>"
      ],
      "text/plain": [
       "<IPython.core.display.HTML object>"
      ]
     },
     "metadata": {},
     "output_type": "display_data"
    },
    {
     "name": "stdout",
     "output_type": "stream",
     "text": [
      "Baseline coalescing on\n"
     ]
    },
    {
     "data": {
      "text/html": [
       "<p>Calculating hpso13 (Ingest) [] [Bmax=35000]...</p>"
      ],
      "text/plain": [
       "<IPython.core.display.HTML object>"
      ]
     },
     "metadata": {},
     "output_type": "display_data"
    },
    {
     "name": "stdout",
     "output_type": "stream",
     "text": [
      "Baseline coalescing on\n"
     ]
    },
    {
     "data": {
      "text/html": [
       "<p>Calculating hpso13 (RCAL) [] [Bmax=35000]...</p>"
      ],
      "text/plain": [
       "<IPython.core.display.HTML object>"
      ]
     },
     "metadata": {},
     "output_type": "display_data"
    },
    {
     "name": "stdout",
     "output_type": "stream",
     "text": [
      "Baseline coalescing on\n",
      "Evaluating Nfacet=1 -> DeltaW_stack=90.2292, Rflop=5.60758e+13\n",
      "Evaluating Nfacet=2 -> DeltaW_stack=148.225, Rflop=5.43535e+13\n",
      "Evaluating Nfacet=3 -> DeltaW_stack=230.072, Rflop=4.74865e+13\n",
      "Evaluating Nfacet=4 -> DeltaW_stack=335.868, Rflop=4.51221e+13\n",
      "Evaluating Nfacet=5 -> DeltaW_stack=412.856, Rflop=4.42919e+13\n",
      "Evaluating Nfacet=6 -> DeltaW_stack=494.984, Rflop=4.46188e+13\n",
      "Evaluating Nfacet=7 -> DeltaW_stack=572.427, Rflop=4.53884e+13\n",
      "Nfacet=5, DeltaW_stack=412.856  yielded the lowest value of Rflop=4.42919e+13\n"
     ]
    },
    {
     "data": {
      "text/html": [
       "<p>Calculating hpso13 (FastImg) [] [Bmax=35000]...</p>"
      ],
      "text/plain": [
       "<IPython.core.display.HTML object>"
      ]
     },
     "metadata": {},
     "output_type": "display_data"
    },
    {
     "name": "stdout",
     "output_type": "stream",
     "text": [
      "Baseline coalescing on\n",
      "Evaluating Nfacet=1 -> DeltaW_stack=69.0817, Rflop=2.1694e+13\n",
      "Evaluating Nfacet=2 -> DeltaW_stack=69.0817, Rflop=2.28845e+13\n",
      "Evaluating Nfacet=3 -> DeltaW_stack=69.0817, Rflop=2.30405e+13\n",
      "Nfacet=1, DeltaW_stack=69.0817  yielded the lowest value of Rflop=2.1694e+13\n"
     ]
    },
    {
     "data": {
      "text/html": [
       "<p>Calculating hpso13 (ICAL) [] [Bmax=35000]...</p>"
      ],
      "text/plain": [
       "<IPython.core.display.HTML object>"
      ]
     },
     "metadata": {},
     "output_type": "display_data"
    },
    {
     "name": "stdout",
     "output_type": "stream",
     "text": [
      "Baseline coalescing on\n",
      "Evaluating Nfacet=1 -> DeltaW_stack=90.2292, Rflop=5.04892e+14\n",
      "Evaluating Nfacet=2 -> DeltaW_stack=148.225, Rflop=4.89407e+14\n",
      "Evaluating Nfacet=3 -> DeltaW_stack=230.072, Rflop=4.2763e+14\n",
      "Evaluating Nfacet=4 -> DeltaW_stack=335.868, Rflop=4.06387e+14\n",
      "Evaluating Nfacet=5 -> DeltaW_stack=412.856, Rflop=3.98963e+14\n",
      "Evaluating Nfacet=6 -> DeltaW_stack=494.984, Rflop=4.01962e+14\n",
      "Evaluating Nfacet=7 -> DeltaW_stack=572.427, Rflop=4.08957e+14\n",
      "Nfacet=5, DeltaW_stack=412.856  yielded the lowest value of Rflop=3.98963e+14\n"
     ]
    },
    {
     "data": {
      "text/html": [
       "<p>Calculating hpso13 (DPrepA) [] [Bmax=35000]...</p>"
      ],
      "text/plain": [
       "<IPython.core.display.HTML object>"
      ]
     },
     "metadata": {},
     "output_type": "display_data"
    },
    {
     "name": "stdout",
     "output_type": "stream",
     "text": [
      "Baseline coalescing on\n",
      "Evaluating Nfacet=1 -> DeltaW_stack=209.886, Rflop=1.42607e+14\n",
      "Evaluating Nfacet=2 -> DeltaW_stack=402.047, Rflop=1.44131e+14\n",
      "Evaluating Nfacet=3 -> DeltaW_stack=620.913, Rflop=1.44781e+14\n",
      "Nfacet=1, DeltaW_stack=209.886  yielded the lowest value of Rflop=1.42607e+14\n"
     ]
    },
    {
     "data": {
      "text/html": [
       "<p>Calculating hpso13 (DPrepB) [] [Bmax=35000]...</p>"
      ],
      "text/plain": [
       "<IPython.core.display.HTML object>"
      ]
     },
     "metadata": {},
     "output_type": "display_data"
    },
    {
     "name": "stdout",
     "output_type": "stream",
     "text": [
      "Baseline coalescing on\n",
      "Evaluating Nfacet=1 -> DeltaW_stack=273.989, Rflop=1.34336e+14\n",
      "Evaluating Nfacet=2 -> DeltaW_stack=502.479, Rflop=1.35344e+14\n",
      "Evaluating Nfacet=3 -> DeltaW_stack=743.056, Rflop=1.35887e+14\n",
      "Nfacet=1, DeltaW_stack=273.989  yielded the lowest value of Rflop=1.34336e+14\n"
     ]
    },
    {
     "data": {
      "text/html": [
       "<p>Calculating hpso13 (DPrepC) [] [Bmax=35000]...</p>"
      ],
      "text/plain": [
       "<IPython.core.display.HTML object>"
      ]
     },
     "metadata": {},
     "output_type": "display_data"
    },
    {
     "name": "stdout",
     "output_type": "stream",
     "text": [
      "Baseline coalescing on\n",
      "Evaluating Nfacet=1 -> DeltaW_stack=498.476, Rflop=4.8297e+14\n",
      "Evaluating Nfacet=2 -> DeltaW_stack=803.983, Rflop=4.94741e+14\n",
      "Evaluating Nfacet=3 -> DeltaW_stack=1178.32, Rflop=5.08256e+14\n",
      "Nfacet=1, DeltaW_stack=498.476  yielded the lowest value of Rflop=4.8297e+14\n"
     ]
    },
    {
     "data": {
      "text/html": [
       "<p>Calculating hpso14 (Ingest) [] [Bmax=25000]...</p>"
      ],
      "text/plain": [
       "<IPython.core.display.HTML object>"
      ]
     },
     "metadata": {},
     "output_type": "display_data"
    },
    {
     "name": "stdout",
     "output_type": "stream",
     "text": [
      "Baseline coalescing on\n"
     ]
    },
    {
     "data": {
      "text/html": [
       "<p>Calculating hpso14 (RCAL) [] [Bmax=25000]...</p>"
      ],
      "text/plain": [
       "<IPython.core.display.HTML object>"
      ]
     },
     "metadata": {},
     "output_type": "display_data"
    },
    {
     "name": "stdout",
     "output_type": "stream",
     "text": [
      "Baseline coalescing on\n",
      "Evaluating Nfacet=1 -> DeltaW_stack=132.633, Rflop=3.0587e+13\n",
      "Evaluating Nfacet=2 -> DeltaW_stack=214.315, Rflop=3.08768e+13\n",
      "Evaluating Nfacet=3 -> DeltaW_stack=332.945, Rflop=2.82348e+13\n",
      "Evaluating Nfacet=4 -> DeltaW_stack=443.404, Rflop=2.75966e+13\n",
      "Evaluating Nfacet=5 -> DeltaW_stack=629.249, Rflop=2.75555e+13\n",
      "Evaluating Nfacet=6 -> DeltaW_stack=752.831, Rflop=2.81409e+13\n",
      "Evaluating Nfacet=7 -> DeltaW_stack=876.817, Rflop=2.88733e+13\n",
      "Nfacet=5, DeltaW_stack=629.249  yielded the lowest value of Rflop=2.75555e+13\n"
     ]
    },
    {
     "data": {
      "text/html": [
       "<p>Calculating hpso14 (FastImg) [] [Bmax=25000]...</p>"
      ],
      "text/plain": [
       "<IPython.core.display.HTML object>"
      ]
     },
     "metadata": {},
     "output_type": "display_data"
    },
    {
     "name": "stdout",
     "output_type": "stream",
     "text": [
      "Baseline coalescing on\n",
      "Evaluating Nfacet=1 -> DeltaW_stack=54.4771, Rflop=1.36712e+13\n",
      "Evaluating Nfacet=2 -> DeltaW_stack=54.4771, Rflop=1.44013e+13\n",
      "Evaluating Nfacet=3 -> DeltaW_stack=54.4771, Rflop=1.45859e+13\n",
      "Nfacet=1, DeltaW_stack=54.4771  yielded the lowest value of Rflop=1.36712e+13\n"
     ]
    },
    {
     "data": {
      "text/html": [
       "<p>Calculating hpso14 (ICAL) [] [Bmax=25000]...</p>"
      ],
      "text/plain": [
       "<IPython.core.display.HTML object>"
      ]
     },
     "metadata": {},
     "output_type": "display_data"
    },
    {
     "name": "stdout",
     "output_type": "stream",
     "text": [
      "Baseline coalescing on\n",
      "Evaluating Nfacet=1 -> DeltaW_stack=193.58, Rflop=1.51286e+14\n",
      "Evaluating Nfacet=2 -> DeltaW_stack=332.945, Rflop=1.52109e+14\n",
      "Evaluating Nfacet=3 -> DeltaW_stack=565.497, Rflop=1.48879e+14\n",
      "Evaluating Nfacet=4 -> DeltaW_stack=752.831, Rflop=1.49909e+14\n",
      "Evaluating Nfacet=5 -> DeltaW_stack=960.494, Rflop=1.52549e+14\n",
      "Nfacet=3, DeltaW_stack=565.497  yielded the lowest value of Rflop=1.48879e+14\n"
     ]
    },
    {
     "data": {
      "text/html": [
       "<p>Calculating hpso14 (DPrepA) [] [Bmax=25000]...</p>"
      ],
      "text/plain": [
       "<IPython.core.display.HTML object>"
      ]
     },
     "metadata": {},
     "output_type": "display_data"
    },
    {
     "name": "stdout",
     "output_type": "stream",
     "text": [
      "Baseline coalescing on\n",
      "Evaluating Nfacet=1 -> DeltaW_stack=314.672, Rflop=8.90607e+13\n",
      "Evaluating Nfacet=2 -> DeltaW_stack=625.284, Rflop=9.11084e+13\n",
      "Evaluating Nfacet=3 -> DeltaW_stack=1006.84, Rflop=9.25213e+13\n",
      "Nfacet=1, DeltaW_stack=314.672  yielded the lowest value of Rflop=8.90607e+13\n"
     ]
    },
    {
     "data": {
      "text/html": [
       "<p>Calculating hpso14 (DPrepB) [] [Bmax=25000]...</p>"
      ],
      "text/plain": [
       "<IPython.core.display.HTML object>"
      ]
     },
     "metadata": {},
     "output_type": "display_data"
    },
    {
     "name": "stdout",
     "output_type": "stream",
     "text": [
      "Baseline coalescing on\n",
      "Evaluating Nfacet=1 -> DeltaW_stack=543.015, Rflop=8.6282e+13\n",
      "Evaluating Nfacet=2 -> DeltaW_stack=915.47, Rflop=8.76679e+13\n",
      "Evaluating Nfacet=3 -> DeltaW_stack=1548.64, Rflop=8.9577e+13\n",
      "Nfacet=1, DeltaW_stack=543.015  yielded the lowest value of Rflop=8.6282e+13\n"
     ]
    },
    {
     "data": {
      "text/html": [
       "<p>Calculating hpso14 (DPrepC) [] [Bmax=25000]...</p>"
      ],
      "text/plain": [
       "<IPython.core.display.HTML object>"
      ]
     },
     "metadata": {},
     "output_type": "display_data"
    },
    {
     "name": "stdout",
     "output_type": "stream",
     "text": [
      "Baseline coalescing on\n",
      "Evaluating Nfacet=1 -> DeltaW_stack=1093.16, Rflop=3.06762e+14\n",
      "Evaluating Nfacet=2 -> DeltaW_stack=2012.28, Rflop=3.26414e+14\n",
      "Evaluating Nfacet=3 -> DeltaW_stack=2458.63, Rflop=3.52665e+14\n",
      "Nfacet=1, DeltaW_stack=1093.16  yielded the lowest value of Rflop=3.06762e+14\n"
     ]
    },
    {
     "data": {
      "text/html": [
       "<p>Calculating hpso15 (Ingest) [] [Bmax=15000]...</p>"
      ],
      "text/plain": [
       "<IPython.core.display.HTML object>"
      ]
     },
     "metadata": {},
     "output_type": "display_data"
    },
    {
     "name": "stdout",
     "output_type": "stream",
     "text": [
      "Baseline coalescing on\n"
     ]
    },
    {
     "data": {
      "text/html": [
       "<p>Calculating hpso15 (RCAL) [] [Bmax=15000]...</p>"
      ],
      "text/plain": [
       "<IPython.core.display.HTML object>"
      ]
     },
     "metadata": {},
     "output_type": "display_data"
    },
    {
     "name": "stdout",
     "output_type": "stream",
     "text": [
      "Baseline coalescing on\n",
      "Evaluating Nfacet=1 -> DeltaW_stack=97.1245, Rflop=8.83557e+12\n",
      "Evaluating Nfacet=2 -> DeltaW_stack=161.333, Rflop=9.14724e+12\n",
      "Evaluating Nfacet=3 -> DeltaW_stack=253.85, Rflop=8.49444e+12\n",
      "Evaluating Nfacet=4 -> DeltaW_stack=342.955, Rflop=8.38883e+12\n",
      "Evaluating Nfacet=5 -> DeltaW_stack=589.287, Rflop=8.319e+12\n",
      "Evaluating Nfacet=6 -> DeltaW_stack=721.256, Rflop=8.42335e+12\n",
      "Evaluating Nfacet=7 -> DeltaW_stack=907.936, Rflop=8.78286e+12\n",
      "Nfacet=5, DeltaW_stack=589.287  yielded the lowest value of Rflop=8.319e+12\n"
     ]
    },
    {
     "data": {
      "text/html": [
       "<p>Calculating hpso15 (FastImg) [] [Bmax=15000]...</p>"
      ],
      "text/plain": [
       "<IPython.core.display.HTML object>"
      ]
     },
     "metadata": {},
     "output_type": "display_data"
    },
    {
     "name": "stdout",
     "output_type": "stream",
     "text": [
      "Baseline coalescing on\n",
      "Evaluating Nfacet=1 -> DeltaW_stack=20.8598, Rflop=3.93381e+12\n",
      "Evaluating Nfacet=2 -> DeltaW_stack=20.8598, Rflop=4.22083e+12\n",
      "Evaluating Nfacet=3 -> DeltaW_stack=20.8598, Rflop=4.3377e+12\n",
      "Nfacet=1, DeltaW_stack=20.8598  yielded the lowest value of Rflop=3.93381e+12\n"
     ]
    },
    {
     "data": {
      "text/html": [
       "<p>Calculating hpso15 (ICAL) [] [Bmax=15000]...</p>"
      ],
      "text/plain": [
       "<IPython.core.display.HTML object>"
      ]
     },
     "metadata": {},
     "output_type": "display_data"
    },
    {
     "name": "stdout",
     "output_type": "stream",
     "text": [
      "Baseline coalescing on\n",
      "Evaluating Nfacet=1 -> DeltaW_stack=148.126, Rflop=4.35654e+13\n",
      "Evaluating Nfacet=2 -> DeltaW_stack=253.85, Rflop=4.51003e+13\n",
      "Evaluating Nfacet=3 -> DeltaW_stack=390.529, Rflop=4.43908e+13\n",
      "Evaluating Nfacet=4 -> DeltaW_stack=721.256, Rflop=4.44394e+13\n",
      "Evaluating Nfacet=5 -> DeltaW_stack=1084.22, Rflop=4.59148e+13\n",
      "Nfacet=1, DeltaW_stack=148.126  yielded the lowest value of Rflop=4.35654e+13\n"
     ]
    },
    {
     "data": {
      "text/html": [
       "<p>Calculating hpso15 (DPrepA) [] [Bmax=15000]...</p>"
      ],
      "text/plain": [
       "<IPython.core.display.HTML object>"
      ]
     },
     "metadata": {},
     "output_type": "display_data"
    },
    {
     "name": "stdout",
     "output_type": "stream",
     "text": [
      "Baseline coalescing on\n",
      "Evaluating Nfacet=1 -> DeltaW_stack=264.948, Rflop=2.53561e+13\n",
      "Evaluating Nfacet=2 -> DeltaW_stack=606.444, Rflop=2.62967e+13\n",
      "Evaluating Nfacet=3 -> DeltaW_stack=1142.27, Rflop=2.69573e+13\n",
      "Nfacet=1, DeltaW_stack=264.948  yielded the lowest value of Rflop=2.53561e+13\n"
     ]
    },
    {
     "data": {
      "text/html": [
       "<p>Calculating hpso15 (DPrepB) [] [Bmax=15000]...</p>"
      ],
      "text/plain": [
       "<IPython.core.display.HTML object>"
      ]
     },
     "metadata": {},
     "output_type": "display_data"
    },
    {
     "name": "stdout",
     "output_type": "stream",
     "text": [
      "Baseline coalescing on\n",
      "Evaluating Nfacet=1 -> DeltaW_stack=356.215, Rflop=2.52693e+13\n",
      "Evaluating Nfacet=2 -> DeltaW_stack=870.566, Rflop=2.66477e+13\n",
      "Evaluating Nfacet=3 -> DeltaW_stack=1477.89, Rflop=2.89327e+13\n",
      "Nfacet=1, DeltaW_stack=356.215  yielded the lowest value of Rflop=2.52693e+13\n"
     ]
    },
    {
     "data": {
      "text/html": [
       "<p>Calculating hpso15 (DPrepC) [] [Bmax=15000]...</p>"
      ],
      "text/plain": [
       "<IPython.core.display.HTML object>"
      ]
     },
     "metadata": {},
     "output_type": "display_data"
    },
    {
     "name": "stdout",
     "output_type": "stream",
     "text": [
      "Baseline coalescing on\n",
      "Evaluating Nfacet=1 -> DeltaW_stack=825.459, Rflop=9.44767e+13\n",
      "Evaluating Nfacet=2 -> DeltaW_stack=1342, Rflop=1.09135e+14\n",
      "Evaluating Nfacet=3 -> DeltaW_stack=1553.78, Rflop=1.29725e+14\n",
      "Nfacet=1, DeltaW_stack=825.459  yielded the lowest value of Rflop=9.44767e+13\n"
     ]
    },
    {
     "data": {
      "text/html": [
       "<p>Calculating hpso18 (Ingest) []...</p>"
      ],
      "text/plain": [
       "<IPython.core.display.HTML object>"
      ]
     },
     "metadata": {},
     "output_type": "display_data"
    },
    {
     "name": "stdout",
     "output_type": "stream",
     "text": [
      "Baseline coalescing on\n"
     ]
    },
    {
     "data": {
      "text/html": [
       "<p>Calculating hpso18 (RCAL) []...</p>"
      ],
      "text/plain": [
       "<IPython.core.display.HTML object>"
      ]
     },
     "metadata": {},
     "output_type": "display_data"
    },
    {
     "name": "stdout",
     "output_type": "stream",
     "text": [
      "Baseline coalescing on\n",
      "Evaluating Nfacet=1 -> DeltaW_stack=182.682, Rflop=1.58649e+15\n",
      "Evaluating Nfacet=2 -> DeltaW_stack=301.192, Rflop=1.48184e+15\n",
      "Evaluating Nfacet=3 -> DeltaW_stack=475.757, Rflop=1.17001e+15\n",
      "Evaluating Nfacet=4 -> DeltaW_stack=666.98, Rflop=1.03008e+15\n",
      "Evaluating Nfacet=5 -> DeltaW_stack=856.088, Rflop=9.71548e+14\n",
      "Evaluating Nfacet=6 -> DeltaW_stack=1022.11, Rflop=9.49748e+14\n",
      "Evaluating Nfacet=7 -> DeltaW_stack=1191.94, Rflop=9.44583e+14\n",
      "Evaluating Nfacet=8 -> DeltaW_stack=1348.5, Rflop=9.55369e+14\n",
      "Evaluating Nfacet=9 -> DeltaW_stack=1563.88, Rflop=9.73315e+14\n",
      "Nfacet=7, DeltaW_stack=1191.94  yielded the lowest value of Rflop=9.44583e+14\n"
     ]
    },
    {
     "data": {
      "text/html": [
       "<p>Calculating hpso18 (FastImg) []...</p>"
      ],
      "text/plain": [
       "<IPython.core.display.HTML object>"
      ]
     },
     "metadata": {},
     "output_type": "display_data"
    },
    {
     "name": "stdout",
     "output_type": "stream",
     "text": [
      "Baseline coalescing on\n",
      "Evaluating Nfacet=1 -> DeltaW_stack=1135.34, Rflop=3.59671e+14\n",
      "Evaluating Nfacet=2 -> DeltaW_stack=1135.34, Rflop=3.81482e+14\n",
      "Evaluating Nfacet=3 -> DeltaW_stack=1135.34, Rflop=3.81208e+14\n",
      "Evaluating Nfacet=4 -> DeltaW_stack=1135.34, Rflop=3.83075e+14\n",
      "Evaluating Nfacet=5 -> DeltaW_stack=1135.34, Rflop=3.86637e+14\n",
      "Nfacet=1, DeltaW_stack=1135.34  yielded the lowest value of Rflop=3.59671e+14\n"
     ]
    },
    {
     "data": {
      "text/html": [
       "<p>Calculating hpso18 (SinglePulse) []...</p>"
      ],
      "text/plain": [
       "<IPython.core.display.HTML object>"
      ]
     },
     "metadata": {},
     "output_type": "display_data"
    },
    {
     "name": "stdout",
     "output_type": "stream",
     "text": [
      "Baseline coalescing on\n"
     ]
    },
    {
     "data": {
      "text/html": [
       "<p>Calculating hpso22 (Ingest) []...</p>"
      ],
      "text/plain": [
       "<IPython.core.display.HTML object>"
      ]
     },
     "metadata": {},
     "output_type": "display_data"
    },
    {
     "name": "stdout",
     "output_type": "stream",
     "text": [
      "Baseline coalescing on\n"
     ]
    },
    {
     "data": {
      "text/html": [
       "<p>Calculating hpso22 (RCAL) []...</p>"
      ],
      "text/plain": [
       "<IPython.core.display.HTML object>"
      ]
     },
     "metadata": {},
     "output_type": "display_data"
    },
    {
     "name": "stdout",
     "output_type": "stream",
     "text": [
      "Baseline coalescing on\n",
      "Evaluating Nfacet=1 -> DeltaW_stack=11136.9, Rflop=8.50579e+14\n",
      "Evaluating Nfacet=2 -> DeltaW_stack=18031.9, Rflop=8.52427e+14\n",
      "Evaluating Nfacet=3 -> DeltaW_stack=29900.2, Rflop=7.89536e+14\n",
      "Evaluating Nfacet=4 -> DeltaW_stack=105046, Rflop=7.62575e+14\n",
      "Evaluating Nfacet=5 -> DeltaW_stack=105046, Rflop=7.54859e+14\n",
      "Evaluating Nfacet=6 -> DeltaW_stack=105046, Rflop=7.71105e+14\n",
      "Evaluating Nfacet=7 -> DeltaW_stack=105046, Rflop=7.94009e+14\n",
      "Nfacet=5, DeltaW_stack=105046  yielded the lowest value of Rflop=7.54859e+14\n"
     ]
    },
    {
     "data": {
      "text/html": [
       "<p>Calculating hpso22 (FastImg) []...</p>"
      ],
      "text/plain": [
       "<IPython.core.display.HTML object>"
      ]
     },
     "metadata": {},
     "output_type": "display_data"
    },
    {
     "name": "stdout",
     "output_type": "stream",
     "text": [
      "Baseline coalescing on\n",
      "Evaluating Nfacet=1 -> DeltaW_stack=14120.5, Rflop=3.8236e+14\n",
      "Evaluating Nfacet=2 -> DeltaW_stack=14120.5, Rflop=4.06122e+14\n",
      "Evaluating Nfacet=3 -> DeltaW_stack=14120.5, Rflop=4.06315e+14\n",
      "Nfacet=1, DeltaW_stack=14120.5  yielded the lowest value of Rflop=3.8236e+14\n"
     ]
    },
    {
     "data": {
      "text/html": [
       "<p>Calculating hpso22 (ICAL) []...</p>"
      ],
      "text/plain": [
       "<IPython.core.display.HTML object>"
      ]
     },
     "metadata": {},
     "output_type": "display_data"
    },
    {
     "name": "stdout",
     "output_type": "stream",
     "text": [
      "Baseline coalescing on\n",
      "Evaluating Nfacet=1 -> DeltaW_stack=11136.9, Rflop=7.6596e+15\n",
      "Evaluating Nfacet=2 -> DeltaW_stack=18031.9, Rflop=7.67627e+15\n",
      "Evaluating Nfacet=3 -> DeltaW_stack=29900.2, Rflop=7.11031e+15\n",
      "Evaluating Nfacet=4 -> DeltaW_stack=105046, Rflop=6.86773e+15\n",
      "Evaluating Nfacet=5 -> DeltaW_stack=105046, Rflop=6.79838e+15\n",
      "Evaluating Nfacet=6 -> DeltaW_stack=105046, Rflop=6.94471e+15\n",
      "Evaluating Nfacet=7 -> DeltaW_stack=105046, Rflop=7.15098e+15\n",
      "Nfacet=5, DeltaW_stack=105046  yielded the lowest value of Rflop=6.79838e+15\n"
     ]
    },
    {
     "data": {
      "text/html": [
       "<p>Calculating hpso22 (DPrepA) []...</p>"
      ],
      "text/plain": [
       "<IPython.core.display.HTML object>"
      ]
     },
     "metadata": {},
     "output_type": "display_data"
    },
    {
     "name": "stdout",
     "output_type": "stream",
     "text": [
      "Baseline coalescing on\n",
      "Evaluating Nfacet=1 -> DeltaW_stack=20809.9, Rflop=2.99214e+15\n",
      "Evaluating Nfacet=2 -> DeltaW_stack=105046, Rflop=3.01595e+15\n",
      "Evaluating Nfacet=3 -> DeltaW_stack=105046, Rflop=3.04682e+15\n",
      "Nfacet=1, DeltaW_stack=20809.9  yielded the lowest value of Rflop=2.99214e+15\n"
     ]
    },
    {
     "data": {
      "text/html": [
       "<p>Calculating hpso22 (DPrepB) []...</p>"
      ],
      "text/plain": [
       "<IPython.core.display.HTML object>"
      ]
     },
     "metadata": {},
     "output_type": "display_data"
    },
    {
     "name": "stdout",
     "output_type": "stream",
     "text": [
      "Baseline coalescing on\n",
      "Evaluating Nfacet=1 -> DeltaW_stack=105046, Rflop=3.08473e+15\n",
      "Evaluating Nfacet=2 -> DeltaW_stack=105046, Rflop=3.11681e+15\n",
      "Evaluating Nfacet=3 -> DeltaW_stack=105046, Rflop=3.15861e+15\n",
      "Nfacet=1, DeltaW_stack=105046  yielded the lowest value of Rflop=3.08473e+15\n"
     ]
    },
    {
     "data": {
      "text/html": [
       "<p>Calculating hpso27and33 (Ingest) [] [Bmax=30000]...</p>"
      ],
      "text/plain": [
       "<IPython.core.display.HTML object>"
      ]
     },
     "metadata": {},
     "output_type": "display_data"
    },
    {
     "name": "stdout",
     "output_type": "stream",
     "text": [
      "Baseline coalescing on\n"
     ]
    },
    {
     "data": {
      "text/html": [
       "<p>Calculating hpso27and33 (RCAL) [] [Bmax=30000]...</p>"
      ],
      "text/plain": [
       "<IPython.core.display.HTML object>"
      ]
     },
     "metadata": {},
     "output_type": "display_data"
    },
    {
     "name": "stdout",
     "output_type": "stream",
     "text": [
      "Baseline coalescing on\n",
      "Evaluating Nfacet=1 -> DeltaW_stack=98.679, Rflop=9.79825e+13\n",
      "Evaluating Nfacet=2 -> DeltaW_stack=168.912, Rflop=9.71497e+13\n",
      "Evaluating Nfacet=3 -> DeltaW_stack=255.691, Rflop=9.23431e+13\n",
      "Evaluating Nfacet=4 -> DeltaW_stack=340.367, Rflop=9.14477e+13\n",
      "Evaluating Nfacet=5 -> DeltaW_stack=422.008, Rflop=9.23733e+13\n",
      "Evaluating Nfacet=6 -> DeltaW_stack=555.949, Rflop=9.44014e+13\n",
      "Nfacet=4, DeltaW_stack=340.367  yielded the lowest value of Rflop=9.14477e+13\n"
     ]
    },
    {
     "data": {
      "text/html": [
       "<p>Calculating hpso27and33 (FastImg) [] [Bmax=30000]...</p>"
      ],
      "text/plain": [
       "<IPython.core.display.HTML object>"
      ]
     },
     "metadata": {},
     "output_type": "display_data"
    },
    {
     "name": "stdout",
     "output_type": "stream",
     "text": [
      "Baseline coalescing on\n",
      "Evaluating Nfacet=1 -> DeltaW_stack=74.0889, Rflop=4.6045e+13\n",
      "Evaluating Nfacet=2 -> DeltaW_stack=74.0889, Rflop=4.7517e+13\n",
      "Evaluating Nfacet=3 -> DeltaW_stack=74.0889, Rflop=4.81714e+13\n",
      "Nfacet=1, DeltaW_stack=74.0889  yielded the lowest value of Rflop=4.6045e+13\n"
     ]
    },
    {
     "data": {
      "text/html": [
       "<p>Calculating hpso27and33 (ICAL) [] [Bmax=30000]...</p>"
      ],
      "text/plain": [
       "<IPython.core.display.HTML object>"
      ]
     },
     "metadata": {},
     "output_type": "display_data"
    },
    {
     "name": "stdout",
     "output_type": "stream",
     "text": [
      "Baseline coalescing on\n",
      "Evaluating Nfacet=1 -> DeltaW_stack=276.75, Rflop=2.56177e+14\n",
      "Evaluating Nfacet=2 -> DeltaW_stack=498.627, Rflop=2.65339e+14\n",
      "Evaluating Nfacet=3 -> DeltaW_stack=750.497, Rflop=2.73056e+14\n",
      "Nfacet=1, DeltaW_stack=276.75  yielded the lowest value of Rflop=2.56177e+14\n"
     ]
    },
    {
     "data": {
      "text/html": [
       "<p>Calculating hpso27and33 (DPrepA) [] [Bmax=30000]...</p>"
      ],
      "text/plain": [
       "<IPython.core.display.HTML object>"
      ]
     },
     "metadata": {},
     "output_type": "display_data"
    },
    {
     "name": "stdout",
     "output_type": "stream",
     "text": [
      "Baseline coalescing on\n",
      "Evaluating Nfacet=1 -> DeltaW_stack=240.187, Rflop=3.09438e+14\n",
      "Evaluating Nfacet=2 -> DeltaW_stack=416.127, Rflop=3.18713e+14\n",
      "Evaluating Nfacet=3 -> DeltaW_stack=715.221, Rflop=3.24314e+14\n",
      "Nfacet=1, DeltaW_stack=240.187  yielded the lowest value of Rflop=3.09438e+14\n"
     ]
    },
    {
     "data": {
      "text/html": [
       "<p>Calculating hpso27and33 (DPrepB) [] [Bmax=30000]...</p>"
      ],
      "text/plain": [
       "<IPython.core.display.HTML object>"
      ]
     },
     "metadata": {},
     "output_type": "display_data"
    },
    {
     "name": "stdout",
     "output_type": "stream",
     "text": [
      "Baseline coalescing on\n",
      "Evaluating Nfacet=1 -> DeltaW_stack=514.933, Rflop=4.70294e+14\n",
      "Evaluating Nfacet=2 -> DeltaW_stack=842.061, Rflop=5.63929e+14\n",
      "Evaluating Nfacet=3 -> DeltaW_stack=1278.51, Rflop=7.13384e+14\n",
      "Nfacet=1, DeltaW_stack=514.933  yielded the lowest value of Rflop=4.70294e+14\n"
     ]
    },
    {
     "data": {
      "text/html": [
       "<p>Calculating hpso32 (Ingest) [] [Bmax=20000]...</p>"
      ],
      "text/plain": [
       "<IPython.core.display.HTML object>"
      ]
     },
     "metadata": {},
     "output_type": "display_data"
    },
    {
     "name": "stdout",
     "output_type": "stream",
     "text": [
      "Baseline coalescing on\n"
     ]
    },
    {
     "data": {
      "text/html": [
       "<p>Calculating hpso32 (RCAL) [] [Bmax=20000]...</p>"
      ],
      "text/plain": [
       "<IPython.core.display.HTML object>"
      ]
     },
     "metadata": {},
     "output_type": "display_data"
    },
    {
     "name": "stdout",
     "output_type": "stream",
     "text": [
      "Baseline coalescing on\n",
      "Evaluating Nfacet=1 -> DeltaW_stack=13.1036, Rflop=9.13911e+13\n",
      "Evaluating Nfacet=2 -> DeltaW_stack=21.925, Rflop=9.29836e+13\n",
      "Evaluating Nfacet=3 -> DeltaW_stack=33.171, Rflop=8.91732e+13\n",
      "Evaluating Nfacet=4 -> DeltaW_stack=44.792, Rflop=8.83786e+13\n",
      "Evaluating Nfacet=5 -> DeltaW_stack=56.4576, Rflop=8.91933e+13\n",
      "Evaluating Nfacet=6 -> DeltaW_stack=68.0865, Rflop=9.09388e+13\n",
      "Nfacet=4, DeltaW_stack=44.792  yielded the lowest value of Rflop=8.83786e+13\n"
     ]
    },
    {
     "data": {
      "text/html": [
       "<p>Calculating hpso32 (FastImg) [] [Bmax=20000]...</p>"
      ],
      "text/plain": [
       "<IPython.core.display.HTML object>"
      ]
     },
     "metadata": {},
     "output_type": "display_data"
    },
    {
     "name": "stdout",
     "output_type": "stream",
     "text": [
      "Baseline coalescing on\n",
      "Evaluating Nfacet=1 -> DeltaW_stack=13.7282, Rflop=4.18482e+13\n",
      "Evaluating Nfacet=2 -> DeltaW_stack=13.7282, Rflop=4.31883e+13\n",
      "Evaluating Nfacet=3 -> DeltaW_stack=13.7282, Rflop=4.42405e+13\n",
      "Nfacet=1, DeltaW_stack=13.7282  yielded the lowest value of Rflop=4.18482e+13\n"
     ]
    },
    {
     "data": {
      "text/html": [
       "<p>Calculating hpso32 (ICAL) [] [Bmax=20000]...</p>"
      ],
      "text/plain": [
       "<IPython.core.display.HTML object>"
      ]
     },
     "metadata": {},
     "output_type": "display_data"
    },
    {
     "name": "stdout",
     "output_type": "stream",
     "text": [
      "Baseline coalescing on\n",
      "Evaluating Nfacet=1 -> DeltaW_stack=35.7784, Rflop=2.38181e+14\n",
      "Evaluating Nfacet=2 -> DeltaW_stack=60.9881, Rflop=2.45904e+14\n",
      "Evaluating Nfacet=3 -> DeltaW_stack=88.9011, Rflop=2.5184e+14\n",
      "Nfacet=1, DeltaW_stack=35.7784  yielded the lowest value of Rflop=2.38181e+14\n"
     ]
    },
    {
     "data": {
      "text/html": [
       "<p>Calculating hpso32 (DPrepB) [] [Bmax=20000]...</p>"
      ],
      "text/plain": [
       "<IPython.core.display.HTML object>"
      ]
     },
     "metadata": {},
     "output_type": "display_data"
    },
    {
     "name": "stdout",
     "output_type": "stream",
     "text": [
      "Baseline coalescing on\n",
      "Evaluating Nfacet=1 -> DeltaW_stack=59.182, Rflop=2.8882e+14\n",
      "Evaluating Nfacet=2 -> DeltaW_stack=102.095, Rflop=2.97057e+14\n",
      "Evaluating Nfacet=3 -> DeltaW_stack=149.807, Rflop=3.06752e+14\n",
      "Nfacet=1, DeltaW_stack=59.182  yielded the lowest value of Rflop=2.8882e+14\n"
     ]
    },
    {
     "data": {
      "text/html": [
       "<p>Calculating hpso37a (Ingest) [] [Bmax=120000]...</p>"
      ],
      "text/plain": [
       "<IPython.core.display.HTML object>"
      ]
     },
     "metadata": {},
     "output_type": "display_data"
    },
    {
     "name": "stdout",
     "output_type": "stream",
     "text": [
      "Baseline coalescing on\n"
     ]
    },
    {
     "data": {
      "text/html": [
       "<p>Calculating hpso37a (RCAL) [] [Bmax=120000]...</p>"
      ],
      "text/plain": [
       "<IPython.core.display.HTML object>"
      ]
     },
     "metadata": {},
     "output_type": "display_data"
    },
    {
     "name": "stdout",
     "output_type": "stream",
     "text": [
      "Baseline coalescing on\n",
      "Evaluating Nfacet=1 -> DeltaW_stack=276.636, Rflop=1.25195e+15\n",
      "Evaluating Nfacet=2 -> DeltaW_stack=443.372, Rflop=1.20561e+15\n",
      "Evaluating Nfacet=3 -> DeltaW_stack=724.988, Rflop=1.00572e+15\n",
      "Evaluating Nfacet=4 -> DeltaW_stack=1009.25, Rflop=9.2399e+14\n",
      "Evaluating Nfacet=5 -> DeltaW_stack=1267.06, Rflop=8.96499e+14\n",
      "Evaluating Nfacet=6 -> DeltaW_stack=1573.49, Rflop=8.84084e+14\n",
      "Evaluating Nfacet=7 -> DeltaW_stack=1836.8, Rflop=8.91443e+14\n",
      "Evaluating Nfacet=8 -> DeltaW_stack=2035.59, Rflop=9.16924e+14\n",
      "Nfacet=6, DeltaW_stack=1573.49  yielded the lowest value of Rflop=8.84084e+14\n"
     ]
    },
    {
     "data": {
      "text/html": [
       "<p>Calculating hpso37a (FastImg) [] [Bmax=120000]...</p>"
      ],
      "text/plain": [
       "<IPython.core.display.HTML object>"
      ]
     },
     "metadata": {},
     "output_type": "display_data"
    },
    {
     "name": "stdout",
     "output_type": "stream",
     "text": [
      "Baseline coalescing on\n",
      "Evaluating Nfacet=1 -> DeltaW_stack=1185.42, Rflop=3.93836e+14\n",
      "Evaluating Nfacet=2 -> DeltaW_stack=1185.42, Rflop=4.11018e+14\n",
      "Evaluating Nfacet=3 -> DeltaW_stack=1185.42, Rflop=4.12146e+14\n",
      "Nfacet=1, DeltaW_stack=1185.42  yielded the lowest value of Rflop=3.93836e+14\n"
     ]
    },
    {
     "data": {
      "text/html": [
       "<p>Calculating hpso37a (ICAL) [] [Bmax=120000]...</p>"
      ],
      "text/plain": [
       "<IPython.core.display.HTML object>"
      ]
     },
     "metadata": {},
     "output_type": "display_data"
    },
    {
     "name": "stdout",
     "output_type": "stream",
     "text": [
      "Baseline coalescing on\n",
      "Evaluating Nfacet=1 -> DeltaW_stack=405.749, Rflop=6.18591e+15\n",
      "Evaluating Nfacet=2 -> DeltaW_stack=724.988, Rflop=5.97511e+15\n",
      "Evaluating Nfacet=3 -> DeltaW_stack=1137.97, Rflop=5.56122e+15\n",
      "Evaluating Nfacet=4 -> DeltaW_stack=1573.49, Rflop=5.44423e+15\n",
      "Evaluating Nfacet=5 -> DeltaW_stack=1931.55, Rflop=5.49072e+15\n",
      "Evaluating Nfacet=6 -> DeltaW_stack=2370.07, Rflop=5.60149e+15\n",
      "Nfacet=4, DeltaW_stack=1573.49  yielded the lowest value of Rflop=5.44423e+15\n"
     ]
    },
    {
     "data": {
      "text/html": [
       "<p>Calculating hpso37a (DPrepA) [] [Bmax=120000]...</p>"
      ],
      "text/plain": [
       "<IPython.core.display.HTML object>"
      ]
     },
     "metadata": {},
     "output_type": "display_data"
    },
    {
     "name": "stdout",
     "output_type": "stream",
     "text": [
      "Baseline coalescing on\n",
      "Evaluating Nfacet=1 -> DeltaW_stack=540.433, Rflop=3.47875e+15\n",
      "Evaluating Nfacet=2 -> DeltaW_stack=1043.03, Rflop=3.46077e+15\n",
      "Evaluating Nfacet=3 -> DeltaW_stack=1665.39, Rflop=3.43368e+15\n",
      "Evaluating Nfacet=4 -> DeltaW_stack=2328.35, Rflop=3.49857e+15\n",
      "Evaluating Nfacet=5 -> DeltaW_stack=2917.91, Rflop=3.61827e+15\n",
      "Nfacet=3, DeltaW_stack=1665.39  yielded the lowest value of Rflop=3.43368e+15\n"
     ]
    },
    {
     "data": {
      "text/html": [
       "<p>Calculating hpso37a (DPrepB) [] [Bmax=120000]...</p>"
      ],
      "text/plain": [
       "<IPython.core.display.HTML object>"
      ]
     },
     "metadata": {},
     "output_type": "display_data"
    },
    {
     "name": "stdout",
     "output_type": "stream",
     "text": [
      "Baseline coalescing on\n",
      "Evaluating Nfacet=1 -> DeltaW_stack=1269.47, Rflop=3.78178e+15\n",
      "Evaluating Nfacet=2 -> DeltaW_stack=2366.03, Rflop=3.69423e+15\n",
      "Evaluating Nfacet=3 -> DeltaW_stack=3681.06, Rflop=3.57197e+15\n",
      "Evaluating Nfacet=4 -> DeltaW_stack=5434.21, Rflop=3.58235e+15\n",
      "Evaluating Nfacet=5 -> DeltaW_stack=11023.3, Rflop=3.63502e+15\n",
      "Nfacet=3, DeltaW_stack=3681.06  yielded the lowest value of Rflop=3.57197e+15\n"
     ]
    },
    {
     "data": {
      "text/html": [
       "<p>Calculating hpso37b (Ingest) [] [Bmax=120000]...</p>"
      ],
      "text/plain": [
       "<IPython.core.display.HTML object>"
      ]
     },
     "metadata": {},
     "output_type": "display_data"
    },
    {
     "name": "stdout",
     "output_type": "stream",
     "text": [
      "Baseline coalescing on\n"
     ]
    },
    {
     "data": {
      "text/html": [
       "<p>Calculating hpso37b (RCAL) [] [Bmax=120000]...</p>"
      ],
      "text/plain": [
       "<IPython.core.display.HTML object>"
      ]
     },
     "metadata": {},
     "output_type": "display_data"
    },
    {
     "name": "stdout",
     "output_type": "stream",
     "text": [
      "Baseline coalescing on\n",
      "Evaluating Nfacet=1 -> DeltaW_stack=276.636, Rflop=1.25195e+15\n",
      "Evaluating Nfacet=2 -> DeltaW_stack=443.372, Rflop=1.20561e+15\n",
      "Evaluating Nfacet=3 -> DeltaW_stack=724.988, Rflop=1.00572e+15\n",
      "Evaluating Nfacet=4 -> DeltaW_stack=1009.25, Rflop=9.2399e+14\n",
      "Evaluating Nfacet=5 -> DeltaW_stack=1267.06, Rflop=8.96499e+14\n",
      "Evaluating Nfacet=6 -> DeltaW_stack=1573.49, Rflop=8.84084e+14\n",
      "Evaluating Nfacet=7 -> DeltaW_stack=1836.8, Rflop=8.91443e+14\n",
      "Evaluating Nfacet=8 -> DeltaW_stack=2035.59, Rflop=9.16924e+14\n",
      "Nfacet=6, DeltaW_stack=1573.49  yielded the lowest value of Rflop=8.84084e+14\n"
     ]
    },
    {
     "data": {
      "text/html": [
       "<p>Calculating hpso37b (FastImg) [] [Bmax=120000]...</p>"
      ],
      "text/plain": [
       "<IPython.core.display.HTML object>"
      ]
     },
     "metadata": {},
     "output_type": "display_data"
    },
    {
     "name": "stdout",
     "output_type": "stream",
     "text": [
      "Baseline coalescing on\n",
      "Evaluating Nfacet=1 -> DeltaW_stack=1185.42, Rflop=3.93836e+14\n",
      "Evaluating Nfacet=2 -> DeltaW_stack=1185.42, Rflop=4.11018e+14\n",
      "Evaluating Nfacet=3 -> DeltaW_stack=1185.42, Rflop=4.12146e+14\n",
      "Nfacet=1, DeltaW_stack=1185.42  yielded the lowest value of Rflop=3.93836e+14\n"
     ]
    },
    {
     "data": {
      "text/html": [
       "<p>Calculating hpso37b (ICAL) [] [Bmax=120000]...</p>"
      ],
      "text/plain": [
       "<IPython.core.display.HTML object>"
      ]
     },
     "metadata": {},
     "output_type": "display_data"
    },
    {
     "name": "stdout",
     "output_type": "stream",
     "text": [
      "Baseline coalescing on\n",
      "Evaluating Nfacet=1 -> DeltaW_stack=276.636, Rflop=1.12719e+16\n",
      "Evaluating Nfacet=2 -> DeltaW_stack=443.372, Rflop=1.08549e+16\n",
      "Evaluating Nfacet=3 -> DeltaW_stack=724.988, Rflop=9.05593e+15\n",
      "Evaluating Nfacet=4 -> DeltaW_stack=1009.25, Rflop=8.32046e+15\n",
      "Evaluating Nfacet=5 -> DeltaW_stack=1267.06, Rflop=8.07313e+15\n",
      "Evaluating Nfacet=6 -> DeltaW_stack=1573.49, Rflop=7.96152e+15\n",
      "Evaluating Nfacet=7 -> DeltaW_stack=1836.8, Rflop=8.02788e+15\n",
      "Evaluating Nfacet=8 -> DeltaW_stack=2035.59, Rflop=8.25737e+15\n",
      "Nfacet=6, DeltaW_stack=1573.49  yielded the lowest value of Rflop=7.96152e+15\n"
     ]
    },
    {
     "data": {
      "text/html": [
       "<p>Calculating hpso37b (DPrepA) [] [Bmax=120000]...</p>"
      ],
      "text/plain": [
       "<IPython.core.display.HTML object>"
      ]
     },
     "metadata": {},
     "output_type": "display_data"
    },
    {
     "name": "stdout",
     "output_type": "stream",
     "text": [
      "Baseline coalescing on\n",
      "Evaluating Nfacet=1 -> DeltaW_stack=540.433, Rflop=3.47875e+15\n",
      "Evaluating Nfacet=2 -> DeltaW_stack=1043.03, Rflop=3.46076e+15\n",
      "Evaluating Nfacet=3 -> DeltaW_stack=1665.39, Rflop=3.43366e+15\n",
      "Evaluating Nfacet=4 -> DeltaW_stack=2328.35, Rflop=3.49854e+15\n",
      "Evaluating Nfacet=5 -> DeltaW_stack=2917.91, Rflop=3.61823e+15\n",
      "Nfacet=3, DeltaW_stack=1665.39  yielded the lowest value of Rflop=3.43366e+15\n"
     ]
    },
    {
     "data": {
      "text/html": [
       "<p>Calculating hpso37b (DPrepB) [] [Bmax=120000]...</p>"
      ],
      "text/plain": [
       "<IPython.core.display.HTML object>"
      ]
     },
     "metadata": {},
     "output_type": "display_data"
    },
    {
     "name": "stdout",
     "output_type": "stream",
     "text": [
      "Baseline coalescing on\n",
      "Evaluating Nfacet=1 -> DeltaW_stack=1269.47, Rflop=3.77904e+15\n",
      "Evaluating Nfacet=2 -> DeltaW_stack=2366.03, Rflop=3.68989e+15\n",
      "Evaluating Nfacet=3 -> DeltaW_stack=3681.06, Rflop=3.56514e+15\n",
      "Evaluating Nfacet=4 -> DeltaW_stack=5434.21, Rflop=3.57205e+15\n",
      "Evaluating Nfacet=5 -> DeltaW_stack=11023.3, Rflop=3.62026e+15\n",
      "Nfacet=3, DeltaW_stack=3681.06  yielded the lowest value of Rflop=3.56514e+15\n"
     ]
    },
    {
     "data": {
      "text/html": [
       "<p>Calculating hpso37c (Ingest) [] [Bmax=120000]...</p>"
      ],
      "text/plain": [
       "<IPython.core.display.HTML object>"
      ]
     },
     "metadata": {},
     "output_type": "display_data"
    },
    {
     "name": "stdout",
     "output_type": "stream",
     "text": [
      "Baseline coalescing on\n"
     ]
    },
    {
     "data": {
      "text/html": [
       "<p>Calculating hpso37c (RCAL) [] [Bmax=120000]...</p>"
      ],
      "text/plain": [
       "<IPython.core.display.HTML object>"
      ]
     },
     "metadata": {},
     "output_type": "display_data"
    },
    {
     "name": "stdout",
     "output_type": "stream",
     "text": [
      "Baseline coalescing on\n",
      "Evaluating Nfacet=1 -> DeltaW_stack=276.636, Rflop=1.25195e+15\n",
      "Evaluating Nfacet=2 -> DeltaW_stack=443.372, Rflop=1.20561e+15\n",
      "Evaluating Nfacet=3 -> DeltaW_stack=724.988, Rflop=1.00572e+15\n",
      "Evaluating Nfacet=4 -> DeltaW_stack=1009.25, Rflop=9.2399e+14\n",
      "Evaluating Nfacet=5 -> DeltaW_stack=1267.06, Rflop=8.96499e+14\n",
      "Evaluating Nfacet=6 -> DeltaW_stack=1573.49, Rflop=8.84084e+14\n",
      "Evaluating Nfacet=7 -> DeltaW_stack=1836.8, Rflop=8.91443e+14\n",
      "Evaluating Nfacet=8 -> DeltaW_stack=2035.59, Rflop=9.16924e+14\n",
      "Nfacet=6, DeltaW_stack=1573.49  yielded the lowest value of Rflop=8.84084e+14\n"
     ]
    },
    {
     "data": {
      "text/html": [
       "<p>Calculating hpso37c (FastImg) [] [Bmax=120000]...</p>"
      ],
      "text/plain": [
       "<IPython.core.display.HTML object>"
      ]
     },
     "metadata": {},
     "output_type": "display_data"
    },
    {
     "name": "stdout",
     "output_type": "stream",
     "text": [
      "Baseline coalescing on\n",
      "Evaluating Nfacet=1 -> DeltaW_stack=1185.42, Rflop=3.93836e+14\n",
      "Evaluating Nfacet=2 -> DeltaW_stack=1185.42, Rflop=4.11018e+14\n",
      "Evaluating Nfacet=3 -> DeltaW_stack=1185.42, Rflop=4.12146e+14\n",
      "Nfacet=1, DeltaW_stack=1185.42  yielded the lowest value of Rflop=3.93836e+14\n"
     ]
    },
    {
     "data": {
      "text/html": [
       "<p>Calculating hpso37c (ICAL) [] [Bmax=120000]...</p>"
      ],
      "text/plain": [
       "<IPython.core.display.HTML object>"
      ]
     },
     "metadata": {},
     "output_type": "display_data"
    },
    {
     "name": "stdout",
     "output_type": "stream",
     "text": [
      "Baseline coalescing on\n",
      "Evaluating Nfacet=1 -> DeltaW_stack=276.636, Rflop=1.12719e+16\n",
      "Evaluating Nfacet=2 -> DeltaW_stack=443.372, Rflop=1.08549e+16\n",
      "Evaluating Nfacet=3 -> DeltaW_stack=724.988, Rflop=9.05593e+15\n",
      "Evaluating Nfacet=4 -> DeltaW_stack=1009.25, Rflop=8.32046e+15\n",
      "Evaluating Nfacet=5 -> DeltaW_stack=1267.06, Rflop=8.07313e+15\n",
      "Evaluating Nfacet=6 -> DeltaW_stack=1573.49, Rflop=7.96152e+15\n",
      "Evaluating Nfacet=7 -> DeltaW_stack=1836.8, Rflop=8.02788e+15\n",
      "Evaluating Nfacet=8 -> DeltaW_stack=2035.59, Rflop=8.25737e+15\n",
      "Nfacet=6, DeltaW_stack=1573.49  yielded the lowest value of Rflop=7.96152e+15\n"
     ]
    },
    {
     "data": {
      "text/html": [
       "<p>Calculating hpso37c (DPrepA) [] [Bmax=120000]...</p>"
      ],
      "text/plain": [
       "<IPython.core.display.HTML object>"
      ]
     },
     "metadata": {},
     "output_type": "display_data"
    },
    {
     "name": "stdout",
     "output_type": "stream",
     "text": [
      "Baseline coalescing on\n",
      "Evaluating Nfacet=1 -> DeltaW_stack=540.433, Rflop=3.47875e+15\n",
      "Evaluating Nfacet=2 -> DeltaW_stack=1043.03, Rflop=3.46076e+15\n",
      "Evaluating Nfacet=3 -> DeltaW_stack=1665.39, Rflop=3.43366e+15\n",
      "Evaluating Nfacet=4 -> DeltaW_stack=2328.35, Rflop=3.49854e+15\n",
      "Evaluating Nfacet=5 -> DeltaW_stack=2917.91, Rflop=3.61823e+15\n",
      "Nfacet=3, DeltaW_stack=1665.39  yielded the lowest value of Rflop=3.43366e+15\n"
     ]
    },
    {
     "data": {
      "text/html": [
       "<p>Calculating hpso37c (DPrepB) [] [Bmax=120000]...</p>"
      ],
      "text/plain": [
       "<IPython.core.display.HTML object>"
      ]
     },
     "metadata": {},
     "output_type": "display_data"
    },
    {
     "name": "stdout",
     "output_type": "stream",
     "text": [
      "Baseline coalescing on\n",
      "Evaluating Nfacet=1 -> DeltaW_stack=1269.47, Rflop=3.77904e+15\n",
      "Evaluating Nfacet=2 -> DeltaW_stack=2366.03, Rflop=3.68989e+15\n",
      "Evaluating Nfacet=3 -> DeltaW_stack=3681.06, Rflop=3.56514e+15\n",
      "Evaluating Nfacet=4 -> DeltaW_stack=5434.21, Rflop=3.57205e+15\n",
      "Evaluating Nfacet=5 -> DeltaW_stack=11023.3, Rflop=3.62026e+15\n",
      "Nfacet=3, DeltaW_stack=3681.06  yielded the lowest value of Rflop=3.56514e+15\n"
     ]
    },
    {
     "data": {
      "text/html": [
       "<p>Calculating hpso38a (Ingest) []...</p>"
      ],
      "text/plain": [
       "<IPython.core.display.HTML object>"
      ]
     },
     "metadata": {},
     "output_type": "display_data"
    },
    {
     "name": "stdout",
     "output_type": "stream",
     "text": [
      "Baseline coalescing on\n"
     ]
    },
    {
     "data": {
      "text/html": [
       "<p>Calculating hpso38a (RCAL) []...</p>"
      ],
      "text/plain": [
       "<IPython.core.display.HTML object>"
      ]
     },
     "metadata": {},
     "output_type": "display_data"
    },
    {
     "name": "stdout",
     "output_type": "stream",
     "text": [
      "Baseline coalescing on\n",
      "Evaluating Nfacet=1 -> DeltaW_stack=8793.23, Rflop=8.89261e+14\n",
      "Evaluating Nfacet=2 -> DeltaW_stack=14080.4, Rflop=8.8867e+14\n",
      "Evaluating Nfacet=3 -> DeltaW_stack=23823.1, Rflop=8.1389e+14\n",
      "Evaluating Nfacet=4 -> DeltaW_stack=37271.5, Rflop=7.87315e+14\n",
      "Evaluating Nfacet=5 -> DeltaW_stack=93617.1, Rflop=7.69395e+14\n",
      "Evaluating Nfacet=6 -> DeltaW_stack=93617.1, Rflop=7.8267e+14\n",
      "Evaluating Nfacet=7 -> DeltaW_stack=93617.1, Rflop=8.03707e+14\n",
      "Nfacet=5, DeltaW_stack=93617.1  yielded the lowest value of Rflop=7.69395e+14\n"
     ]
    },
    {
     "data": {
      "text/html": [
       "<p>Calculating hpso38a (FastImg) []...</p>"
      ],
      "text/plain": [
       "<IPython.core.display.HTML object>"
      ]
     },
     "metadata": {},
     "output_type": "display_data"
    },
    {
     "name": "stdout",
     "output_type": "stream",
     "text": [
      "Baseline coalescing on\n",
      "Evaluating Nfacet=1 -> DeltaW_stack=12584.2, Rflop=4.26826e+14\n",
      "Evaluating Nfacet=2 -> DeltaW_stack=12584.2, Rflop=4.51979e+14\n",
      "Evaluating Nfacet=3 -> DeltaW_stack=12584.2, Rflop=4.52428e+14\n",
      "Nfacet=1, DeltaW_stack=12584.2  yielded the lowest value of Rflop=4.26826e+14\n"
     ]
    },
    {
     "data": {
      "text/html": [
       "<p>Calculating hpso38a (ICAL) []...</p>"
      ],
      "text/plain": [
       "<IPython.core.display.HTML object>"
      ]
     },
     "metadata": {},
     "output_type": "display_data"
    },
    {
     "name": "stdout",
     "output_type": "stream",
     "text": [
      "Baseline coalescing on\n",
      "Evaluating Nfacet=1 -> DeltaW_stack=12948.2, Rflop=5.41396e+15\n",
      "Evaluating Nfacet=2 -> DeltaW_stack=23823, Rflop=5.40616e+15\n",
      "Evaluating Nfacet=3 -> DeltaW_stack=93617.1, Rflop=5.25045e+15\n",
      "Evaluating Nfacet=4 -> DeltaW_stack=93617.1, Rflop=5.24442e+15\n",
      "Evaluating Nfacet=5 -> DeltaW_stack=93617.1, Rflop=5.36404e+15\n",
      "Evaluating Nfacet=6 -> DeltaW_stack=93617.1, Rflop=5.53655e+15\n",
      "Nfacet=4, DeltaW_stack=93617.1  yielded the lowest value of Rflop=5.24442e+15\n"
     ]
    },
    {
     "data": {
      "text/html": [
       "<p>Calculating hpso38a (DPrepA) []...</p>"
      ],
      "text/plain": [
       "<IPython.core.display.HTML object>"
      ]
     },
     "metadata": {},
     "output_type": "display_data"
    },
    {
     "name": "stdout",
     "output_type": "stream",
     "text": [
      "Baseline coalescing on\n",
      "Evaluating Nfacet=1 -> DeltaW_stack=16583.5, Rflop=3.38004e+15\n",
      "Evaluating Nfacet=2 -> DeltaW_stack=36263.3, Rflop=3.42181e+15\n",
      "Evaluating Nfacet=3 -> DeltaW_stack=93617.1, Rflop=3.44188e+15\n",
      "Nfacet=1, DeltaW_stack=16583.5  yielded the lowest value of Rflop=3.38004e+15\n"
     ]
    },
    {
     "data": {
      "text/html": [
       "<p>Calculating hpso38a (DPrepB) []...</p>"
      ],
      "text/plain": [
       "<IPython.core.display.HTML object>"
      ]
     },
     "metadata": {},
     "output_type": "display_data"
    },
    {
     "name": "stdout",
     "output_type": "stream",
     "text": [
      "Baseline coalescing on\n",
      "Evaluating Nfacet=1 -> DeltaW_stack=93617.1, Rflop=3.49599e+15\n",
      "Evaluating Nfacet=2 -> DeltaW_stack=93617.1, Rflop=3.50902e+15\n",
      "Evaluating Nfacet=3 -> DeltaW_stack=93617.1, Rflop=3.54798e+15\n",
      "Nfacet=1, DeltaW_stack=93617.1  yielded the lowest value of Rflop=3.49599e+15\n"
     ]
    },
    {
     "data": {
      "text/html": [
       "<p>Calculating hpso38b (Ingest) []...</p>"
      ],
      "text/plain": [
       "<IPython.core.display.HTML object>"
      ]
     },
     "metadata": {},
     "output_type": "display_data"
    },
    {
     "name": "stdout",
     "output_type": "stream",
     "text": [
      "Baseline coalescing on\n"
     ]
    },
    {
     "data": {
      "text/html": [
       "<p>Calculating hpso38b (RCAL) []...</p>"
      ],
      "text/plain": [
       "<IPython.core.display.HTML object>"
      ]
     },
     "metadata": {},
     "output_type": "display_data"
    },
    {
     "name": "stdout",
     "output_type": "stream",
     "text": [
      "Baseline coalescing on\n",
      "Evaluating Nfacet=1 -> DeltaW_stack=8793.23, Rflop=8.89261e+14\n",
      "Evaluating Nfacet=2 -> DeltaW_stack=14080.4, Rflop=8.8867e+14\n",
      "Evaluating Nfacet=3 -> DeltaW_stack=23823.1, Rflop=8.1389e+14\n",
      "Evaluating Nfacet=4 -> DeltaW_stack=37271.5, Rflop=7.87315e+14\n",
      "Evaluating Nfacet=5 -> DeltaW_stack=93617.1, Rflop=7.69395e+14\n",
      "Evaluating Nfacet=6 -> DeltaW_stack=93617.1, Rflop=7.8267e+14\n",
      "Evaluating Nfacet=7 -> DeltaW_stack=93617.1, Rflop=8.03707e+14\n",
      "Nfacet=5, DeltaW_stack=93617.1  yielded the lowest value of Rflop=7.69395e+14\n"
     ]
    },
    {
     "data": {
      "text/html": [
       "<p>Calculating hpso38b (FastImg) []...</p>"
      ],
      "text/plain": [
       "<IPython.core.display.HTML object>"
      ]
     },
     "metadata": {},
     "output_type": "display_data"
    },
    {
     "name": "stdout",
     "output_type": "stream",
     "text": [
      "Baseline coalescing on\n",
      "Evaluating Nfacet=1 -> DeltaW_stack=12584.2, Rflop=4.26826e+14\n",
      "Evaluating Nfacet=2 -> DeltaW_stack=12584.2, Rflop=4.51979e+14\n",
      "Evaluating Nfacet=3 -> DeltaW_stack=12584.2, Rflop=4.52428e+14\n",
      "Nfacet=1, DeltaW_stack=12584.2  yielded the lowest value of Rflop=4.26826e+14\n"
     ]
    },
    {
     "data": {
      "text/html": [
       "<p>Calculating hpso38b (ICAL) []...</p>"
      ],
      "text/plain": [
       "<IPython.core.display.HTML object>"
      ]
     },
     "metadata": {},
     "output_type": "display_data"
    },
    {
     "name": "stdout",
     "output_type": "stream",
     "text": [
      "Baseline coalescing on\n",
      "Evaluating Nfacet=1 -> DeltaW_stack=8793.23, Rflop=8.00774e+15\n",
      "Evaluating Nfacet=2 -> DeltaW_stack=14080.4, Rflop=8.00246e+15\n",
      "Evaluating Nfacet=3 -> DeltaW_stack=23823, Rflop=7.32949e+15\n",
      "Evaluating Nfacet=4 -> DeltaW_stack=37271.5, Rflop=7.09039e+15\n",
      "Evaluating Nfacet=5 -> DeltaW_stack=93617.1, Rflop=6.92921e+15\n",
      "Evaluating Nfacet=6 -> DeltaW_stack=93617.1, Rflop=7.04879e+15\n",
      "Evaluating Nfacet=7 -> DeltaW_stack=93617.1, Rflop=7.23826e+15\n",
      "Nfacet=5, DeltaW_stack=93617.1  yielded the lowest value of Rflop=6.92921e+15\n"
     ]
    },
    {
     "data": {
      "text/html": [
       "<p>Calculating hpso38b (DPrepA) []...</p>"
      ],
      "text/plain": [
       "<IPython.core.display.HTML object>"
      ]
     },
     "metadata": {},
     "output_type": "display_data"
    },
    {
     "name": "stdout",
     "output_type": "stream",
     "text": [
      "Baseline coalescing on\n",
      "Evaluating Nfacet=1 -> DeltaW_stack=16583.5, Rflop=3.38004e+15\n",
      "Evaluating Nfacet=2 -> DeltaW_stack=36263.3, Rflop=3.42181e+15\n",
      "Evaluating Nfacet=3 -> DeltaW_stack=93617.1, Rflop=3.44188e+15\n",
      "Nfacet=1, DeltaW_stack=16583.5  yielded the lowest value of Rflop=3.38004e+15\n"
     ]
    },
    {
     "data": {
      "text/html": [
       "<p>Calculating hpso38b (DPrepB) []...</p>"
      ],
      "text/plain": [
       "<IPython.core.display.HTML object>"
      ]
     },
     "metadata": {},
     "output_type": "display_data"
    },
    {
     "name": "stdout",
     "output_type": "stream",
     "text": [
      "Baseline coalescing on\n",
      "Evaluating Nfacet=1 -> DeltaW_stack=93617.1, Rflop=3.49599e+15\n",
      "Evaluating Nfacet=2 -> DeltaW_stack=93617.1, Rflop=3.50902e+15\n",
      "Evaluating Nfacet=3 -> DeltaW_stack=93617.1, Rflop=3.54798e+15\n",
      "Nfacet=1, DeltaW_stack=93617.1  yielded the lowest value of Rflop=3.49599e+15\n"
     ]
    },
    {
     "data": {
      "text/html": [
       "<p>Calculating max_low (Ingest) []...</p>"
      ],
      "text/plain": [
       "<IPython.core.display.HTML object>"
      ]
     },
     "metadata": {},
     "output_type": "display_data"
    },
    {
     "name": "stdout",
     "output_type": "stream",
     "text": [
      "Baseline coalescing on\n"
     ]
    },
    {
     "data": {
      "text/html": [
       "<p>Calculating max_low (RCAL) []...</p>"
      ],
      "text/plain": [
       "<IPython.core.display.HTML object>"
      ]
     },
     "metadata": {},
     "output_type": "display_data"
    },
    {
     "name": "stdout",
     "output_type": "stream",
     "text": [
      "Baseline coalescing on\n",
      "Evaluating Nfacet=1 -> DeltaW_stack=2.31429, Rflop=4.98191e+14\n",
      "Evaluating Nfacet=2 -> DeltaW_stack=3.58905, Rflop=5.27557e+14\n",
      "Evaluating Nfacet=3 -> DeltaW_stack=4.96085, Rflop=5.41684e+14\n",
      "Nfacet=1, DeltaW_stack=2.31429  yielded the lowest value of Rflop=4.98191e+14\n"
     ]
    },
    {
     "data": {
      "text/html": [
       "<p>Calculating max_low (FastImg) []...</p>"
      ],
      "text/plain": [
       "<IPython.core.display.HTML object>"
      ]
     },
     "metadata": {},
     "output_type": "display_data"
    },
    {
     "name": "stdout",
     "output_type": "stream",
     "text": [
      "Baseline coalescing on\n",
      "Evaluating Nfacet=1 -> DeltaW_stack=16.096, Rflop=2.66252e+14\n",
      "Evaluating Nfacet=2 -> DeltaW_stack=22.3962, Rflop=2.77531e+14\n",
      "Evaluating Nfacet=3 -> DeltaW_stack=24.1674, Rflop=2.89151e+14\n",
      "Nfacet=1, DeltaW_stack=16.096  yielded the lowest value of Rflop=2.66252e+14\n"
     ]
    },
    {
     "data": {
      "text/html": [
       "<p>Calculating max_low (ICAL) []...</p>"
      ],
      "text/plain": [
       "<IPython.core.display.HTML object>"
      ]
     },
     "metadata": {},
     "output_type": "display_data"
    },
    {
     "name": "stdout",
     "output_type": "stream",
     "text": [
      "Baseline coalescing on\n",
      "Evaluating Nfacet=1 -> DeltaW_stack=2.31429, Rflop=4.58645e+15\n",
      "Evaluating Nfacet=2 -> DeltaW_stack=3.58905, Rflop=4.85089e+15\n",
      "Evaluating Nfacet=3 -> DeltaW_stack=4.96085, Rflop=4.97827e+15\n",
      "Nfacet=1, DeltaW_stack=2.31429  yielded the lowest value of Rflop=4.58645e+15\n"
     ]
    },
    {
     "data": {
      "text/html": [
       "<p>Calculating max_low (DPrepA) []...</p>"
      ],
      "text/plain": [
       "<IPython.core.display.HTML object>"
      ]
     },
     "metadata": {},
     "output_type": "display_data"
    },
    {
     "name": "stdout",
     "output_type": "stream",
     "text": [
      "Baseline coalescing on\n",
      "Evaluating Nfacet=1 -> DeltaW_stack=5.24762, Rflop=1.63926e+15\n",
      "Evaluating Nfacet=2 -> DeltaW_stack=8.72164, Rflop=1.74242e+15\n",
      "Evaluating Nfacet=3 -> DeltaW_stack=13.2916, Rflop=1.79189e+15\n",
      "Nfacet=1, DeltaW_stack=5.24762  yielded the lowest value of Rflop=1.63926e+15\n"
     ]
    },
    {
     "data": {
      "text/html": [
       "<p>Calculating max_low (DPrepA_Image) []...</p>"
      ],
      "text/plain": [
       "<IPython.core.display.HTML object>"
      ]
     },
     "metadata": {},
     "output_type": "display_data"
    },
    {
     "name": "stdout",
     "output_type": "stream",
     "text": [
      "Baseline coalescing on\n",
      "Evaluating Nfacet=1 -> DeltaW_stack=5.71616, Rflop=1.55624e+15\n",
      "Evaluating Nfacet=2 -> DeltaW_stack=9.09175, Rflop=1.60841e+15\n",
      "Evaluating Nfacet=3 -> DeltaW_stack=13.5239, Rflop=1.6354e+15\n",
      "Nfacet=1, DeltaW_stack=5.71616  yielded the lowest value of Rflop=1.55624e+15\n"
     ]
    },
    {
     "data": {
      "text/html": [
       "<p>Calculating max_low (DPrepB) []...</p>"
      ],
      "text/plain": [
       "<IPython.core.display.HTML object>"
      ]
     },
     "metadata": {},
     "output_type": "display_data"
    },
    {
     "name": "stdout",
     "output_type": "stream",
     "text": [
      "Baseline coalescing on\n",
      "Evaluating Nfacet=1 -> DeltaW_stack=8.63798, Rflop=1.72746e+15\n",
      "Evaluating Nfacet=2 -> DeltaW_stack=13.8553, Rflop=1.82672e+15\n",
      "Evaluating Nfacet=3 -> DeltaW_stack=20.3525, Rflop=1.87903e+15\n",
      "Nfacet=1, DeltaW_stack=8.63798  yielded the lowest value of Rflop=1.72746e+15\n"
     ]
    },
    {
     "data": {
      "text/html": [
       "<p>Calculating max_low (DPrepC) []...</p>"
      ],
      "text/plain": [
       "<IPython.core.display.HTML object>"
      ]
     },
     "metadata": {},
     "output_type": "display_data"
    },
    {
     "name": "stdout",
     "output_type": "stream",
     "text": [
      "Baseline coalescing on\n",
      "Evaluating Nfacet=1 -> DeltaW_stack=19.5184, Rflop=1.25785e+16\n",
      "Evaluating Nfacet=2 -> DeltaW_stack=30.1568, Rflop=1.53139e+16\n",
      "Evaluating Nfacet=3 -> DeltaW_stack=39.5035, Rflop=1.72849e+16\n",
      "Nfacet=1, DeltaW_stack=19.5184  yielded the lowest value of Rflop=1.25785e+16\n"
     ]
    },
    {
     "data": {
      "text/html": [
       "<p>Calculating max_low (DPrepD) []...</p>"
      ],
      "text/plain": [
       "<IPython.core.display.HTML object>"
      ]
     },
     "metadata": {},
     "output_type": "display_data"
    },
    {
     "name": "stdout",
     "output_type": "stream",
     "text": [
      "Baseline coalescing on\n"
     ]
    },
    {
     "data": {
      "text/html": [
       "<p>Calculating max_mid_band1 (Ingest) []...</p>"
      ],
      "text/plain": [
       "<IPython.core.display.HTML object>"
      ]
     },
     "metadata": {},
     "output_type": "display_data"
    },
    {
     "name": "stdout",
     "output_type": "stream",
     "text": [
      "Baseline coalescing on\n"
     ]
    },
    {
     "data": {
      "text/html": [
       "<p>Calculating max_mid_band1 (RCAL) []...</p>"
      ],
      "text/plain": [
       "<IPython.core.display.HTML object>"
      ]
     },
     "metadata": {},
     "output_type": "display_data"
    },
    {
     "name": "stdout",
     "output_type": "stream",
     "text": [
      "Baseline coalescing on\n",
      "Evaluating Nfacet=1 -> DeltaW_stack=71.9462, Rflop=2.59464e+15\n",
      "Evaluating Nfacet=2 -> DeltaW_stack=107.29, Rflop=2.54342e+15\n",
      "Evaluating Nfacet=3 -> DeltaW_stack=166.35, Rflop=1.87468e+15\n",
      "Evaluating Nfacet=4 -> DeltaW_stack=234.518, Rflop=1.55198e+15\n",
      "Evaluating Nfacet=5 -> DeltaW_stack=296.777, Rflop=1.39499e+15\n",
      "Evaluating Nfacet=6 -> DeltaW_stack=362.954, Rflop=1.2951e+15\n",
      "Evaluating Nfacet=7 -> DeltaW_stack=426.01, Rflop=1.24863e+15\n",
      "Evaluating Nfacet=8 -> DeltaW_stack=474.713, Rflop=1.2488e+15\n",
      "Evaluating Nfacet=9 -> DeltaW_stack=533.65, Rflop=1.24493e+15\n",
      "Evaluating Nfacet=10 -> DeltaW_stack=592.797, Rflop=1.26126e+15\n",
      "Evaluating Nfacet=11 -> DeltaW_stack=647.062, Rflop=1.28552e+15\n",
      "Nfacet=9, DeltaW_stack=533.65  yielded the lowest value of Rflop=1.24493e+15\n"
     ]
    },
    {
     "data": {
      "text/html": [
       "<p>Calculating max_mid_band1 (FastImg) []...</p>"
      ],
      "text/plain": [
       "<IPython.core.display.HTML object>"
      ]
     },
     "metadata": {},
     "output_type": "display_data"
    },
    {
     "name": "stdout",
     "output_type": "stream",
     "text": [
      "Baseline coalescing on\n",
      "Evaluating Nfacet=1 -> DeltaW_stack=772.213, Rflop=6.91561e+14\n",
      "Evaluating Nfacet=2 -> DeltaW_stack=772.213, Rflop=7.14493e+14\n",
      "Evaluating Nfacet=3 -> DeltaW_stack=772.213, Rflop=7.15282e+14\n",
      "Nfacet=1, DeltaW_stack=772.213  yielded the lowest value of Rflop=6.91561e+14\n"
     ]
    },
    {
     "data": {
      "text/html": [
       "<p>Calculating max_mid_band1 (ICAL) []...</p>"
      ],
      "text/plain": [
       "<IPython.core.display.HTML object>"
      ]
     },
     "metadata": {},
     "output_type": "display_data"
    },
    {
     "name": "stdout",
     "output_type": "stream",
     "text": [
      "Baseline coalescing on\n",
      "Evaluating Nfacet=1 -> DeltaW_stack=71.9462, Rflop=2.33563e+16\n",
      "Evaluating Nfacet=2 -> DeltaW_stack=107.29, Rflop=2.28953e+16\n",
      "Evaluating Nfacet=3 -> DeltaW_stack=166.35, Rflop=1.68768e+16\n",
      "Evaluating Nfacet=4 -> DeltaW_stack=234.518, Rflop=1.39728e+16\n",
      "Evaluating Nfacet=5 -> DeltaW_stack=296.777, Rflop=1.25601e+16\n",
      "Evaluating Nfacet=6 -> DeltaW_stack=362.954, Rflop=1.16614e+16\n",
      "Evaluating Nfacet=7 -> DeltaW_stack=426.01, Rflop=1.12435e+16\n",
      "Evaluating Nfacet=8 -> DeltaW_stack=474.713, Rflop=1.12454e+16\n",
      "Evaluating Nfacet=9 -> DeltaW_stack=533.65, Rflop=1.12111e+16\n",
      "Evaluating Nfacet=10 -> DeltaW_stack=592.797, Rflop=1.13586e+16\n",
      "Evaluating Nfacet=11 -> DeltaW_stack=647.062, Rflop=1.15775e+16\n",
      "Nfacet=9, DeltaW_stack=533.65  yielded the lowest value of Rflop=1.12111e+16\n"
     ]
    },
    {
     "data": {
      "text/html": [
       "<p>Calculating max_mid_band1 (DPrepA) []...</p>"
      ],
      "text/plain": [
       "<IPython.core.display.HTML object>"
      ]
     },
     "metadata": {},
     "output_type": "display_data"
    },
    {
     "name": "stdout",
     "output_type": "stream",
     "text": [
      "Baseline coalescing on\n",
      "Evaluating Nfacet=1 -> DeltaW_stack=127.843, Rflop=8.32021e+15\n",
      "Evaluating Nfacet=2 -> DeltaW_stack=247.622, Rflop=8.14325e+15\n",
      "Evaluating Nfacet=3 -> DeltaW_stack=388.506, Rflop=7.96942e+15\n",
      "Evaluating Nfacet=4 -> DeltaW_stack=539.68, Rflop=8.03263e+15\n",
      "Evaluating Nfacet=5 -> DeltaW_stack=682.8, Rflop=8.27029e+15\n",
      "Nfacet=3, DeltaW_stack=388.506  yielded the lowest value of Rflop=7.96942e+15\n"
     ]
    },
    {
     "data": {
      "text/html": [
       "<p>Calculating max_mid_band1 (DPrepA_Image) []...</p>"
      ],
      "text/plain": [
       "<IPython.core.display.HTML object>"
      ]
     },
     "metadata": {},
     "output_type": "display_data"
    },
    {
     "name": "stdout",
     "output_type": "stream",
     "text": [
      "Baseline coalescing on\n",
      "Evaluating Nfacet=1 -> DeltaW_stack=177.209, Rflop=7.35916e+15\n",
      "Evaluating Nfacet=2 -> DeltaW_stack=323.121, Rflop=7.29229e+15\n",
      "Evaluating Nfacet=3 -> DeltaW_stack=479.425, Rflop=7.2182e+15\n",
      "Evaluating Nfacet=4 -> DeltaW_stack=637.357, Rflop=7.24005e+15\n",
      "Evaluating Nfacet=5 -> DeltaW_stack=775.868, Rflop=7.32145e+15\n",
      "Nfacet=3, DeltaW_stack=479.425  yielded the lowest value of Rflop=7.2182e+15\n"
     ]
    },
    {
     "data": {
      "text/html": [
       "<p>Calculating max_mid_band1 (DPrepB) []...</p>"
      ],
      "text/plain": [
       "<IPython.core.display.HTML object>"
      ]
     },
     "metadata": {},
     "output_type": "display_data"
    },
    {
     "name": "stdout",
     "output_type": "stream",
     "text": [
      "Baseline coalescing on\n",
      "Evaluating Nfacet=1 -> DeltaW_stack=268.604, Rflop=9.08517e+15\n",
      "Evaluating Nfacet=2 -> DeltaW_stack=476.646, Rflop=8.73596e+15\n",
      "Evaluating Nfacet=3 -> DeltaW_stack=714.234, Rflop=8.31117e+15\n",
      "Evaluating Nfacet=4 -> DeltaW_stack=973.582, Rflop=8.22347e+15\n",
      "Evaluating Nfacet=5 -> DeltaW_stack=1188.71, Rflop=8.3109e+15\n",
      "Evaluating Nfacet=6 -> DeltaW_stack=1464.69, Rflop=8.48708e+15\n",
      "Nfacet=4, DeltaW_stack=973.582  yielded the lowest value of Rflop=8.22347e+15\n"
     ]
    },
    {
     "data": {
      "text/html": [
       "<p>Calculating max_mid_band1 (DPrepC) []...</p>"
      ],
      "text/plain": [
       "<IPython.core.display.HTML object>"
      ]
     },
     "metadata": {},
     "output_type": "display_data"
    },
    {
     "name": "stdout",
     "output_type": "stream",
     "text": [
      "Baseline coalescing on\n",
      "Evaluating Nfacet=1 -> DeltaW_stack=1032.73, Rflop=6.48421e+16\n",
      "Evaluating Nfacet=2 -> DeltaW_stack=1645.73, Rflop=6.05206e+16\n",
      "Evaluating Nfacet=3 -> DeltaW_stack=5744.68, Rflop=4.10797e+16\n",
      "Evaluating Nfacet=4 -> DeltaW_stack=5744.68, Rflop=3.26576e+16\n",
      "Evaluating Nfacet=5 -> DeltaW_stack=5744.68, Rflop=3.04098e+16\n",
      "Evaluating Nfacet=6 -> DeltaW_stack=5744.68, Rflop=3.03177e+16\n",
      "Evaluating Nfacet=7 -> DeltaW_stack=5744.68, Rflop=3.13004e+16\n",
      "Evaluating Nfacet=8 -> DeltaW_stack=5744.68, Rflop=3.30157e+16\n",
      "Nfacet=6, DeltaW_stack=5744.68  yielded the lowest value of Rflop=3.03177e+16\n"
     ]
    },
    {
     "data": {
      "text/html": [
       "<p>Calculating max_mid_band1 (DPrepD) []...</p>"
      ],
      "text/plain": [
       "<IPython.core.display.HTML object>"
      ]
     },
     "metadata": {},
     "output_type": "display_data"
    },
    {
     "name": "stdout",
     "output_type": "stream",
     "text": [
      "Baseline coalescing on\n"
     ]
    },
    {
     "data": {
      "text/html": [
       "<p>Calculating max_mid_band2 (Ingest) []...</p>"
      ],
      "text/plain": [
       "<IPython.core.display.HTML object>"
      ]
     },
     "metadata": {},
     "output_type": "display_data"
    },
    {
     "name": "stdout",
     "output_type": "stream",
     "text": [
      "Baseline coalescing on\n"
     ]
    },
    {
     "data": {
      "text/html": [
       "<p>Calculating max_mid_band2 (RCAL) []...</p>"
      ],
      "text/plain": [
       "<IPython.core.display.HTML object>"
      ]
     },
     "metadata": {},
     "output_type": "display_data"
    },
    {
     "name": "stdout",
     "output_type": "stream",
     "text": [
      "Baseline coalescing on\n",
      "Evaluating Nfacet=1 -> DeltaW_stack=329.391, Rflop=1.52235e+15\n",
      "Evaluating Nfacet=2 -> DeltaW_stack=536.91, Rflop=1.44729e+15\n",
      "Evaluating Nfacet=3 -> DeltaW_stack=853.565, Rflop=1.15624e+15\n",
      "Evaluating Nfacet=4 -> DeltaW_stack=1183.86, Rflop=1.03327e+15\n",
      "Evaluating Nfacet=5 -> DeltaW_stack=1548.38, Rflop=9.71628e+14\n",
      "Evaluating Nfacet=6 -> DeltaW_stack=1847.57, Rflop=9.55487e+14\n",
      "Evaluating Nfacet=7 -> DeltaW_stack=2154.05, Rflop=9.54015e+14\n",
      "Evaluating Nfacet=8 -> DeltaW_stack=2512.17, Rflop=9.69915e+14\n",
      "Evaluating Nfacet=9 -> DeltaW_stack=2809.34, Rflop=9.90207e+14\n",
      "Nfacet=7, DeltaW_stack=2154.05  yielded the lowest value of Rflop=9.54015e+14\n"
     ]
    },
    {
     "data": {
      "text/html": [
       "<p>Calculating max_mid_band2 (FastImg) []...</p>"
      ],
      "text/plain": [
       "<IPython.core.display.HTML object>"
      ]
     },
     "metadata": {},
     "output_type": "display_data"
    },
    {
     "name": "stdout",
     "output_type": "stream",
     "text": [
      "Baseline coalescing on\n",
      "Evaluating Nfacet=1 -> DeltaW_stack=1814.99, Rflop=5.54442e+14\n",
      "Evaluating Nfacet=2 -> DeltaW_stack=1814.99, Rflop=5.78779e+14\n",
      "Evaluating Nfacet=3 -> DeltaW_stack=1814.99, Rflop=5.80348e+14\n",
      "Nfacet=1, DeltaW_stack=1814.99  yielded the lowest value of Rflop=5.54442e+14\n"
     ]
    },
    {
     "data": {
      "text/html": [
       "<p>Calculating max_mid_band2 (ICAL) []...</p>"
      ],
      "text/plain": [
       "<IPython.core.display.HTML object>"
      ]
     },
     "metadata": {},
     "output_type": "display_data"
    },
    {
     "name": "stdout",
     "output_type": "stream",
     "text": [
      "Baseline coalescing on\n",
      "Evaluating Nfacet=1 -> DeltaW_stack=329.391, Rflop=1.37056e+16\n",
      "Evaluating Nfacet=2 -> DeltaW_stack=536.91, Rflop=1.30301e+16\n",
      "Evaluating Nfacet=3 -> DeltaW_stack=853.565, Rflop=1.04108e+16\n",
      "Evaluating Nfacet=4 -> DeltaW_stack=1183.86, Rflop=9.30422e+15\n",
      "Evaluating Nfacet=5 -> DeltaW_stack=1548.38, Rflop=8.74961e+15\n",
      "Evaluating Nfacet=6 -> DeltaW_stack=1847.57, Rflop=8.60458e+15\n",
      "Evaluating Nfacet=7 -> DeltaW_stack=2154.05, Rflop=8.5916e+15\n",
      "Evaluating Nfacet=8 -> DeltaW_stack=2512.17, Rflop=8.73501e+15\n",
      "Evaluating Nfacet=9 -> DeltaW_stack=2809.34, Rflop=8.918e+15\n",
      "Nfacet=7, DeltaW_stack=2154.05  yielded the lowest value of Rflop=8.5916e+15\n"
     ]
    },
    {
     "data": {
      "text/html": [
       "<p>Calculating max_mid_band2 (DPrepA) []...</p>"
      ],
      "text/plain": [
       "<IPython.core.display.HTML object>"
      ]
     },
     "metadata": {},
     "output_type": "display_data"
    },
    {
     "name": "stdout",
     "output_type": "stream",
     "text": [
      "Baseline coalescing on\n",
      "Evaluating Nfacet=1 -> DeltaW_stack=640.033, Rflop=4.88796e+15\n",
      "Evaluating Nfacet=2 -> DeltaW_stack=1254.06, Rflop=4.83913e+15\n",
      "Evaluating Nfacet=3 -> DeltaW_stack=1989.76, Rflop=4.80246e+15\n",
      "Evaluating Nfacet=4 -> DeltaW_stack=2787.41, Rflop=4.88907e+15\n",
      "Evaluating Nfacet=5 -> DeltaW_stack=3670.4, Rflop=5.04496e+15\n",
      "Nfacet=3, DeltaW_stack=1989.76  yielded the lowest value of Rflop=4.80246e+15\n"
     ]
    },
    {
     "data": {
      "text/html": [
       "<p>Calculating max_mid_band2 (DPrepA_Image) []...</p>"
      ],
      "text/plain": [
       "<IPython.core.display.HTML object>"
      ]
     },
     "metadata": {},
     "output_type": "display_data"
    },
    {
     "name": "stdout",
     "output_type": "stream",
     "text": [
      "Baseline coalescing on\n",
      "Evaluating Nfacet=1 -> DeltaW_stack=911.825, Rflop=4.46048e+15\n",
      "Evaluating Nfacet=2 -> DeltaW_stack=1661.55, Rflop=4.44333e+15\n",
      "Evaluating Nfacet=3 -> DeltaW_stack=2547.9, Rflop=4.42727e+15\n",
      "Evaluating Nfacet=4 -> DeltaW_stack=3461.3, Rflop=4.45724e+15\n",
      "Evaluating Nfacet=5 -> DeltaW_stack=4204.06, Rflop=4.51276e+15\n",
      "Nfacet=3, DeltaW_stack=2547.9  yielded the lowest value of Rflop=4.42727e+15\n"
     ]
    },
    {
     "data": {
      "text/html": [
       "<p>Calculating max_mid_band2 (DPrepB) []...</p>"
      ],
      "text/plain": [
       "<IPython.core.display.HTML object>"
      ]
     },
     "metadata": {},
     "output_type": "display_data"
    },
    {
     "name": "stdout",
     "output_type": "stream",
     "text": [
      "Baseline coalescing on\n",
      "Evaluating Nfacet=1 -> DeltaW_stack=1373.8, Rflop=5.19458e+15\n",
      "Evaluating Nfacet=2 -> DeltaW_stack=2547.26, Rflop=5.07271e+15\n",
      "Evaluating Nfacet=3 -> DeltaW_stack=3943.62, Rflop=4.92539e+15\n",
      "Evaluating Nfacet=4 -> DeltaW_stack=13502.2, Rflop=4.91234e+15\n",
      "Evaluating Nfacet=5 -> DeltaW_stack=13502.2, Rflop=4.97608e+15\n",
      "Evaluating Nfacet=6 -> DeltaW_stack=13502.2, Rflop=5.11992e+15\n",
      "Nfacet=4, DeltaW_stack=13502.2  yielded the lowest value of Rflop=4.91234e+15\n"
     ]
    },
    {
     "data": {
      "text/html": [
       "<p>Calculating max_mid_band2 (DPrepC) []...</p>"
      ],
      "text/plain": [
       "<IPython.core.display.HTML object>"
      ]
     },
     "metadata": {},
     "output_type": "display_data"
    },
    {
     "name": "stdout",
     "output_type": "stream",
     "text": [
      "Baseline coalescing on\n",
      "Evaluating Nfacet=1 -> DeltaW_stack=5302.05, Rflop=3.4679e+16\n",
      "Evaluating Nfacet=2 -> DeltaW_stack=13502.2, Rflop=2.8742e+16\n",
      "Evaluating Nfacet=3 -> DeltaW_stack=13502.2, Rflop=2.38531e+16\n",
      "Evaluating Nfacet=4 -> DeltaW_stack=13502.2, Rflop=2.29176e+16\n",
      "Evaluating Nfacet=5 -> DeltaW_stack=13502.2, Rflop=2.35528e+16\n",
      "Evaluating Nfacet=6 -> DeltaW_stack=13502.2, Rflop=2.48158e+16\n",
      "Nfacet=4, DeltaW_stack=13502.2  yielded the lowest value of Rflop=2.29176e+16\n"
     ]
    },
    {
     "data": {
      "text/html": [
       "<p>Calculating max_mid_band2 (DPrepD) []...</p>"
      ],
      "text/plain": [
       "<IPython.core.display.HTML object>"
      ]
     },
     "metadata": {},
     "output_type": "display_data"
    },
    {
     "name": "stdout",
     "output_type": "stream",
     "text": [
      "Baseline coalescing on\n"
     ]
    },
    {
     "data": {
      "text/html": [
       "<p>Calculating max_mid_band5a_1 (Ingest) []...</p>"
      ],
      "text/plain": [
       "<IPython.core.display.HTML object>"
      ]
     },
     "metadata": {},
     "output_type": "display_data"
    },
    {
     "name": "stdout",
     "output_type": "stream",
     "text": [
      "Baseline coalescing on\n"
     ]
    },
    {
     "data": {
      "text/html": [
       "<p>Calculating max_mid_band5a_1 (RCAL) []...</p>"
      ],
      "text/plain": [
       "<IPython.core.display.HTML object>"
      ]
     },
     "metadata": {},
     "output_type": "display_data"
    },
    {
     "name": "stdout",
     "output_type": "stream",
     "text": [
      "Baseline coalescing on\n",
      "Evaluating Nfacet=1 -> DeltaW_stack=4484.4, Rflop=9.50415e+14\n",
      "Evaluating Nfacet=2 -> DeltaW_stack=7186.52, Rflop=9.40177e+14\n",
      "Evaluating Nfacet=3 -> DeltaW_stack=11774.8, Rflop=8.44614e+14\n",
      "Evaluating Nfacet=4 -> DeltaW_stack=17129.4, Rflop=8.0866e+14\n",
      "Evaluating Nfacet=5 -> DeltaW_stack=25008.3, Rflop=7.96829e+14\n",
      "Evaluating Nfacet=6 -> DeltaW_stack=61089.6, Rflop=7.9687e+14\n",
      "Evaluating Nfacet=7 -> DeltaW_stack=61089.6, Rflop=8.11952e+14\n",
      "Nfacet=5, DeltaW_stack=25008.3  yielded the lowest value of Rflop=7.96829e+14\n"
     ]
    },
    {
     "data": {
      "text/html": [
       "<p>Calculating max_mid_band5a_1 (FastImg) []...</p>"
      ],
      "text/plain": [
       "<IPython.core.display.HTML object>"
      ]
     },
     "metadata": {},
     "output_type": "display_data"
    },
    {
     "name": "stdout",
     "output_type": "stream",
     "text": [
      "Baseline coalescing on\n",
      "Evaluating Nfacet=1 -> DeltaW_stack=8211.8, Rflop=4.09597e+14\n",
      "Evaluating Nfacet=2 -> DeltaW_stack=8211.8, Rflop=4.34171e+14\n",
      "Evaluating Nfacet=3 -> DeltaW_stack=8211.8, Rflop=4.3451e+14\n",
      "Nfacet=1, DeltaW_stack=8211.8  yielded the lowest value of Rflop=4.09597e+14\n"
     ]
    },
    {
     "data": {
      "text/html": [
       "<p>Calculating max_mid_band5a_1 (ICAL) []...</p>"
      ],
      "text/plain": [
       "<IPython.core.display.HTML object>"
      ]
     },
     "metadata": {},
     "output_type": "display_data"
    },
    {
     "name": "stdout",
     "output_type": "stream",
     "text": [
      "Baseline coalescing on\n",
      "Evaluating Nfacet=1 -> DeltaW_stack=4484.4, Rflop=8.55815e+15\n",
      "Evaluating Nfacet=2 -> DeltaW_stack=7186.52, Rflop=8.46606e+15\n",
      "Evaluating Nfacet=3 -> DeltaW_stack=11774.8, Rflop=7.60605e+15\n",
      "Evaluating Nfacet=4 -> DeltaW_stack=17129.4, Rflop=7.28257e+15\n",
      "Evaluating Nfacet=5 -> DeltaW_stack=25008.3, Rflop=7.17622e+15\n",
      "Evaluating Nfacet=6 -> DeltaW_stack=61089.6, Rflop=7.17674e+15\n",
      "Evaluating Nfacet=7 -> DeltaW_stack=61089.6, Rflop=7.31265e+15\n",
      "Nfacet=5, DeltaW_stack=25008.3  yielded the lowest value of Rflop=7.17622e+15\n"
     ]
    },
    {
     "data": {
      "text/html": [
       "<p>Calculating max_mid_band5a_1 (DPrepA) []...</p>"
      ],
      "text/plain": [
       "<IPython.core.display.HTML object>"
      ]
     },
     "metadata": {},
     "output_type": "display_data"
    },
    {
     "name": "stdout",
     "output_type": "stream",
     "text": [
      "Baseline coalescing on\n",
      "Evaluating Nfacet=1 -> DeltaW_stack=8365.21, Rflop=3.27623e+15\n",
      "Evaluating Nfacet=2 -> DeltaW_stack=17289.6, Rflop=3.29632e+15\n",
      "Evaluating Nfacet=3 -> DeltaW_stack=61089.6, Rflop=3.30816e+15\n",
      "Nfacet=1, DeltaW_stack=8365.21  yielded the lowest value of Rflop=3.27623e+15\n"
     ]
    },
    {
     "data": {
      "text/html": [
       "<p>Calculating max_mid_band5a_1 (DPrepA_Image) []...</p>"
      ],
      "text/plain": [
       "<IPython.core.display.HTML object>"
      ]
     },
     "metadata": {},
     "output_type": "display_data"
    },
    {
     "name": "stdout",
     "output_type": "stream",
     "text": [
      "Baseline coalescing on\n",
      "Evaluating Nfacet=1 -> DeltaW_stack=12519.6, Rflop=3.07786e+15\n",
      "Evaluating Nfacet=2 -> DeltaW_stack=61089.6, Rflop=3.07735e+15\n",
      "Evaluating Nfacet=3 -> DeltaW_stack=61089.6, Rflop=3.0834e+15\n",
      "Evaluating Nfacet=4 -> DeltaW_stack=61089.6, Rflop=3.11779e+15\n",
      "Nfacet=2, DeltaW_stack=61089.6  yielded the lowest value of Rflop=3.07735e+15\n"
     ]
    },
    {
     "data": {
      "text/html": [
       "<p>Calculating max_mid_band5a_1 (DPrepB) []...</p>"
      ],
      "text/plain": [
       "<IPython.core.display.HTML object>"
      ]
     },
     "metadata": {},
     "output_type": "display_data"
    },
    {
     "name": "stdout",
     "output_type": "stream",
     "text": [
      "Baseline coalescing on\n",
      "Evaluating Nfacet=1 -> DeltaW_stack=19449.7, Rflop=3.37214e+15\n",
      "Evaluating Nfacet=2 -> DeltaW_stack=61089.6, Rflop=3.30134e+15\n",
      "Evaluating Nfacet=3 -> DeltaW_stack=61089.6, Rflop=3.31507e+15\n",
      "Evaluating Nfacet=4 -> DeltaW_stack=61089.6, Rflop=3.38867e+15\n",
      "Nfacet=2, DeltaW_stack=61089.6  yielded the lowest value of Rflop=3.30134e+15\n"
     ]
    },
    {
     "data": {
      "text/html": [
       "<p>Calculating max_mid_band5a_1 (DPrepC) []...</p>"
      ],
      "text/plain": [
       "<IPython.core.display.HTML object>"
      ]
     },
     "metadata": {},
     "output_type": "display_data"
    },
    {
     "name": "stdout",
     "output_type": "stream",
     "text": [
      "Baseline coalescing on\n",
      "Evaluating Nfacet=1 -> DeltaW_stack=61089.6, Rflop=1.7266e+16\n",
      "Evaluating Nfacet=2 -> DeltaW_stack=61089.6, Rflop=2.06622e+16\n",
      "Evaluating Nfacet=3 -> DeltaW_stack=61089.6, Rflop=2.07597e+16\n",
      "Nfacet=1, DeltaW_stack=61089.6  yielded the lowest value of Rflop=1.7266e+16\n"
     ]
    },
    {
     "data": {
      "text/html": [
       "<p>Calculating max_mid_band5a_1 (DPrepD) []...</p>"
      ],
      "text/plain": [
       "<IPython.core.display.HTML object>"
      ]
     },
     "metadata": {},
     "output_type": "display_data"
    },
    {
     "name": "stdout",
     "output_type": "stream",
     "text": [
      "Baseline coalescing on\n"
     ]
    },
    {
     "data": {
      "text/html": [
       "<p>Calculating max_mid_band5a_2 (Ingest) []...</p>"
      ],
      "text/plain": [
       "<IPython.core.display.HTML object>"
      ]
     },
     "metadata": {},
     "output_type": "display_data"
    },
    {
     "name": "stdout",
     "output_type": "stream",
     "text": [
      "Baseline coalescing on\n"
     ]
    },
    {
     "data": {
      "text/html": [
       "<p>Calculating max_mid_band5a_2 (RCAL) []...</p>"
      ],
      "text/plain": [
       "<IPython.core.display.HTML object>"
      ]
     },
     "metadata": {},
     "output_type": "display_data"
    },
    {
     "name": "stdout",
     "output_type": "stream",
     "text": [
      "Baseline coalescing on\n",
      "Evaluating Nfacet=1 -> DeltaW_stack=7082.27, Rflop=8.23183e+14\n",
      "Evaluating Nfacet=2 -> DeltaW_stack=11351.7, Rflop=8.19082e+14\n",
      "Evaluating Nfacet=3 -> DeltaW_stack=19199.8, Rflop=7.51069e+14\n",
      "Evaluating Nfacet=4 -> DeltaW_stack=30897, Rflop=7.24119e+14\n",
      "Evaluating Nfacet=5 -> DeltaW_stack=76973.1, Rflop=7.12294e+14\n",
      "Evaluating Nfacet=6 -> DeltaW_stack=76973.1, Rflop=7.23973e+14\n",
      "Evaluating Nfacet=7 -> DeltaW_stack=76973.1, Rflop=7.43278e+14\n",
      "Nfacet=5, DeltaW_stack=76973.1  yielded the lowest value of Rflop=7.12294e+14\n"
     ]
    },
    {
     "data": {
      "text/html": [
       "<p>Calculating max_mid_band5a_2 (FastImg) []...</p>"
      ],
      "text/plain": [
       "<IPython.core.display.HTML object>"
      ]
     },
     "metadata": {},
     "output_type": "display_data"
    },
    {
     "name": "stdout",
     "output_type": "stream",
     "text": [
      "Baseline coalescing on\n",
      "Evaluating Nfacet=1 -> DeltaW_stack=10346.9, Rflop=3.29189e+14\n",
      "Evaluating Nfacet=2 -> DeltaW_stack=10346.9, Rflop=3.51299e+14\n",
      "Evaluating Nfacet=3 -> DeltaW_stack=10346.9, Rflop=3.51171e+14\n",
      "Evaluating Nfacet=4 -> DeltaW_stack=10346.9, Rflop=3.5283e+14\n",
      "Evaluating Nfacet=5 -> DeltaW_stack=10346.9, Rflop=3.56006e+14\n",
      "Nfacet=1, DeltaW_stack=10346.9  yielded the lowest value of Rflop=3.29189e+14\n"
     ]
    },
    {
     "data": {
      "text/html": [
       "<p>Calculating max_mid_band5a_2 (ICAL) []...</p>"
      ],
      "text/plain": [
       "<IPython.core.display.HTML object>"
      ]
     },
     "metadata": {},
     "output_type": "display_data"
    },
    {
     "name": "stdout",
     "output_type": "stream",
     "text": [
      "Baseline coalescing on\n",
      "Evaluating Nfacet=1 -> DeltaW_stack=7082.27, Rflop=7.41278e+15\n",
      "Evaluating Nfacet=2 -> DeltaW_stack=11351.7, Rflop=7.37591e+15\n",
      "Evaluating Nfacet=3 -> DeltaW_stack=19199.8, Rflop=6.76387e+15\n",
      "Evaluating Nfacet=4 -> DeltaW_stack=30897, Rflop=6.52142e+15\n",
      "Evaluating Nfacet=5 -> DeltaW_stack=76973.1, Rflop=6.41512e+15\n",
      "Evaluating Nfacet=6 -> DeltaW_stack=76973.1, Rflop=6.52038e+15\n",
      "Evaluating Nfacet=7 -> DeltaW_stack=76973.1, Rflop=6.69431e+15\n",
      "Nfacet=5, DeltaW_stack=76973.1  yielded the lowest value of Rflop=6.41512e+15\n"
     ]
    },
    {
     "data": {
      "text/html": [
       "<p>Calculating max_mid_band5a_2 (DPrepA) []...</p>"
      ],
      "text/plain": [
       "<IPython.core.display.HTML object>"
      ]
     },
     "metadata": {},
     "output_type": "display_data"
    },
    {
     "name": "stdout",
     "output_type": "stream",
     "text": [
      "Baseline coalescing on\n",
      "Evaluating Nfacet=1 -> DeltaW_stack=14456.5, Rflop=2.54134e+15\n",
      "Evaluating Nfacet=2 -> DeltaW_stack=30023.3, Rflop=2.5827e+15\n",
      "Evaluating Nfacet=3 -> DeltaW_stack=76973.1, Rflop=2.58462e+15\n",
      "Nfacet=1, DeltaW_stack=14456.5  yielded the lowest value of Rflop=2.54134e+15\n"
     ]
    },
    {
     "data": {
      "text/html": [
       "<p>Calculating max_mid_band5a_2 (DPrepA_Image) []...</p>"
      ],
      "text/plain": [
       "<IPython.core.display.HTML object>"
      ]
     },
     "metadata": {},
     "output_type": "display_data"
    },
    {
     "name": "stdout",
     "output_type": "stream",
     "text": [
      "Baseline coalescing on\n",
      "Evaluating Nfacet=1 -> DeltaW_stack=21804.3, Rflop=2.4065e+15\n",
      "Evaluating Nfacet=2 -> DeltaW_stack=76973.1, Rflop=2.40899e+15\n",
      "Evaluating Nfacet=3 -> DeltaW_stack=76973.1, Rflop=2.41891e+15\n",
      "Nfacet=1, DeltaW_stack=21804.3  yielded the lowest value of Rflop=2.4065e+15\n"
     ]
    },
    {
     "data": {
      "text/html": [
       "<p>Calculating max_mid_band5a_2 (DPrepB) []...</p>"
      ],
      "text/plain": [
       "<IPython.core.display.HTML object>"
      ]
     },
     "metadata": {},
     "output_type": "display_data"
    },
    {
     "name": "stdout",
     "output_type": "stream",
     "text": [
      "Baseline coalescing on\n",
      "Evaluating Nfacet=1 -> DeltaW_stack=76973.1, Rflop=2.58742e+15\n",
      "Evaluating Nfacet=2 -> DeltaW_stack=76973.1, Rflop=2.59016e+15\n",
      "Evaluating Nfacet=3 -> DeltaW_stack=76973.1, Rflop=2.61253e+15\n",
      "Nfacet=1, DeltaW_stack=76973.1  yielded the lowest value of Rflop=2.58742e+15\n"
     ]
    },
    {
     "data": {
      "text/html": [
       "<p>Calculating max_mid_band5a_2 (DPrepC) []...</p>"
      ],
      "text/plain": [
       "<IPython.core.display.HTML object>"
      ]
     },
     "metadata": {},
     "output_type": "display_data"
    },
    {
     "name": "stdout",
     "output_type": "stream",
     "text": [
      "Baseline coalescing on\n",
      "Evaluating Nfacet=1 -> DeltaW_stack=76973.1, Rflop=1.60112e+16\n",
      "Evaluating Nfacet=2 -> DeltaW_stack=76973.1, Rflop=1.93693e+16\n",
      "Evaluating Nfacet=3 -> DeltaW_stack=76973.1, Rflop=1.9534e+16\n",
      "Nfacet=1, DeltaW_stack=76973.1  yielded the lowest value of Rflop=1.60112e+16\n"
     ]
    },
    {
     "data": {
      "text/html": [
       "<p>Calculating max_mid_band5a_2 (DPrepD) []...</p>"
      ],
      "text/plain": [
       "<IPython.core.display.HTML object>"
      ]
     },
     "metadata": {},
     "output_type": "display_data"
    },
    {
     "name": "stdout",
     "output_type": "stream",
     "text": [
      "Baseline coalescing on\n"
     ]
    },
    {
     "data": {
      "text/html": [
       "<p>Calculating max_mid_band5b_1 (Ingest) []...</p>"
      ],
      "text/plain": [
       "<IPython.core.display.HTML object>"
      ]
     },
     "metadata": {},
     "output_type": "display_data"
    },
    {
     "name": "stdout",
     "output_type": "stream",
     "text": [
      "Baseline coalescing on\n"
     ]
    },
    {
     "data": {
      "text/html": [
       "<p>Calculating max_mid_band5b_1 (RCAL) []...</p>"
      ],
      "text/plain": [
       "<IPython.core.display.HTML object>"
      ]
     },
     "metadata": {},
     "output_type": "display_data"
    },
    {
     "name": "stdout",
     "output_type": "stream",
     "text": [
      "Baseline coalescing on\n",
      "Evaluating Nfacet=1 -> DeltaW_stack=12707.6, Rflop=6.77094e+14\n",
      "Evaluating Nfacet=2 -> DeltaW_stack=20603, Rflop=6.71446e+14\n",
      "Evaluating Nfacet=3 -> DeltaW_stack=34138.1, Rflop=6.08635e+14\n",
      "Evaluating Nfacet=4 -> DeltaW_stack=102708, Rflop=5.73056e+14\n",
      "Evaluating Nfacet=5 -> DeltaW_stack=102708, Rflop=5.71032e+14\n",
      "Evaluating Nfacet=6 -> DeltaW_stack=102708, Rflop=5.78343e+14\n",
      "Evaluating Nfacet=7 -> DeltaW_stack=102708, Rflop=5.94894e+14\n",
      "Nfacet=5, DeltaW_stack=102708  yielded the lowest value of Rflop=5.71032e+14\n"
     ]
    },
    {
     "data": {
      "text/html": [
       "<p>Calculating max_mid_band5b_1 (FastImg) []...</p>"
      ],
      "text/plain": [
       "<IPython.core.display.HTML object>"
      ]
     },
     "metadata": {},
     "output_type": "display_data"
    },
    {
     "name": "stdout",
     "output_type": "stream",
     "text": [
      "Baseline coalescing on\n",
      "Evaluating Nfacet=1 -> DeltaW_stack=13806.3, Rflop=2.82226e+14\n",
      "Evaluating Nfacet=2 -> DeltaW_stack=13806.3, Rflop=3.07959e+14\n",
      "Evaluating Nfacet=3 -> DeltaW_stack=13806.3, Rflop=3.06698e+14\n",
      "Evaluating Nfacet=4 -> DeltaW_stack=13806.3, Rflop=3.07219e+14\n",
      "Evaluating Nfacet=5 -> DeltaW_stack=13806.3, Rflop=3.09076e+14\n",
      "Nfacet=1, DeltaW_stack=13806.3  yielded the lowest value of Rflop=2.82226e+14\n"
     ]
    },
    {
     "data": {
      "text/html": [
       "<p>Calculating max_mid_band5b_1 (ICAL) []...</p>"
      ],
      "text/plain": [
       "<IPython.core.display.HTML object>"
      ]
     },
     "metadata": {},
     "output_type": "display_data"
    },
    {
     "name": "stdout",
     "output_type": "stream",
     "text": [
      "Baseline coalescing on\n",
      "Evaluating Nfacet=1 -> DeltaW_stack=12707.6, Rflop=6.09709e+15\n",
      "Evaluating Nfacet=2 -> DeltaW_stack=20603, Rflop=6.04628e+15\n",
      "Evaluating Nfacet=3 -> DeltaW_stack=34138.1, Rflop=5.48102e+15\n",
      "Evaluating Nfacet=4 -> DeltaW_stack=102708, Rflop=5.16086e+15\n",
      "Evaluating Nfacet=5 -> DeltaW_stack=102708, Rflop=5.1427e+15\n",
      "Evaluating Nfacet=6 -> DeltaW_stack=102708, Rflop=5.20858e+15\n",
      "Evaluating Nfacet=7 -> DeltaW_stack=102708, Rflop=5.35763e+15\n",
      "Nfacet=5, DeltaW_stack=102708  yielded the lowest value of Rflop=5.1427e+15\n"
     ]
    },
    {
     "data": {
      "text/html": [
       "<p>Calculating max_mid_band5b_1 (DPrepA) []...</p>"
      ],
      "text/plain": [
       "<IPython.core.display.HTML object>"
      ]
     },
     "metadata": {},
     "output_type": "display_data"
    },
    {
     "name": "stdout",
     "output_type": "stream",
     "text": [
      "Baseline coalescing on\n",
      "Evaluating Nfacet=1 -> DeltaW_stack=24360.1, Rflop=2.04443e+15\n",
      "Evaluating Nfacet=2 -> DeltaW_stack=102708, Rflop=2.04464e+15\n",
      "Evaluating Nfacet=3 -> DeltaW_stack=102708, Rflop=2.05816e+15\n",
      "Nfacet=1, DeltaW_stack=24360.1  yielded the lowest value of Rflop=2.04443e+15\n"
     ]
    },
    {
     "data": {
      "text/html": [
       "<p>Calculating max_mid_band5b_1 (DPrepA_Image) []...</p>"
      ],
      "text/plain": [
       "<IPython.core.display.HTML object>"
      ]
     },
     "metadata": {},
     "output_type": "display_data"
    },
    {
     "name": "stdout",
     "output_type": "stream",
     "text": [
      "Baseline coalescing on\n",
      "Evaluating Nfacet=1 -> DeltaW_stack=39633.8, Rflop=1.91243e+15\n",
      "Evaluating Nfacet=2 -> DeltaW_stack=102708, Rflop=1.90591e+15\n",
      "Evaluating Nfacet=3 -> DeltaW_stack=102708, Rflop=1.91653e+15\n",
      "Evaluating Nfacet=4 -> DeltaW_stack=102708, Rflop=1.93977e+15\n",
      "Nfacet=2, DeltaW_stack=102708  yielded the lowest value of Rflop=1.90591e+15\n"
     ]
    },
    {
     "data": {
      "text/html": [
       "<p>Calculating max_mid_band5b_1 (DPrepB) []...</p>"
      ],
      "text/plain": [
       "<IPython.core.display.HTML object>"
      ]
     },
     "metadata": {},
     "output_type": "display_data"
    },
    {
     "name": "stdout",
     "output_type": "stream",
     "text": [
      "Baseline coalescing on\n",
      "Evaluating Nfacet=1 -> DeltaW_stack=102708, Rflop=2.073e+15\n",
      "Evaluating Nfacet=2 -> DeltaW_stack=102708, Rflop=2.08805e+15\n",
      "Evaluating Nfacet=3 -> DeltaW_stack=102708, Rflop=2.11181e+15\n",
      "Nfacet=1, DeltaW_stack=102708  yielded the lowest value of Rflop=2.073e+15\n"
     ]
    },
    {
     "data": {
      "text/html": [
       "<p>Calculating max_mid_band5b_1 (DPrepC) []...</p>"
      ],
      "text/plain": [
       "<IPython.core.display.HTML object>"
      ]
     },
     "metadata": {},
     "output_type": "display_data"
    },
    {
     "name": "stdout",
     "output_type": "stream",
     "text": [
      "Baseline coalescing on\n",
      "Evaluating Nfacet=1 -> DeltaW_stack=102708, Rflop=1.72375e+16\n",
      "Evaluating Nfacet=2 -> DeltaW_stack=102708, Rflop=2.13313e+16\n",
      "Evaluating Nfacet=3 -> DeltaW_stack=102708, Rflop=2.16363e+16\n",
      "Nfacet=1, DeltaW_stack=102708  yielded the lowest value of Rflop=1.72375e+16\n"
     ]
    },
    {
     "data": {
      "text/html": [
       "<p>Calculating max_mid_band5b_1 (DPrepD) []...</p>"
      ],
      "text/plain": [
       "<IPython.core.display.HTML object>"
      ]
     },
     "metadata": {},
     "output_type": "display_data"
    },
    {
     "name": "stdout",
     "output_type": "stream",
     "text": [
      "Baseline coalescing on\n"
     ]
    },
    {
     "data": {
      "text/html": [
       "<p>Calculating max_mid_band5b_2 (Ingest) []...</p>"
      ],
      "text/plain": [
       "<IPython.core.display.HTML object>"
      ]
     },
     "metadata": {},
     "output_type": "display_data"
    },
    {
     "name": "stdout",
     "output_type": "stream",
     "text": [
      "Baseline coalescing on\n"
     ]
    },
    {
     "data": {
      "text/html": [
       "<p>Calculating max_mid_band5b_2 (RCAL) []...</p>"
      ],
      "text/plain": [
       "<IPython.core.display.HTML object>"
      ]
     },
     "metadata": {},
     "output_type": "display_data"
    },
    {
     "name": "stdout",
     "output_type": "stream",
     "text": [
      "Baseline coalescing on\n",
      "Evaluating Nfacet=1 -> DeltaW_stack=29004.3, Rflop=4.2046e+14\n",
      "Evaluating Nfacet=2 -> DeltaW_stack=47222.5, Rflop=4.1912e+14\n",
      "Evaluating Nfacet=3 -> DeltaW_stack=153625, Rflop=3.73948e+14\n",
      "Evaluating Nfacet=4 -> DeltaW_stack=153625, Rflop=3.61735e+14\n",
      "Evaluating Nfacet=5 -> DeltaW_stack=153625, Rflop=3.65496e+14\n",
      "Evaluating Nfacet=6 -> DeltaW_stack=153625, Rflop=3.75158e+14\n",
      "Nfacet=4, DeltaW_stack=153625  yielded the lowest value of Rflop=3.61735e+14\n"
     ]
    },
    {
     "data": {
      "text/html": [
       "<p>Calculating max_mid_band5b_2 (FastImg) []...</p>"
      ],
      "text/plain": [
       "<IPython.core.display.HTML object>"
      ]
     },
     "metadata": {},
     "output_type": "display_data"
    },
    {
     "name": "stdout",
     "output_type": "stream",
     "text": [
      "Baseline coalescing on\n",
      "Evaluating Nfacet=1 -> DeltaW_stack=20650.6, Rflop=1.94067e+14\n",
      "Evaluating Nfacet=2 -> DeltaW_stack=20650.6, Rflop=2.1521e+14\n",
      "Evaluating Nfacet=3 -> DeltaW_stack=20650.6, Rflop=2.13756e+14\n",
      "Evaluating Nfacet=4 -> DeltaW_stack=20650.6, Rflop=2.13614e+14\n",
      "Evaluating Nfacet=5 -> DeltaW_stack=20650.6, Rflop=2.14465e+14\n",
      "Evaluating Nfacet=6 -> DeltaW_stack=20650.6, Rflop=2.16093e+14\n",
      "Nfacet=1, DeltaW_stack=20650.6  yielded the lowest value of Rflop=1.94067e+14\n"
     ]
    },
    {
     "data": {
      "text/html": [
       "<p>Calculating max_mid_band5b_2 (ICAL) []...</p>"
      ],
      "text/plain": [
       "<IPython.core.display.HTML object>"
      ]
     },
     "metadata": {},
     "output_type": "display_data"
    },
    {
     "name": "stdout",
     "output_type": "stream",
     "text": [
      "Baseline coalescing on\n",
      "Evaluating Nfacet=1 -> DeltaW_stack=29004.3, Rflop=3.78625e+15\n",
      "Evaluating Nfacet=2 -> DeltaW_stack=47222.5, Rflop=3.77421e+15\n",
      "Evaluating Nfacet=3 -> DeltaW_stack=153625, Rflop=3.36769e+15\n",
      "Evaluating Nfacet=4 -> DeltaW_stack=153625, Rflop=3.25782e+15\n",
      "Evaluating Nfacet=5 -> DeltaW_stack=153625, Rflop=3.29173e+15\n",
      "Evaluating Nfacet=6 -> DeltaW_stack=153625, Rflop=3.37877e+15\n",
      "Nfacet=4, DeltaW_stack=153625  yielded the lowest value of Rflop=3.25782e+15\n"
     ]
    },
    {
     "data": {
      "text/html": [
       "<p>Calculating max_mid_band5b_2 (DPrepA) []...</p>"
      ],
      "text/plain": [
       "<IPython.core.display.HTML object>"
      ]
     },
     "metadata": {},
     "output_type": "display_data"
    },
    {
     "name": "stdout",
     "output_type": "stream",
     "text": [
      "Baseline coalescing on\n",
      "Evaluating Nfacet=1 -> DeltaW_stack=63337.8, Rflop=1.29621e+15\n",
      "Evaluating Nfacet=2 -> DeltaW_stack=153625, Rflop=1.30703e+15\n",
      "Evaluating Nfacet=3 -> DeltaW_stack=153625, Rflop=1.32518e+15\n",
      "Nfacet=1, DeltaW_stack=63337.8  yielded the lowest value of Rflop=1.29621e+15\n"
     ]
    },
    {
     "data": {
      "text/html": [
       "<p>Calculating max_mid_band5b_2 (DPrepA_Image) []...</p>"
      ],
      "text/plain": [
       "<IPython.core.display.HTML object>"
      ]
     },
     "metadata": {},
     "output_type": "display_data"
    },
    {
     "name": "stdout",
     "output_type": "stream",
     "text": [
      "Baseline coalescing on\n",
      "Evaluating Nfacet=1 -> DeltaW_stack=153625, Rflop=1.21813e+15\n",
      "Evaluating Nfacet=2 -> DeltaW_stack=153625, Rflop=1.22686e+15\n",
      "Evaluating Nfacet=3 -> DeltaW_stack=153625, Rflop=1.23604e+15\n",
      "Nfacet=1, DeltaW_stack=153625  yielded the lowest value of Rflop=1.21813e+15\n"
     ]
    },
    {
     "data": {
      "text/html": [
       "<p>Calculating max_mid_band5b_2 (DPrepB) []...</p>"
      ],
      "text/plain": [
       "<IPython.core.display.HTML object>"
      ]
     },
     "metadata": {},
     "output_type": "display_data"
    },
    {
     "name": "stdout",
     "output_type": "stream",
     "text": [
      "Baseline coalescing on\n",
      "Evaluating Nfacet=1 -> DeltaW_stack=153625, Rflop=1.32e+15\n",
      "Evaluating Nfacet=2 -> DeltaW_stack=153625, Rflop=1.36534e+15\n",
      "Evaluating Nfacet=3 -> DeltaW_stack=153625, Rflop=1.387e+15\n",
      "Nfacet=1, DeltaW_stack=153625  yielded the lowest value of Rflop=1.32e+15\n"
     ]
    },
    {
     "data": {
      "text/html": [
       "<p>Calculating max_mid_band5b_2 (DPrepC) []...</p>"
      ],
      "text/plain": [
       "<IPython.core.display.HTML object>"
      ]
     },
     "metadata": {},
     "output_type": "display_data"
    },
    {
     "name": "stdout",
     "output_type": "stream",
     "text": [
      "Baseline coalescing on\n",
      "Evaluating Nfacet=1 -> DeltaW_stack=153625, Rflop=1.53715e+16\n",
      "Evaluating Nfacet=2 -> DeltaW_stack=153625, Rflop=1.90369e+16\n",
      "Evaluating Nfacet=3 -> DeltaW_stack=153625, Rflop=1.93972e+16\n",
      "Nfacet=1, DeltaW_stack=153625  yielded the lowest value of Rflop=1.53715e+16\n"
     ]
    },
    {
     "data": {
      "text/html": [
       "<p>Calculating max_mid_band5b_2 (DPrepD) []...</p>"
      ],
      "text/plain": [
       "<IPython.core.display.HTML object>"
      ]
     },
     "metadata": {},
     "output_type": "display_data"
    },
    {
     "name": "stdout",
     "output_type": "stream",
     "text": [
      "Baseline coalescing on\n"
     ]
    },
    {
     "data": {
      "text/html": [
       "<font color=\"blue\">Results written to /home/rwb/github/skaworkflows/skaworkflows/data/sdp-par-model_output//2023-04-22_long_HPSOs.csv.</font>"
      ],
      "text/plain": [
       "<IPython.core.display.HTML object>"
      ]
     },
     "metadata": {},
     "output_type": "display_data"
    }
   ],
   "source": [
    "output_dir = \"/home/rwb/github/skaworkflows/skaworkflows/data/sdp-par-model_output/\"\n",
    "reports.write_csv_hpsos(f'{output_dir}/2023-04-22_long_HPSOs.csv', HPSOs.available_hpsos, parallel=0, verbose=True)"
   ]
  },
  {
   "cell_type": "code",
   "execution_count": null,
   "id": "98777214",
   "metadata": {
    "tags": []
   },
   "outputs": [
    {
     "data": {
      "text/plain": [
       "3831.60725821366"
      ]
     },
     "execution_count": 9,
     "metadata": {},
     "output_type": "execute_result"
    }
   ],
   "source": [
    "Rvis = 29290.0505917751\n",
    "Rvis_bdep = 3831607258.21366\n",
    "Rvis_N = 6130571613141.85\n",
    "\n",
    "Rvis_N / 1600\n",
    "Rvis_bdep / (10**6)\n",
    "# Rvis / (10**6)"
   ]
  }
 ],
 "metadata": {
  "kernelspec": {
   "display_name": "Python 3 (ipykernel)",
   "language": "python",
   "name": "python3"
  },
  "language_info": {
   "codemirror_mode": {
    "name": "ipython",
    "version": 3
   },
   "file_extension": ".py",
   "mimetype": "text/x-python",
   "name": "python",
   "nbconvert_exporter": "python",
   "pygments_lexer": "ipython3",
   "version": "3.8.10"
  }
 },
 "nbformat": 4,
 "nbformat_minor": 5
}
